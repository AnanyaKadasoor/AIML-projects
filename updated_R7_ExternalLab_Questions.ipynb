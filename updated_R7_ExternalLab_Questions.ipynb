{
 "cells": [
  {
   "cell_type": "markdown",
   "metadata": {
    "colab_type": "text",
    "id": "4WH1Pr4KQlCh"
   },
   "source": [
    "### Build a DNN using Keras with `RELU` and `ADAM`"
   ]
  },
  {
   "cell_type": "markdown",
   "metadata": {
    "colab_type": "text",
    "id": "TbvI8LqlQlCl",
    "slideshow": {
     "slide_type": "slide"
    }
   },
   "source": [
    "#### Load tensorflow"
   ]
  },
  {
   "cell_type": "code",
   "execution_count": 1,
   "metadata": {
    "colab": {},
    "colab_type": "code",
    "id": "SPW-a-qYQlCp"
   },
   "outputs": [
    {
     "name": "stderr",
     "output_type": "stream",
     "text": [
      "C:\\ProgramData\\Anaconda3\\lib\\site-packages\\h5py\\__init__.py:36: FutureWarning: Conversion of the second argument of issubdtype from `float` to `np.floating` is deprecated. In future, it will be treated as `np.float64 == np.dtype(float).type`.\n",
      "  from ._conv import register_converters as _register_converters\n",
      "Using TensorFlow backend.\n"
     ]
    }
   ],
   "source": [
    "import tensorflow as tf\n",
    "import keras\n",
    "tf.reset_default_graph()\n",
    "tf.set_random_seed(42)"
   ]
  },
  {
   "cell_type": "markdown",
   "metadata": {
    "colab_type": "text",
    "id": "74cQBsi5QlCw",
    "slideshow": {
     "slide_type": "slide"
    }
   },
   "source": [
    "#### Collect Fashion mnist data from tf.keras.datasets "
   ]
  },
  {
   "cell_type": "code",
   "execution_count": 2,
   "metadata": {
    "colab": {},
    "colab_type": "code",
    "id": "wVWy0oDTr2Kj"
   },
   "outputs": [],
   "source": [
    "(trainX, trainY),(testX, testY) = keras.datasets.mnist.load_data()"
   ]
  },
  {
   "cell_type": "markdown",
   "metadata": {
    "colab_type": "text",
    "id": "no7aWYZyQlC1",
    "slideshow": {
     "slide_type": "slide"
    }
   },
   "source": [
    "#### Change train and test labels into one-hot vectors"
   ]
  },
  {
   "cell_type": "code",
   "execution_count": 3,
   "metadata": {
    "colab": {},
    "colab_type": "code",
    "id": "UX6otc4wQlC2"
   },
   "outputs": [],
   "source": [
    "trainY = keras.utils.to_categorical(trainY, num_classes=10)\n",
    "testY = keras.utils.to_categorical(testY, num_classes=10)"
   ]
  },
  {
   "cell_type": "code",
   "execution_count": 4,
   "metadata": {},
   "outputs": [],
   "source": [
    "trainX = trainX / 255.0\n",
    "testX = testX / 255.0"
   ]
  },
  {
   "cell_type": "markdown",
   "metadata": {
    "colab_type": "text",
    "id": "QjNrRTdoQlC5",
    "slideshow": {
     "slide_type": "slide"
    }
   },
   "source": [
    "#### Build the Graph"
   ]
  },
  {
   "cell_type": "markdown",
   "metadata": {
    "colab_type": "text",
    "id": "CDJ9DHVNQlC7"
   },
   "source": [
    "#### Initialize model, reshape & normalize data"
   ]
  },
  {
   "cell_type": "code",
   "execution_count": 5,
   "metadata": {
    "colab": {
     "base_uri": "https://localhost:8080/",
     "height": 88
    },
    "colab_type": "code",
    "id": "pCDQs_g1QlC8",
    "outputId": "e854b4d2-903a-4515-c21b-bd6a6e4fe2f8"
   },
   "outputs": [],
   "source": [
    "model = keras.models.Sequential()\n",
    "model.add(keras.layers.Reshape((784,),input_shape=(28,28,)))\n",
    "model.add(keras.layers.BatchNormalization())"
   ]
  },
  {
   "cell_type": "markdown",
   "metadata": {
    "colab_type": "text",
    "id": "kBGwTTilQlDD",
    "slideshow": {
     "slide_type": "slide"
    }
   },
   "source": [
    "#### Add two fully connected layers with 200 and 100 neurons respectively with `relu` activations. Add a dropout layer with `p=0.25`"
   ]
  },
  {
   "cell_type": "code",
   "execution_count": 6,
   "metadata": {
    "colab": {
     "base_uri": "https://localhost:8080/",
     "height": 88
    },
    "colab_type": "code",
    "id": "IXbfpfOzQlDF",
    "outputId": "f46a2e3a-2634-4e9e-88bd-57bb8de1ff0c"
   },
   "outputs": [],
   "source": [
    "#Hidden layers\n",
    "model.add(keras.layers.Dense(200, activation='relu', name='Layer_1'))\n",
    "model.add(keras.layers.Dense(100, activation='relu', name='Layer_2'))\n",
    "\n",
    "#Dropout layer\n",
    "model.add(keras.layers.Dropout(0.25))\n",
    "\n",
    "#Hidden layers\n",
    "model.add(keras.layers.Dense(60, activation='relu', name='Layer_3'))\n",
    "model.add(keras.layers.Dense(30, activation='relu', name='Layer_4'))\n",
    "\n",
    "#Dropout layer\n",
    "model.add(keras.layers.Dropout(0.25))"
   ]
  },
  {
   "cell_type": "markdown",
   "metadata": {
    "colab_type": "text",
    "id": "5I8f5otcQlDJ"
   },
   "source": [
    "### Add the output layer with a fully connected layer with 10 neurons with `softmax` activation. Use `categorical_crossentropy` loss and `adam` optimizer and train the network. And, report the final validation."
   ]
  },
  {
   "cell_type": "code",
   "execution_count": 7,
   "metadata": {},
   "outputs": [],
   "source": [
    "model.add(keras.layers.Dense(10, activation='softmax', name='Output'))"
   ]
  },
  {
   "cell_type": "code",
   "execution_count": 8,
   "metadata": {},
   "outputs": [],
   "source": [
    "model.compile(optimizer='adam', loss='categorical_crossentropy', metrics=['accuracy'])"
   ]
  },
  {
   "cell_type": "code",
   "execution_count": 9,
   "metadata": {},
   "outputs": [
    {
     "name": "stdout",
     "output_type": "stream",
     "text": [
      "Train on 60000 samples, validate on 10000 samples\n",
      "Epoch 1/30\n",
      "60000/60000 [==============================] - 6s 101us/step - loss: 0.5046 - acc: 0.8560 - val_loss: 0.1848 - val_acc: 0.9510\n",
      "Epoch 2/30\n",
      "60000/60000 [==============================] - 6s 94us/step - loss: 0.2457 - acc: 0.9372 - val_loss: 0.1627 - val_acc: 0.9641\n",
      "Epoch 3/30\n",
      "60000/60000 [==============================] - 7s 111us/step - loss: 0.1874 - acc: 0.9530 - val_loss: 0.1349 - val_acc: 0.9699\n",
      "Epoch 4/30\n",
      "60000/60000 [==============================] - 7s 113us/step - loss: 0.1570 - acc: 0.9607 - val_loss: 0.1221 - val_acc: 0.9716\n",
      "Epoch 5/30\n",
      "60000/60000 [==============================] - 7s 119us/step - loss: 0.1325 - acc: 0.9665 - val_loss: 0.1247 - val_acc: 0.9741\n",
      "Epoch 6/30\n",
      "60000/60000 [==============================] - 7s 115us/step - loss: 0.1187 - acc: 0.9687 - val_loss: 0.1167 - val_acc: 0.9748\n",
      "Epoch 7/30\n",
      "60000/60000 [==============================] - 8s 127us/step - loss: 0.1077 - acc: 0.9724 - val_loss: 0.1074 - val_acc: 0.9768\n",
      "Epoch 8/30\n",
      "60000/60000 [==============================] - 7s 113us/step - loss: 0.0988 - acc: 0.9742 - val_loss: 0.1144 - val_acc: 0.9783\n",
      "Epoch 9/30\n",
      "60000/60000 [==============================] - 7s 116us/step - loss: 0.0902 - acc: 0.9764 - val_loss: 0.1197 - val_acc: 0.9765\n",
      "Epoch 10/30\n",
      "60000/60000 [==============================] - 7s 113us/step - loss: 0.0838 - acc: 0.9782 - val_loss: 0.1118 - val_acc: 0.9770\n",
      "Epoch 11/30\n",
      "60000/60000 [==============================] - 7s 112us/step - loss: 0.0806 - acc: 0.9793 - val_loss: 0.1233 - val_acc: 0.9757\n",
      "Epoch 12/30\n",
      "60000/60000 [==============================] - 8s 129us/step - loss: 0.0726 - acc: 0.9801 - val_loss: 0.1158 - val_acc: 0.9775\n",
      "Epoch 13/30\n",
      "60000/60000 [==============================] - 7s 109us/step - loss: 0.0716 - acc: 0.9816 - val_loss: 0.1170 - val_acc: 0.9758\n",
      "Epoch 14/30\n",
      "60000/60000 [==============================] - 8s 131us/step - loss: 0.0699 - acc: 0.9823 - val_loss: 0.1121 - val_acc: 0.9777\n",
      "Epoch 15/30\n",
      "60000/60000 [==============================] - 8s 131us/step - loss: 0.0646 - acc: 0.9833 - val_loss: 0.1199 - val_acc: 0.9794\n",
      "Epoch 16/30\n",
      "60000/60000 [==============================] - 8s 130us/step - loss: 0.0631 - acc: 0.9834 - val_loss: 0.1235 - val_acc: 0.9768\n",
      "Epoch 17/30\n",
      "60000/60000 [==============================] - 7s 119us/step - loss: 0.0552 - acc: 0.9857 - val_loss: 0.1212 - val_acc: 0.9795\n",
      "Epoch 18/30\n",
      "60000/60000 [==============================] - 6s 107us/step - loss: 0.0580 - acc: 0.9848 - val_loss: 0.1312 - val_acc: 0.9784\n",
      "Epoch 19/30\n",
      "60000/60000 [==============================] - 6s 106us/step - loss: 0.0541 - acc: 0.9863 - val_loss: 0.1309 - val_acc: 0.9783\n",
      "Epoch 20/30\n",
      "60000/60000 [==============================] - 7s 111us/step - loss: 0.0526 - acc: 0.9862 - val_loss: 0.1346 - val_acc: 0.9780\n",
      "Epoch 21/30\n",
      "60000/60000 [==============================] - 7s 121us/step - loss: 0.0524 - acc: 0.9868 - val_loss: 0.1192 - val_acc: 0.9784\n",
      "Epoch 22/30\n",
      "60000/60000 [==============================] - 7s 119us/step - loss: 0.0492 - acc: 0.9872 - val_loss: 0.1193 - val_acc: 0.9812\n",
      "Epoch 23/30\n",
      "60000/60000 [==============================] - 8s 131us/step - loss: 0.0475 - acc: 0.9875 - val_loss: 0.1394 - val_acc: 0.9777\n",
      "Epoch 24/30\n",
      "60000/60000 [==============================] - 7s 123us/step - loss: 0.0491 - acc: 0.9873 - val_loss: 0.1250 - val_acc: 0.9781\n",
      "Epoch 25/30\n",
      "60000/60000 [==============================] - 9s 148us/step - loss: 0.0433 - acc: 0.9884 - val_loss: 0.1352 - val_acc: 0.9764\n",
      "Epoch 26/30\n",
      "60000/60000 [==============================] - 7s 123us/step - loss: 0.0445 - acc: 0.9883 - val_loss: 0.1273 - val_acc: 0.9778\n",
      "Epoch 27/30\n",
      "60000/60000 [==============================] - 8s 129us/step - loss: 0.0425 - acc: 0.9888 - val_loss: 0.1267 - val_acc: 0.9802\n",
      "Epoch 28/30\n",
      "60000/60000 [==============================] - 8s 125us/step - loss: 0.0423 - acc: 0.9895 - val_loss: 0.1386 - val_acc: 0.9775\n",
      "Epoch 29/30\n",
      "60000/60000 [==============================] - 8s 131us/step - loss: 0.0424 - acc: 0.9885 - val_loss: 0.1409 - val_acc: 0.9794\n",
      "Epoch 30/30\n",
      "60000/60000 [==============================] - 8s 138us/step - loss: 0.0387 - acc: 0.9898 - val_loss: 0.1432 - val_acc: 0.9800\n"
     ]
    },
    {
     "data": {
      "text/plain": [
       "<keras.callbacks.History at 0x1ef765b2550>"
      ]
     },
     "execution_count": 9,
     "metadata": {},
     "output_type": "execute_result"
    }
   ],
   "source": [
    "#Train the model\n",
    "model.fit(trainX,trainY,          \n",
    "          validation_data=(testX,testY),\n",
    "          epochs=30,\n",
    "          batch_size=32)"
   ]
  },
  {
   "cell_type": "code",
   "execution_count": 10,
   "metadata": {},
   "outputs": [
    {
     "name": "stdout",
     "output_type": "stream",
     "text": [
      "_________________________________________________________________\n",
      "Layer (type)                 Output Shape              Param #   \n",
      "=================================================================\n",
      "reshape_1 (Reshape)          (None, 784)               0         \n",
      "_________________________________________________________________\n",
      "batch_normalization_1 (Batch (None, 784)               3136      \n",
      "_________________________________________________________________\n",
      "Layer_1 (Dense)              (None, 200)               157000    \n",
      "_________________________________________________________________\n",
      "Layer_2 (Dense)              (None, 100)               20100     \n",
      "_________________________________________________________________\n",
      "dropout_1 (Dropout)          (None, 100)               0         \n",
      "_________________________________________________________________\n",
      "Layer_3 (Dense)              (None, 60)                6060      \n",
      "_________________________________________________________________\n",
      "Layer_4 (Dense)              (None, 30)                1830      \n",
      "_________________________________________________________________\n",
      "dropout_2 (Dropout)          (None, 30)                0         \n",
      "_________________________________________________________________\n",
      "Output (Dense)               (None, 10)                310       \n",
      "=================================================================\n",
      "Total params: 188,436\n",
      "Trainable params: 186,868\n",
      "Non-trainable params: 1,568\n",
      "_________________________________________________________________\n"
     ]
    }
   ],
   "source": [
    "model.summary()"
   ]
  },
  {
   "cell_type": "code",
   "execution_count": 11,
   "metadata": {},
   "outputs": [
    {
     "data": {
      "image/svg+xml": [
       "<svg height=\"792pt\" viewBox=\"0.00 0.00 407.00 792.00\" width=\"407pt\" xmlns=\"http://www.w3.org/2000/svg\" xmlns:xlink=\"http://www.w3.org/1999/xlink\">\n",
       "<g class=\"graph\" id=\"graph0\" transform=\"scale(1 1) rotate(0) translate(4 788)\">\n",
       "<title>G</title>\n",
       "<polygon fill=\"white\" points=\"-4,4 -4,-788 403,-788 403,4 -4,4\" stroke=\"none\"/>\n",
       "<!-- 2127992779272 -->\n",
       "<g class=\"node\" id=\"node1\"><title>2127992779272</title>\n",
       "<polygon fill=\"none\" points=\"58.5,-664.5 58.5,-710.5 340.5,-710.5 340.5,-664.5 58.5,-664.5\" stroke=\"black\"/>\n",
       "<text font-family=\"Times New Roman,serif\" font-size=\"14.00\" text-anchor=\"middle\" x=\"122.5\" y=\"-683.8\">reshape_1: Reshape</text>\n",
       "<polyline fill=\"none\" points=\"186.5,-664.5 186.5,-710.5 \" stroke=\"black\"/>\n",
       "<text font-family=\"Times New Roman,serif\" font-size=\"14.00\" text-anchor=\"middle\" x=\"214.5\" y=\"-695.3\">input:</text>\n",
       "<polyline fill=\"none\" points=\"186.5,-687.5 242.5,-687.5 \" stroke=\"black\"/>\n",
       "<text font-family=\"Times New Roman,serif\" font-size=\"14.00\" text-anchor=\"middle\" x=\"214.5\" y=\"-672.3\">output:</text>\n",
       "<polyline fill=\"none\" points=\"242.5,-664.5 242.5,-710.5 \" stroke=\"black\"/>\n",
       "<text font-family=\"Times New Roman,serif\" font-size=\"14.00\" text-anchor=\"middle\" x=\"291.5\" y=\"-695.3\">(None, 28, 28)</text>\n",
       "<polyline fill=\"none\" points=\"242.5,-687.5 340.5,-687.5 \" stroke=\"black\"/>\n",
       "<text font-family=\"Times New Roman,serif\" font-size=\"14.00\" text-anchor=\"middle\" x=\"291.5\" y=\"-672.3\">(None, 784)</text>\n",
       "</g>\n",
       "<!-- 2127992779104 -->\n",
       "<g class=\"node\" id=\"node2\"><title>2127992779104</title>\n",
       "<polygon fill=\"none\" points=\"0,-581.5 0,-627.5 399,-627.5 399,-581.5 0,-581.5\" stroke=\"black\"/>\n",
       "<text font-family=\"Times New Roman,serif\" font-size=\"14.00\" text-anchor=\"middle\" x=\"130\" y=\"-600.8\">batch_normalization_1: BatchNormalization</text>\n",
       "<polyline fill=\"none\" points=\"260,-581.5 260,-627.5 \" stroke=\"black\"/>\n",
       "<text font-family=\"Times New Roman,serif\" font-size=\"14.00\" text-anchor=\"middle\" x=\"288\" y=\"-612.3\">input:</text>\n",
       "<polyline fill=\"none\" points=\"260,-604.5 316,-604.5 \" stroke=\"black\"/>\n",
       "<text font-family=\"Times New Roman,serif\" font-size=\"14.00\" text-anchor=\"middle\" x=\"288\" y=\"-589.3\">output:</text>\n",
       "<polyline fill=\"none\" points=\"316,-581.5 316,-627.5 \" stroke=\"black\"/>\n",
       "<text font-family=\"Times New Roman,serif\" font-size=\"14.00\" text-anchor=\"middle\" x=\"357.5\" y=\"-612.3\">(None, 784)</text>\n",
       "<polyline fill=\"none\" points=\"316,-604.5 399,-604.5 \" stroke=\"black\"/>\n",
       "<text font-family=\"Times New Roman,serif\" font-size=\"14.00\" text-anchor=\"middle\" x=\"357.5\" y=\"-589.3\">(None, 784)</text>\n",
       "</g>\n",
       "<!-- 2127992779272&#45;&gt;2127992779104 -->\n",
       "<g class=\"edge\" id=\"edge2\"><title>2127992779272-&gt;2127992779104</title>\n",
       "<path d=\"M199.5,-664.366C199.5,-656.152 199.5,-646.658 199.5,-637.725\" fill=\"none\" stroke=\"black\"/>\n",
       "<polygon fill=\"black\" points=\"203,-637.607 199.5,-627.607 196,-637.607 203,-637.607\" stroke=\"black\"/>\n",
       "</g>\n",
       "<!-- 2127993803944 -->\n",
       "<g class=\"node\" id=\"node3\"><title>2127993803944</title>\n",
       "<polygon fill=\"none\" points=\"78,-498.5 78,-544.5 321,-544.5 321,-498.5 78,-498.5\" stroke=\"black\"/>\n",
       "<text font-family=\"Times New Roman,serif\" font-size=\"14.00\" text-anchor=\"middle\" x=\"130\" y=\"-517.8\">Layer_1: Dense</text>\n",
       "<polyline fill=\"none\" points=\"182,-498.5 182,-544.5 \" stroke=\"black\"/>\n",
       "<text font-family=\"Times New Roman,serif\" font-size=\"14.00\" text-anchor=\"middle\" x=\"210\" y=\"-529.3\">input:</text>\n",
       "<polyline fill=\"none\" points=\"182,-521.5 238,-521.5 \" stroke=\"black\"/>\n",
       "<text font-family=\"Times New Roman,serif\" font-size=\"14.00\" text-anchor=\"middle\" x=\"210\" y=\"-506.3\">output:</text>\n",
       "<polyline fill=\"none\" points=\"238,-498.5 238,-544.5 \" stroke=\"black\"/>\n",
       "<text font-family=\"Times New Roman,serif\" font-size=\"14.00\" text-anchor=\"middle\" x=\"279.5\" y=\"-529.3\">(None, 784)</text>\n",
       "<polyline fill=\"none\" points=\"238,-521.5 321,-521.5 \" stroke=\"black\"/>\n",
       "<text font-family=\"Times New Roman,serif\" font-size=\"14.00\" text-anchor=\"middle\" x=\"279.5\" y=\"-506.3\">(None, 200)</text>\n",
       "</g>\n",
       "<!-- 2127992779104&#45;&gt;2127993803944 -->\n",
       "<g class=\"edge\" id=\"edge3\"><title>2127992779104-&gt;2127993803944</title>\n",
       "<path d=\"M199.5,-581.366C199.5,-573.152 199.5,-563.658 199.5,-554.725\" fill=\"none\" stroke=\"black\"/>\n",
       "<polygon fill=\"black\" points=\"203,-554.607 199.5,-544.607 196,-554.607 203,-554.607\" stroke=\"black\"/>\n",
       "</g>\n",
       "<!-- 2127993803888 -->\n",
       "<g class=\"node\" id=\"node4\"><title>2127993803888</title>\n",
       "<polygon fill=\"none\" points=\"78,-415.5 78,-461.5 321,-461.5 321,-415.5 78,-415.5\" stroke=\"black\"/>\n",
       "<text font-family=\"Times New Roman,serif\" font-size=\"14.00\" text-anchor=\"middle\" x=\"130\" y=\"-434.8\">Layer_2: Dense</text>\n",
       "<polyline fill=\"none\" points=\"182,-415.5 182,-461.5 \" stroke=\"black\"/>\n",
       "<text font-family=\"Times New Roman,serif\" font-size=\"14.00\" text-anchor=\"middle\" x=\"210\" y=\"-446.3\">input:</text>\n",
       "<polyline fill=\"none\" points=\"182,-438.5 238,-438.5 \" stroke=\"black\"/>\n",
       "<text font-family=\"Times New Roman,serif\" font-size=\"14.00\" text-anchor=\"middle\" x=\"210\" y=\"-423.3\">output:</text>\n",
       "<polyline fill=\"none\" points=\"238,-415.5 238,-461.5 \" stroke=\"black\"/>\n",
       "<text font-family=\"Times New Roman,serif\" font-size=\"14.00\" text-anchor=\"middle\" x=\"279.5\" y=\"-446.3\">(None, 200)</text>\n",
       "<polyline fill=\"none\" points=\"238,-438.5 321,-438.5 \" stroke=\"black\"/>\n",
       "<text font-family=\"Times New Roman,serif\" font-size=\"14.00\" text-anchor=\"middle\" x=\"279.5\" y=\"-423.3\">(None, 100)</text>\n",
       "</g>\n",
       "<!-- 2127993803944&#45;&gt;2127993803888 -->\n",
       "<g class=\"edge\" id=\"edge4\"><title>2127993803944-&gt;2127993803888</title>\n",
       "<path d=\"M199.5,-498.366C199.5,-490.152 199.5,-480.658 199.5,-471.725\" fill=\"none\" stroke=\"black\"/>\n",
       "<polygon fill=\"black\" points=\"203,-471.607 199.5,-461.607 196,-471.607 203,-471.607\" stroke=\"black\"/>\n",
       "</g>\n",
       "<!-- 2127993804280 -->\n",
       "<g class=\"node\" id=\"node5\"><title>2127993804280</title>\n",
       "<polygon fill=\"none\" points=\"65,-332.5 65,-378.5 334,-378.5 334,-332.5 65,-332.5\" stroke=\"black\"/>\n",
       "<text font-family=\"Times New Roman,serif\" font-size=\"14.00\" text-anchor=\"middle\" x=\"130\" y=\"-351.8\">dropout_1: Dropout</text>\n",
       "<polyline fill=\"none\" points=\"195,-332.5 195,-378.5 \" stroke=\"black\"/>\n",
       "<text font-family=\"Times New Roman,serif\" font-size=\"14.00\" text-anchor=\"middle\" x=\"223\" y=\"-363.3\">input:</text>\n",
       "<polyline fill=\"none\" points=\"195,-355.5 251,-355.5 \" stroke=\"black\"/>\n",
       "<text font-family=\"Times New Roman,serif\" font-size=\"14.00\" text-anchor=\"middle\" x=\"223\" y=\"-340.3\">output:</text>\n",
       "<polyline fill=\"none\" points=\"251,-332.5 251,-378.5 \" stroke=\"black\"/>\n",
       "<text font-family=\"Times New Roman,serif\" font-size=\"14.00\" text-anchor=\"middle\" x=\"292.5\" y=\"-363.3\">(None, 100)</text>\n",
       "<polyline fill=\"none\" points=\"251,-355.5 334,-355.5 \" stroke=\"black\"/>\n",
       "<text font-family=\"Times New Roman,serif\" font-size=\"14.00\" text-anchor=\"middle\" x=\"292.5\" y=\"-340.3\">(None, 100)</text>\n",
       "</g>\n",
       "<!-- 2127993803888&#45;&gt;2127993804280 -->\n",
       "<g class=\"edge\" id=\"edge5\"><title>2127993803888-&gt;2127993804280</title>\n",
       "<path d=\"M199.5,-415.366C199.5,-407.152 199.5,-397.658 199.5,-388.725\" fill=\"none\" stroke=\"black\"/>\n",
       "<polygon fill=\"black\" points=\"203,-388.607 199.5,-378.607 196,-388.607 203,-388.607\" stroke=\"black\"/>\n",
       "</g>\n",
       "<!-- 2127993805176 -->\n",
       "<g class=\"node\" id=\"node6\"><title>2127993805176</title>\n",
       "<polygon fill=\"none\" points=\"78,-249.5 78,-295.5 321,-295.5 321,-249.5 78,-249.5\" stroke=\"black\"/>\n",
       "<text font-family=\"Times New Roman,serif\" font-size=\"14.00\" text-anchor=\"middle\" x=\"130\" y=\"-268.8\">Layer_3: Dense</text>\n",
       "<polyline fill=\"none\" points=\"182,-249.5 182,-295.5 \" stroke=\"black\"/>\n",
       "<text font-family=\"Times New Roman,serif\" font-size=\"14.00\" text-anchor=\"middle\" x=\"210\" y=\"-280.3\">input:</text>\n",
       "<polyline fill=\"none\" points=\"182,-272.5 238,-272.5 \" stroke=\"black\"/>\n",
       "<text font-family=\"Times New Roman,serif\" font-size=\"14.00\" text-anchor=\"middle\" x=\"210\" y=\"-257.3\">output:</text>\n",
       "<polyline fill=\"none\" points=\"238,-249.5 238,-295.5 \" stroke=\"black\"/>\n",
       "<text font-family=\"Times New Roman,serif\" font-size=\"14.00\" text-anchor=\"middle\" x=\"279.5\" y=\"-280.3\">(None, 100)</text>\n",
       "<polyline fill=\"none\" points=\"238,-272.5 321,-272.5 \" stroke=\"black\"/>\n",
       "<text font-family=\"Times New Roman,serif\" font-size=\"14.00\" text-anchor=\"middle\" x=\"279.5\" y=\"-257.3\">(None, 60)</text>\n",
       "</g>\n",
       "<!-- 2127993804280&#45;&gt;2127993805176 -->\n",
       "<g class=\"edge\" id=\"edge6\"><title>2127993804280-&gt;2127993805176</title>\n",
       "<path d=\"M199.5,-332.366C199.5,-324.152 199.5,-314.658 199.5,-305.725\" fill=\"none\" stroke=\"black\"/>\n",
       "<polygon fill=\"black\" points=\"203,-305.607 199.5,-295.607 196,-305.607 203,-305.607\" stroke=\"black\"/>\n",
       "</g>\n",
       "<!-- 2127993806016 -->\n",
       "<g class=\"node\" id=\"node7\"><title>2127993806016</title>\n",
       "<polygon fill=\"none\" points=\"81,-166.5 81,-212.5 318,-212.5 318,-166.5 81,-166.5\" stroke=\"black\"/>\n",
       "<text font-family=\"Times New Roman,serif\" font-size=\"14.00\" text-anchor=\"middle\" x=\"133\" y=\"-185.8\">Layer_4: Dense</text>\n",
       "<polyline fill=\"none\" points=\"185,-166.5 185,-212.5 \" stroke=\"black\"/>\n",
       "<text font-family=\"Times New Roman,serif\" font-size=\"14.00\" text-anchor=\"middle\" x=\"213\" y=\"-197.3\">input:</text>\n",
       "<polyline fill=\"none\" points=\"185,-189.5 241,-189.5 \" stroke=\"black\"/>\n",
       "<text font-family=\"Times New Roman,serif\" font-size=\"14.00\" text-anchor=\"middle\" x=\"213\" y=\"-174.3\">output:</text>\n",
       "<polyline fill=\"none\" points=\"241,-166.5 241,-212.5 \" stroke=\"black\"/>\n",
       "<text font-family=\"Times New Roman,serif\" font-size=\"14.00\" text-anchor=\"middle\" x=\"279.5\" y=\"-197.3\">(None, 60)</text>\n",
       "<polyline fill=\"none\" points=\"241,-189.5 318,-189.5 \" stroke=\"black\"/>\n",
       "<text font-family=\"Times New Roman,serif\" font-size=\"14.00\" text-anchor=\"middle\" x=\"279.5\" y=\"-174.3\">(None, 30)</text>\n",
       "</g>\n",
       "<!-- 2127993805176&#45;&gt;2127993806016 -->\n",
       "<g class=\"edge\" id=\"edge7\"><title>2127993805176-&gt;2127993806016</title>\n",
       "<path d=\"M199.5,-249.366C199.5,-241.152 199.5,-231.658 199.5,-222.725\" fill=\"none\" stroke=\"black\"/>\n",
       "<polygon fill=\"black\" points=\"203,-222.607 199.5,-212.607 196,-222.607 203,-222.607\" stroke=\"black\"/>\n",
       "</g>\n",
       "<!-- 2127994009024 -->\n",
       "<g class=\"node\" id=\"node8\"><title>2127994009024</title>\n",
       "<polygon fill=\"none\" points=\"68,-83.5 68,-129.5 331,-129.5 331,-83.5 68,-83.5\" stroke=\"black\"/>\n",
       "<text font-family=\"Times New Roman,serif\" font-size=\"14.00\" text-anchor=\"middle\" x=\"133\" y=\"-102.8\">dropout_2: Dropout</text>\n",
       "<polyline fill=\"none\" points=\"198,-83.5 198,-129.5 \" stroke=\"black\"/>\n",
       "<text font-family=\"Times New Roman,serif\" font-size=\"14.00\" text-anchor=\"middle\" x=\"226\" y=\"-114.3\">input:</text>\n",
       "<polyline fill=\"none\" points=\"198,-106.5 254,-106.5 \" stroke=\"black\"/>\n",
       "<text font-family=\"Times New Roman,serif\" font-size=\"14.00\" text-anchor=\"middle\" x=\"226\" y=\"-91.3\">output:</text>\n",
       "<polyline fill=\"none\" points=\"254,-83.5 254,-129.5 \" stroke=\"black\"/>\n",
       "<text font-family=\"Times New Roman,serif\" font-size=\"14.00\" text-anchor=\"middle\" x=\"292.5\" y=\"-114.3\">(None, 30)</text>\n",
       "<polyline fill=\"none\" points=\"254,-106.5 331,-106.5 \" stroke=\"black\"/>\n",
       "<text font-family=\"Times New Roman,serif\" font-size=\"14.00\" text-anchor=\"middle\" x=\"292.5\" y=\"-91.3\">(None, 30)</text>\n",
       "</g>\n",
       "<!-- 2127993806016&#45;&gt;2127994009024 -->\n",
       "<g class=\"edge\" id=\"edge8\"><title>2127993806016-&gt;2127994009024</title>\n",
       "<path d=\"M199.5,-166.366C199.5,-158.152 199.5,-148.658 199.5,-139.725\" fill=\"none\" stroke=\"black\"/>\n",
       "<polygon fill=\"black\" points=\"203,-139.607 199.5,-129.607 196,-139.607 203,-139.607\" stroke=\"black\"/>\n",
       "</g>\n",
       "<!-- 2127992638040 -->\n",
       "<g class=\"node\" id=\"node9\"><title>2127992638040</title>\n",
       "<polygon fill=\"none\" points=\"84.5,-0.5 84.5,-46.5 314.5,-46.5 314.5,-0.5 84.5,-0.5\" stroke=\"black\"/>\n",
       "<text font-family=\"Times New Roman,serif\" font-size=\"14.00\" text-anchor=\"middle\" x=\"133\" y=\"-19.8\">Output: Dense</text>\n",
       "<polyline fill=\"none\" points=\"181.5,-0.5 181.5,-46.5 \" stroke=\"black\"/>\n",
       "<text font-family=\"Times New Roman,serif\" font-size=\"14.00\" text-anchor=\"middle\" x=\"209.5\" y=\"-31.3\">input:</text>\n",
       "<polyline fill=\"none\" points=\"181.5,-23.5 237.5,-23.5 \" stroke=\"black\"/>\n",
       "<text font-family=\"Times New Roman,serif\" font-size=\"14.00\" text-anchor=\"middle\" x=\"209.5\" y=\"-8.3\">output:</text>\n",
       "<polyline fill=\"none\" points=\"237.5,-0.5 237.5,-46.5 \" stroke=\"black\"/>\n",
       "<text font-family=\"Times New Roman,serif\" font-size=\"14.00\" text-anchor=\"middle\" x=\"276\" y=\"-31.3\">(None, 30)</text>\n",
       "<polyline fill=\"none\" points=\"237.5,-23.5 314.5,-23.5 \" stroke=\"black\"/>\n",
       "<text font-family=\"Times New Roman,serif\" font-size=\"14.00\" text-anchor=\"middle\" x=\"276\" y=\"-8.3\">(None, 10)</text>\n",
       "</g>\n",
       "<!-- 2127994009024&#45;&gt;2127992638040 -->\n",
       "<g class=\"edge\" id=\"edge9\"><title>2127994009024-&gt;2127992638040</title>\n",
       "<path d=\"M199.5,-83.3664C199.5,-75.1516 199.5,-65.6579 199.5,-56.7252\" fill=\"none\" stroke=\"black\"/>\n",
       "<polygon fill=\"black\" points=\"203,-56.6068 199.5,-46.6068 196,-56.6069 203,-56.6068\" stroke=\"black\"/>\n",
       "</g>\n",
       "<!-- 2127992779384 -->\n",
       "<g class=\"node\" id=\"node10\"><title>2127992779384</title>\n",
       "<polygon fill=\"none\" points=\"147.5,-747.5 147.5,-783.5 251.5,-783.5 251.5,-747.5 147.5,-747.5\" stroke=\"black\"/>\n",
       "<text font-family=\"Times New Roman,serif\" font-size=\"14.00\" text-anchor=\"middle\" x=\"199.5\" y=\"-761.8\">2127992779384</text>\n",
       "</g>\n",
       "<!-- 2127992779384&#45;&gt;2127992779272 -->\n",
       "<g class=\"edge\" id=\"edge1\"><title>2127992779384-&gt;2127992779272</title>\n",
       "<path d=\"M199.5,-747.254C199.5,-739.363 199.5,-729.749 199.5,-720.602\" fill=\"none\" stroke=\"black\"/>\n",
       "<polygon fill=\"black\" points=\"203,-720.591 199.5,-710.591 196,-720.591 203,-720.591\" stroke=\"black\"/>\n",
       "</g>\n",
       "</g>\n",
       "</svg>"
      ],
      "text/plain": [
       "<IPython.core.display.SVG object>"
      ]
     },
     "execution_count": 11,
     "metadata": {},
     "output_type": "execute_result"
    }
   ],
   "source": [
    "from IPython.display import SVG\n",
    "from keras.utils.vis_utils import model_to_dot\n",
    "\n",
    "SVG(model_to_dot(model,show_shapes = True).create(prog='dot', format='svg'))"
   ]
  },
  {
   "cell_type": "code",
   "execution_count": null,
   "metadata": {},
   "outputs": [],
   "source": []
  }
 ],
 "metadata": {
  "colab": {
   "collapsed_sections": [],
   "name": "updated_R7_ExternalLab_Questions.ipynb",
   "provenance": [],
   "version": "0.3.2"
  },
  "kernelspec": {
   "display_name": "Python 3",
   "language": "python",
   "name": "python3"
  },
  "language_info": {
   "codemirror_mode": {
    "name": "ipython",
    "version": 3
   },
   "file_extension": ".py",
   "mimetype": "text/x-python",
   "name": "python",
   "nbconvert_exporter": "python",
   "pygments_lexer": "ipython3",
   "version": "3.6.4"
  }
 },
 "nbformat": 4,
 "nbformat_minor": 1
}
