{
 "cells": [
  {
   "cell_type": "markdown",
   "metadata": {
    "colab_type": "text",
    "id": "6Rc_ahEnTF9m"
   },
   "source": [
    "# Predict tags on StackOverflow with linear models"
   ]
  },
  {
   "cell_type": "markdown",
   "metadata": {
    "colab_type": "text",
    "id": "E5hmogPBTF9p"
   },
   "source": [
    "In this assignment you will learn how to predict tags for posts from [StackOverflow](https://stackoverflow.com). To solve this task you will use multilabel classification approach.\n",
    "\n",
    "### Libraries\n",
    "\n",
    "In this task you will need the following libraries:\n",
    "- [Numpy](http://www.numpy.org) — a package for scientific computing.\n",
    "- [Pandas](https://pandas.pydata.org) — a library providing high-performance, easy-to-use data structures and data analysis tools for the Python\n",
    "- [scikit-learn](http://scikit-learn.org/stable/index.html) — a tool for data mining and data analysis.\n",
    "- [NLTK](http://www.nltk.org) — a platform to work with natural language."
   ]
  },
  {
   "cell_type": "markdown",
   "metadata": {
    "colab_type": "text",
    "id": "zSq4Uzh6TF9q"
   },
   "source": [
    "### Data\n",
    "\n",
    "You can find all data required for this assignment into the folder `/data`."
   ]
  },
  {
   "cell_type": "markdown",
   "metadata": {
    "colab_type": "text",
    "id": "2V1gba1KTF9r"
   },
   "source": [
    "### Text preprocessing"
   ]
  },
  {
   "cell_type": "markdown",
   "metadata": {
    "colab_type": "text",
    "id": "WnvsWcP9TF9t"
   },
   "source": [
    "For this assignment you will need to use a list of stop words. It can be downloaded from *nltk*:"
   ]
  },
  {
   "cell_type": "code",
   "execution_count": 1,
   "metadata": {
    "colab": {
     "base_uri": "https://localhost:8080/",
     "height": 51
    },
    "colab_type": "code",
    "id": "R-RxVRvsTF9u",
    "outputId": "bb9bb432-14c0-4fb5-878c-e02bd816423e"
   },
   "outputs": [
    {
     "name": "stdout",
     "output_type": "stream",
     "text": [
      "[nltk_data] Downloading package stopwords to\n",
      "[nltk_data]     C:\\Users\\Ananya\\AppData\\Roaming\\nltk_data...\n",
      "[nltk_data]   Package stopwords is already up-to-date!\n"
     ]
    }
   ],
   "source": [
    "import nltk\n",
    "nltk.download('stopwords')\n",
    "from nltk.corpus import stopwords"
   ]
  },
  {
   "cell_type": "markdown",
   "metadata": {
    "colab_type": "text",
    "id": "ErHWjimITF91"
   },
   "source": [
    "In this task you will deal with a dataset of post titles from StackOverflow. You are provided a split to 3 sets: *train*, *validation* and *test*. All corpora (except for *test*) contain titles of the posts and corresponding tags (100 tags are available). The *test* set doesn't contain answers. Upload the corpora using *pandas* and look at the data:"
   ]
  },
  {
   "cell_type": "code",
   "execution_count": 2,
   "metadata": {
    "colab": {},
    "colab_type": "code",
    "id": "-ufeO-nfVGha"
   },
   "outputs": [],
   "source": [
    "from ast import literal_eval\n",
    "import pandas as pd\n",
    "import numpy as np\n",
    "from nltk import word_tokenize"
   ]
  },
  {
   "cell_type": "markdown",
   "metadata": {
    "colab_type": "text",
    "id": "pDahiblaU-e7"
   },
   "source": [
    "Literal_eval package takes care of the preprocessing for the string so that it can be used in python. To know more on literal_eval please see the below documentation <br>\n",
    "https://kite.com/python/docs/ast.literal_eval"
   ]
  },
  {
   "cell_type": "markdown",
   "metadata": {
    "colab_type": "text",
    "id": "bubX7TSLVLXR"
   },
   "source": [
    "## Task 1: Create training, testing and validation data from the files given. Use title to be the independent variable and tags to be the dependent variable ( 5 points)"
   ]
  },
  {
   "cell_type": "markdown",
   "metadata": {
    "colab_type": "text",
    "id": "KBFMf3bhVPb_"
   },
   "source": [
    "Note: Ensure you apply literal_eval function on the tags column to ensure all the tags are readable in python"
   ]
  },
  {
   "cell_type": "code",
   "execution_count": 3,
   "metadata": {},
   "outputs": [],
   "source": [
    "def read_data(filename):\n",
    "    data = pd.read_csv(filename, sep='\\t')\n",
    "    data['tags'] = data['tags'].apply(literal_eval)\n",
    "    return data"
   ]
  },
  {
   "cell_type": "code",
   "execution_count": 6,
   "metadata": {
    "colab": {},
    "colab_type": "code",
    "id": "x8iH7o77TF96"
   },
   "outputs": [],
   "source": [
    "train_data = read_data('train.tsv')"
   ]
  },
  {
   "cell_type": "code",
   "execution_count": 8,
   "metadata": {},
   "outputs": [],
   "source": [
    "test_data = pd.read_csv('test.tsv',sep='\\t')"
   ]
  },
  {
   "cell_type": "code",
   "execution_count": 9,
   "metadata": {},
   "outputs": [],
   "source": [
    "val_data = read_data('validation.tsv')"
   ]
  },
  {
   "cell_type": "code",
   "execution_count": 10,
   "metadata": {},
   "outputs": [
    {
     "data": {
      "text/html": [
       "<div>\n",
       "<style scoped>\n",
       "    .dataframe tbody tr th:only-of-type {\n",
       "        vertical-align: middle;\n",
       "    }\n",
       "\n",
       "    .dataframe tbody tr th {\n",
       "        vertical-align: top;\n",
       "    }\n",
       "\n",
       "    .dataframe thead th {\n",
       "        text-align: right;\n",
       "    }\n",
       "</style>\n",
       "<table border=\"1\" class=\"dataframe\">\n",
       "  <thead>\n",
       "    <tr style=\"text-align: right;\">\n",
       "      <th></th>\n",
       "      <th>title</th>\n",
       "      <th>tags</th>\n",
       "    </tr>\n",
       "  </thead>\n",
       "  <tbody>\n",
       "    <tr>\n",
       "      <th>0</th>\n",
       "      <td>How to draw a stacked dotplot in R?</td>\n",
       "      <td>[r]</td>\n",
       "    </tr>\n",
       "    <tr>\n",
       "      <th>1</th>\n",
       "      <td>mysql select all records where a datetime fiel...</td>\n",
       "      <td>[php, mysql]</td>\n",
       "    </tr>\n",
       "    <tr>\n",
       "      <th>2</th>\n",
       "      <td>How to terminate windows phone 8.1 app</td>\n",
       "      <td>[c#]</td>\n",
       "    </tr>\n",
       "    <tr>\n",
       "      <th>3</th>\n",
       "      <td>get current time in a specific country via jquery</td>\n",
       "      <td>[javascript, jquery]</td>\n",
       "    </tr>\n",
       "    <tr>\n",
       "      <th>4</th>\n",
       "      <td>Configuring Tomcat to Use SSL</td>\n",
       "      <td>[java]</td>\n",
       "    </tr>\n",
       "  </tbody>\n",
       "</table>\n",
       "</div>"
      ],
      "text/plain": [
       "                                               title                  tags\n",
       "0                How to draw a stacked dotplot in R?                   [r]\n",
       "1  mysql select all records where a datetime fiel...          [php, mysql]\n",
       "2             How to terminate windows phone 8.1 app                  [c#]\n",
       "3  get current time in a specific country via jquery  [javascript, jquery]\n",
       "4                      Configuring Tomcat to Use SSL                [java]"
      ]
     },
     "execution_count": 10,
     "metadata": {},
     "output_type": "execute_result"
    }
   ],
   "source": [
    "train_data.head()"
   ]
  },
  {
   "cell_type": "code",
   "execution_count": 11,
   "metadata": {},
   "outputs": [],
   "source": [
    "X_train, y_train = train_data['title'].values, train_data['tags'].values\n",
    "X_val, y_val = val_data['title'].values, val_data['tags'].values\n",
    "X_test = test_data['title'].values"
   ]
  },
  {
   "cell_type": "code",
   "execution_count": null,
   "metadata": {},
   "outputs": [],
   "source": [
    "#literal eval can be used while reading or else like below the commented section"
   ]
  },
  {
   "cell_type": "code",
   "execution_count": null,
   "metadata": {},
   "outputs": [],
   "source": [
    "#X_train_dep = train_data.title\n",
    "#y_train_indep = train_data.tags"
   ]
  },
  {
   "cell_type": "code",
   "execution_count": null,
   "metadata": {},
   "outputs": [],
   "source": [
    "#def literal_return(val):\n",
    "#    try:\n",
    "#        return literal_eval(val)\n",
    "#    except (ValueError, SyntaxError) as e:\n",
    "#        return val"
   ]
  },
  {
   "cell_type": "code",
   "execution_count": null,
   "metadata": {},
   "outputs": [],
   "source": [
    "#y_train = literal_return(y_train)"
   ]
  },
  {
   "cell_type": "code",
   "execution_count": null,
   "metadata": {},
   "outputs": [],
   "source": [
    "#y_val = literal_return(y_val)"
   ]
  },
  {
   "cell_type": "code",
   "execution_count": null,
   "metadata": {},
   "outputs": [],
   "source": []
  },
  {
   "cell_type": "markdown",
   "metadata": {
    "colab_type": "text",
    "id": "Bcb3kXUSTF-M"
   },
   "source": [
    "## Task 2 (Pre-processing). Implement the function *text_prepare* following the instructions. After that, run the function *test_test_prepare* to test it on tiny cases. (10 points)\n",
    "\n",
    "One of the most known difficulties when working with natural data is that it's unstructured. For example, if you use it \"as is\" and extract tokens just by splitting the titles by whitespaces, you will see that there are many \"weird\" tokens like *3.5*, *?*,  *{}*, etc. To prevent the problems, it's usually useful to prepare the data in a custom way\n"
   ]
  },
  {
   "cell_type": "code",
   "execution_count": 15,
   "metadata": {
    "colab": {},
    "colab_type": "code",
    "id": "PBSchmxtTF-N"
   },
   "outputs": [],
   "source": [
    "import re\n",
    "from nltk.tokenize.toktok import ToktokTokenizer"
   ]
  },
  {
   "cell_type": "code",
   "execution_count": null,
   "metadata": {},
   "outputs": [],
   "source": [
    "tokenizer = ToktokTokenizer()"
   ]
  },
  {
   "cell_type": "code",
   "execution_count": null,
   "metadata": {},
   "outputs": [],
   "source": [
    "#def remove_stopwords(text, is_lower_case=True):\n",
    "#    tokens = tokenizer.tokenize(text)\n",
    "#    tokens = [token.strip() for token in tokens]\n",
    "#    if is_lower_case:\n",
    "#        filtered_tokens = [token for token in tokens if token not in STOPWORDS]\n",
    "#    else:\n",
    "#        filtered_tokens = [token for token in tokens if token.lower() not in STOPWORDS]\n",
    "#    filtered_text = ' '.join(filtered_tokens) \n",
    "#    print(filtered_text)\n",
    "#    return filtered_text"
   ]
  },
  {
   "cell_type": "code",
   "execution_count": null,
   "metadata": {
    "colab": {},
    "colab_type": "code",
    "id": "iI1plv6WTF-R"
   },
   "outputs": [],
   "source": [
    "#REPLACE_BY_SPACE_RE = re.compile('[/(){}\\[\\]\\|@,;]')\n",
    "#BAD_SYMBOLS_RE = re.compile('[^0-9a-z #+_]')\n",
    "#STOPWORDS = set(stopwords.words('english'))\n",
    "\n",
    "#def text_prepare(text): ### The function will take in text and lower case it remove the stopwords, symbols and return it.\n",
    "#    text =   [x.lower() for x in text]          ### Write a code which can change the input text to lowercase.\n",
    "#    text =   [re.sub(REPLACE_BY_SPACE_RE,'',x) for x in text]           ### Write a code which replaces REPLACE_BY_SPACE_RE (above mentioned) symbols by space in text\n",
    "#    text =   [BAD_SYMBOLS_RE.sub('',x)   for x in text]       ### Write a code which deletes symbols which are in BAD_SYMBOLS_RE (above mentioned) from text\n",
    "#    text =   [remove_stopwords(x) for x in text]\n",
    "#    return text\n",
    "    \n",
    "    "
   ]
  },
  {
   "cell_type": "code",
   "execution_count": 17,
   "metadata": {},
   "outputs": [],
   "source": [
    "REPLACE_BY_SPACE_RE = re.compile('[/(){}\\[\\]\\|@,;]') \n",
    "BAD_SYMBOLS_RE = re.compile('[^0-9a-z #+_]') # take all words that contain characters other than 0-9,a-z,#,+\n",
    "STOPWORDS = set(stopwords.words('english'))"
   ]
  },
  {
   "cell_type": "code",
   "execution_count": 12,
   "metadata": {},
   "outputs": [
    {
     "name": "stdout",
     "output_type": "stream",
     "text": [
      "done\n"
     ]
    }
   ],
   "source": [
    "def text_prepare(text):\n",
    "    \"\"\"\n",
    "        text: a string\n",
    "        \n",
    "        return: modified initial string\n",
    "    \"\"\"\n",
    "    #text = # lowercase text\n",
    "    text =text.lower()\n",
    "    #text = # replace REPLACE_BY_SPACE_RE symbols by space in text\n",
    "    text = re.sub(REPLACE_BY_SPACE_RE, ' ', text)\n",
    "    #text = # delete symbols which are in BAD_SYMBOLS_RE from text\n",
    "    text =  re.sub(BAD_SYMBOLS_RE, '', text)\n",
    "    #text = # delete stopwords from text\n",
    "    token_word=word_tokenize(text)\n",
    "    filtered_sentence = [w for w in token_word if not w in STOPWORDS] # filtered_sentence contain all words that are not in stopwords dictionary\n",
    "    lenght_of_string=len(filtered_sentence)\n",
    "    text_new=\"\"\n",
    "    for w in filtered_sentence:\n",
    "        if w!=filtered_sentence[lenght_of_string-1]:\n",
    "             text_new=text_new+w+\" \" # when w is not the last word so separate by whitespace\n",
    "        else:\n",
    "            text_new=text_new+w\n",
    "            \n",
    "    text = text_new\n",
    "    return text\n",
    "print(\"done\")"
   ]
  },
  {
   "cell_type": "code",
   "execution_count": 13,
   "metadata": {
    "colab": {},
    "colab_type": "code",
    "id": "t5LQEgMATF-Y"
   },
   "outputs": [],
   "source": [
    "def test_text_prepare():\n",
    "    examples = [\"SQL Server - any equivalent of Excel's CHOOSE function?\",\n",
    "                \"How to free c++ memory vector<int> * arr?\"]\n",
    "    answers = [\"sql server equivalent excels choose function\", \n",
    "               \"free c++ memory vectorint arr\"]\n",
    "    for ex, ans in zip(examples, answers):\n",
    "        if text_prepare(ex) != ans:\n",
    "            return \"Wrong answer for the case: '%s'\" % ex\n",
    "    return 'Basic tests are passed.'"
   ]
  },
  {
   "cell_type": "markdown",
   "metadata": {
    "colab_type": "text",
    "id": "6t2DpralVokG"
   },
   "source": [
    "Execute the test_text_prepare function"
   ]
  },
  {
   "cell_type": "code",
   "execution_count": 18,
   "metadata": {
    "colab": {},
    "colab_type": "code",
    "id": "ihi8I2yQTF-b"
   },
   "outputs": [
    {
     "data": {
      "text/plain": [
       "'Basic tests are passed.'"
      ]
     },
     "execution_count": 18,
     "metadata": {},
     "output_type": "execute_result"
    }
   ],
   "source": [
    "test_text_prepare()"
   ]
  },
  {
   "cell_type": "markdown",
   "metadata": {
    "colab_type": "text",
    "id": "ettHAZ8eVt1R"
   },
   "source": [
    "*Note: You should pass the above test to ensure the text preprocessing is done before our analysis*"
   ]
  },
  {
   "cell_type": "markdown",
   "metadata": {
    "colab_type": "text",
    "id": "QV5JC6HXTF-k"
   },
   "source": [
    "Now we can preprocess the titles using function *text_prepare* and  making sure that the headers don't have bad symbols:"
   ]
  },
  {
   "cell_type": "markdown",
   "metadata": {
    "colab_type": "text",
    "id": "AfWls32MV5Uu"
   },
   "source": [
    "Print the top 5 elements in x_train"
   ]
  },
  {
   "cell_type": "code",
   "execution_count": 19,
   "metadata": {},
   "outputs": [],
   "source": [
    "X_train = [text_prepare(x) for x in X_train]\n",
    "X_val = [text_prepare(x) for x in X_val]\n",
    "X_test = [text_prepare(x) for x in X_test]"
   ]
  },
  {
   "cell_type": "code",
   "execution_count": 78,
   "metadata": {},
   "outputs": [
    {
     "data": {
      "text/plain": [
       "['draw stacked dotplot r',\n",
       " 'mysql select records datetime field less specified value',\n",
       " 'terminate windows phone 81 app',\n",
       " 'get current time specific country via jquery',\n",
       " 'configuring tomcat use ssl']"
      ]
     },
     "execution_count": 78,
     "metadata": {},
     "output_type": "execute_result"
    }
   ],
   "source": [
    "X_train[:5]"
   ]
  },
  {
   "cell_type": "markdown",
   "metadata": {
    "colab_type": "text",
    "id": "At_ZTeqTTF-t"
   },
   "source": [
    "## Task 2 (WordsTagsCount) - Find 3 most popular tags and 3 most popular words in the train data. - 5 points"
   ]
  },
  {
   "cell_type": "markdown",
   "metadata": {
    "colab_type": "text",
    "id": "x2mT1f7gWKSu"
   },
   "source": [
    "Note: The words which appear the most are considered as popular in this case!"
   ]
  },
  {
   "cell_type": "code",
   "execution_count": null,
   "metadata": {
    "colab": {},
    "colab_type": "code",
    "id": "q-eQoxipTF-v"
   },
   "outputs": [],
   "source": [
    "#word_string = X_train_dep"
   ]
  },
  {
   "cell_type": "code",
   "execution_count": null,
   "metadata": {},
   "outputs": [],
   "source": [
    "#def wordListToFreqDict(wordlist):\n",
    "#    wordfreq = [wordlist.count(p) for p in wordlist]\n",
    "#    return dict(zip(wordlist,wordfreq))"
   ]
  },
  {
   "cell_type": "code",
   "execution_count": null,
   "metadata": {},
   "outputs": [],
   "source": [
    "# Sort a dictionary of word-frequency pairs in\n",
    "# order of descending frequency.\n",
    "\n",
    "#def sortFreqDict(freqdict):\n",
    "#    aux = [(freqdict[key], key) for key in freqdict]\n",
    "#    aux.sort()\n",
    "#    aux.reverse()\n",
    "#    return aux"
   ]
  },
  {
   "cell_type": "code",
   "execution_count": null,
   "metadata": {},
   "outputs": [],
   "source": [
    "\n",
    "#dictionary = wordListToFreqDict(word_string)\n",
    "#sorteddict = sortFreqDict(dictionary)"
   ]
  },
  {
   "cell_type": "code",
   "execution_count": null,
   "metadata": {},
   "outputs": [],
   "source": [
    "#for s in sorteddict: print(str(s))"
   ]
  },
  {
   "cell_type": "code",
   "execution_count": null,
   "metadata": {},
   "outputs": [],
   "source": [
    "#word_string_y = y_train_indep"
   ]
  },
  {
   "cell_type": "code",
   "execution_count": null,
   "metadata": {},
   "outputs": [],
   "source": [
    "#dictionary_y = wordListToFreqDict(word_string_y)\n",
    "#sorteddict_y = sortFreqDict(dictionary_y)"
   ]
  },
  {
   "cell_type": "code",
   "execution_count": null,
   "metadata": {},
   "outputs": [],
   "source": [
    "#dictionary_y.keys()"
   ]
  },
  {
   "cell_type": "code",
   "execution_count": null,
   "metadata": {},
   "outputs": [],
   "source": [
    "#for s in sorteddict_y: print(str(s))"
   ]
  },
  {
   "cell_type": "code",
   "execution_count": 20,
   "metadata": {},
   "outputs": [],
   "source": [
    "import collections \n",
    "from collections import Counter\n",
    "import re"
   ]
  },
  {
   "cell_type": "code",
   "execution_count": 21,
   "metadata": {},
   "outputs": [
    {
     "name": "stdout",
     "output_type": "stream",
     "text": [
      "done\n"
     ]
    }
   ],
   "source": [
    "words=[]\n",
    "tag_w=[]\n",
    "for i in range(0,100000):\n",
    "    #print(i)\n",
    "    words = words+(re.findall(r'\\w+', X_train[i])) # words cantain all the words in the dataset\n",
    "    tag_w=tag_w+y_train[i] # tage_w contain all tags that aree present in train dataset\n",
    "\n",
    "print(\"done\") \n",
    "words_counts = Counter(words) # counter create the dictinary of unique words with their frequncy\n",
    "tag_counts=Counter(tag_w)"
   ]
  },
  {
   "cell_type": "code",
   "execution_count": 22,
   "metadata": {},
   "outputs": [],
   "source": [
    "# Dictionary of all tags from train corpus with their counts.\n",
    "tags_counts = tag_counts\n",
    "# Dictionary of all words from train corpus with their counts.\n",
    "words_counts = Counter(words)"
   ]
  },
  {
   "cell_type": "code",
   "execution_count": 23,
   "metadata": {},
   "outputs": [
    {
     "name": "stdout",
     "output_type": "stream",
     "text": [
      "[('using', 8241), ('c', 8145), ('php', 5587)]\n"
     ]
    }
   ],
   "source": [
    "most_common_tags = sorted(tags_counts.items(), key=lambda x: x[1], reverse=True)[:3]\n",
    "most_common_words = sorted(words_counts.items(), key=lambda x: x[1], reverse=True)[:3]\n",
    "print(most_common_words)"
   ]
  },
  {
   "cell_type": "code",
   "execution_count": null,
   "metadata": {},
   "outputs": [],
   "source": []
  },
  {
   "cell_type": "code",
   "execution_count": null,
   "metadata": {},
   "outputs": [],
   "source": []
  },
  {
   "cell_type": "markdown",
   "metadata": {
    "colab_type": "text",
    "id": "xkwg8_WNTF-3"
   },
   "source": [
    "We are assuming that *tags_counts* and *words_counts* are dictionaries like `{'some_word_or_tag': frequency}`. After applying the sorting procedure, results will be look like this: `[('most_popular_word_or_tag', frequency), ('less_popular_word_or_tag', frequency), ...]`.\n",
    "\n",
    "eg: \n",
    "Tag 1 - 100 Tag 2 - 65 Tag 3 - 250 <br>\n",
    "after sorting looks like, <br>\n",
    "Tag 3 - 250 Tag 1 - 100 Tag 2 - 65"
   ]
  },
  {
   "cell_type": "markdown",
   "metadata": {
    "colab_type": "text",
    "id": "Xk7M4uJ_TF-8"
   },
   "source": [
    "## Task - 3 Transforming text to a vector (10 points)\n",
    "\n",
    "Machine Learning algorithms work with numeric data and we cannot use the provided text data \"as is\". There are many ways to transform text data to numeric vectors. In this task you will try to use two of them.\n",
    "\n",
    "#### Bag of words\n",
    "\n",
    "One of the well-known approaches is a *bag-of-words* representation. To create this transformation, follow the steps:\n",
    "1. Find *N* most popular words in train corpus and numerate them. Now we have a dictionary of the most popular words.\n",
    "2. For each title in the corpora create a zero vector with the dimension equals to *N*.\n",
    "3. For each text in the corpora iterate over words which are in the dictionary and increase by 1 the corresponding coordinate.\n",
    "\n",
    "Let's try to do it for a toy example. Imagine that we have *N* = 4 and the list of the most popular words is \n",
    "\n",
    "    ['hi', 'you', 'me', 'are']\n",
    "\n",
    "Then we need to numerate them, for example, like this: \n",
    "\n",
    "    {'hi': 0, 'you': 1, 'me': 2, 'are': 3}\n",
    "\n",
    "And we have the text, which we want to transform to the vector:\n",
    "\n",
    "    'hi how are you'\n",
    "\n",
    "For this text we create a corresponding zero vector \n",
    "\n",
    "    [0, 0, 0, 0]\n",
    "    \n",
    "And iterate over all words, and if the word is in the dictionary, we increase the value of the corresponding position in the vector:\n",
    "\n",
    "    'hi':  [1, 0, 0, 0]\n",
    "    'how': [1, 0, 0, 0] # word 'how' is not in our dictionary\n",
    "    'are': [1, 0, 0, 1]\n",
    "    'you': [1, 1, 0, 1]\n",
    "\n",
    "The resulting vector will be \n",
    "\n",
    "    [1, 1, 0, 1]\n",
    "   \n",
    "Implement the described encoding in the function *my_bag_of_words* with the size of the dictionary equals to 5000. To find the most common words use train data. You can test your code using the function *test_my_bag_of_words*."
   ]
  },
  {
   "cell_type": "code",
   "execution_count": 24,
   "metadata": {},
   "outputs": [],
   "source": [
    "from sklearn.model_selection import train_test_split\n",
    "from sklearn.feature_extraction.text import CountVectorizer, TfidfVectorizer"
   ]
  },
  {
   "cell_type": "code",
   "execution_count": 25,
   "metadata": {
    "colab": {},
    "colab_type": "code",
    "id": "6ER1oq48TF-9"
   },
   "outputs": [],
   "source": [
    "DICT_SIZE = 5000\n",
    "most_common_words = sorted(words_counts.items(), key=lambda x: x[1], reverse=True)[:5000] #most_common_words contain 5000 words in sorted order of frequncy\n",
    "WORDS_TO_INDEX={}\n",
    "INDEX_TO_WORDS={}\n",
    "for i in range(0,5000):\n",
    "    WORDS_TO_INDEX[most_common_words[i][0]]=i   # most_common_words[i][0] means extracting ith word from the dictioaanry, words to index conatain the index value of the word\n",
    "    INDEX_TO_WORDS[i]=most_common_words[i][0] # index to word conatain the word conrrespond to the index\n",
    "ALL_WORDS = WORDS_TO_INDEX.keys()\n"
   ]
  },
  {
   "cell_type": "code",
   "execution_count": 26,
   "metadata": {},
   "outputs": [],
   "source": [
    "def my_bag_of_words(text, words_to_index, dict_size):\n",
    "    \"\"\"\n",
    "        text: a string\n",
    "        dict_size: size of the dictionary\n",
    "        \n",
    "        return a vector which is a bag-of-words representation of 'text'\n",
    "    \"\"\"\n",
    "    result_vector = np.zeros(dict_size)\n",
    "    y=text.split(\" \")\n",
    "    for i in range(0,len(y)):\n",
    "        for key,value in words_to_index.items():\n",
    "            if y[i]==key:\n",
    "                result_vector[words_to_index[key]]=result_vector[words_to_index[key]]+1  #  result_vector[words_to_index[key]] conatin the count of the presence of  word in the text\n",
    "            \n",
    "    return result_vector # result vector is the vector of the size of the no of words taken as features having count of then in the text\n"
   ]
  },
  {
   "cell_type": "code",
   "execution_count": null,
   "metadata": {},
   "outputs": [],
   "source": []
  },
  {
   "cell_type": "code",
   "execution_count": 27,
   "metadata": {
    "colab": {},
    "colab_type": "code",
    "id": "qnLYWnsaTF_A"
   },
   "outputs": [],
   "source": [
    "def test_my_bag_of_words():\n",
    "    words_to_index = {'hi': 0, 'you': 1, 'me': 2, 'are': 3}\n",
    "    examples = ['hi how are you']\n",
    "    answers = [[1, 1, 0, 1]]\n",
    "    for ex, ans in zip(examples, answers):\n",
    "        if (my_bag_of_words(ex, words_to_index, 4) != ans).any():\n",
    "            return \"Wrong answer for the case: '%s'\" % ex\n",
    "    return 'Basic tests are passed.'"
   ]
  },
  {
   "cell_type": "markdown",
   "metadata": {
    "colab_type": "text",
    "id": "mOlSiUqEW3jD"
   },
   "source": [
    "Execute the test_text_prepare function <br>\n",
    "*<u>Note:</u> You should pass the above test to ensure BOW is working correctly!*"
   ]
  },
  {
   "cell_type": "code",
   "execution_count": 28,
   "metadata": {
    "colab": {},
    "colab_type": "code",
    "id": "cqWhoF24TF_D"
   },
   "outputs": [
    {
     "name": "stdout",
     "output_type": "stream",
     "text": [
      "Basic tests are passed.\n"
     ]
    }
   ],
   "source": [
    "print(test_my_bag_of_words())"
   ]
  },
  {
   "cell_type": "markdown",
   "metadata": {
    "colab_type": "text",
    "id": "BXW3ALCITF_H"
   },
   "source": [
    "Now apply the implemented function to all samples (this might take up to a minute):"
   ]
  },
  {
   "cell_type": "code",
   "execution_count": 29,
   "metadata": {
    "colab": {},
    "colab_type": "code",
    "id": "m39xHB2yTF_H"
   },
   "outputs": [],
   "source": [
    "from scipy import sparse as sp_sparse"
   ]
  },
  {
   "cell_type": "code",
   "execution_count": 30,
   "metadata": {
    "colab": {},
    "colab_type": "code",
    "id": "6DZwPWB1TF_K"
   },
   "outputs": [
    {
     "name": "stdout",
     "output_type": "stream",
     "text": [
      "X_train shape  (100000, 5000)\n",
      "X_val shape  (30000, 5000)\n",
      "X_test shape  (20000, 5000)\n"
     ]
    }
   ],
   "source": [
    "X_train_mybag = sp_sparse.vstack([sp_sparse.csr_matrix(my_bag_of_words(text, WORDS_TO_INDEX, DICT_SIZE)) for text in X_train])\n",
    "X_val_mybag = sp_sparse.vstack([sp_sparse.csr_matrix(my_bag_of_words(text, WORDS_TO_INDEX, DICT_SIZE)) for text in X_val])\n",
    "X_test_mybag = sp_sparse.vstack([sp_sparse.csr_matrix(my_bag_of_words(text, WORDS_TO_INDEX, DICT_SIZE)) for text in X_test])\n",
    "print('X_train shape ', X_train_mybag.shape)\n",
    "print('X_val shape ', X_val_mybag.shape)\n",
    "print('X_test shape ', X_test_mybag.shape)"
   ]
  },
  {
   "cell_type": "markdown",
   "metadata": {
    "colab_type": "text",
    "id": "WPXTUeNSTF_N"
   },
   "source": [
    "As you might notice, we transform the data to sparse representation, to store the useful information efficiently. There are many types: of such representations, however sklearn algorithms can work only with  csr matrix, so we will use this one.<br>\n",
    "<u>Documentations on sparse matrix:</u> <br>\n",
    "(https://docs.scipy.org/doc/scipy/reference/generated/scipy.sparse.csr_matrix.html#scipy.sparse.csr_matrix) \n",
    "(https://docs.scipy.org/doc/scipy/reference/sparse.html)\n",
    "\n"
   ]
  },
  {
   "cell_type": "markdown",
   "metadata": {
    "colab_type": "text",
    "id": "i8AMzsVxTF_Q"
   },
   "source": [
    "\n",
    "For the 11th row in *X_train_mybag* find how many non-zero elements it has. In this task the answer (variable *non_zero_elements_count*) should be a number, e.g. 20."
   ]
  },
  {
   "cell_type": "code",
   "execution_count": 31,
   "metadata": {
    "colab": {},
    "colab_type": "code",
    "id": "bOetzSLzTF_S"
   },
   "outputs": [
    {
     "name": "stdout",
     "output_type": "stream",
     "text": [
      "6\n"
     ]
    }
   ],
   "source": [
    "row = X_train_mybag[10].toarray()[0]\n",
    "non_zero_elements_count=0\n",
    "for i in range(0,5000):\n",
    "    if (row[i]==1):\n",
    "        non_zero_elements_count=non_zero_elements_count+1\n",
    "    \n",
    "\n",
    "print(non_zero_elements_count)"
   ]
  },
  {
   "cell_type": "markdown",
   "metadata": {
    "colab_type": "text",
    "id": "GYAFKGfKTF_V"
   },
   "source": [
    "## Task 4 - TF-IDF (5 points)\n",
    "\n",
    "The second approach extends the bag-of-words framework by taking into account total frequencies of words in the corpora. It helps to penalize too frequent words and provide better features space. \n",
    "\n",
    "Implement function *tfidf_features* using class  from *scikit-learn*. Use *train* corpus to train a vectorizer. Don't forget to take a look into the arguments that you can pass to it. We suggest that you filter out too rare words (occur less than in 5 titles) and too frequent words (occur more than in 90% of the titles). Also, use bigrams along with unigrams in your vocabulary. "
   ]
  },
  {
   "cell_type": "markdown",
   "metadata": {
    "colab_type": "text",
    "id": "1s3uEKmjYpuh"
   },
   "source": [
    "## Write a function which takes x_train, x_val and x_test as input and return the tf-idf features of the same and the vocabulary"
   ]
  },
  {
   "cell_type": "code",
   "execution_count": 33,
   "metadata": {
    "colab": {},
    "colab_type": "code",
    "id": "o6V7FPirTF_i"
   },
   "outputs": [],
   "source": [
    "def tfidf_features(X_train, X_val, X_test):\n",
    "    tfidf_vectorizer =  TfidfVectorizer(min_df=5,max_df=0.9,ngram_range=(1,2),token_pattern= '(\\S+)')#  '(\\S+)'  means any no white space\n",
    "    tfidf_vectorizer.fit(X_train)\n",
    "    X_train_tfidf = tfidf_vectorizer.transform(X_train)\n",
    "    X_test_tfidf = tfidf_vectorizer.transform(X_test)\n",
    "    X_val_tfidf = tfidf_vectorizer.transform(X_val)\n",
    "    return X_train_tfidf, X_val_tfidf, X_test_tfidf, tfidf_vectorizer.vocabulary_"
   ]
  },
  {
   "cell_type": "code",
   "execution_count": 34,
   "metadata": {
    "colab": {},
    "colab_type": "code",
    "id": "ySnV2zCBTF_p"
   },
   "outputs": [],
   "source": [
    "X_train_tfidf, X_val_tfidf, X_test_tfidf, tfidf_vocab = tfidf_features(X_train, X_val, X_test)\n",
    "tfidf_reversed_vocab = {i:word for word,i in tfidf_vocab.items()}"
   ]
  },
  {
   "cell_type": "markdown",
   "metadata": {
    "colab_type": "text",
    "id": "o_aopTTNL5G1"
   },
   "source": [
    "Print the index of string \"C#\" in the vocabulary"
   ]
  },
  {
   "cell_type": "code",
   "execution_count": 35,
   "metadata": {},
   "outputs": [
    {
     "data": {
      "text/plain": [
       "{4672: 'draw',\n",
       " 14705: 'stacked',\n",
       " 12538: 'r',\n",
       " 10223: 'mysql',\n",
       " 13797: 'select',\n",
       " 12798: 'records',\n",
       " 3976: 'datetime',\n",
       " 5686: 'field',\n",
       " 8922: 'less',\n",
       " 14567: 'specified',\n",
       " 16867: 'value',\n",
       " 10256: 'mysql select',\n",
       " 13831: 'select records',\n",
       " 3980: 'datetime field',\n",
       " 15462: 'terminate',\n",
       " 17578: 'windows',\n",
       " 11523: 'phone',\n",
       " 335: '81',\n",
       " 971: 'app',\n",
       " 17601: 'windows phone',\n",
       " 11526: 'phone 81',\n",
       " 336: '81 app',\n",
       " 6532: 'get',\n",
       " 3623: 'current',\n",
       " 15643: 'time',\n",
       " 14522: 'specific',\n",
       " 3431: 'country',\n",
       " 17153: 'via',\n",
       " 8499: 'jquery',\n",
       " 6563: 'get current',\n",
       " 3639: 'current time',\n",
       " 15670: 'time specific',\n",
       " 17167: 'via jquery',\n",
       " 3050: 'configuring',\n",
       " 15731: 'tomcat',\n",
       " 16415: 'use',\n",
       " 14691: 'ssl',\n",
       " 1449: 'awesome',\n",
       " 10378: 'nested',\n",
       " 14098: 'set',\n",
       " 11801: 'plugin',\n",
       " 506: 'add',\n",
       " 10442: 'new',\n",
       " 2502: 'children',\n",
       " 15809: 'tree',\n",
       " 17104: 'various',\n",
       " 8935: 'levels',\n",
       " 552: 'add new',\n",
       " 3453: 'create',\n",
       " 9519: 'map',\n",
       " 8620: 'json',\n",
       " 13187: 'response',\n",
       " 13476: 'ruby',\n",
       " 12567: 'rails',\n",
       " 238: '3',\n",
       " 8648: 'json response',\n",
       " 13491: 'ruby rails',\n",
       " 12569: 'rails 3',\n",
       " 13464: 'rspec',\n",
       " 15469: 'test',\n",
       " 9731: 'method',\n",
       " 2085: 'called',\n",
       " 13467: 'rspec test',\n",
       " 15479: 'test method',\n",
       " 9741: 'method called',\n",
       " 14623: 'springboot',\n",
       " 8961: 'lifecycle',\n",
       " 5377: 'exception',\n",
       " 7517: 'import',\n",
       " 3730: 'data',\n",
       " 5359: 'excel',\n",
       " 3844: 'database',\n",
       " 16541: 'using',\n",
       " 11537: 'php',\n",
       " 7520: 'import data',\n",
       " 3759: 'data excel',\n",
       " 10233: 'mysql database',\n",
       " 3872: 'database using',\n",
       " 16714: 'using php',\n",
       " 10828: 'obtaining',\n",
       " 10706: 'object',\n",
       " 11258: 'parameterized',\n",
       " 15965: 'type',\n",
       " 17649: 'without',\n",
       " 3144: 'constructing',\n",
       " 2541: 'class',\n",
       " 8015: 'ipad',\n",
       " 13869: 'selecting',\n",
       " 15492: 'text',\n",
       " 7766: 'inside',\n",
       " 7681: 'input',\n",
       " 15402: 'tap',\n",
       " 13874: 'selecting text',\n",
       " 15516: 'text inside',\n",
       " 15515: 'text input',\n",
       " 8591: 'jquerys',\n",
       " 6343: 'function',\n",
       " 6393: 'function object',\n",
       " 4835: 'eclipse',\n",
       " 1945: 'c++',\n",
       " 9837: 'mingw',\n",
       " 12145: 'program',\n",
       " 15463: 'terminated',\n",
       " 4837: 'eclipse c++',\n",
       " 8310: 'javascript',\n",
       " 2046: 'call',\n",
       " 10878: 'one',\n",
       " 12253: 'prototype',\n",
       " 8324: 'javascript call',\n",
       " 2063: 'call one',\n",
       " 12254: 'prototype method',\n",
       " 7940: 'intersection',\n",
       " 9083: 'list',\n",
       " 14158: 'sets',\n",
       " 9333: 'longer',\n",
       " 362: 'able',\n",
       " 7096: 'hide',\n",
       " 8745: 'keyboard',\n",
       " 8009: 'ios7',\n",
       " 5676: 'fetch',\n",
       " 8725: 'key',\n",
       " 15218: 'swift',\n",
       " 8656: 'json swift',\n",
       " 2279: 'change',\n",
       " 11749: 'pivot',\n",
       " 7022: 'header',\n",
       " 15438: 'template',\n",
       " 329: '8',\n",
       " 11525: 'phone 8',\n",
       " 3103: 'connectionstring',\n",
       " 5032: 'encryption',\n",
       " 8926: 'let',\n",
       " 16045: 'ui',\n",
       " 12886: 'refresh',\n",
       " 9323: 'long',\n",
       " 13535: 'running',\n",
       " 11019: 'operation',\n",
       " 9328: 'long running',\n",
       " 1631: 'better',\n",
       " 17327: 'way',\n",
       " 5413: 'execute',\n",
       " 5719: 'file',\n",
       " 3112: 'console',\n",
       " 11098: 'output',\n",
       " 13505: 'run',\n",
       " 12326: 'python',\n",
       " 1633: 'better way',\n",
       " 13486: 'ruby file',\n",
       " 5856: 'file using',\n",
       " 3117: 'console output',\n",
       " 5829: 'file run',\n",
       " 13527: 'run python',\n",
       " 9443: 'make',\n",
       " 179: '2',\n",
       " 15633: 'thumbnails',\n",
       " 2769: 'codeigniter',\n",
       " 8117: 'java',\n",
       " 2358: 'character',\n",
       " 17272: 'vs',\n",
       " 2349: 'char',\n",
       " 9674: 'memory',\n",
       " 16412: 'usage',\n",
       " 9688: 'memory usage',\n",
       " 1742: 'bootstrap',\n",
       " 9892: 'modal',\n",
       " 2700: 'close',\n",
       " 5064: 'enter',\n",
       " 12011: 'press',\n",
       " 1750: 'bootstrap modal',\n",
       " 5065: 'enter key',\n",
       " 8738: 'key press',\n",
       " 9051: 'linq',\n",
       " 12485: 'query',\n",
       " 6922: 'group',\n",
       " 13259: 'retrieving',\n",
       " 11486: 'percentage',\n",
       " 9067: 'linq query',\n",
       " 12493: 'query group',\n",
       " 8789: 'label',\n",
       " 8041: 'issue',\n",
       " 10993: 'openerp',\n",
       " 8712: 'keep',\n",
       " 10797: 'objects',\n",
       " 17189: 'view',\n",
       " 13633: 'scaling',\n",
       " 1457: 'axis',\n",
       " 1370: 'attributeerror',\n",
       " 10546: 'nonetype',\n",
       " 1356: 'attribute',\n",
       " 14584: 'split',\n",
       " 1373: 'attributeerror nonetype',\n",
       " 10547: 'nonetype object',\n",
       " 10712: 'object attribute',\n",
       " 999: 'append',\n",
       " 9570: 'mat',\n",
       " 13059: 'replace',\n",
       " 10867: 'onclick',\n",
       " 8566: 'jquery replace',\n",
       " 12823: 'redirect',\n",
       " 12168: 'programme',\n",
       " 12831: 'redirect output',\n",
       " 431: 'accesscontrolalloworigin',\n",
       " 12006: 'present',\n",
       " 13124: 'requested',\n",
       " 13169: 'resource',\n",
       " 5125: 'error',\n",
       " 432: 'accesscontrolalloworigin header',\n",
       " 13125: 'requested resource',\n",
       " 3512: 'creating',\n",
       " 1919: 'c',\n",
       " 0: '#',\n",
       " 7514: 'implicitly',\n",
       " 3262: 'convert',\n",
       " 14890: 'string',\n",
       " 3525: 'creating json',\n",
       " 17581: 'windows 8',\n",
       " 331: '8 c',\n",
       " 1920: 'c #',\n",
       " 88: '# using',\n",
       " 7515: 'implicitly convert',\n",
       " 3314: 'convert type',\n",
       " 16004: 'type string',\n",
       " 4509: 'django',\n",
       " 9929: 'modelform',\n",
       " 4526: 'django modelform',\n",
       " 14222: 'show',\n",
       " 4479: 'div',\n",
       " 14376: 'slide',\n",
       " 14232: 'show hide',\n",
       " 7098: 'hide div',\n",
       " 8426: 'javascript without',\n",
       " 17671: 'without jquery',\n",
       " 1444: 'avoid',\n",
       " 1859: 'busy',\n",
       " 8807: 'laravel',\n",
       " 267: '4',\n",
       " 13323: 'returns',\n",
       " 658: 'ajax',\n",
       " 11924: 'post',\n",
       " 8808: 'laravel 4',\n",
       " 3732: 'data ajax',\n",
       " 677: 'ajax post',\n",
       " 6968: 'handle',\n",
       " 8503: 'jquery ajax',\n",
       " 17982: 'year',\n",
       " 6405: 'function r',\n",
       " 13263: 'retrofit',\n",
       " 14338: 'singleton',\n",
       " 6934: 'gson',\n",
       " 16627: 'using gson',\n",
       " 3439: 'cpp',\n",
       " 9813: 'mfc',\n",
       " 3367: 'copying',\n",
       " 17396: 'web',\n",
       " 12854: 'reference',\n",
       " 12180: 'project',\n",
       " 17413: 'web reference',\n",
       " 10461: 'new project',\n",
       " 15747: 'top',\n",
       " 6052: 'five',\n",
       " 12507: 'query select',\n",
       " 7729: 'insert',\n",
       " 7586: 'index',\n",
       " 7750: 'insert string',\n",
       " 14988: 'string specific',\n",
       " 923: 'apache',\n",
       " 11817: 'poi',\n",
       " 11158: 'page',\n",
       " 6215: 'format',\n",
       " 17792: 'worksheet',\n",
       " 931: 'apache poi',\n",
       " 2314: 'change page',\n",
       " 5374: 'excel worksheet',\n",
       " 15706: 'tkinter',\n",
       " 12176: 'progress',\n",
       " 1510: 'bar',\n",
       " 12434: 'python tkinter',\n",
       " 12177: 'progress bar',\n",
       " 14833: 'store',\n",
       " 7393: 'image',\n",
       " 11418: 'path',\n",
       " 14839: 'store image',\n",
       " 7442: 'image path',\n",
       " 16566: 'using c',\n",
       " 8443: 'jdbc',\n",
       " 1319: 'associated',\n",
       " 9488: 'managed',\n",
       " 3084: 'connection',\n",
       " 10069: 'multiple',\n",
       " 15360: 'tables',\n",
       " 9902: 'model',\n",
       " 17993: 'yii2',\n",
       " 16454: 'use multiple',\n",
       " 10144: 'multiple tables',\n",
       " 15363: 'tables one',\n",
       " 10912: 'one model',\n",
       " 3232: 'controller',\n",
       " 10317: 'names',\n",
       " 1258: 'aspnet',\n",
       " 10215: 'mvc4',\n",
       " 1275: 'aspnet mvc4',\n",
       " 2204: 'casting',\n",
       " 7868: 'integer',\n",
       " 1094: 'array',\n",
       " 7869: 'integer array',\n",
       " 1162: 'array object',\n",
       " 10710: 'object array',\n",
       " 1147: 'array java',\n",
       " 6728: 'getting',\n",
       " 16360: 'uploading',\n",
       " 6736: 'getting error',\n",
       " 5253: 'error uploading',\n",
       " 16361: 'uploading file',\n",
       " 5816: 'file php',\n",
       " 2636: 'clear',\n",
       " 9801: 'methods',\n",
       " 9804: 'methods java',\n",
       " 12075: 'printing',\n",
       " 6093: 'floats',\n",
       " 10637: 'number',\n",
       " 18010: 'zeros',\n",
       " 14547: 'specific number',\n",
       " 14279: 'simple',\n",
       " 10430: 'network',\n",
       " 8944: 'library',\n",
       " 14282: 'simple c',\n",
       " 1922: 'c c++',\n",
       " 16806: 'usr',\n",
       " 9240: 'local',\n",
       " 1645: 'bin',\n",
       " 13550: 'running ruby',\n",
       " 16808: 'usr local',\n",
       " 1678: 'bitmap',\n",
       " 1647: 'binary',\n",
       " 11022: 'operations',\n",
       " 4078: 'default',\n",
       " 9416: 'mail',\n",
       " 17757: 'working',\n",
       " 5074: 'entity',\n",
       " 6281: 'framework',\n",
       " 4471: 'distinct',\n",
       " 5078: 'entity framework',\n",
       " 6295: 'framework model',\n",
       " 5566: 'extjs',\n",
       " 2463: 'checked',\n",
       " 10533: 'nodes',\n",
       " 15108: 'submit',\n",
       " 6550: 'get checked',\n",
       " 9154: 'lists',\n",
       " 9068: 'linq select',\n",
       " 10392: 'nested lists',\n",
       " 4898: 'element',\n",
       " 11340: 'pass',\n",
       " 16975: 'values',\n",
       " 7178: 'html',\n",
       " 7100: 'hide element',\n",
       " 11368: 'pass values',\n",
       " 17003: 'values javascript',\n",
       " 8363: 'javascript html',\n",
       " 7198: 'html element',\n",
       " 4923: 'element using',\n",
       " 16648: 'using javascript',\n",
       " 8370: 'javascript jquery',\n",
       " 7629: 'information',\n",
       " 4274: 'dictionary',\n",
       " 6601: 'get information',\n",
       " 14380: 'slidetoggle',\n",
       " 4414: 'display',\n",
       " 3506: 'created',\n",
       " 10986: 'opencv',\n",
       " 791: 'android',\n",
       " 4426: 'display image',\n",
       " 7843: 'instantiating',\n",
       " 10318: 'namespace',\n",
       " 17803: 'wpf',\n",
       " 13677: 'screen',\n",
       " 13159: 'resolution',\n",
       " 13679: 'screen resolution',\n",
       " 3181: 'content',\n",
       " 14757: 'static',\n",
       " 15325: 'table',\n",
       " 2236: 'cell',\n",
       " 4455: 'displayed',\n",
       " 7989: 'ios',\n",
       " 338: '9',\n",
       " 15358: 'table view',\n",
       " 17195: 'view cell',\n",
       " 7995: 'ios 9',\n",
       " 1619: 'best',\n",
       " 1408: 'autocomplete',\n",
       " 15163: 'suggest',\n",
       " 700: 'algorithm',\n",
       " 3919: 'datastructure',\n",
       " 1951: 'c++ c',\n",
       " 1473: 'backbone',\n",
       " 9933: 'modelsave',\n",
       " 13932: 'sending',\n",
       " 12303: 'put',\n",
       " 7846: 'instead',\n",
       " 12842: 'redirects',\n",
       " 6778: 'given',\n",
       " 14074: 'session',\n",
       " 2512: 'chrome',\n",
       " 14086: 'session php',\n",
       " 10188: 'mvc',\n",
       " 12671: 'razor',\n",
       " 9854: 'missing',\n",
       " 2803: 'collections',\n",
       " 6157: 'form',\n",
       " 10191: 'mvc 4',\n",
       " 271: '4 razor',\n",
       " 6189: 'form post',\n",
       " 3931: 'date',\n",
       " 4017: 'ddmmyyyy',\n",
       " 15080: 'style',\n",
       " 4786: 'dynamically',\n",
       " 9037: 'linkbutton',\n",
       " 646: 'affecting',\n",
       " 11087: 'others',\n",
       " 2322: 'change style',\n",
       " 4796: 'dynamically created',\n",
       " 2400: 'check',\n",
       " 11821: 'point',\n",
       " 8980: 'line',\n",
       " 2674: 'client',\n",
       " 13095: 'request',\n",
       " 5642: 'fails',\n",
       " 15682: 'timeout',\n",
       " 14313: 'simultaneously',\n",
       " 457: 'acquire',\n",
       " 16299: 'update',\n",
       " 6879: 'graph',\n",
       " 9592: 'matplotlib',\n",
       " 3831: 'data update',\n",
       " 6882: 'graph using',\n",
       " 16727: 'using python',\n",
       " 12390: 'python matplotlib',\n",
       " 14845: 'store value',\n",
       " 16956: 'value string',\n",
       " 14895: 'string array',\n",
       " 3920: 'datatable',\n",
       " 7674: 'inner',\n",
       " 8473: 'join',\n",
       " 4751: 'dynamic',\n",
       " 2859: 'columns',\n",
       " 28: '# datatable',\n",
       " 7678: 'inner join',\n",
       " 4757: 'dynamic columns',\n",
       " 3378: 'correct',\n",
       " 504: 'adapter',\n",
       " 11437: 'pattern',\n",
       " 10785: 'objective',\n",
       " 10786: 'objective c',\n",
       " 13590: 'save',\n",
       " 864: 'another',\n",
       " 6107: 'folder',\n",
       " 13599: 'save image',\n",
       " 7396: 'image another',\n",
       " 880: 'another folder',\n",
       " 6117: 'folder using',\n",
       " 16545: 'using ajax',\n",
       " 670: 'ajax jquery',\n",
       " 16438: 'use function',\n",
       " 7371: 'ignore',\n",
       " 13439: 'rows',\n",
       " 14483: 'sorting',\n",
       " 14556: 'specific rows',\n",
       " 4604: 'dom',\n",
       " 827: 'angular',\n",
       " 4360: 'directive',\n",
       " 4605: 'dom element',\n",
       " 831: 'angular directive',\n",
       " 12807: 'rectangles',\n",
       " 10489: 'next',\n",
       " 11261: 'parameters',\n",
       " 16374: 'url',\n",
       " 18006: 'zend',\n",
       " 11268: 'parameters url',\n",
       " 7633: 'inheritance',\n",
       " 389: 'access',\n",
       " 12097: 'problem',\n",
       " 7675: 'inner class',\n",
       " 16973: 'valueerror',\n",
       " 9571: 'match',\n",
       " 11380: 'passing',\n",
       " 14440: 'sockets',\n",
       " 11384: 'passing array',\n",
       " 1150: 'array json',\n",
       " 8639: 'json objects',\n",
       " 2484: 'child',\n",
       " 4196: 'deserializing',\n",
       " 17918: 'xml',\n",
       " 2491: 'child nodes',\n",
       " 4198: 'deserializing xml',\n",
       " 17938: 'xml object',\n",
       " 17137: 'version',\n",
       " 1020: 'application',\n",
       " 5410: 'executable',\n",
       " 3173: 'contains',\n",
       " 16289: 'unsupported',\n",
       " 1061: 'architecture',\n",
       " 7299: 'i386',\n",
       " 988: 'app version',\n",
       " 1062: 'architecture i386',\n",
       " 2870: 'com',\n",
       " 1189: 'array using',\n",
       " 16578: 'using com',\n",
       " 16405: 'urlopen',\n",
       " 146: '10061',\n",
       " 16216: 'unique',\n",
       " 2873: 'combination',\n",
       " 1658: 'bind',\n",
       " 4696: 'drop',\n",
       " 6025: 'first',\n",
       " 4016: 'ddl',\n",
       " 4699: 'drop list',\n",
       " 9133: 'list using',\n",
       " 16654: 'using jquery',\n",
       " 2296: 'change first',\n",
       " 248: '31',\n",
       " 5029: 'encrypted',\n",
       " 6478: 'gem',\n",
       " 2627: 'clause',\n",
       " 5707: 'fields',\n",
       " 12571: 'rails 31',\n",
       " 6831: 'google',\n",
       " 9538: 'maps',\n",
       " 937: 'api',\n",
       " 6487: 'generate',\n",
       " 2536: 'city',\n",
       " 14743: 'state',\n",
       " 10286: 'name',\n",
       " 11627: 'php mysql',\n",
       " 6844: 'google maps',\n",
       " 9539: 'maps api',\n",
       " 2537: 'city state',\n",
       " 16241: 'unknown',\n",
       " 15405: 'target',\n",
       " 12213: 'property',\n",
       " 1016: 'applet',\n",
       " 9394: 'mac',\n",
       " 11080: 'os',\n",
       " 13518: 'run java',\n",
       " 8129: 'java applet',\n",
       " 9396: 'mac os',\n",
       " 8864: 'latitude',\n",
       " 9337: 'longitude',\n",
       " 8865: 'latitude longitude',\n",
       " 10001: 'mouseout',\n",
       " 9147: 'listener',\n",
       " 17719: 'wordpress',\n",
       " 6843: 'google map',\n",
       " 5936: 'find',\n",
       " 13407: 'row',\n",
       " 12531: 'quickly',\n",
       " 5978: 'find row',\n",
       " 8018: 'iphone',\n",
       " 2897: 'command',\n",
       " 15461: 'terminal',\n",
       " 13265: 'return',\n",
       " 9596: 'matrix',\n",
       " 10360: 'need',\n",
       " 15802: 'transpose',\n",
       " 1341: 'attach',\n",
       " 3884: 'dataframe',\n",
       " 11272: 'parent',\n",
       " 12159: 'programmatically',\n",
       " 3718: 'd3',\n",
       " 8595: 'js',\n",
       " 15635: 'tick',\n",
       " 14507: 'spacing',\n",
       " 6723: 'gets',\n",
       " 9723: 'messed',\n",
       " 9977: 'month',\n",
       " 1768: 'boundary',\n",
       " 7001: 'hash',\n",
       " 10740: 'object javascript',\n",
       " 14147: 'set timeout',\n",
       " 16490: 'user',\n",
       " 6049: 'fit',\n",
       " 10369: 'needs',\n",
       " 2291: 'change default',\n",
       " 16514: 'user model',\n",
       " 13996: 'serializing',\n",
       " 1426: 'automatically',\n",
       " 7809: 'install',\n",
       " 6016: 'firefox',\n",
       " 10342: 'navbar',\n",
       " 1397: 'auto',\n",
       " 8872: 'layout',\n",
       " 3141: 'constraints',\n",
       " 7902: 'interactive',\n",
       " 7907: 'interface',\n",
       " 1841: 'builder',\n",
       " 1402: 'auto layout',\n",
       " 7909: 'interface builder',\n",
       " 8768: 'kill',\n",
       " 12113: 'process',\n",
       " 15280: 'system',\n",
       " 14202: 'shell',\n",
       " 2496: 'child process',\n",
       " 12119: 'process running',\n",
       " 14203: 'shell command',\n",
       " 14165: 'setting',\n",
       " 15695: 'timezone',\n",
       " 2122: 'cant',\n",
       " 12774: 'recent',\n",
       " 2152: 'cant update',\n",
       " 5589: 'facebook',\n",
       " 7053: 'help',\n",
       " 4264: 'dialog',\n",
       " 5295: 'event',\n",
       " 9186: 'load',\n",
       " 1822: 'browsers',\n",
       " 8532: 'jquery event',\n",
       " 5313: 'event listener',\n",
       " 7433: 'image load',\n",
       " 7893: 'intellij',\n",
       " 3129: 'constant',\n",
       " 5516: 'expression',\n",
       " 13133: 'required',\n",
       " 2190: 'case',\n",
       " 807: 'android java',\n",
       " 3132: 'constant expression',\n",
       " 4705: 'dropdown',\n",
       " 1535: 'based',\n",
       " 5084: 'entries',\n",
       " 4711: 'dropdown select',\n",
       " 1543: 'based database',\n",
       " 17701: 'wont',\n",
       " 17733: 'work',\n",
       " 9398: 'machine',\n",
       " 17708: 'wont work',\n",
       " 9247: 'local machine',\n",
       " 12321: 'pyqt',\n",
       " 4419: 'display data',\n",
       " 3790: 'data mysql',\n",
       " 3869: 'database table',\n",
       " 15355: 'table using',\n",
       " 575: 'addeventlistener',\n",
       " 13901: 'send',\n",
       " 15591: 'thread',\n",
       " 13905: 'send data',\n",
       " 3818: 'data specific',\n",
       " 6102: 'focus',\n",
       " 9170: 'listviewitem',\n",
       " 4573: 'documentgetelementbyid',\n",
       " 7679: 'innerhtml',\n",
       " 7352: 'ie8',\n",
       " 17771: 'working ie8',\n",
       " 4879: 'efficient',\n",
       " 7851: 'int',\n",
       " 7972: 'inverse',\n",
       " 3308: 'convert string',\n",
       " 14950: 'string int',\n",
       " 4856: 'edit',\n",
       " 15963: 'txt',\n",
       " 14544: 'specific line',\n",
       " 9006: 'line txt',\n",
       " 15964: 'txt file',\n",
       " 5737: 'file c',\n",
       " 3034: 'conditionally',\n",
       " 5923: 'filter',\n",
       " 8031: 'iqueryable',\n",
       " 6509: 'generic',\n",
       " 13088: 'repository',\n",
       " 16010: 'type using',\n",
       " 16615: 'using generic',\n",
       " 6520: 'generic repository',\n",
       " 13089: 'repository pattern',\n",
       " 6625: 'get memory',\n",
       " 12580: 'rails app',\n",
       " 7950: 'invalid',\n",
       " 7613: 'indirect',\n",
       " 15859: 'trying',\n",
       " 15865: 'trying convert',\n",
       " 1976: 'c++ java',\n",
       " 12792: 'record',\n",
       " 7741: 'insert multiple',\n",
       " 12795: 'record table',\n",
       " 15331: 'table codeigniter',\n",
       " 14634: 'sql',\n",
       " 3306: 'convert sql',\n",
       " 14651: 'sql query',\n",
       " 12496: 'query linq',\n",
       " 11406: 'password',\n",
       " 12197: 'prompt',\n",
       " 12901: 'regex',\n",
       " 10368: 'needed',\n",
       " 4773: 'dynamic string',\n",
       " 15001: 'string value',\n",
       " 11773: 'play',\n",
       " 17188: 'videos',\n",
       " 17462: 'website',\n",
       " 1629: 'best way',\n",
       " 12731: 'reading',\n",
       " 14799: 'stdin',\n",
       " 1707: 'blocking',\n",
       " 12739: 'reading line',\n",
       " 8999: 'line line',\n",
       " 17653: 'without blocking',\n",
       " 17178: 'video',\n",
       " 10858: 'old',\n",
       " 13203: 'rest',\n",
       " 13204: 'rest api',\n",
       " 2893: 'comma',\n",
       " 13961: 'separated',\n",
       " 2795: 'collection',\n",
       " 14597: 'spring',\n",
       " 2895: 'comma separated',\n",
       " 13965: 'separated string',\n",
       " 14953: 'string java',\n",
       " 8146: 'java collection',\n",
       " 14612: 'spring form',\n",
       " 2471: 'checking',\n",
       " 9661: 'member',\n",
       " 15038: 'struct',\n",
       " 4903: 'element c',\n",
       " 1941: 'c struct',\n",
       " 15039: 'struct array',\n",
       " 6908: 'gridview',\n",
       " 5503: 'export',\n",
       " 6912: 'gridview data',\n",
       " 5506: 'export excel',\n",
       " 15698: 'tinymce',\n",
       " 11784: 'player',\n",
       " 9652: 'media',\n",
       " 14581: 'splash',\n",
       " 385: 'accepts',\n",
       " 2604: 'class use',\n",
       " 16474: 'use spring',\n",
       " 3596: 'csv',\n",
       " 15024: 'stringsplit',\n",
       " 4730: 'due',\n",
       " 1691: 'blank',\n",
       " 7519: 'import csv',\n",
       " 3598: 'csv file',\n",
       " 8937: 'li',\n",
       " 10504: 'ngmodel',\n",
       " 14727: 'start',\n",
       " 1689: 'blackberry',\n",
       " 12170: 'programming',\n",
       " 13761: 'searching',\n",
       " 13736: 'sdk',\n",
       " 12527: 'quick',\n",
       " 8023: 'iphone sdk',\n",
       " 4366: 'directory',\n",
       " 48: '# get',\n",
       " 4372: 'directory name',\n",
       " 2827: 'column',\n",
       " 10848: 'odd',\n",
       " 5290: 'even',\n",
       " 10673: 'numbers',\n",
       " 15608: 'threads',\n",
       " 10849: 'odd even',\n",
       " 5291: 'even numbers',\n",
       " 10685: 'numbers using',\n",
       " 16543: 'using 2',\n",
       " 756: 'alternatives',\n",
       " 12194: 'projects',\n",
       " 14277: 'similar',\n",
       " 8484: 'joomla',\n",
       " 4724: 'drupal',\n",
       " 1307: 'assign',\n",
       " 17034: 'variable',\n",
       " 12207: 'properties',\n",
       " 36: '# dynamic',\n",
       " 4782: 'dynamic variable',\n",
       " 4772: 'dynamic object',\n",
       " 6640: 'get parameters',\n",
       " 5704: 'field value',\n",
       " 888: 'another object',\n",
       " 436: 'accessing',\n",
       " 6795: 'global',\n",
       " 10875: 'onclicklistener',\n",
       " 438: 'accessing global',\n",
       " 6800: 'global variable',\n",
       " 17053: 'variable inside',\n",
       " 1071: 'argument',\n",
       " 16107: 'uml',\n",
       " 1075: 'argument list',\n",
       " 11991: 'preg_replace',\n",
       " 3618: 'curly',\n",
       " 1789: 'brackets',\n",
       " 254: '323',\n",
       " 1854: 'bundler',\n",
       " 3394: 'could',\n",
       " 2949: 'compatible',\n",
       " 17146: 'versions',\n",
       " 12573: 'rails 323',\n",
       " 3402: 'could find',\n",
       " 5406: 'exe',\n",
       " 95: '# windows',\n",
       " 17594: 'windows form',\n",
       " 8696: 'junit',\n",
       " 13080: 'report',\n",
       " 15409: 'task',\n",
       " 5608: 'facebooks',\n",
       " 14399: 'sms',\n",
       " 1802: 'broadcast',\n",
       " 12770: 'receiver',\n",
       " 15394: 'takes',\n",
       " 7115: 'highest',\n",
       " 12082: 'priority',\n",
       " 12763: 'reboot',\n",
       " 8914: 'length',\n",
       " 120: '0',\n",
       " 1909: 'bypass',\n",
       " 2690: 'clientside',\n",
       " 16848: 'validation',\n",
       " 2691: 'clientside validation',\n",
       " 13567: 'rvm',\n",
       " 7818: 'installation',\n",
       " 16036: 'ubuntu',\n",
       " 7819: 'installation error',\n",
       " 5245: 'error ubuntu',\n",
       " 15828: 'trigger',\n",
       " 2180: 'carousel',\n",
       " 15831: 'trigger event',\n",
       " 1745: 'bootstrap carousel',\n",
       " 12264: 'proxy',\n",
       " 3041: 'configuration',\n",
       " 16108: 'unable',\n",
       " 12843: 'redirecttoaction',\n",
       " 2136: 'cant get',\n",
       " 8089: 'iterators',\n",
       " 7562: 'incompatible',\n",
       " 4213: 'destruction',\n",
       " 4165: 'dependent',\n",
       " 3146: 'constructor',\n",
       " 1500: 'bad',\n",
       " 7704: 'input line',\n",
       " 15253: 'symfony2',\n",
       " 6246: 'forms',\n",
       " 11048: 'options',\n",
       " 16433: 'use dynamic',\n",
       " 13828: 'select options',\n",
       " 10575: 'notfoundhttpexception',\n",
       " 15107: 'submission',\n",
       " 6982: 'handling',\n",
       " 16858: 'validation multiple',\n",
       " 10095: 'multiple forms',\n",
       " 15837: 'triggers',\n",
       " 11051: 'oracle',\n",
       " 9971: 'mongoose',\n",
       " 2079: 'callback',\n",
       " 418: 'access specific',\n",
       " 14562: 'specific value',\n",
       " 17496: 'well',\n",
       " 16331: 'updating',\n",
       " 9930: 'models',\n",
       " 294: '5',\n",
       " 2155: 'canvas',\n",
       " 8045: 'issues',\n",
       " 7179: 'html 5',\n",
       " 2945: 'comparison',\n",
       " 17080: 'variables',\n",
       " 11841: 'pointing',\n",
       " 11290: 'parse',\n",
       " 11296: 'parse json',\n",
       " 8624: 'json data',\n",
       " 3797: 'data php',\n",
       " 11907: 'possible',\n",
       " 8694: 'jump',\n",
       " 15752: 'top page',\n",
       " 11170: 'page form',\n",
       " 6196: 'form submit',\n",
       " 13579: 'safely',\n",
       " 4211: 'destroy',\n",
       " 17549: 'window',\n",
       " 17874: 'wxpython',\n",
       " 7558: 'includes',\n",
       " 15308: 'systems',\n",
       " 11605: 'php includes',\n",
       " 9491: 'managepy',\n",
       " 13558: 'runserver',\n",
       " 9492: 'managepy runserver',\n",
       " 13612: 'saving',\n",
       " 6280: 'frames',\n",
       " 13620: 'saving multiple',\n",
       " 10085: 'multiple data',\n",
       " 3766: 'data frames',\n",
       " 13277: 'return function',\n",
       " 2950: 'compilation',\n",
       " 6263: 'found',\n",
       " 2951: 'compilation error',\n",
       " 5243: 'error type',\n",
       " 15995: 'type namespace',\n",
       " 10320: 'namespace name',\n",
       " 3403: 'could found',\n",
       " 11300: 'parsecom',\n",
       " 8940: 'libgdx',\n",
       " 7502: 'implementation',\n",
       " 7360: 'iframe',\n",
       " 11895: 'position',\n",
       " 577: 'adding',\n",
       " 8314: 'javascript adding',\n",
       " 598: 'adding text',\n",
       " 13605: 'save value',\n",
       " 16898: 'value drop',\n",
       " 2029: 'calculate',\n",
       " 3384: 'correlation',\n",
       " 12983: 'remove',\n",
       " 10942: 'ones',\n",
       " 11218: 'pandas',\n",
       " 12404: 'python pandas',\n",
       " 11036: 'optimizations',\n",
       " 1807: 'browser',\n",
       " 11490: 'perform',\n",
       " 13043: 'rendered',\n",
       " 4154: 'denied',\n",
       " 14044: 'service',\n",
       " 4114: 'delegate',\n",
       " 9418: 'mail client',\n",
       " 2686: 'client using',\n",
       " 3417: 'count',\n",
       " 13661: 'scipy',\n",
       " 1835: 'build',\n",
       " 11085: 'osx',\n",
       " 9397: 'mac osx',\n",
       " 8012: 'ip',\n",
       " 604: 'address',\n",
       " 9562: 'mask',\n",
       " 15549: 'textbox',\n",
       " 8013: 'ip address',\n",
       " 17112: 'vbnet',\n",
       " 2912: 'commands',\n",
       " 8195: 'java library',\n",
       " 13846: 'selected',\n",
       " 2763: 'codebehind',\n",
       " 6671: 'get selected',\n",
       " 13862: 'selected value',\n",
       " 16958: 'value text',\n",
       " 15513: 'text html',\n",
       " 7221: 'html select',\n",
       " 13223: 'restrict',\n",
       " 8498: 'jqgrid',\n",
       " 15544: 'textarea',\n",
       " 7043: 'height',\n",
       " 6899: 'grid',\n",
       " 15221: 'swift 3',\n",
       " 4866: 'editor',\n",
       " 13985: 'serialization',\n",
       " 17946: 'xml serialization',\n",
       " 5534: 'extend',\n",
       " 8142: 'java class',\n",
       " 2589: 'class one',\n",
       " 5397: 'exceptions',\n",
       " 6952: 'guidelines',\n",
       " 16178: 'understand',\n",
       " 15488: 'testng',\n",
       " 15168: 'suite',\n",
       " 3048: 'configure',\n",
       " 17451: 'webpage',\n",
       " 5364: 'excel data',\n",
       " 11239: 'parameter',\n",
       " 11143: 'owin',\n",
       " 7146: 'host',\n",
       " 11360: 'pass parameter',\n",
       " 13609: 'saved',\n",
       " 12624: 'rake',\n",
       " 5264: 'errors',\n",
       " 9224: 'loading',\n",
       " 8772: 'kind',\n",
       " 10185: 'mutex',\n",
       " 2041: 'calculation',\n",
       " 5071: 'entities',\n",
       " 9055: 'linq entities',\n",
       " 5072: 'entities query',\n",
       " 4294: 'difference',\n",
       " 2731: 'cocos2dx',\n",
       " 9384: 'lua',\n",
       " 1663: 'binding',\n",
       " 13145: 'reset',\n",
       " 838: 'angularjs',\n",
       " 17134: 'verify',\n",
       " 1774: 'box',\n",
       " 2665: 'clicked',\n",
       " 2402: 'check box',\n",
       " 15047: 'structure',\n",
       " 11825: 'pointer',\n",
       " 4548: 'dll',\n",
       " 11827: 'pointer c',\n",
       " 1925: 'c dll',\n",
       " 4549: 'dll c',\n",
       " 11445: 'pausing',\n",
       " 9831: 'milliseconds',\n",
       " 9785: 'method set',\n",
       " 2058: 'call javascript',\n",
       " 11271: 'params',\n",
       " 13130: 'requests',\n",
       " 12417: 'python requests',\n",
       " 7121: 'highlighting',\n",
       " 17255: 'visual',\n",
       " 15065: 'studio',\n",
       " 17259: 'visual studio',\n",
       " 4959: 'email',\n",
       " 2989: 'component',\n",
       " 17147: 'versus',\n",
       " 11707: 'phpmailer',\n",
       " ...}"
      ]
     },
     "execution_count": 35,
     "metadata": {},
     "output_type": "execute_result"
    }
   ],
   "source": [
    "tfidf_reversed_vocab"
   ]
  },
  {
   "cell_type": "code",
   "execution_count": 36,
   "metadata": {
    "colab": {},
    "colab_type": "code",
    "id": "kZ-3wqTTMCRi"
   },
   "outputs": [
    {
     "name": "stdout",
     "output_type": "stream",
     "text": [
      "8117\n"
     ]
    }
   ],
   "source": [
    "print(list(tfidf_reversed_vocab.keys())[list(tfidf_reversed_vocab.values()).index('java')])"
   ]
  },
  {
   "cell_type": "code",
   "execution_count": 58,
   "metadata": {},
   "outputs": [
    {
     "name": "stdout",
     "output_type": "stream",
     "text": [
      "1920\n"
     ]
    }
   ],
   "source": [
    "print(list(tfidf_reversed_vocab.keys())[list(tfidf_reversed_vocab.values()).index('c #')])"
   ]
  },
  {
   "cell_type": "markdown",
   "metadata": {
    "colab_type": "text",
    "id": "ZYYO2kdiTF_6"
   },
   "source": [
    "## Task 5: Classification (15 points)\n",
    "MultiLabel classifier\n",
    "\n",
    "As we have noticed before, in this task each example can have multiple tags. To deal with such kind of prediction, we need to transform labels in a binary form and the prediction will be a mask of 0s and 1s. For this purpose it is convenient to use MultiLabelBinarizer from sklearn. <br>\n",
    "<u>Documentation:</u> <br>\n",
    "http://scikit-learn.org/stable/modules/generated/sklearn.preprocessing.MultiLabelBinarizer.html"
   ]
  },
  {
   "cell_type": "code",
   "execution_count": 38,
   "metadata": {
    "colab": {},
    "colab_type": "code",
    "id": "ojeCe_e_TF_7"
   },
   "outputs": [],
   "source": [
    "from sklearn.preprocessing import MultiLabelBinarizer"
   ]
  },
  {
   "cell_type": "code",
   "execution_count": 39,
   "metadata": {
    "colab": {},
    "colab_type": "code",
    "id": "p8JYQr8YTF_-"
   },
   "outputs": [],
   "source": [
    "mlb = MultiLabelBinarizer(classes=sorted(tags_counts.keys()))\n",
    "y_train = mlb.fit_transform(y_train) # it chnage the y_train in feature form like alll clases with 0,1 value\n",
    "y_val = mlb.fit_transform(y_val)"
   ]
  },
  {
   "cell_type": "markdown",
   "metadata": {
    "colab_type": "text",
    "id": "qN1NUA3DTGAB"
   },
   "source": [
    "In this task we suggest to use One-vs-Rest approach, which is implemented in [OneVsRestClassifier](http://scikit-learn.org/stable/modules/generated/sklearn.multiclass.OneVsRestClassifier.html) class. In this approach *k* classifiers (= number of tags) are trained. As a basic classifier, use [LogisticRegression](http://scikit-learn.org/stable/modules/generated/sklearn.linear_model.LogisticRegression.html). It is one of the simplest methods, but often it performs good enough in text classification tasks. It might take some time, because a number of classifiers to train is large.\n",
    "\n",
    "**OneVsRest multi-label strategy**\n",
    "\n",
    "The Multi-label algorithm accepts a binary mask over multiple labels. The result for each prediction will be an array of 0s and 1s marking which class labels apply to each row input sample.\n",
    "\n",
    "**Logistic Regression & SVM**\n",
    "\n",
    "OneVsRest strategy can be used for multi-label learning, where a classifier is used to predict multiple labels for instance. LR & SVM supports multi-class, but we are in a multi-label scenario, therefore, we wrap classifiers in the OneVsRestClassifier.\n",
    "\n",
    "*If you want to learn more about OneVsRest, check out these links:*\n",
    "- *https://towardsdatascience.com/multi-label-text-classification-with-scikit-learn-30714b7819c5*\n",
    "- *https://towardsdatascience.com/journey-to-the-center-of-multi-label-classification-384c40229bff*\n",
    "- *https://medium.com/coinmonks/multi-label-classification-blog-tags-prediction-using-nlp-b0b5ee6686fc*"
   ]
  },
  {
   "cell_type": "code",
   "execution_count": 59,
   "metadata": {
    "colab": {},
    "colab_type": "code",
    "id": "2Pj6MDkbTGAC"
   },
   "outputs": [],
   "source": [
    "from sklearn.multiclass import OneVsRestClassifier\n",
    "from sklearn.linear_model import LogisticRegression\n",
    "from sklearn.svm import SVC, LinearSVC\n",
    "from sklearn.pipeline import Pipeline"
   ]
  },
  {
   "cell_type": "code",
   "execution_count": null,
   "metadata": {},
   "outputs": [],
   "source": [
    "#to use LinearSVC oneVsOneClassifier has to be used. OneVsREstClassifier throws error if we tried to fit the data with LinearSVC"
   ]
  },
  {
   "cell_type": "code",
   "execution_count": 72,
   "metadata": {
    "colab": {},
    "colab_type": "code",
    "id": "eUHZR2TWTGAF"
   },
   "outputs": [],
   "source": [
    "def train_classifier(X_train, y_train):\n",
    "   \n",
    "    # Create and fit LogisticRegression wraped into OneVsRestClassifier.\n",
    "    clf=OneVsRestClassifier(LogisticRegression()).fit(X_train,y_train)\n",
    "     # Create and fit Linear SVC wraped into OneVsRestClassifier.\n",
    "    linearSVC=OneVsRestClassifier(SVC()).fit(X_train,y_train)\n",
    "    \n",
    "    return clf,linearSVC  ### clf is the model"
   ]
  },
  {
   "cell_type": "markdown",
   "metadata": {
    "colab_type": "text",
    "id": "k660NfRFTGAL"
   },
   "source": [
    "Train the classifiers for different data transformations: *bag-of-words* and *tf-idf*.\n",
    "classifier_mybag = model for "
   ]
  },
  {
   "cell_type": "code",
   "execution_count": 73,
   "metadata": {},
   "outputs": [],
   "source": [
    "classifier_mybag,classifier_mybag_LinearSVC = train_classifier(X_train_mybag, y_train)"
   ]
  },
  {
   "cell_type": "code",
   "execution_count": 74,
   "metadata": {},
   "outputs": [],
   "source": [
    "classifier_tfidf,classifier__tfidf_LinearSVC = train_classifier(X_train_tfidf, y_train)"
   ]
  },
  {
   "cell_type": "code",
   "execution_count": null,
   "metadata": {
    "colab": {},
    "colab_type": "code",
    "id": "jXyhN-yDTGAP"
   },
   "outputs": [],
   "source": [
    "#classifier_mybag = train_classifier(X_train_mybag, y_train)\n",
    "#classifier_tfidf = train_classifier(X_train_tfidf, y_train)"
   ]
  },
  {
   "cell_type": "markdown",
   "metadata": {
    "colab_type": "text",
    "id": "ijQZCd9cTGAU"
   },
   "source": [
    "Now you can create predictions for the data. You will need two types of predictions: labels and scores."
   ]
  },
  {
   "cell_type": "code",
   "execution_count": 45,
   "metadata": {
    "colab": {},
    "colab_type": "code",
    "id": "0QT7uWddTGAV"
   },
   "outputs": [],
   "source": [
    "y_val_predicted_labels_mybag = classifier_mybag.predict(X_val_mybag)\n",
    "y_val_predicted_scores_mybag = classifier_mybag.decision_function(X_val_mybag)\n",
    "\n",
    "y_val_predicted_labels_tfidf = classifier__tfidf_LinearSVC.predict(X_val_tfidf)\n",
    "y_val_predicted_scores_tfidf = classifier__tfidf_LinearSVC.decision_function(X_val_tfidf)"
   ]
  },
  {
   "cell_type": "code",
   "execution_count": 75,
   "metadata": {},
   "outputs": [],
   "source": [
    "y_val_predicted_labels_mybag_linearSVC = classifier_mybag_LinearSVC.predict(X_val_mybag)\n",
    "y_val_predicted_scores_mybag_linearSVC = classifier_mybag_LinearSVC.decision_function(X_val_mybag)\n",
    "\n",
    "y_val_predicted_labels_tfidf_linearSVC = classifier__tfidf_LinearSVC.predict(X_val_tfidf)\n",
    "y_val_predicted_scores_tfidf_linearSVC = classifier__tfidf_LinearSVC.decision_function(X_val_tfidf)"
   ]
  },
  {
   "cell_type": "markdown",
   "metadata": {
    "colab_type": "text",
    "id": "p9n0TEtHTGAj"
   },
   "source": [
    "Now, we would need to compare the results of different predictions, e.g. to see whether TF-IDF transformation helps or to try different regularization techniques in logistic regression. For all these experiments, we need to setup evaluation procedure. "
   ]
  },
  {
   "cell_type": "markdown",
   "metadata": {
    "colab_type": "text",
    "id": "RVqAxDxqTGAk"
   },
   "source": [
    "## Evaluation (10 points)\n",
    "\n",
    "To evaluate the results we will use several classification metrics:\n",
    " - [Accuracy](http://scikit-learn.org/stable/modules/generated/sklearn.metrics.accuracy_score.html)\n",
    " - [F1-score](http://scikit-learn.org/stable/modules/generated/sklearn.metrics.f1_score.html)\n",
    " - [Area under ROC-curve](http://scikit-learn.org/stable/modules/generated/sklearn.metrics.roc_auc_score.html)\n",
    " - [Area under precision-recall curve](http://scikit-learn.org/stable/modules/generated/sklearn.metrics.average_precision_score.html#sklearn.metrics.average_precision_score) \n",
    " \n",
    "Make sure you are familiar with all of them. If you want a refresher, you can click the link to their documentation"
   ]
  },
  {
   "cell_type": "markdown",
   "metadata": {
    "colab_type": "text",
    "id": "_YmNhVsU9K9-"
   },
   "source": [
    "## Import the necessary libraries for the above metrics"
   ]
  },
  {
   "cell_type": "code",
   "execution_count": 46,
   "metadata": {
    "colab": {},
    "colab_type": "code",
    "id": "tBvrkOUYTGAl"
   },
   "outputs": [],
   "source": [
    "from sklearn.metrics import accuracy_score\n",
    "from sklearn.metrics import f1_score\n",
    "from sklearn.metrics import roc_auc_score \n",
    "from sklearn.metrics import average_precision_score\n",
    "from sklearn.metrics import recall_score"
   ]
  },
  {
   "cell_type": "markdown",
   "metadata": {
    "colab_type": "text",
    "id": "vNkYBl_wTGAp"
   },
   "source": [
    "Define the function *print_evaluation_scores* which takes y_val and predicted as input calculates and prints the following output:\n",
    " - *accuracy*\n",
    " - *F1-score - Average = 'weighted'* \n",
    " - *Precision - Average = 'macro'*"
   ]
  },
  {
   "cell_type": "code",
   "execution_count": 47,
   "metadata": {
    "colab": {},
    "colab_type": "code",
    "id": "-4nevWnhTGAq"
   },
   "outputs": [],
   "source": [
    "def print_evaluation_scores(y_val, predicted):\n",
    "    accuracy=accuracy_score(y_val, predicted)\n",
    "    f1_score_macro=f1_score(y_val, predicted, average='macro')\n",
    "    f1_score_micro=f1_score(y_val, predicted, average='micro')\n",
    "    f1_score_weighted=f1_score(y_val, predicted, average='weighted')\n",
    "    precision_macro=average_precision_score(y_val, predicted, average='macro')\n",
    "    precision_micro=average_precision_score(y_val, predicted, average='micro')\n",
    "    precision_weighted=average_precision_score(y_val, predicted, average='weighted')\n",
    "    print(accuracy,f1_score_macro,f1_score_micro,f1_score_weighted,precision_macro,precision_micro,precision_weighted)"
   ]
  },
  {
   "cell_type": "code",
   "execution_count": 48,
   "metadata": {
    "colab": {},
    "colab_type": "code",
    "id": "G92GIO4dTGAt"
   },
   "outputs": [
    {
     "name": "stdout",
     "output_type": "stream",
     "text": [
      "Bag-of-words\n",
      "0.34236666666666665 0.49938857239304313 0.6574532539433825 0.6341716296777093 0.33907669155557085 0.46374975113065875 0.49427144547261226\n",
      "Tfidf\n",
      "0.33363333333333334 0.44420352336445973 0.6403497239021825 0.6128187236796007 0.30075374165910257 0.4552637526997283 0.4835859965133505\n"
     ]
    }
   ],
   "source": [
    "print('Bag-of-words')\n",
    "print_evaluation_scores(y_val, y_val_predicted_labels_mybag)\n",
    "print('Tfidf')\n",
    "print_evaluation_scores(y_val, y_val_predicted_labels_tfidf)"
   ]
  },
  {
   "cell_type": "code",
   "execution_count": null,
   "metadata": {},
   "outputs": [],
   "source": [
    "print('Bag-of-words of SVC')\n",
    "print_evaluation_scores(y_val, y_val_predicted_labels_tfidf_linearSVC)\n",
    "print('Tfidf of SVC')\n",
    "print_evaluation_scores(y_val, y_val_predicted_scores_tfidf_linearSVC)"
   ]
  },
  {
   "cell_type": "markdown",
   "metadata": {
    "colab_type": "text",
    "id": "kT7oso8ZTGAv"
   },
   "source": [
    "You might also want to plot some form of the [ROC curve](http://scikit-learn.org/stable/modules/model_evaluation.html#receiver-operating-characteristic-roc) for the case of multi-label classification. The input parameters for the roc curve are:\n",
    " - true labels\n",
    " - decision functions scores\n",
    " - number of classes"
   ]
  },
  {
   "cell_type": "markdown",
   "metadata": {
    "colab_type": "text",
    "id": "x4hbW3SeBVxz"
   },
   "source": [
    "Import the roc_auc function from the metrics.py file provided"
   ]
  },
  {
   "cell_type": "code",
   "execution_count": 49,
   "metadata": {
    "colab": {},
    "colab_type": "code",
    "id": "G_9M0AI4TGAv"
   },
   "outputs": [],
   "source": [
    "from metrics import roc_auc\n",
    "get_ipython().run_line_magic('matplotlib', 'inline')"
   ]
  },
  {
   "cell_type": "code",
   "execution_count": 50,
   "metadata": {
    "colab": {},
    "colab_type": "code",
    "id": "sZaymN4uTGA0"
   },
   "outputs": [
    {
     "data": {
      "image/png": "[encoded data removed]",
      "text/plain": [
       "<matplotlib.figure.Figure at 0x23d9cb69e80>"
      ]
     },
     "metadata": {},
     "output_type": "display_data"
    }
   ],
   "source": [
    "n_classes = len(tags_counts)\n",
    "roc_auc(y_val, y_val_predicted_scores_mybag, n_classes)\n"
   ]
  },
  {
   "cell_type": "code",
   "execution_count": 76,
   "metadata": {},
   "outputs": [
    {
     "data": {
      "image/png": "[encoded data removed]",
      "text/plain": [
       "<matplotlib.figure.Figure at 0x23d9dbda080>"
      ]
     },
     "metadata": {},
     "output_type": "display_data"
    }
   ],
   "source": [
    "n_classes = len(tags_counts)\n",
    "roc_auc(y_val, y_val_predicted_scores_mybag_linearSVC, n_classes)\n"
   ]
  },
  {
   "cell_type": "code",
   "execution_count": 51,
   "metadata": {
    "colab": {},
    "colab_type": "code",
    "id": "XwNpUEVLTGA2"
   },
   "outputs": [
    {
     "data": {
      "image/png": "[encoded data removed]",
      "text/plain": [
       "<matplotlib.figure.Figure at 0x23d96dd8ac8>"
      ]
     },
     "metadata": {},
     "output_type": "display_data"
    }
   ],
   "source": [
    "n_classes = len(tags_counts)\n",
    "roc_auc(y_val, y_val_predicted_scores_tfidf, n_classes)"
   ]
  },
  {
   "cell_type": "code",
   "execution_count": 77,
   "metadata": {},
   "outputs": [
    {
     "data": {
      "image/png": "[encoded data removed]",
      "text/plain": [
       "<matplotlib.figure.Figure at 0x23d9e267940>"
      ]
     },
     "metadata": {},
     "output_type": "display_data"
    }
   ],
   "source": [
    "n_classes = len(tags_counts)\n",
    "roc_auc(y_val, y_val_predicted_scores_tfidf_linearSVC, n_classes)"
   ]
  },
  {
   "cell_type": "code",
   "execution_count": 52,
   "metadata": {},
   "outputs": [
    {
     "name": "stdout",
     "output_type": "stream",
     "text": [
      "done\n",
      "done1\n"
     ]
    }
   ],
   "source": [
    "from sklearn.pipeline import make_pipeline\n",
    "print(\"done\") \n",
    "def train_classifier(X_train, y_train):\n",
    "      \n",
    "    model=OneVsRestClassifier(LogisticRegression(penalty=\"l1\",C=1)).fit(X_train,y_train)\n",
    "    \n",
    "    return model\n",
    "\n",
    "print(\"done1\")    "
   ]
  },
  {
   "cell_type": "code",
   "execution_count": 53,
   "metadata": {},
   "outputs": [
    {
     "name": "stdout",
     "output_type": "stream",
     "text": [
      "done2\n",
      "done3\n"
     ]
    }
   ],
   "source": [
    "classifier_mybag = train_classifier(X_train_mybag, y_train)\n",
    "\n",
    "print(\"done2\")\n",
    "y_val_predicted_labels_mybag = classifier_mybag.predict(X_val_mybag)\n",
    "\n",
    "print(\"done3\")\n"
   ]
  },
  {
   "cell_type": "code",
   "execution_count": 54,
   "metadata": {},
   "outputs": [],
   "source": [
    "from sklearn.metrics import accuracy_score\n",
    "from sklearn.metrics import f1_score\n",
    "from sklearn.metrics import roc_auc_score \n",
    "from sklearn.metrics import average_precision_score\n",
    "from sklearn.metrics import recall_score"
   ]
  },
  {
   "cell_type": "code",
   "execution_count": 55,
   "metadata": {},
   "outputs": [],
   "source": [
    "def print_evaluation_scores(y_val, predicted):\n",
    "    accuracy=accuracy_score(y_val, predicted)\n",
    "    f1_score_macro=f1_score(y_val, predicted, average='macro')\n",
    "    f1_score_micro=f1_score(y_val, predicted, average='micro')\n",
    "    f1_score_weighted=f1_score(y_val, predicted, average='weighted')\n",
    "    precision_macro=average_precision_score(y_val, predicted, average='macro')\n",
    "    precision_micro=average_precision_score(y_val, predicted, average='micro')\n",
    "    precision_weighted=average_precision_score(y_val, predicted, average='weighted')\n",
    "    print(accuracy,f1_score_macro,f1_score_micro,f1_score_weighted,precision_macro,precision_micro,precision_weighted)\n"
   ]
  },
  {
   "cell_type": "code",
   "execution_count": 56,
   "metadata": {},
   "outputs": [
    {
     "name": "stdout",
     "output_type": "stream",
     "text": [
      "Bag-of-words\n",
      "0.3476 0.5110341521584254 0.6637483183276415 0.6408058847285402 0.34885043459014015 0.4699059405589153 0.5007572858055691\n"
     ]
    }
   ],
   "source": [
    "print('Bag-of-words')\n",
    "print_evaluation_scores(y_val, y_val_predicted_labels_mybag)"
   ]
  },
  {
   "cell_type": "code",
   "execution_count": null,
   "metadata": {},
   "outputs": [],
   "source": []
  },
  {
   "cell_type": "markdown",
   "metadata": {
    "colab_type": "text",
    "id": "9S3Ddz7LTGA3"
   },
   "source": [
    "## Task 4 (MultilabelClassification) - Optional \n",
    "** Once we have the evaluation set up, we suggest that you experiment a bit with training your classifiers. We will use *F1-score weighted* as an evaluation metric. Our recommendation:\n",
    "- compare the quality of the bag-of-words and TF-IDF approaches and chose one of them.\n",
    "- for the chosen one, try *L1* and *L2*-regularization techniques in Logistic Regression with different coefficients (e.g. C equal to 0.1, 1, 10, 100).\n",
    "\n"
   ]
  },
  {
   "cell_type": "code",
   "execution_count": null,
   "metadata": {},
   "outputs": [],
   "source": []
  },
  {
   "cell_type": "code",
   "execution_count": null,
   "metadata": {
    "colab": {},
    "colab_type": "code",
    "id": "Ers40KuOTGA4"
   },
   "outputs": [],
   "source": [
    "#executed in the above steps"
   ]
  },
  {
   "cell_type": "markdown",
   "metadata": {
    "colab_type": "text",
    "id": "mdqTO269TGA8"
   },
   "source": [
    "When you are happy with the quality, create predictions for *test* set."
   ]
  },
  {
   "cell_type": "code",
   "execution_count": 57,
   "metadata": {
    "colab": {},
    "colab_type": "code",
    "id": "M51F10f9TGBB"
   },
   "outputs": [],
   "source": [
    "test_predictions = classifier_mybag.predict(X_test_mybag)\n",
    "test_pred_inversed = mlb.inverse_transform(test_predictions)\n",
    "\n",
    "test_predictions_for_submission = '\\n'.join('%i\\t%s' % (i, ','.join(row)) for i, row in enumerate(test_pred_inversed))"
   ]
  },
  {
   "cell_type": "code",
   "execution_count": null,
   "metadata": {},
   "outputs": [],
   "source": []
  }
 ],
 "metadata": {
  "colab": {
   "collapsed_sections": [],
   "name": "Stats_NLP_Project_Questions.ipynb",
   "provenance": [],
   "version": "0.3.2"
  },
  "kernelspec": {
   "display_name": "Python 3",
   "language": "python",
   "name": "python3"
  },
  "language_info": {
   "codemirror_mode": {
    "name": "ipython",
    "version": 3
   },
   "file_extension": ".py",
   "mimetype": "text/x-python",
   "name": "python",
   "nbconvert_exporter": "python",
   "pygments_lexer": "ipython3",
   "version": "3.6.4"
  }
 },
 "nbformat": 4,
 "nbformat_minor": 1
}
