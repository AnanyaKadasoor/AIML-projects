{
 "cells": [
  {
   "cell_type": "markdown",
   "metadata": {
    "colab_type": "text",
    "id": "MyfMmMnPJjvn"
   },
   "source": [
    "## Train a simple convnet on the Fashion MNIST dataset"
   ]
  },
  {
   "cell_type": "markdown",
   "metadata": {
    "colab_type": "text",
    "id": "zjcGOJhcJjvp"
   },
   "source": [
    "In this, we will see how to deal with image data and train a convnet for image classification task."
   ]
  },
  {
   "cell_type": "markdown",
   "metadata": {
    "colab_type": "text",
    "id": "jR0Pl2XjJjvq"
   },
   "source": [
    "### Load the  `fashion_mnist`  dataset\n",
    "\n",
    "** Use keras.datasets to load the dataset **"
   ]
  },
  {
   "cell_type": "code",
   "execution_count": 1,
   "metadata": {
    "colab": {},
    "colab_type": "code",
    "id": "Qr75v_UYJjvs"
   },
   "outputs": [
    {
     "name": "stderr",
     "output_type": "stream",
     "text": [
      "C:\\ProgramData\\Anaconda3\\lib\\site-packages\\h5py\\__init__.py:36: FutureWarning: Conversion of the second argument of issubdtype from `float` to `np.floating` is deprecated. In future, it will be treated as `np.float64 == np.dtype(float).type`.\n",
      "  from ._conv import register_converters as _register_converters\n",
      "Using TensorFlow backend.\n"
     ]
    }
   ],
   "source": [
    "from keras.datasets import fashion_mnist\n",
    "(x_train, y_train), (x_test, y_test) = fashion_mnist.load_data()"
   ]
  },
  {
   "cell_type": "markdown",
   "metadata": {
    "colab_type": "text",
    "id": "hTI42-0qJjvw"
   },
   "source": [
    "### Find no.of samples are there in training and test datasets"
   ]
  },
  {
   "cell_type": "code",
   "execution_count": 4,
   "metadata": {
    "colab": {},
    "colab_type": "code",
    "id": "g2sf67VoJjvx"
   },
   "outputs": [
    {
     "name": "stdout",
     "output_type": "stream",
     "text": [
      "x_train samples: 60000\n",
      "y_train samples: (60000,)\n",
      "x_test samples: (10000, 28, 28)\n",
      "y_test samples: (10000,)\n"
     ]
    }
   ],
   "source": [
    "print(\"x_train samples:\",x_train.shape[0])\n",
    "print(\"y_train samples:\",y_train.shape[0])\n",
    "print(\"x_test samples:\",x_test.shape[0])\n",
    "print(\"y_test samples:\",y_test.shape[0])"
   ]
  },
  {
   "cell_type": "code",
   "execution_count": 0,
   "metadata": {
    "colab": {},
    "colab_type": "code",
    "id": "zewyDcBlJjv1"
   },
   "outputs": [],
   "source": [
    "\"\""
   ]
  },
  {
   "cell_type": "markdown",
   "metadata": {
    "colab_type": "text",
    "id": "WytT2eRnJjv4"
   },
   "source": [
    "### Find dimensions of an image in the dataset"
   ]
  },
  {
   "cell_type": "code",
   "execution_count": 6,
   "metadata": {
    "colab": {},
    "colab_type": "code",
    "id": "XycQGBSGJjv5"
   },
   "outputs": [
    {
     "name": "stdout",
     "output_type": "stream",
     "text": [
      "x_train samples: (60000, 28, 28)\n",
      "y_train samples: (60000,)\n",
      "x_test samples: (10000, 28, 28)\n",
      "y_test samples: (10000,)\n"
     ]
    }
   ],
   "source": [
    "print(\"x_train samples:\",x_train.shape)\n",
    "print(\"y_train samples:\",y_train.shape)\n",
    "print(\"x_test samples:\",x_test.shape)\n",
    "print(\"y_test samples:\",y_test.shape)"
   ]
  },
  {
   "cell_type": "markdown",
   "metadata": {
    "colab_type": "text",
    "id": "5jtdZ7RqJjv8"
   },
   "source": [
    "### Convert train and test labels to one hot vectors\n",
    "\n",
    "** check `keras.utils.to_categorical()` **"
   ]
  },
  {
   "cell_type": "code",
   "execution_count": 8,
   "metadata": {},
   "outputs": [],
   "source": [
    "import tensorflow as tf\n",
    "import keras"
   ]
  },
  {
   "cell_type": "code",
   "execution_count": 9,
   "metadata": {
    "colab": {},
    "colab_type": "code",
    "id": "sAD3q5I6Jjv9"
   },
   "outputs": [],
   "source": [
    "trainY = keras.utils.to_categorical(y_train)\n",
    "testY = keras.utils.to_categorical(y_test)"
   ]
  },
  {
   "cell_type": "code",
   "execution_count": 0,
   "metadata": {
    "colab": {},
    "colab_type": "code",
    "id": "mgHSCXy3JjwA"
   },
   "outputs": [],
   "source": []
  },
  {
   "cell_type": "markdown",
   "metadata": {
    "colab_type": "text",
    "id": "xO5BRBzBJjwD"
   },
   "source": [
    "### Normalize both the train and test image data from 0-255 to 0-1"
   ]
  },
  {
   "cell_type": "code",
   "execution_count": 10,
   "metadata": {
    "colab": {},
    "colab_type": "code",
    "id": "3fUQpMHxJjwE"
   },
   "outputs": [],
   "source": [
    "x_train = x_train / 255.0\n",
    "x_test = x_test / 255.0"
   ]
  },
  {
   "cell_type": "code",
   "execution_count": 0,
   "metadata": {
    "colab": {},
    "colab_type": "code",
    "id": "Okwo_SB5JjwI"
   },
   "outputs": [],
   "source": []
  },
  {
   "cell_type": "markdown",
   "metadata": {
    "colab_type": "text",
    "id": "da5-DwgrJjwM"
   },
   "source": [
    "### Reshape the data from 28x28 to 28x28x1 to match input dimensions in Conv2D layer in keras"
   ]
  },
  {
   "cell_type": "code",
   "execution_count": 13,
   "metadata": {},
   "outputs": [
    {
     "data": {
      "text/plain": [
       "(60000, 28, 28)"
      ]
     },
     "execution_count": 13,
     "metadata": {},
     "output_type": "execute_result"
    }
   ],
   "source": [
    "x_train.shape"
   ]
  },
  {
   "cell_type": "code",
   "execution_count": 14,
   "metadata": {},
   "outputs": [
    {
     "data": {
      "text/plain": [
       "(10000, 28, 28)"
      ]
     },
     "execution_count": 14,
     "metadata": {},
     "output_type": "execute_result"
    }
   ],
   "source": [
    "x_test.shape"
   ]
  },
  {
   "cell_type": "code",
   "execution_count": 17,
   "metadata": {
    "colab": {},
    "colab_type": "code",
    "id": "LPGVQ-JJJjwN"
   },
   "outputs": [
    {
     "name": "stdout",
     "output_type": "stream",
     "text": [
      "(60000, 784)\n",
      "(10000, 784)\n"
     ]
    }
   ],
   "source": [
    "x_train = x_train.reshape(60000, 784)\n",
    "print(x_train.shape)\n",
    "x_test = x_test.reshape(10000, 784)\n",
    "print(x_test.shape)"
   ]
  },
  {
   "cell_type": "markdown",
   "metadata": {
    "colab_type": "text",
    "id": "OFRRTJq8JjwQ"
   },
   "source": [
    "### Import the necessary layers from keras to build the model"
   ]
  },
  {
   "cell_type": "code",
   "execution_count": 19,
   "metadata": {
    "colab": {},
    "colab_type": "code",
    "id": "dWTZYnKSJjwR"
   },
   "outputs": [],
   "source": [
    "import warnings\n",
    "warnings.filterwarnings('ignore')\n",
    "from keras.layers import Dense\n",
    "from keras.models import Sequential\n",
    "from keras.optimizers import SGD\n",
    "import matplotlib.pyplot as plt\n",
    "%matplotlib inline\n",
    "from keras.layers import Reshape, Dense, Flatten, Dropout,MaxPooling2D, BatchNormalization"
   ]
  },
  {
   "cell_type": "code",
   "execution_count": 21,
   "metadata": {},
   "outputs": [],
   "source": [
    "model = Sequential()\n",
    "model.add(Dense(units=100,activation=\"relu\"))\n",
    "model.add(Dense(units=10,activation=\"softmax\"))\n",
    "model.compile(optimizer='sgd', loss='categorical_crossentropy', metrics=['accuracy'])"
   ]
  },
  {
   "cell_type": "code",
   "execution_count": 23,
   "metadata": {},
   "outputs": [
    {
     "name": "stdout",
     "output_type": "stream",
     "text": [
      "Train on 60000 samples, validate on 10000 samples\n",
      "Epoch 1/20\n",
      "60000/60000 [==============================] - 3s 56us/step - loss: 0.4835 - acc: 0.8363 - val_loss: 0.5091 - val_acc: 0.8265\n",
      "Epoch 2/20\n",
      "60000/60000 [==============================] - 3s 57us/step - loss: 0.4699 - acc: 0.8414 - val_loss: 0.5006 - val_acc: 0.8271\n",
      "Epoch 3/20\n",
      "60000/60000 [==============================] - 3s 55us/step - loss: 0.4591 - acc: 0.8435 - val_loss: 0.4857 - val_acc: 0.8311\n",
      "Epoch 4/20\n",
      "60000/60000 [==============================] - 4s 61us/step - loss: 0.4499 - acc: 0.8458 - val_loss: 0.4820 - val_acc: 0.8300\n",
      "Epoch 5/20\n",
      "60000/60000 [==============================] - 4s 63us/step - loss: 0.4419 - acc: 0.8485 - val_loss: 0.4727 - val_acc: 0.8346\n",
      "Epoch 6/20\n",
      "60000/60000 [==============================] - 4s 61us/step - loss: 0.4350 - acc: 0.8507 - val_loss: 0.4721 - val_acc: 0.8333\n",
      "Epoch 7/20\n",
      "60000/60000 [==============================] - 4s 61us/step - loss: 0.4290 - acc: 0.8528 - val_loss: 0.4620 - val_acc: 0.8381\n",
      "Epoch 8/20\n",
      "60000/60000 [==============================] - 3s 57us/step - loss: 0.4239 - acc: 0.8543 - val_loss: 0.4638 - val_acc: 0.8392\n",
      "Epoch 9/20\n",
      "60000/60000 [==============================] - 3s 55us/step - loss: 0.4187 - acc: 0.8559 - val_loss: 0.4532 - val_acc: 0.8423\n",
      "Epoch 10/20\n",
      "60000/60000 [==============================] - 3s 58us/step - loss: 0.4148 - acc: 0.8566 - val_loss: 0.4498 - val_acc: 0.8426\n",
      "Epoch 11/20\n",
      "60000/60000 [==============================] - 3s 57us/step - loss: 0.4100 - acc: 0.8585 - val_loss: 0.4444 - val_acc: 0.8465\n",
      "Epoch 12/20\n",
      "60000/60000 [==============================] - 3s 58us/step - loss: 0.4063 - acc: 0.8595 - val_loss: 0.4425 - val_acc: 0.8434\n",
      "Epoch 13/20\n",
      "60000/60000 [==============================] - 3s 56us/step - loss: 0.4024 - acc: 0.8610 - val_loss: 0.4369 - val_acc: 0.8464\n",
      "Epoch 14/20\n",
      "60000/60000 [==============================] - 3s 56us/step - loss: 0.3985 - acc: 0.8625 - val_loss: 0.4337 - val_acc: 0.8466\n",
      "Epoch 15/20\n",
      "60000/60000 [==============================] - 3s 57us/step - loss: 0.3954 - acc: 0.8630 - val_loss: 0.4355 - val_acc: 0.8470\n",
      "Epoch 16/20\n",
      "60000/60000 [==============================] - 4s 61us/step - loss: 0.3916 - acc: 0.8647 - val_loss: 0.4322 - val_acc: 0.8479\n",
      "Epoch 17/20\n",
      "60000/60000 [==============================] - 3s 57us/step - loss: 0.3891 - acc: 0.8659 - val_loss: 0.4263 - val_acc: 0.8508\n",
      "Epoch 18/20\n",
      "60000/60000 [==============================] - 4s 61us/step - loss: 0.3856 - acc: 0.8673 - val_loss: 0.4286 - val_acc: 0.8492\n",
      "Epoch 19/20\n",
      "60000/60000 [==============================] - 4s 75us/step - loss: 0.3837 - acc: 0.8676 - val_loss: 0.4222 - val_acc: 0.8518\n",
      "Epoch 20/20\n",
      "60000/60000 [==============================] - 4s 59us/step - loss: 0.3803 - acc: 0.8682 - val_loss: 0.4214 - val_acc: 0.8539\n"
     ]
    }
   ],
   "source": [
    "history = model.fit(x_train, trainY, \n",
    "          validation_data=(x_test, testY), \n",
    "          epochs=20,\n",
    "          batch_size=100)"
   ]
  },
  {
   "cell_type": "code",
   "execution_count": 24,
   "metadata": {},
   "outputs": [
    {
     "name": "stdout",
     "output_type": "stream",
     "text": [
      "[0.8362999985615412, 0.8414499976237615, 0.8435499982039134, 0.8457833313941956, 0.8485499999920527, 0.8507499986886978, 0.8527833325664202, 0.8542833318312962, 0.8558833316961925, 0.8565833322207133, 0.8584833339850108, 0.8595499997337659, 0.8610166651010513, 0.8625166656573614, 0.8630333326260249, 0.8646999989946683, 0.8659166666865349, 0.8673166670401891, 0.8676333335042, 0.8681833334763844]\n",
      "[0.826499999165535, 0.8270999968051911, 0.8310999953746796, 0.8299999994039535, 0.8345999991893769, 0.8332999992370606, 0.8380999982357025, 0.8391999983787537, 0.8423000031709671, 0.8425999951362609, 0.8464999979734421, 0.8433999979496002, 0.8463999956846238, 0.8466000002622605, 0.8469999963045121, 0.8478999996185302, 0.8508000004291535, 0.8491999953985214, 0.8517999970912933, 0.8539000004529953]\n"
     ]
    }
   ],
   "source": [
    "print(history.history['acc'])\n",
    "print(history.history['val_acc'])"
   ]
  },
  {
   "cell_type": "code",
   "execution_count": 25,
   "metadata": {},
   "outputs": [
    {
     "data": {
      "image/png": "[encoded data removed]",
      "text/plain": [
       "<matplotlib.figure.Figure at 0x281e30d8fd0>"
      ]
     },
     "metadata": {},
     "output_type": "display_data"
    }
   ],
   "source": [
    "plt.plot(history.history['acc'])\n",
    "plt.show()"
   ]
  },
  {
   "cell_type": "code",
   "execution_count": 26,
   "metadata": {},
   "outputs": [
    {
     "name": "stdout",
     "output_type": "stream",
     "text": [
      "Train on 60000 samples, validate on 10000 samples\n",
      "Epoch 1/20\n",
      "60000/60000 [==============================] - 5s 78us/step - loss: 0.5445 - acc: 0.8116 - val_loss: 0.4485 - val_acc: 0.8413\n",
      "Epoch 2/20\n",
      "60000/60000 [==============================] - 4s 66us/step - loss: 0.4013 - acc: 0.8585 - val_loss: 0.4025 - val_acc: 0.8601\n",
      "Epoch 3/20\n",
      "60000/60000 [==============================] - 4s 65us/step - loss: 0.3611 - acc: 0.8711 - val_loss: 0.3898 - val_acc: 0.8616\n",
      "Epoch 4/20\n",
      "60000/60000 [==============================] - 4s 66us/step - loss: 0.3373 - acc: 0.8787 - val_loss: 0.3734 - val_acc: 0.8673\n",
      "Epoch 5/20\n",
      "60000/60000 [==============================] - 4s 67us/step - loss: 0.3198 - acc: 0.8852 - val_loss: 0.3608 - val_acc: 0.8721\n",
      "Epoch 6/20\n",
      "60000/60000 [==============================] - 4s 66us/step - loss: 0.3038 - acc: 0.8897 - val_loss: 0.3439 - val_acc: 0.8772\n",
      "Epoch 7/20\n",
      "60000/60000 [==============================] - 4s 71us/step - loss: 0.2905 - acc: 0.8947 - val_loss: 0.3699 - val_acc: 0.8695\n",
      "Epoch 8/20\n",
      "60000/60000 [==============================] - 5s 79us/step - loss: 0.2802 - acc: 0.8968 - val_loss: 0.3517 - val_acc: 0.8766\n",
      "Epoch 9/20\n",
      "60000/60000 [==============================] - 3s 49us/step - loss: 0.2706 - acc: 0.9006 - val_loss: 0.3404 - val_acc: 0.8796\n",
      "Epoch 10/20\n",
      "60000/60000 [==============================] - 3s 43us/step - loss: 0.2629 - acc: 0.9041 - val_loss: 0.3286 - val_acc: 0.8816\n",
      "Epoch 11/20\n",
      "60000/60000 [==============================] - 2s 36us/step - loss: 0.2532 - acc: 0.9067 - val_loss: 0.3463 - val_acc: 0.8774\n",
      "Epoch 12/20\n",
      "60000/60000 [==============================] - 2s 33us/step - loss: 0.2471 - acc: 0.9093 - val_loss: 0.3361 - val_acc: 0.8791\n",
      "Epoch 13/20\n",
      "60000/60000 [==============================] - 2s 33us/step - loss: 0.2422 - acc: 0.9091 - val_loss: 0.3372 - val_acc: 0.8845\n",
      "Epoch 14/20\n",
      "60000/60000 [==============================] - 2s 33us/step - loss: 0.2348 - acc: 0.9127 - val_loss: 0.3413 - val_acc: 0.8781\n",
      "Epoch 15/20\n",
      "60000/60000 [==============================] - 2s 32us/step - loss: 0.2268 - acc: 0.9158 - val_loss: 0.3222 - val_acc: 0.8869\n",
      "Epoch 16/20\n",
      "60000/60000 [==============================] - 2s 33us/step - loss: 0.2222 - acc: 0.9181 - val_loss: 0.3289 - val_acc: 0.8848\n",
      "Epoch 17/20\n",
      "60000/60000 [==============================] - 2s 33us/step - loss: 0.2177 - acc: 0.9199 - val_loss: 0.3213 - val_acc: 0.8882\n",
      "Epoch 18/20\n",
      "60000/60000 [==============================] - 2s 33us/step - loss: 0.2119 - acc: 0.9218 - val_loss: 0.3441 - val_acc: 0.8761\n",
      "Epoch 19/20\n",
      "60000/60000 [==============================] - 2s 33us/step - loss: 0.2067 - acc: 0.9235 - val_loss: 0.3502 - val_acc: 0.8850\n",
      "Epoch 20/20\n",
      "60000/60000 [==============================] - 2s 32us/step - loss: 0.2041 - acc: 0.9236 - val_loss: 0.3393 - val_acc: 0.8835\n",
      "[0.8115833321958781, 0.8585499987999599, 0.8711499992012978, 0.8786999997496605, 0.8852333324154218, 0.8897166669368743, 0.8947333325942357, 0.8968166688084602, 0.9005500010649363, 0.9041333339611689, 0.9066666671633721, 0.9093000017603239, 0.909133335351944, 0.9126833350459734, 0.9157500018676122, 0.9181166688601176, 0.9198833365241686, 0.9217833346128463, 0.9235333369175593, 0.923566669523716]\n",
      "[0.8413000005483627, 0.8600999987125397, 0.8615999972820282, 0.867299998998642, 0.8721000039577484, 0.8771999984979629, 0.8694999986886978, 0.8766000002622605, 0.8796000021696091, 0.8815999984741211, 0.8774000006914139, 0.8791000020503997, 0.8844999986886978, 0.8780999994277954, 0.8868999993801117, 0.8847999995946885, 0.888199999332428, 0.8760999995470047, 0.8849999970197677, 0.8834999990463257]\n"
     ]
    },
    {
     "data": {
      "image/png": "[encoded data removed]",
      "text/plain": [
       "<matplotlib.figure.Figure at 0x281dabda780>"
      ]
     },
     "metadata": {},
     "output_type": "display_data"
    }
   ],
   "source": [
    "#with adam optimizer\n",
    "model = Sequential()\n",
    "model.add(Dense(units=100,activation=\"relu\"))\n",
    "model.add(Dense(units=10,activation=\"softmax\"))\n",
    "model.compile(optimizer='adam', loss='categorical_crossentropy', metrics=['accuracy'])\n",
    "history = model.fit(x_train, trainY, \n",
    "          validation_data=(x_test, testY), \n",
    "          epochs=20,\n",
    "          batch_size=100)\n",
    "print(history.history['acc'])\n",
    "print(history.history['val_acc'])\n",
    "plt.plot(history.history['acc'])\n",
    "plt.show()"
   ]
  },
  {
   "cell_type": "code",
   "execution_count": 32,
   "metadata": {},
   "outputs": [],
   "source": [
    "from keras.utils.vis_utils import plot_model"
   ]
  },
  {
   "cell_type": "code",
   "execution_count": 38,
   "metadata": {},
   "outputs": [],
   "source": [
    "plot_model(model, to_file='model_plot.png', show_shapes=True, show_layer_names=True)"
   ]
  },
  {
   "cell_type": "code",
   "execution_count": 42,
   "metadata": {},
   "outputs": [
    {
     "data": {
      "image/svg+xml": [
       "<svg height=\"211pt\" viewBox=\"0.00 0.00 251.00 211.00\" width=\"251pt\" xmlns=\"http://www.w3.org/2000/svg\" xmlns:xlink=\"http://www.w3.org/1999/xlink\">\n",
       "<g class=\"graph\" id=\"graph0\" transform=\"scale(1 1) rotate(0) translate(4 207)\">\n",
       "<title>G</title>\n",
       "<polygon fill=\"white\" points=\"-4,4 -4,-207 247,-207 247,4 -4,4\" stroke=\"none\"/>\n",
       "<!-- 2756897163416 -->\n",
       "<g class=\"node\" id=\"node1\"><title>2756897163416</title>\n",
       "<polygon fill=\"none\" points=\"0,-83.5 0,-129.5 243,-129.5 243,-83.5 0,-83.5\" stroke=\"black\"/>\n",
       "<text font-family=\"Times New Roman,serif\" font-size=\"14.00\" text-anchor=\"middle\" x=\"52\" y=\"-102.8\">dense_5: Dense</text>\n",
       "<polyline fill=\"none\" points=\"104,-83.5 104,-129.5 \" stroke=\"black\"/>\n",
       "<text font-family=\"Times New Roman,serif\" font-size=\"14.00\" text-anchor=\"middle\" x=\"132\" y=\"-114.3\">input:</text>\n",
       "<polyline fill=\"none\" points=\"104,-106.5 160,-106.5 \" stroke=\"black\"/>\n",
       "<text font-family=\"Times New Roman,serif\" font-size=\"14.00\" text-anchor=\"middle\" x=\"132\" y=\"-91.3\">output:</text>\n",
       "<polyline fill=\"none\" points=\"160,-83.5 160,-129.5 \" stroke=\"black\"/>\n",
       "<text font-family=\"Times New Roman,serif\" font-size=\"14.00\" text-anchor=\"middle\" x=\"201.5\" y=\"-114.3\">(None, 784)</text>\n",
       "<polyline fill=\"none\" points=\"160,-106.5 243,-106.5 \" stroke=\"black\"/>\n",
       "<text font-family=\"Times New Roman,serif\" font-size=\"14.00\" text-anchor=\"middle\" x=\"201.5\" y=\"-91.3\">(None, 100)</text>\n",
       "</g>\n",
       "<!-- 2756897164368 -->\n",
       "<g class=\"node\" id=\"node2\"><title>2756897164368</title>\n",
       "<polygon fill=\"none\" points=\"0,-0.5 0,-46.5 243,-46.5 243,-0.5 0,-0.5\" stroke=\"black\"/>\n",
       "<text font-family=\"Times New Roman,serif\" font-size=\"14.00\" text-anchor=\"middle\" x=\"52\" y=\"-19.8\">dense_6: Dense</text>\n",
       "<polyline fill=\"none\" points=\"104,-0.5 104,-46.5 \" stroke=\"black\"/>\n",
       "<text font-family=\"Times New Roman,serif\" font-size=\"14.00\" text-anchor=\"middle\" x=\"132\" y=\"-31.3\">input:</text>\n",
       "<polyline fill=\"none\" points=\"104,-23.5 160,-23.5 \" stroke=\"black\"/>\n",
       "<text font-family=\"Times New Roman,serif\" font-size=\"14.00\" text-anchor=\"middle\" x=\"132\" y=\"-8.3\">output:</text>\n",
       "<polyline fill=\"none\" points=\"160,-0.5 160,-46.5 \" stroke=\"black\"/>\n",
       "<text font-family=\"Times New Roman,serif\" font-size=\"14.00\" text-anchor=\"middle\" x=\"201.5\" y=\"-31.3\">(None, 100)</text>\n",
       "<polyline fill=\"none\" points=\"160,-23.5 243,-23.5 \" stroke=\"black\"/>\n",
       "<text font-family=\"Times New Roman,serif\" font-size=\"14.00\" text-anchor=\"middle\" x=\"201.5\" y=\"-8.3\">(None, 10)</text>\n",
       "</g>\n",
       "<!-- 2756897163416&#45;&gt;2756897164368 -->\n",
       "<g class=\"edge\" id=\"edge2\"><title>2756897163416-&gt;2756897164368</title>\n",
       "<path d=\"M121.5,-83.3664C121.5,-75.1516 121.5,-65.6579 121.5,-56.7252\" fill=\"none\" stroke=\"black\"/>\n",
       "<polygon fill=\"black\" points=\"125,-56.6068 121.5,-46.6068 118,-56.6069 125,-56.6068\" stroke=\"black\"/>\n",
       "</g>\n",
       "<!-- 2756897366088 -->\n",
       "<g class=\"node\" id=\"node3\"><title>2756897366088</title>\n",
       "<polygon fill=\"none\" points=\"69.5,-166.5 69.5,-202.5 173.5,-202.5 173.5,-166.5 69.5,-166.5\" stroke=\"black\"/>\n",
       "<text font-family=\"Times New Roman,serif\" font-size=\"14.00\" text-anchor=\"middle\" x=\"121.5\" y=\"-180.8\">2756897366088</text>\n",
       "</g>\n",
       "<!-- 2756897366088&#45;&gt;2756897163416 -->\n",
       "<g class=\"edge\" id=\"edge1\"><title>2756897366088-&gt;2756897163416</title>\n",
       "<path d=\"M121.5,-166.254C121.5,-158.363 121.5,-148.749 121.5,-139.602\" fill=\"none\" stroke=\"black\"/>\n",
       "<polygon fill=\"black\" points=\"125,-139.591 121.5,-129.591 118,-139.591 125,-139.591\" stroke=\"black\"/>\n",
       "</g>\n",
       "</g>\n",
       "</svg>"
      ],
      "text/plain": [
       "<IPython.core.display.SVG object>"
      ]
     },
     "execution_count": 42,
     "metadata": {},
     "output_type": "execute_result"
    }
   ],
   "source": [
    "\n",
    "from IPython.display import SVG\n",
    "from keras.utils.vis_utils import model_to_dot\n",
    "\n",
    "SVG(model_to_dot(model,show_shapes = True).create(prog='dot', format='svg'))"
   ]
  },
  {
   "cell_type": "markdown",
   "metadata": {},
   "source": [
    "#### Applying Relu and Drop out"
   ]
  },
  {
   "cell_type": "code",
   "execution_count": 43,
   "metadata": {},
   "outputs": [],
   "source": [
    "#Hidden layers\n",
    "model.add(keras.layers.Dense(200, activation='relu', name='Layer_1'))\n",
    "model.add(keras.layers.Dense(100, activation='relu', name='Layer_2'))\n",
    "\n",
    "#Dropout layer\n",
    "model.add(keras.layers.Dropout(0.5))\n",
    "\n",
    "#Hidden layers\n",
    "model.add(keras.layers.Dense(60, activation='relu', name='Layer_3'))\n",
    "model.add(keras.layers.Dense(30, activation='relu', name='Layer_4'))\n",
    "\n",
    "#Dropout layer\n",
    "model.add(keras.layers.Dropout(0.3))\n",
    "\n",
    "#Output layer\n",
    "model.add(keras.layers.Dense(10, activation='softmax', name='Output'))\n",
    "\n",
    "model.compile(optimizer='adam', loss='categorical_crossentropy', metrics=['accuracy'])\n"
   ]
  },
  {
   "cell_type": "code",
   "execution_count": 44,
   "metadata": {},
   "outputs": [
    {
     "name": "stdout",
     "output_type": "stream",
     "text": [
      "Train on 60000 samples, validate on 10000 samples\n",
      "Epoch 1/30\n",
      "60000/60000 [==============================] - 12s 206us/step - loss: 0.4809 - acc: 0.8763 - val_loss: 0.4348 - val_acc: 0.8732\n",
      "Epoch 2/30\n",
      "60000/60000 [==============================] - 11s 191us/step - loss: 0.3482 - acc: 0.8990 - val_loss: 0.4598 - val_acc: 0.8551\n",
      "Epoch 3/30\n",
      "60000/60000 [==============================] - 11s 185us/step - loss: 0.3285 - acc: 0.9012 - val_loss: 0.3996 - val_acc: 0.8684\n",
      "Epoch 4/30\n",
      "60000/60000 [==============================] - 12s 200us/step - loss: 0.3139 - acc: 0.9027 - val_loss: 0.4603 - val_acc: 0.8557\n",
      "Epoch 5/30\n",
      "60000/60000 [==============================] - 12s 195us/step - loss: 0.2998 - acc: 0.9045 - val_loss: 0.4060 - val_acc: 0.8761\n",
      "Epoch 6/30\n",
      "60000/60000 [==============================] - 13s 212us/step - loss: 0.2959 - acc: 0.9046 - val_loss: 0.4338 - val_acc: 0.8765\n",
      "Epoch 7/30\n",
      "60000/60000 [==============================] - 12s 198us/step - loss: 0.2890 - acc: 0.9065 - val_loss: 0.4487 - val_acc: 0.8773\n",
      "Epoch 8/30\n",
      "60000/60000 [==============================] - 11s 187us/step - loss: 0.2817 - acc: 0.9083 - val_loss: 0.4201 - val_acc: 0.8779\n",
      "Epoch 9/30\n",
      "60000/60000 [==============================] - 12s 197us/step - loss: 0.2772 - acc: 0.9095 - val_loss: 0.3962 - val_acc: 0.8783\n",
      "Epoch 10/30\n",
      "60000/60000 [==============================] - 12s 192us/step - loss: 0.2777 - acc: 0.9113 - val_loss: 0.3768 - val_acc: 0.8827\n",
      "Epoch 11/30\n",
      "60000/60000 [==============================] - 11s 188us/step - loss: 0.2644 - acc: 0.9153 - val_loss: 0.3880 - val_acc: 0.8793\n",
      "Epoch 12/30\n",
      "60000/60000 [==============================] - 11s 188us/step - loss: 0.2684 - acc: 0.9115 - val_loss: 0.4414 - val_acc: 0.8661\n",
      "Epoch 13/30\n",
      "60000/60000 [==============================] - 11s 188us/step - loss: 0.2589 - acc: 0.9143 - val_loss: 0.3997 - val_acc: 0.8784\n",
      "Epoch 14/30\n",
      "60000/60000 [==============================] - 11s 186us/step - loss: 0.2524 - acc: 0.9159 - val_loss: 0.4024 - val_acc: 0.8827\n",
      "Epoch 15/30\n",
      "60000/60000 [==============================] - 12s 194us/step - loss: 0.2549 - acc: 0.9162 - val_loss: 0.3987 - val_acc: 0.8852\n",
      "Epoch 16/30\n",
      "60000/60000 [==============================] - 11s 190us/step - loss: 0.2536 - acc: 0.9172 - val_loss: 0.4091 - val_acc: 0.8845\n",
      "Epoch 17/30\n",
      "60000/60000 [==============================] - 15s 250us/step - loss: 0.2500 - acc: 0.9177 - val_loss: 0.4054 - val_acc: 0.8848\n",
      "Epoch 18/30\n",
      "60000/60000 [==============================] - 13s 210us/step - loss: 0.2462 - acc: 0.9180 - val_loss: 0.4071 - val_acc: 0.8819\n",
      "Epoch 19/30\n",
      "60000/60000 [==============================] - 11s 187us/step - loss: 0.2446 - acc: 0.9179 - val_loss: 0.4366 - val_acc: 0.8766\n",
      "Epoch 20/30\n",
      "60000/60000 [==============================] - 12s 193us/step - loss: 0.2389 - acc: 0.9210 - val_loss: 0.3977 - val_acc: 0.8832\n",
      "Epoch 21/30\n",
      "60000/60000 [==============================] - 15s 252us/step - loss: 0.2443 - acc: 0.9198 - val_loss: 0.4002 - val_acc: 0.8838\n",
      "Epoch 22/30\n",
      "60000/60000 [==============================] - 12s 199us/step - loss: 0.2337 - acc: 0.9215 - val_loss: 0.4006 - val_acc: 0.8897\n",
      "Epoch 23/30\n",
      "60000/60000 [==============================] - 11s 186us/step - loss: 0.2344 - acc: 0.9221 - val_loss: 0.4370 - val_acc: 0.8723\n",
      "Epoch 24/30\n",
      "60000/60000 [==============================] - 11s 190us/step - loss: 0.2276 - acc: 0.9237 - val_loss: 0.4125 - val_acc: 0.8838\n",
      "Epoch 25/30\n",
      "60000/60000 [==============================] - 12s 196us/step - loss: 0.2330 - acc: 0.9224 - val_loss: 0.4201 - val_acc: 0.8738\n",
      "Epoch 26/30\n",
      "60000/60000 [==============================] - 14s 229us/step - loss: 0.2279 - acc: 0.9247 - val_loss: 0.4269 - val_acc: 0.8753\n",
      "Epoch 27/30\n",
      "60000/60000 [==============================] - 12s 201us/step - loss: 0.2213 - acc: 0.9259 - val_loss: 0.4136 - val_acc: 0.8820\n",
      "Epoch 28/30\n",
      "60000/60000 [==============================] - 11s 189us/step - loss: 0.2286 - acc: 0.9244 - val_loss: 0.4288 - val_acc: 0.8842\n",
      "Epoch 29/30\n",
      "60000/60000 [==============================] - 11s 190us/step - loss: 0.2135 - acc: 0.9291 - val_loss: 0.4059 - val_acc: 0.8890\n",
      "Epoch 30/30\n",
      "60000/60000 [==============================] - 11s 184us/step - loss: 0.2172 - acc: 0.9273 - val_loss: 0.4602 - val_acc: 0.8800\n"
     ]
    },
    {
     "data": {
      "text/plain": [
       "<keras.callbacks.History at 0x281e529a898>"
      ]
     },
     "execution_count": 44,
     "metadata": {},
     "output_type": "execute_result"
    }
   ],
   "source": [
    "#Train the model\n",
    "model.fit(x_train,trainY,          \n",
    "          validation_data=(x_test,testY),\n",
    "          epochs=30,\n",
    "          batch_size=32)"
   ]
  },
  {
   "cell_type": "code",
   "execution_count": 46,
   "metadata": {},
   "outputs": [
    {
     "data": {
      "image/svg+xml": [
       "<svg height=\"792pt\" viewBox=\"0.00 0.00 277.00 792.00\" width=\"277pt\" xmlns=\"http://www.w3.org/2000/svg\" xmlns:xlink=\"http://www.w3.org/1999/xlink\">\n",
       "<g class=\"graph\" id=\"graph0\" transform=\"scale(1 1) rotate(0) translate(4 788)\">\n",
       "<title>G</title>\n",
       "<polygon fill=\"white\" points=\"-4,4 -4,-788 273,-788 273,4 -4,4\" stroke=\"none\"/>\n",
       "<!-- 2756897163416 -->\n",
       "<g class=\"node\" id=\"node1\"><title>2756897163416</title>\n",
       "<polygon fill=\"none\" points=\"13,-664.5 13,-710.5 256,-710.5 256,-664.5 13,-664.5\" stroke=\"black\"/>\n",
       "<text font-family=\"Times New Roman,serif\" font-size=\"14.00\" text-anchor=\"middle\" x=\"65\" y=\"-683.8\">dense_5: Dense</text>\n",
       "<polyline fill=\"none\" points=\"117,-664.5 117,-710.5 \" stroke=\"black\"/>\n",
       "<text font-family=\"Times New Roman,serif\" font-size=\"14.00\" text-anchor=\"middle\" x=\"145\" y=\"-695.3\">input:</text>\n",
       "<polyline fill=\"none\" points=\"117,-687.5 173,-687.5 \" stroke=\"black\"/>\n",
       "<text font-family=\"Times New Roman,serif\" font-size=\"14.00\" text-anchor=\"middle\" x=\"145\" y=\"-672.3\">output:</text>\n",
       "<polyline fill=\"none\" points=\"173,-664.5 173,-710.5 \" stroke=\"black\"/>\n",
       "<text font-family=\"Times New Roman,serif\" font-size=\"14.00\" text-anchor=\"middle\" x=\"214.5\" y=\"-695.3\">(None, 784)</text>\n",
       "<polyline fill=\"none\" points=\"173,-687.5 256,-687.5 \" stroke=\"black\"/>\n",
       "<text font-family=\"Times New Roman,serif\" font-size=\"14.00\" text-anchor=\"middle\" x=\"214.5\" y=\"-672.3\">(None, 100)</text>\n",
       "</g>\n",
       "<!-- 2756897164368 -->\n",
       "<g class=\"node\" id=\"node2\"><title>2756897164368</title>\n",
       "<polygon fill=\"none\" points=\"13,-581.5 13,-627.5 256,-627.5 256,-581.5 13,-581.5\" stroke=\"black\"/>\n",
       "<text font-family=\"Times New Roman,serif\" font-size=\"14.00\" text-anchor=\"middle\" x=\"65\" y=\"-600.8\">dense_6: Dense</text>\n",
       "<polyline fill=\"none\" points=\"117,-581.5 117,-627.5 \" stroke=\"black\"/>\n",
       "<text font-family=\"Times New Roman,serif\" font-size=\"14.00\" text-anchor=\"middle\" x=\"145\" y=\"-612.3\">input:</text>\n",
       "<polyline fill=\"none\" points=\"117,-604.5 173,-604.5 \" stroke=\"black\"/>\n",
       "<text font-family=\"Times New Roman,serif\" font-size=\"14.00\" text-anchor=\"middle\" x=\"145\" y=\"-589.3\">output:</text>\n",
       "<polyline fill=\"none\" points=\"173,-581.5 173,-627.5 \" stroke=\"black\"/>\n",
       "<text font-family=\"Times New Roman,serif\" font-size=\"14.00\" text-anchor=\"middle\" x=\"214.5\" y=\"-612.3\">(None, 100)</text>\n",
       "<polyline fill=\"none\" points=\"173,-604.5 256,-604.5 \" stroke=\"black\"/>\n",
       "<text font-family=\"Times New Roman,serif\" font-size=\"14.00\" text-anchor=\"middle\" x=\"214.5\" y=\"-589.3\">(None, 10)</text>\n",
       "</g>\n",
       "<!-- 2756897163416&#45;&gt;2756897164368 -->\n",
       "<g class=\"edge\" id=\"edge2\"><title>2756897163416-&gt;2756897164368</title>\n",
       "<path d=\"M134.5,-664.366C134.5,-656.152 134.5,-646.658 134.5,-637.725\" fill=\"none\" stroke=\"black\"/>\n",
       "<polygon fill=\"black\" points=\"138,-637.607 134.5,-627.607 131,-637.607 138,-637.607\" stroke=\"black\"/>\n",
       "</g>\n",
       "<!-- 2756918762912 -->\n",
       "<g class=\"node\" id=\"node3\"><title>2756918762912</title>\n",
       "<polygon fill=\"none\" points=\"13,-498.5 13,-544.5 256,-544.5 256,-498.5 13,-498.5\" stroke=\"black\"/>\n",
       "<text font-family=\"Times New Roman,serif\" font-size=\"14.00\" text-anchor=\"middle\" x=\"65\" y=\"-517.8\">Layer_1: Dense</text>\n",
       "<polyline fill=\"none\" points=\"117,-498.5 117,-544.5 \" stroke=\"black\"/>\n",
       "<text font-family=\"Times New Roman,serif\" font-size=\"14.00\" text-anchor=\"middle\" x=\"145\" y=\"-529.3\">input:</text>\n",
       "<polyline fill=\"none\" points=\"117,-521.5 173,-521.5 \" stroke=\"black\"/>\n",
       "<text font-family=\"Times New Roman,serif\" font-size=\"14.00\" text-anchor=\"middle\" x=\"145\" y=\"-506.3\">output:</text>\n",
       "<polyline fill=\"none\" points=\"173,-498.5 173,-544.5 \" stroke=\"black\"/>\n",
       "<text font-family=\"Times New Roman,serif\" font-size=\"14.00\" text-anchor=\"middle\" x=\"214.5\" y=\"-529.3\">(None, 10)</text>\n",
       "<polyline fill=\"none\" points=\"173,-521.5 256,-521.5 \" stroke=\"black\"/>\n",
       "<text font-family=\"Times New Roman,serif\" font-size=\"14.00\" text-anchor=\"middle\" x=\"214.5\" y=\"-506.3\">(None, 200)</text>\n",
       "</g>\n",
       "<!-- 2756897164368&#45;&gt;2756918762912 -->\n",
       "<g class=\"edge\" id=\"edge3\"><title>2756897164368-&gt;2756918762912</title>\n",
       "<path d=\"M134.5,-581.366C134.5,-573.152 134.5,-563.658 134.5,-554.725\" fill=\"none\" stroke=\"black\"/>\n",
       "<polygon fill=\"black\" points=\"138,-554.607 134.5,-544.607 131,-554.607 138,-554.607\" stroke=\"black\"/>\n",
       "</g>\n",
       "<!-- 2756918762968 -->\n",
       "<g class=\"node\" id=\"node4\"><title>2756918762968</title>\n",
       "<polygon fill=\"none\" points=\"13,-415.5 13,-461.5 256,-461.5 256,-415.5 13,-415.5\" stroke=\"black\"/>\n",
       "<text font-family=\"Times New Roman,serif\" font-size=\"14.00\" text-anchor=\"middle\" x=\"65\" y=\"-434.8\">Layer_2: Dense</text>\n",
       "<polyline fill=\"none\" points=\"117,-415.5 117,-461.5 \" stroke=\"black\"/>\n",
       "<text font-family=\"Times New Roman,serif\" font-size=\"14.00\" text-anchor=\"middle\" x=\"145\" y=\"-446.3\">input:</text>\n",
       "<polyline fill=\"none\" points=\"117,-438.5 173,-438.5 \" stroke=\"black\"/>\n",
       "<text font-family=\"Times New Roman,serif\" font-size=\"14.00\" text-anchor=\"middle\" x=\"145\" y=\"-423.3\">output:</text>\n",
       "<polyline fill=\"none\" points=\"173,-415.5 173,-461.5 \" stroke=\"black\"/>\n",
       "<text font-family=\"Times New Roman,serif\" font-size=\"14.00\" text-anchor=\"middle\" x=\"214.5\" y=\"-446.3\">(None, 200)</text>\n",
       "<polyline fill=\"none\" points=\"173,-438.5 256,-438.5 \" stroke=\"black\"/>\n",
       "<text font-family=\"Times New Roman,serif\" font-size=\"14.00\" text-anchor=\"middle\" x=\"214.5\" y=\"-423.3\">(None, 100)</text>\n",
       "</g>\n",
       "<!-- 2756918762912&#45;&gt;2756918762968 -->\n",
       "<g class=\"edge\" id=\"edge4\"><title>2756918762912-&gt;2756918762968</title>\n",
       "<path d=\"M134.5,-498.366C134.5,-490.152 134.5,-480.658 134.5,-471.725\" fill=\"none\" stroke=\"black\"/>\n",
       "<polygon fill=\"black\" points=\"138,-471.607 134.5,-461.607 131,-471.607 138,-471.607\" stroke=\"black\"/>\n",
       "</g>\n",
       "<!-- 2756918762632 -->\n",
       "<g class=\"node\" id=\"node5\"><title>2756918762632</title>\n",
       "<polygon fill=\"none\" points=\"0,-332.5 0,-378.5 269,-378.5 269,-332.5 0,-332.5\" stroke=\"black\"/>\n",
       "<text font-family=\"Times New Roman,serif\" font-size=\"14.00\" text-anchor=\"middle\" x=\"65\" y=\"-351.8\">dropout_1: Dropout</text>\n",
       "<polyline fill=\"none\" points=\"130,-332.5 130,-378.5 \" stroke=\"black\"/>\n",
       "<text font-family=\"Times New Roman,serif\" font-size=\"14.00\" text-anchor=\"middle\" x=\"158\" y=\"-363.3\">input:</text>\n",
       "<polyline fill=\"none\" points=\"130,-355.5 186,-355.5 \" stroke=\"black\"/>\n",
       "<text font-family=\"Times New Roman,serif\" font-size=\"14.00\" text-anchor=\"middle\" x=\"158\" y=\"-340.3\">output:</text>\n",
       "<polyline fill=\"none\" points=\"186,-332.5 186,-378.5 \" stroke=\"black\"/>\n",
       "<text font-family=\"Times New Roman,serif\" font-size=\"14.00\" text-anchor=\"middle\" x=\"227.5\" y=\"-363.3\">(None, 100)</text>\n",
       "<polyline fill=\"none\" points=\"186,-355.5 269,-355.5 \" stroke=\"black\"/>\n",
       "<text font-family=\"Times New Roman,serif\" font-size=\"14.00\" text-anchor=\"middle\" x=\"227.5\" y=\"-340.3\">(None, 100)</text>\n",
       "</g>\n",
       "<!-- 2756918762968&#45;&gt;2756918762632 -->\n",
       "<g class=\"edge\" id=\"edge5\"><title>2756918762968-&gt;2756918762632</title>\n",
       "<path d=\"M134.5,-415.366C134.5,-407.152 134.5,-397.658 134.5,-388.725\" fill=\"none\" stroke=\"black\"/>\n",
       "<polygon fill=\"black\" points=\"138,-388.607 134.5,-378.607 131,-388.607 138,-388.607\" stroke=\"black\"/>\n",
       "</g>\n",
       "<!-- 2756918759888 -->\n",
       "<g class=\"node\" id=\"node6\"><title>2756918759888</title>\n",
       "<polygon fill=\"none\" points=\"13,-249.5 13,-295.5 256,-295.5 256,-249.5 13,-249.5\" stroke=\"black\"/>\n",
       "<text font-family=\"Times New Roman,serif\" font-size=\"14.00\" text-anchor=\"middle\" x=\"65\" y=\"-268.8\">Layer_3: Dense</text>\n",
       "<polyline fill=\"none\" points=\"117,-249.5 117,-295.5 \" stroke=\"black\"/>\n",
       "<text font-family=\"Times New Roman,serif\" font-size=\"14.00\" text-anchor=\"middle\" x=\"145\" y=\"-280.3\">input:</text>\n",
       "<polyline fill=\"none\" points=\"117,-272.5 173,-272.5 \" stroke=\"black\"/>\n",
       "<text font-family=\"Times New Roman,serif\" font-size=\"14.00\" text-anchor=\"middle\" x=\"145\" y=\"-257.3\">output:</text>\n",
       "<polyline fill=\"none\" points=\"173,-249.5 173,-295.5 \" stroke=\"black\"/>\n",
       "<text font-family=\"Times New Roman,serif\" font-size=\"14.00\" text-anchor=\"middle\" x=\"214.5\" y=\"-280.3\">(None, 100)</text>\n",
       "<polyline fill=\"none\" points=\"173,-272.5 256,-272.5 \" stroke=\"black\"/>\n",
       "<text font-family=\"Times New Roman,serif\" font-size=\"14.00\" text-anchor=\"middle\" x=\"214.5\" y=\"-257.3\">(None, 60)</text>\n",
       "</g>\n",
       "<!-- 2756918762632&#45;&gt;2756918759888 -->\n",
       "<g class=\"edge\" id=\"edge6\"><title>2756918762632-&gt;2756918759888</title>\n",
       "<path d=\"M134.5,-332.366C134.5,-324.152 134.5,-314.658 134.5,-305.725\" fill=\"none\" stroke=\"black\"/>\n",
       "<polygon fill=\"black\" points=\"138,-305.607 134.5,-295.607 131,-305.607 138,-305.607\" stroke=\"black\"/>\n",
       "</g>\n",
       "<!-- 2756918762352 -->\n",
       "<g class=\"node\" id=\"node7\"><title>2756918762352</title>\n",
       "<polygon fill=\"none\" points=\"16,-166.5 16,-212.5 253,-212.5 253,-166.5 16,-166.5\" stroke=\"black\"/>\n",
       "<text font-family=\"Times New Roman,serif\" font-size=\"14.00\" text-anchor=\"middle\" x=\"68\" y=\"-185.8\">Layer_4: Dense</text>\n",
       "<polyline fill=\"none\" points=\"120,-166.5 120,-212.5 \" stroke=\"black\"/>\n",
       "<text font-family=\"Times New Roman,serif\" font-size=\"14.00\" text-anchor=\"middle\" x=\"148\" y=\"-197.3\">input:</text>\n",
       "<polyline fill=\"none\" points=\"120,-189.5 176,-189.5 \" stroke=\"black\"/>\n",
       "<text font-family=\"Times New Roman,serif\" font-size=\"14.00\" text-anchor=\"middle\" x=\"148\" y=\"-174.3\">output:</text>\n",
       "<polyline fill=\"none\" points=\"176,-166.5 176,-212.5 \" stroke=\"black\"/>\n",
       "<text font-family=\"Times New Roman,serif\" font-size=\"14.00\" text-anchor=\"middle\" x=\"214.5\" y=\"-197.3\">(None, 60)</text>\n",
       "<polyline fill=\"none\" points=\"176,-189.5 253,-189.5 \" stroke=\"black\"/>\n",
       "<text font-family=\"Times New Roman,serif\" font-size=\"14.00\" text-anchor=\"middle\" x=\"214.5\" y=\"-174.3\">(None, 30)</text>\n",
       "</g>\n",
       "<!-- 2756918759888&#45;&gt;2756918762352 -->\n",
       "<g class=\"edge\" id=\"edge7\"><title>2756918759888-&gt;2756918762352</title>\n",
       "<path d=\"M134.5,-249.366C134.5,-241.152 134.5,-231.658 134.5,-222.725\" fill=\"none\" stroke=\"black\"/>\n",
       "<polygon fill=\"black\" points=\"138,-222.607 134.5,-212.607 131,-222.607 138,-222.607\" stroke=\"black\"/>\n",
       "</g>\n",
       "<!-- 2756918558504 -->\n",
       "<g class=\"node\" id=\"node8\"><title>2756918558504</title>\n",
       "<polygon fill=\"none\" points=\"3,-83.5 3,-129.5 266,-129.5 266,-83.5 3,-83.5\" stroke=\"black\"/>\n",
       "<text font-family=\"Times New Roman,serif\" font-size=\"14.00\" text-anchor=\"middle\" x=\"68\" y=\"-102.8\">dropout_2: Dropout</text>\n",
       "<polyline fill=\"none\" points=\"133,-83.5 133,-129.5 \" stroke=\"black\"/>\n",
       "<text font-family=\"Times New Roman,serif\" font-size=\"14.00\" text-anchor=\"middle\" x=\"161\" y=\"-114.3\">input:</text>\n",
       "<polyline fill=\"none\" points=\"133,-106.5 189,-106.5 \" stroke=\"black\"/>\n",
       "<text font-family=\"Times New Roman,serif\" font-size=\"14.00\" text-anchor=\"middle\" x=\"161\" y=\"-91.3\">output:</text>\n",
       "<polyline fill=\"none\" points=\"189,-83.5 189,-129.5 \" stroke=\"black\"/>\n",
       "<text font-family=\"Times New Roman,serif\" font-size=\"14.00\" text-anchor=\"middle\" x=\"227.5\" y=\"-114.3\">(None, 30)</text>\n",
       "<polyline fill=\"none\" points=\"189,-106.5 266,-106.5 \" stroke=\"black\"/>\n",
       "<text font-family=\"Times New Roman,serif\" font-size=\"14.00\" text-anchor=\"middle\" x=\"227.5\" y=\"-91.3\">(None, 30)</text>\n",
       "</g>\n",
       "<!-- 2756918762352&#45;&gt;2756918558504 -->\n",
       "<g class=\"edge\" id=\"edge8\"><title>2756918762352-&gt;2756918558504</title>\n",
       "<path d=\"M134.5,-166.366C134.5,-158.152 134.5,-148.658 134.5,-139.725\" fill=\"none\" stroke=\"black\"/>\n",
       "<polygon fill=\"black\" points=\"138,-139.607 134.5,-129.607 131,-139.607 138,-139.607\" stroke=\"black\"/>\n",
       "</g>\n",
       "<!-- 2756919222456 -->\n",
       "<g class=\"node\" id=\"node9\"><title>2756919222456</title>\n",
       "<polygon fill=\"none\" points=\"19.5,-0.5 19.5,-46.5 249.5,-46.5 249.5,-0.5 19.5,-0.5\" stroke=\"black\"/>\n",
       "<text font-family=\"Times New Roman,serif\" font-size=\"14.00\" text-anchor=\"middle\" x=\"68\" y=\"-19.8\">Output: Dense</text>\n",
       "<polyline fill=\"none\" points=\"116.5,-0.5 116.5,-46.5 \" stroke=\"black\"/>\n",
       "<text font-family=\"Times New Roman,serif\" font-size=\"14.00\" text-anchor=\"middle\" x=\"144.5\" y=\"-31.3\">input:</text>\n",
       "<polyline fill=\"none\" points=\"116.5,-23.5 172.5,-23.5 \" stroke=\"black\"/>\n",
       "<text font-family=\"Times New Roman,serif\" font-size=\"14.00\" text-anchor=\"middle\" x=\"144.5\" y=\"-8.3\">output:</text>\n",
       "<polyline fill=\"none\" points=\"172.5,-0.5 172.5,-46.5 \" stroke=\"black\"/>\n",
       "<text font-family=\"Times New Roman,serif\" font-size=\"14.00\" text-anchor=\"middle\" x=\"211\" y=\"-31.3\">(None, 30)</text>\n",
       "<polyline fill=\"none\" points=\"172.5,-23.5 249.5,-23.5 \" stroke=\"black\"/>\n",
       "<text font-family=\"Times New Roman,serif\" font-size=\"14.00\" text-anchor=\"middle\" x=\"211\" y=\"-8.3\">(None, 10)</text>\n",
       "</g>\n",
       "<!-- 2756918558504&#45;&gt;2756919222456 -->\n",
       "<g class=\"edge\" id=\"edge9\"><title>2756918558504-&gt;2756919222456</title>\n",
       "<path d=\"M134.5,-83.3664C134.5,-75.1516 134.5,-65.6579 134.5,-56.7252\" fill=\"none\" stroke=\"black\"/>\n",
       "<polygon fill=\"black\" points=\"138,-56.6068 134.5,-46.6068 131,-56.6069 138,-56.6068\" stroke=\"black\"/>\n",
       "</g>\n",
       "<!-- 2756897366088 -->\n",
       "<g class=\"node\" id=\"node10\"><title>2756897366088</title>\n",
       "<polygon fill=\"none\" points=\"82.5,-747.5 82.5,-783.5 186.5,-783.5 186.5,-747.5 82.5,-747.5\" stroke=\"black\"/>\n",
       "<text font-family=\"Times New Roman,serif\" font-size=\"14.00\" text-anchor=\"middle\" x=\"134.5\" y=\"-761.8\">2756897366088</text>\n",
       "</g>\n",
       "<!-- 2756897366088&#45;&gt;2756897163416 -->\n",
       "<g class=\"edge\" id=\"edge1\"><title>2756897366088-&gt;2756897163416</title>\n",
       "<path d=\"M134.5,-747.254C134.5,-739.363 134.5,-729.749 134.5,-720.602\" fill=\"none\" stroke=\"black\"/>\n",
       "<polygon fill=\"black\" points=\"138,-720.591 134.5,-710.591 131,-720.591 138,-720.591\" stroke=\"black\"/>\n",
       "</g>\n",
       "</g>\n",
       "</svg>"
      ],
      "text/plain": [
       "<IPython.core.display.SVG object>"
      ]
     },
     "execution_count": 46,
     "metadata": {},
     "output_type": "execute_result"
    }
   ],
   "source": [
    "SVG(model_to_dot(model,show_shapes = True).create(prog='dot', format='svg'))"
   ]
  },
  {
   "cell_type": "code",
   "execution_count": 45,
   "metadata": {},
   "outputs": [
    {
     "name": "stdout",
     "output_type": "stream",
     "text": [
      "_________________________________________________________________\n",
      "Layer (type)                 Output Shape              Param #   \n",
      "=================================================================\n",
      "dense_5 (Dense)              (None, 100)               78500     \n",
      "_________________________________________________________________\n",
      "dense_6 (Dense)              (None, 10)                1010      \n",
      "_________________________________________________________________\n",
      "Layer_1 (Dense)              (None, 200)               2200      \n",
      "_________________________________________________________________\n",
      "Layer_2 (Dense)              (None, 100)               20100     \n",
      "_________________________________________________________________\n",
      "dropout_1 (Dropout)          (None, 100)               0         \n",
      "_________________________________________________________________\n",
      "Layer_3 (Dense)              (None, 60)                6060      \n",
      "_________________________________________________________________\n",
      "Layer_4 (Dense)              (None, 30)                1830      \n",
      "_________________________________________________________________\n",
      "dropout_2 (Dropout)          (None, 30)                0         \n",
      "_________________________________________________________________\n",
      "Output (Dense)               (None, 10)                310       \n",
      "=================================================================\n",
      "Total params: 110,010\n",
      "Trainable params: 110,010\n",
      "Non-trainable params: 0\n",
      "_________________________________________________________________\n"
     ]
    }
   ],
   "source": [
    "model.summary()"
   ]
  },
  {
   "cell_type": "code",
   "execution_count": 48,
   "metadata": {},
   "outputs": [
    {
     "name": "stdout",
     "output_type": "stream",
     "text": [
      "Train on 60000 samples, validate on 10000 samples\n",
      "Epoch 1/30\n",
      "60000/60000 [==============================] - 3s 55us/step - loss: 0.8563 - acc: 0.7146 - val_loss: 0.4371 - val_acc: 0.8468\n",
      "Epoch 2/30\n",
      "60000/60000 [==============================] - 3s 42us/step - loss: 0.5187 - acc: 0.8290 - val_loss: 0.4166 - val_acc: 0.8499\n",
      "Epoch 3/30\n",
      "60000/60000 [==============================] - 3s 42us/step - loss: 0.4451 - acc: 0.8503 - val_loss: 0.3980 - val_acc: 0.8609\n",
      "Epoch 4/30\n",
      "60000/60000 [==============================] - 2s 41us/step - loss: 0.4091 - acc: 0.8610 - val_loss: 0.3717 - val_acc: 0.8677\n",
      "Epoch 5/30\n",
      "60000/60000 [==============================] - 3s 44us/step - loss: 0.3806 - acc: 0.8709 - val_loss: 0.3689 - val_acc: 0.8707\n",
      "Epoch 6/30\n",
      "60000/60000 [==============================] - 3s 45us/step - loss: 0.3604 - acc: 0.8760 - val_loss: 0.3675 - val_acc: 0.8733\n",
      "Epoch 7/30\n",
      "60000/60000 [==============================] - 3s 51us/step - loss: 0.3487 - acc: 0.8805 - val_loss: 0.3470 - val_acc: 0.8772\n",
      "Epoch 8/30\n",
      "60000/60000 [==============================] - 3s 45us/step - loss: 0.3331 - acc: 0.8855 - val_loss: 0.3656 - val_acc: 0.8711\n",
      "Epoch 9/30\n",
      "60000/60000 [==============================] - 3s 44us/step - loss: 0.3202 - acc: 0.8887 - val_loss: 0.3466 - val_acc: 0.8794\n",
      "Epoch 10/30\n",
      "60000/60000 [==============================] - 2s 41us/step - loss: 0.3087 - acc: 0.8918 - val_loss: 0.3442 - val_acc: 0.8797\n",
      "Epoch 11/30\n",
      "60000/60000 [==============================] - 2s 41us/step - loss: 0.2989 - acc: 0.8954 - val_loss: 0.3315 - val_acc: 0.8862\n",
      "Epoch 12/30\n",
      "60000/60000 [==============================] - 2s 40us/step - loss: 0.2853 - acc: 0.8984 - val_loss: 0.3359 - val_acc: 0.8817\n",
      "Epoch 13/30\n",
      "60000/60000 [==============================] - 2s 40us/step - loss: 0.2796 - acc: 0.9008 - val_loss: 0.3606 - val_acc: 0.8815\n",
      "Epoch 14/30\n",
      "60000/60000 [==============================] - 2s 41us/step - loss: 0.2766 - acc: 0.9024 - val_loss: 0.3459 - val_acc: 0.8829\n",
      "Epoch 15/30\n",
      "60000/60000 [==============================] - 2s 40us/step - loss: 0.2653 - acc: 0.9057 - val_loss: 0.3411 - val_acc: 0.8874\n",
      "Epoch 16/30\n",
      "60000/60000 [==============================] - 2s 40us/step - loss: 0.2563 - acc: 0.9091 - val_loss: 0.3369 - val_acc: 0.8885\n",
      "Epoch 17/30\n",
      "60000/60000 [==============================] - 2s 40us/step - loss: 0.2512 - acc: 0.9105 - val_loss: 0.3501 - val_acc: 0.8911\n",
      "Epoch 18/30\n",
      "60000/60000 [==============================] - 2s 40us/step - loss: 0.2467 - acc: 0.9114 - val_loss: 0.3529 - val_acc: 0.8870\n",
      "Epoch 19/30\n",
      "60000/60000 [==============================] - 2s 40us/step - loss: 0.2400 - acc: 0.9125 - val_loss: 0.3481 - val_acc: 0.8871\n",
      "Epoch 20/30\n",
      "60000/60000 [==============================] - 2s 40us/step - loss: 0.2345 - acc: 0.9162 - val_loss: 0.3494 - val_acc: 0.8897\n",
      "Epoch 21/30\n",
      "60000/60000 [==============================] - 2s 40us/step - loss: 0.2284 - acc: 0.9184 - val_loss: 0.3476 - val_acc: 0.8875\n",
      "Epoch 22/30\n",
      "60000/60000 [==============================] - 2s 40us/step - loss: 0.2176 - acc: 0.9221 - val_loss: 0.3562 - val_acc: 0.8920\n",
      "Epoch 23/30\n",
      "60000/60000 [==============================] - 2s 40us/step - loss: 0.2192 - acc: 0.9209 - val_loss: 0.3619 - val_acc: 0.8939\n",
      "Epoch 24/30\n",
      "60000/60000 [==============================] - 2s 40us/step - loss: 0.2092 - acc: 0.9239 - val_loss: 0.3543 - val_acc: 0.8889\n",
      "Epoch 25/30\n",
      "60000/60000 [==============================] - 2s 40us/step - loss: 0.2066 - acc: 0.9258 - val_loss: 0.3554 - val_acc: 0.8902\n",
      "Epoch 26/30\n",
      "60000/60000 [==============================] - 2s 40us/step - loss: 0.2058 - acc: 0.9265 - val_loss: 0.3646 - val_acc: 0.8936\n",
      "Epoch 27/30\n",
      "60000/60000 [==============================] - 2s 40us/step - loss: 0.1984 - acc: 0.9284 - val_loss: 0.3863 - val_acc: 0.8841\n",
      "Epoch 28/30\n",
      "60000/60000 [==============================] - 2s 41us/step - loss: 0.1930 - acc: 0.9306 - val_loss: 0.3828 - val_acc: 0.8915\n",
      "Epoch 29/30\n",
      "60000/60000 [==============================] - 3s 49us/step - loss: 0.1838 - acc: 0.9338 - val_loss: 0.3712 - val_acc: 0.8935\n",
      "Epoch 30/30\n",
      "60000/60000 [==============================] - 3s 52us/step - loss: 0.1821 - acc: 0.9346 - val_loss: 0.3931 - val_acc: 0.8912\n"
     ]
    },
    {
     "data": {
      "image/svg+xml": [
       "<svg height=\"709pt\" viewBox=\"0.00 0.00 407.00 709.00\" width=\"407pt\" xmlns=\"http://www.w3.org/2000/svg\" xmlns:xlink=\"http://www.w3.org/1999/xlink\">\n",
       "<g class=\"graph\" id=\"graph0\" transform=\"scale(1 1) rotate(0) translate(4 705)\">\n",
       "<title>G</title>\n",
       "<polygon fill=\"white\" points=\"-4,4 -4,-705 403,-705 403,4 -4,4\" stroke=\"none\"/>\n",
       "<!-- 2756930928824 -->\n",
       "<g class=\"node\" id=\"node1\"><title>2756930928824</title>\n",
       "<polygon fill=\"none\" points=\"0,-581.5 0,-627.5 399,-627.5 399,-581.5 0,-581.5\" stroke=\"black\"/>\n",
       "<text font-family=\"Times New Roman,serif\" font-size=\"14.00\" text-anchor=\"middle\" x=\"130\" y=\"-600.8\">batch_normalization_2: BatchNormalization</text>\n",
       "<polyline fill=\"none\" points=\"260,-581.5 260,-627.5 \" stroke=\"black\"/>\n",
       "<text font-family=\"Times New Roman,serif\" font-size=\"14.00\" text-anchor=\"middle\" x=\"288\" y=\"-612.3\">input:</text>\n",
       "<polyline fill=\"none\" points=\"260,-604.5 316,-604.5 \" stroke=\"black\"/>\n",
       "<text font-family=\"Times New Roman,serif\" font-size=\"14.00\" text-anchor=\"middle\" x=\"288\" y=\"-589.3\">output:</text>\n",
       "<polyline fill=\"none\" points=\"316,-581.5 316,-627.5 \" stroke=\"black\"/>\n",
       "<text font-family=\"Times New Roman,serif\" font-size=\"14.00\" text-anchor=\"middle\" x=\"357.5\" y=\"-612.3\">(None, 784)</text>\n",
       "<polyline fill=\"none\" points=\"316,-604.5 399,-604.5 \" stroke=\"black\"/>\n",
       "<text font-family=\"Times New Roman,serif\" font-size=\"14.00\" text-anchor=\"middle\" x=\"357.5\" y=\"-589.3\">(None, 784)</text>\n",
       "</g>\n",
       "<!-- 2756930928992 -->\n",
       "<g class=\"node\" id=\"node2\"><title>2756930928992</title>\n",
       "<polygon fill=\"none\" points=\"78,-498.5 78,-544.5 321,-544.5 321,-498.5 78,-498.5\" stroke=\"black\"/>\n",
       "<text font-family=\"Times New Roman,serif\" font-size=\"14.00\" text-anchor=\"middle\" x=\"130\" y=\"-517.8\">Layer_1: Dense</text>\n",
       "<polyline fill=\"none\" points=\"182,-498.5 182,-544.5 \" stroke=\"black\"/>\n",
       "<text font-family=\"Times New Roman,serif\" font-size=\"14.00\" text-anchor=\"middle\" x=\"210\" y=\"-529.3\">input:</text>\n",
       "<polyline fill=\"none\" points=\"182,-521.5 238,-521.5 \" stroke=\"black\"/>\n",
       "<text font-family=\"Times New Roman,serif\" font-size=\"14.00\" text-anchor=\"middle\" x=\"210\" y=\"-506.3\">output:</text>\n",
       "<polyline fill=\"none\" points=\"238,-498.5 238,-544.5 \" stroke=\"black\"/>\n",
       "<text font-family=\"Times New Roman,serif\" font-size=\"14.00\" text-anchor=\"middle\" x=\"279.5\" y=\"-529.3\">(None, 784)</text>\n",
       "<polyline fill=\"none\" points=\"238,-521.5 321,-521.5 \" stroke=\"black\"/>\n",
       "<text font-family=\"Times New Roman,serif\" font-size=\"14.00\" text-anchor=\"middle\" x=\"279.5\" y=\"-506.3\">(None, 200)</text>\n",
       "</g>\n",
       "<!-- 2756930928824&#45;&gt;2756930928992 -->\n",
       "<g class=\"edge\" id=\"edge2\"><title>2756930928824-&gt;2756930928992</title>\n",
       "<path d=\"M199.5,-581.366C199.5,-573.152 199.5,-563.658 199.5,-554.725\" fill=\"none\" stroke=\"black\"/>\n",
       "<polygon fill=\"black\" points=\"203,-554.607 199.5,-544.607 196,-554.607 203,-554.607\" stroke=\"black\"/>\n",
       "</g>\n",
       "<!-- 2756930929272 -->\n",
       "<g class=\"node\" id=\"node3\"><title>2756930929272</title>\n",
       "<polygon fill=\"none\" points=\"78,-415.5 78,-461.5 321,-461.5 321,-415.5 78,-415.5\" stroke=\"black\"/>\n",
       "<text font-family=\"Times New Roman,serif\" font-size=\"14.00\" text-anchor=\"middle\" x=\"130\" y=\"-434.8\">Layer_2: Dense</text>\n",
       "<polyline fill=\"none\" points=\"182,-415.5 182,-461.5 \" stroke=\"black\"/>\n",
       "<text font-family=\"Times New Roman,serif\" font-size=\"14.00\" text-anchor=\"middle\" x=\"210\" y=\"-446.3\">input:</text>\n",
       "<polyline fill=\"none\" points=\"182,-438.5 238,-438.5 \" stroke=\"black\"/>\n",
       "<text font-family=\"Times New Roman,serif\" font-size=\"14.00\" text-anchor=\"middle\" x=\"210\" y=\"-423.3\">output:</text>\n",
       "<polyline fill=\"none\" points=\"238,-415.5 238,-461.5 \" stroke=\"black\"/>\n",
       "<text font-family=\"Times New Roman,serif\" font-size=\"14.00\" text-anchor=\"middle\" x=\"279.5\" y=\"-446.3\">(None, 200)</text>\n",
       "<polyline fill=\"none\" points=\"238,-438.5 321,-438.5 \" stroke=\"black\"/>\n",
       "<text font-family=\"Times New Roman,serif\" font-size=\"14.00\" text-anchor=\"middle\" x=\"279.5\" y=\"-423.3\">(None, 100)</text>\n",
       "</g>\n",
       "<!-- 2756930928992&#45;&gt;2756930929272 -->\n",
       "<g class=\"edge\" id=\"edge3\"><title>2756930928992-&gt;2756930929272</title>\n",
       "<path d=\"M199.5,-498.366C199.5,-490.152 199.5,-480.658 199.5,-471.725\" fill=\"none\" stroke=\"black\"/>\n",
       "<polygon fill=\"black\" points=\"203,-471.607 199.5,-461.607 196,-471.607 203,-471.607\" stroke=\"black\"/>\n",
       "</g>\n",
       "<!-- 2756930929552 -->\n",
       "<g class=\"node\" id=\"node4\"><title>2756930929552</title>\n",
       "<polygon fill=\"none\" points=\"65,-332.5 65,-378.5 334,-378.5 334,-332.5 65,-332.5\" stroke=\"black\"/>\n",
       "<text font-family=\"Times New Roman,serif\" font-size=\"14.00\" text-anchor=\"middle\" x=\"130\" y=\"-351.8\">dropout_5: Dropout</text>\n",
       "<polyline fill=\"none\" points=\"195,-332.5 195,-378.5 \" stroke=\"black\"/>\n",
       "<text font-family=\"Times New Roman,serif\" font-size=\"14.00\" text-anchor=\"middle\" x=\"223\" y=\"-363.3\">input:</text>\n",
       "<polyline fill=\"none\" points=\"195,-355.5 251,-355.5 \" stroke=\"black\"/>\n",
       "<text font-family=\"Times New Roman,serif\" font-size=\"14.00\" text-anchor=\"middle\" x=\"223\" y=\"-340.3\">output:</text>\n",
       "<polyline fill=\"none\" points=\"251,-332.5 251,-378.5 \" stroke=\"black\"/>\n",
       "<text font-family=\"Times New Roman,serif\" font-size=\"14.00\" text-anchor=\"middle\" x=\"292.5\" y=\"-363.3\">(None, 100)</text>\n",
       "<polyline fill=\"none\" points=\"251,-355.5 334,-355.5 \" stroke=\"black\"/>\n",
       "<text font-family=\"Times New Roman,serif\" font-size=\"14.00\" text-anchor=\"middle\" x=\"292.5\" y=\"-340.3\">(None, 100)</text>\n",
       "</g>\n",
       "<!-- 2756930929272&#45;&gt;2756930929552 -->\n",
       "<g class=\"edge\" id=\"edge4\"><title>2756930929272-&gt;2756930929552</title>\n",
       "<path d=\"M199.5,-415.366C199.5,-407.152 199.5,-397.658 199.5,-388.725\" fill=\"none\" stroke=\"black\"/>\n",
       "<polygon fill=\"black\" points=\"203,-388.607 199.5,-378.607 196,-388.607 203,-388.607\" stroke=\"black\"/>\n",
       "</g>\n",
       "<!-- 2756930929944 -->\n",
       "<g class=\"node\" id=\"node5\"><title>2756930929944</title>\n",
       "<polygon fill=\"none\" points=\"78,-249.5 78,-295.5 321,-295.5 321,-249.5 78,-249.5\" stroke=\"black\"/>\n",
       "<text font-family=\"Times New Roman,serif\" font-size=\"14.00\" text-anchor=\"middle\" x=\"130\" y=\"-268.8\">Layer_3: Dense</text>\n",
       "<polyline fill=\"none\" points=\"182,-249.5 182,-295.5 \" stroke=\"black\"/>\n",
       "<text font-family=\"Times New Roman,serif\" font-size=\"14.00\" text-anchor=\"middle\" x=\"210\" y=\"-280.3\">input:</text>\n",
       "<polyline fill=\"none\" points=\"182,-272.5 238,-272.5 \" stroke=\"black\"/>\n",
       "<text font-family=\"Times New Roman,serif\" font-size=\"14.00\" text-anchor=\"middle\" x=\"210\" y=\"-257.3\">output:</text>\n",
       "<polyline fill=\"none\" points=\"238,-249.5 238,-295.5 \" stroke=\"black\"/>\n",
       "<text font-family=\"Times New Roman,serif\" font-size=\"14.00\" text-anchor=\"middle\" x=\"279.5\" y=\"-280.3\">(None, 100)</text>\n",
       "<polyline fill=\"none\" points=\"238,-272.5 321,-272.5 \" stroke=\"black\"/>\n",
       "<text font-family=\"Times New Roman,serif\" font-size=\"14.00\" text-anchor=\"middle\" x=\"279.5\" y=\"-257.3\">(None, 60)</text>\n",
       "</g>\n",
       "<!-- 2756930929552&#45;&gt;2756930929944 -->\n",
       "<g class=\"edge\" id=\"edge5\"><title>2756930929552-&gt;2756930929944</title>\n",
       "<path d=\"M199.5,-332.366C199.5,-324.152 199.5,-314.658 199.5,-305.725\" fill=\"none\" stroke=\"black\"/>\n",
       "<polygon fill=\"black\" points=\"203,-305.607 199.5,-295.607 196,-305.607 203,-305.607\" stroke=\"black\"/>\n",
       "</g>\n",
       "<!-- 2756930930000 -->\n",
       "<g class=\"node\" id=\"node6\"><title>2756930930000</title>\n",
       "<polygon fill=\"none\" points=\"81,-166.5 81,-212.5 318,-212.5 318,-166.5 81,-166.5\" stroke=\"black\"/>\n",
       "<text font-family=\"Times New Roman,serif\" font-size=\"14.00\" text-anchor=\"middle\" x=\"133\" y=\"-185.8\">Layer_4: Dense</text>\n",
       "<polyline fill=\"none\" points=\"185,-166.5 185,-212.5 \" stroke=\"black\"/>\n",
       "<text font-family=\"Times New Roman,serif\" font-size=\"14.00\" text-anchor=\"middle\" x=\"213\" y=\"-197.3\">input:</text>\n",
       "<polyline fill=\"none\" points=\"185,-189.5 241,-189.5 \" stroke=\"black\"/>\n",
       "<text font-family=\"Times New Roman,serif\" font-size=\"14.00\" text-anchor=\"middle\" x=\"213\" y=\"-174.3\">output:</text>\n",
       "<polyline fill=\"none\" points=\"241,-166.5 241,-212.5 \" stroke=\"black\"/>\n",
       "<text font-family=\"Times New Roman,serif\" font-size=\"14.00\" text-anchor=\"middle\" x=\"279.5\" y=\"-197.3\">(None, 60)</text>\n",
       "<polyline fill=\"none\" points=\"241,-189.5 318,-189.5 \" stroke=\"black\"/>\n",
       "<text font-family=\"Times New Roman,serif\" font-size=\"14.00\" text-anchor=\"middle\" x=\"279.5\" y=\"-174.3\">(None, 30)</text>\n",
       "</g>\n",
       "<!-- 2756930929944&#45;&gt;2756930930000 -->\n",
       "<g class=\"edge\" id=\"edge6\"><title>2756930929944-&gt;2756930930000</title>\n",
       "<path d=\"M199.5,-249.366C199.5,-241.152 199.5,-231.658 199.5,-222.725\" fill=\"none\" stroke=\"black\"/>\n",
       "<polygon fill=\"black\" points=\"203,-222.607 199.5,-212.607 196,-222.607 203,-222.607\" stroke=\"black\"/>\n",
       "</g>\n",
       "<!-- 2756930930280 -->\n",
       "<g class=\"node\" id=\"node7\"><title>2756930930280</title>\n",
       "<polygon fill=\"none\" points=\"68,-83.5 68,-129.5 331,-129.5 331,-83.5 68,-83.5\" stroke=\"black\"/>\n",
       "<text font-family=\"Times New Roman,serif\" font-size=\"14.00\" text-anchor=\"middle\" x=\"133\" y=\"-102.8\">dropout_6: Dropout</text>\n",
       "<polyline fill=\"none\" points=\"198,-83.5 198,-129.5 \" stroke=\"black\"/>\n",
       "<text font-family=\"Times New Roman,serif\" font-size=\"14.00\" text-anchor=\"middle\" x=\"226\" y=\"-114.3\">input:</text>\n",
       "<polyline fill=\"none\" points=\"198,-106.5 254,-106.5 \" stroke=\"black\"/>\n",
       "<text font-family=\"Times New Roman,serif\" font-size=\"14.00\" text-anchor=\"middle\" x=\"226\" y=\"-91.3\">output:</text>\n",
       "<polyline fill=\"none\" points=\"254,-83.5 254,-129.5 \" stroke=\"black\"/>\n",
       "<text font-family=\"Times New Roman,serif\" font-size=\"14.00\" text-anchor=\"middle\" x=\"292.5\" y=\"-114.3\">(None, 30)</text>\n",
       "<polyline fill=\"none\" points=\"254,-106.5 331,-106.5 \" stroke=\"black\"/>\n",
       "<text font-family=\"Times New Roman,serif\" font-size=\"14.00\" text-anchor=\"middle\" x=\"292.5\" y=\"-91.3\">(None, 30)</text>\n",
       "</g>\n",
       "<!-- 2756930930000&#45;&gt;2756930930280 -->\n",
       "<g class=\"edge\" id=\"edge7\"><title>2756930930000-&gt;2756930930280</title>\n",
       "<path d=\"M199.5,-166.366C199.5,-158.152 199.5,-148.658 199.5,-139.725\" fill=\"none\" stroke=\"black\"/>\n",
       "<polygon fill=\"black\" points=\"203,-139.607 199.5,-129.607 196,-139.607 203,-139.607\" stroke=\"black\"/>\n",
       "</g>\n",
       "<!-- 2756930930672 -->\n",
       "<g class=\"node\" id=\"node8\"><title>2756930930672</title>\n",
       "<polygon fill=\"none\" points=\"84.5,-0.5 84.5,-46.5 314.5,-46.5 314.5,-0.5 84.5,-0.5\" stroke=\"black\"/>\n",
       "<text font-family=\"Times New Roman,serif\" font-size=\"14.00\" text-anchor=\"middle\" x=\"133\" y=\"-19.8\">Output: Dense</text>\n",
       "<polyline fill=\"none\" points=\"181.5,-0.5 181.5,-46.5 \" stroke=\"black\"/>\n",
       "<text font-family=\"Times New Roman,serif\" font-size=\"14.00\" text-anchor=\"middle\" x=\"209.5\" y=\"-31.3\">input:</text>\n",
       "<polyline fill=\"none\" points=\"181.5,-23.5 237.5,-23.5 \" stroke=\"black\"/>\n",
       "<text font-family=\"Times New Roman,serif\" font-size=\"14.00\" text-anchor=\"middle\" x=\"209.5\" y=\"-8.3\">output:</text>\n",
       "<polyline fill=\"none\" points=\"237.5,-0.5 237.5,-46.5 \" stroke=\"black\"/>\n",
       "<text font-family=\"Times New Roman,serif\" font-size=\"14.00\" text-anchor=\"middle\" x=\"276\" y=\"-31.3\">(None, 30)</text>\n",
       "<polyline fill=\"none\" points=\"237.5,-23.5 314.5,-23.5 \" stroke=\"black\"/>\n",
       "<text font-family=\"Times New Roman,serif\" font-size=\"14.00\" text-anchor=\"middle\" x=\"276\" y=\"-8.3\">(None, 10)</text>\n",
       "</g>\n",
       "<!-- 2756930930280&#45;&gt;2756930930672 -->\n",
       "<g class=\"edge\" id=\"edge8\"><title>2756930930280-&gt;2756930930672</title>\n",
       "<path d=\"M199.5,-83.3664C199.5,-75.1516 199.5,-65.6579 199.5,-56.7252\" fill=\"none\" stroke=\"black\"/>\n",
       "<polygon fill=\"black\" points=\"203,-56.6068 199.5,-46.6068 196,-56.6069 203,-56.6068\" stroke=\"black\"/>\n",
       "</g>\n",
       "<!-- 2756930931064 -->\n",
       "<g class=\"node\" id=\"node9\"><title>2756930931064</title>\n",
       "<polygon fill=\"none\" points=\"147.5,-664.5 147.5,-700.5 251.5,-700.5 251.5,-664.5 147.5,-664.5\" stroke=\"black\"/>\n",
       "<text font-family=\"Times New Roman,serif\" font-size=\"14.00\" text-anchor=\"middle\" x=\"199.5\" y=\"-678.8\">2756930931064</text>\n",
       "</g>\n",
       "<!-- 2756930931064&#45;&gt;2756930928824 -->\n",
       "<g class=\"edge\" id=\"edge1\"><title>2756930931064-&gt;2756930928824</title>\n",
       "<path d=\"M199.5,-664.254C199.5,-656.363 199.5,-646.749 199.5,-637.602\" fill=\"none\" stroke=\"black\"/>\n",
       "<polygon fill=\"black\" points=\"203,-637.591 199.5,-627.591 196,-637.591 203,-637.591\" stroke=\"black\"/>\n",
       "</g>\n",
       "</g>\n",
       "</svg>"
      ],
      "text/plain": [
       "<IPython.core.display.SVG object>"
      ]
     },
     "execution_count": 48,
     "metadata": {},
     "output_type": "execute_result"
    }
   ],
   "source": [
    "#batch normalization layer\n",
    "model2 = keras.models.Sequential()\n",
    "\n",
    "model2.add(keras.layers.BatchNormalization())\n",
    "#Hidden layers\n",
    "model2.add(keras.layers.Dense(200, activation='relu', name='Layer_1'))\n",
    "model2.add(keras.layers.Dense(100, activation='relu', name='Layer_2'))\n",
    "\n",
    "#Dropout layer\n",
    "model2.add(keras.layers.Dropout(0.5))\n",
    "\n",
    "#Hidden layers\n",
    "model2.add(keras.layers.Dense(60, activation='relu', name='Layer_3'))\n",
    "model2.add(keras.layers.Dense(30, activation='relu', name='Layer_4'))\n",
    "\n",
    "#Dropout layer\n",
    "model2.add(keras.layers.Dropout(0.3))\n",
    "\n",
    "#Output layer\n",
    "model2.add(keras.layers.Dense(10, activation='softmax', name='Output'))\n",
    "\n",
    "model2.compile(optimizer='adam', loss='categorical_crossentropy', metrics=['accuracy'])\n",
    "\n",
    "model2.fit(x_train,trainY,          \n",
    "          validation_data=(x_test,testY),\n",
    "          epochs=30,\n",
    "          batch_size=200)\n",
    "SVG(model_to_dot(model2,show_shapes = True).create(prog='dot', format='svg'))"
   ]
  },
  {
   "cell_type": "markdown",
   "metadata": {},
   "source": [
    "### learning rate and momentum"
   ]
  },
  {
   "cell_type": "code",
   "execution_count": 49,
   "metadata": {},
   "outputs": [],
   "source": [
    "from keras.optimizers import SGD"
   ]
  },
  {
   "cell_type": "code",
   "execution_count": 53,
   "metadata": {},
   "outputs": [
    {
     "name": "stdout",
     "output_type": "stream",
     "text": [
      "Train on 60000 samples, validate on 10000 samples\n",
      "Epoch 1/30\n",
      "60000/60000 [==============================] - 1s 24us/step - loss: 0.6667 - acc: 0.7657 - val_loss: 0.5175 - val_acc: 0.8172\n",
      "Epoch 2/30\n",
      "60000/60000 [==============================] - 1s 16us/step - loss: 0.4587 - acc: 0.8367 - val_loss: 0.5064 - val_acc: 0.8177\n",
      "Epoch 3/30\n",
      "60000/60000 [==============================] - 1s 16us/step - loss: 0.4150 - acc: 0.8516 - val_loss: 0.4112 - val_acc: 0.8523\n",
      "Epoch 4/30\n",
      "60000/60000 [==============================] - 1s 16us/step - loss: 0.3858 - acc: 0.8613 - val_loss: 0.4064 - val_acc: 0.8551\n",
      "Epoch 5/30\n",
      "60000/60000 [==============================] - 1s 16us/step - loss: 0.3658 - acc: 0.8682 - val_loss: 0.3998 - val_acc: 0.8526\n",
      "Epoch 6/30\n",
      "60000/60000 [==============================] - 1s 16us/step - loss: 0.3538 - acc: 0.8727 - val_loss: 0.3913 - val_acc: 0.8590\n",
      "Epoch 7/30\n",
      "60000/60000 [==============================] - 1s 16us/step - loss: 0.3386 - acc: 0.8777 - val_loss: 0.4018 - val_acc: 0.8570\n",
      "Epoch 8/30\n",
      "60000/60000 [==============================] - 1s 16us/step - loss: 0.3284 - acc: 0.8795 - val_loss: 0.3635 - val_acc: 0.8703\n",
      "Epoch 9/30\n",
      "60000/60000 [==============================] - 1s 17us/step - loss: 0.3184 - acc: 0.8846 - val_loss: 0.3677 - val_acc: 0.8608\n",
      "Epoch 10/30\n",
      "60000/60000 [==============================] - 1s 16us/step - loss: 0.3104 - acc: 0.8859 - val_loss: 0.3495 - val_acc: 0.8756\n",
      "Epoch 11/30\n",
      "60000/60000 [==============================] - 1s 16us/step - loss: 0.3019 - acc: 0.8897 - val_loss: 0.3581 - val_acc: 0.8689\n",
      "Epoch 12/30\n",
      "60000/60000 [==============================] - 1s 16us/step - loss: 0.2956 - acc: 0.8919 - val_loss: 0.3614 - val_acc: 0.8726\n",
      "Epoch 13/30\n",
      "60000/60000 [==============================] - 1s 16us/step - loss: 0.2898 - acc: 0.8951 - val_loss: 0.3561 - val_acc: 0.8699\n",
      "Epoch 14/30\n",
      "60000/60000 [==============================] - 1s 17us/step - loss: 0.2852 - acc: 0.8947 - val_loss: 0.3455 - val_acc: 0.8748\n",
      "Epoch 15/30\n",
      "60000/60000 [==============================] - 1s 16us/step - loss: 0.2817 - acc: 0.8962 - val_loss: 0.3868 - val_acc: 0.8549\n",
      "Epoch 16/30\n",
      "60000/60000 [==============================] - 1s 17us/step - loss: 0.2738 - acc: 0.8989 - val_loss: 0.3574 - val_acc: 0.8719\n",
      "Epoch 17/30\n",
      "60000/60000 [==============================] - 1s 18us/step - loss: 0.2714 - acc: 0.9008 - val_loss: 0.3416 - val_acc: 0.8772\n",
      "Epoch 18/30\n",
      "60000/60000 [==============================] - 1s 17us/step - loss: 0.2645 - acc: 0.9023 - val_loss: 0.3394 - val_acc: 0.8780\n",
      "Epoch 19/30\n",
      "60000/60000 [==============================] - 1s 16us/step - loss: 0.2605 - acc: 0.9043 - val_loss: 0.3359 - val_acc: 0.8790\n",
      "Epoch 20/30\n",
      "60000/60000 [==============================] - 1s 16us/step - loss: 0.2562 - acc: 0.9065 - val_loss: 0.3330 - val_acc: 0.8793\n",
      "Epoch 21/30\n",
      "60000/60000 [==============================] - 1s 17us/step - loss: 0.2545 - acc: 0.9062 - val_loss: 0.3342 - val_acc: 0.8802\n",
      "Epoch 22/30\n",
      "60000/60000 [==============================] - 1s 16us/step - loss: 0.2485 - acc: 0.9084 - val_loss: 0.3463 - val_acc: 0.8780\n",
      "Epoch 23/30\n",
      "60000/60000 [==============================] - 1s 17us/step - loss: 0.2461 - acc: 0.9100 - val_loss: 0.3303 - val_acc: 0.8835\n",
      "Epoch 24/30\n",
      "60000/60000 [==============================] - 1s 16us/step - loss: 0.2414 - acc: 0.9112 - val_loss: 0.3459 - val_acc: 0.8734\n",
      "Epoch 25/30\n",
      "60000/60000 [==============================] - 1s 17us/step - loss: 0.2389 - acc: 0.9114 - val_loss: 0.3375 - val_acc: 0.8822\n",
      "Epoch 26/30\n",
      "60000/60000 [==============================] - 1s 16us/step - loss: 0.2344 - acc: 0.9145 - val_loss: 0.3364 - val_acc: 0.8806\n",
      "Epoch 27/30\n",
      "60000/60000 [==============================] - 1s 16us/step - loss: 0.2318 - acc: 0.9155 - val_loss: 0.3383 - val_acc: 0.8735\n",
      "Epoch 28/30\n",
      "60000/60000 [==============================] - 1s 16us/step - loss: 0.2291 - acc: 0.9160 - val_loss: 0.3719 - val_acc: 0.8637\n",
      "Epoch 29/30\n",
      "60000/60000 [==============================] - 1s 16us/step - loss: 0.2282 - acc: 0.9155 - val_loss: 0.3288 - val_acc: 0.8852\n",
      "Epoch 30/30\n",
      "60000/60000 [==============================] - 1s 16us/step - loss: 0.2226 - acc: 0.9181 - val_loss: 0.3282 - val_acc: 0.8851\n"
     ]
    },
    {
     "data": {
      "image/svg+xml": [
       "<svg height=\"211pt\" viewBox=\"0.00 0.00 258.00 211.00\" width=\"258pt\" xmlns=\"http://www.w3.org/2000/svg\" xmlns:xlink=\"http://www.w3.org/1999/xlink\">\n",
       "<g class=\"graph\" id=\"graph0\" transform=\"scale(1 1) rotate(0) translate(4 207)\">\n",
       "<title>G</title>\n",
       "<polygon fill=\"white\" points=\"-4,4 -4,-207 254,-207 254,4 -4,4\" stroke=\"none\"/>\n",
       "<!-- 2757355493864 -->\n",
       "<g class=\"node\" id=\"node1\"><title>2757355493864</title>\n",
       "<polygon fill=\"none\" points=\"0,-83.5 0,-129.5 250,-129.5 250,-83.5 0,-83.5\" stroke=\"black\"/>\n",
       "<text font-family=\"Times New Roman,serif\" font-size=\"14.00\" text-anchor=\"middle\" x=\"55.5\" y=\"-102.8\">dense_24: Dense</text>\n",
       "<polyline fill=\"none\" points=\"111,-83.5 111,-129.5 \" stroke=\"black\"/>\n",
       "<text font-family=\"Times New Roman,serif\" font-size=\"14.00\" text-anchor=\"middle\" x=\"139\" y=\"-114.3\">input:</text>\n",
       "<polyline fill=\"none\" points=\"111,-106.5 167,-106.5 \" stroke=\"black\"/>\n",
       "<text font-family=\"Times New Roman,serif\" font-size=\"14.00\" text-anchor=\"middle\" x=\"139\" y=\"-91.3\">output:</text>\n",
       "<polyline fill=\"none\" points=\"167,-83.5 167,-129.5 \" stroke=\"black\"/>\n",
       "<text font-family=\"Times New Roman,serif\" font-size=\"14.00\" text-anchor=\"middle\" x=\"208.5\" y=\"-114.3\">(None, 784)</text>\n",
       "<polyline fill=\"none\" points=\"167,-106.5 250,-106.5 \" stroke=\"black\"/>\n",
       "<text font-family=\"Times New Roman,serif\" font-size=\"14.00\" text-anchor=\"middle\" x=\"208.5\" y=\"-91.3\">(None, 100)</text>\n",
       "</g>\n",
       "<!-- 2757355494088 -->\n",
       "<g class=\"node\" id=\"node2\"><title>2757355494088</title>\n",
       "<polygon fill=\"none\" points=\"0,-0.5 0,-46.5 250,-46.5 250,-0.5 0,-0.5\" stroke=\"black\"/>\n",
       "<text font-family=\"Times New Roman,serif\" font-size=\"14.00\" text-anchor=\"middle\" x=\"55.5\" y=\"-19.8\">dense_25: Dense</text>\n",
       "<polyline fill=\"none\" points=\"111,-0.5 111,-46.5 \" stroke=\"black\"/>\n",
       "<text font-family=\"Times New Roman,serif\" font-size=\"14.00\" text-anchor=\"middle\" x=\"139\" y=\"-31.3\">input:</text>\n",
       "<polyline fill=\"none\" points=\"111,-23.5 167,-23.5 \" stroke=\"black\"/>\n",
       "<text font-family=\"Times New Roman,serif\" font-size=\"14.00\" text-anchor=\"middle\" x=\"139\" y=\"-8.3\">output:</text>\n",
       "<polyline fill=\"none\" points=\"167,-0.5 167,-46.5 \" stroke=\"black\"/>\n",
       "<text font-family=\"Times New Roman,serif\" font-size=\"14.00\" text-anchor=\"middle\" x=\"208.5\" y=\"-31.3\">(None, 100)</text>\n",
       "<polyline fill=\"none\" points=\"167,-23.5 250,-23.5 \" stroke=\"black\"/>\n",
       "<text font-family=\"Times New Roman,serif\" font-size=\"14.00\" text-anchor=\"middle\" x=\"208.5\" y=\"-8.3\">(None, 10)</text>\n",
       "</g>\n",
       "<!-- 2757355493864&#45;&gt;2757355494088 -->\n",
       "<g class=\"edge\" id=\"edge2\"><title>2757355493864-&gt;2757355494088</title>\n",
       "<path d=\"M125,-83.3664C125,-75.1516 125,-65.6579 125,-56.7252\" fill=\"none\" stroke=\"black\"/>\n",
       "<polygon fill=\"black\" points=\"128.5,-56.6068 125,-46.6068 121.5,-56.6069 128.5,-56.6068\" stroke=\"black\"/>\n",
       "</g>\n",
       "<!-- 2757355494760 -->\n",
       "<g class=\"node\" id=\"node3\"><title>2757355494760</title>\n",
       "<polygon fill=\"none\" points=\"73,-166.5 73,-202.5 177,-202.5 177,-166.5 73,-166.5\" stroke=\"black\"/>\n",
       "<text font-family=\"Times New Roman,serif\" font-size=\"14.00\" text-anchor=\"middle\" x=\"125\" y=\"-180.8\">2757355494760</text>\n",
       "</g>\n",
       "<!-- 2757355494760&#45;&gt;2757355493864 -->\n",
       "<g class=\"edge\" id=\"edge1\"><title>2757355494760-&gt;2757355493864</title>\n",
       "<path d=\"M125,-166.254C125,-158.363 125,-148.749 125,-139.602\" fill=\"none\" stroke=\"black\"/>\n",
       "<polygon fill=\"black\" points=\"128.5,-139.591 125,-129.591 121.5,-139.591 128.5,-139.591\" stroke=\"black\"/>\n",
       "</g>\n",
       "</g>\n",
       "</svg>"
      ],
      "text/plain": [
       "<IPython.core.display.SVG object>"
      ]
     },
     "execution_count": 53,
     "metadata": {},
     "output_type": "execute_result"
    }
   ],
   "source": [
    "model3 = Sequential()\n",
    "model3.add(Dense(units=100,activation=\"relu\"))\n",
    "model3.add(Dense(units=10,activation=\"softmax\"))\n",
    "optimizer = SGD(lr=0.2, momentum=0.1)\n",
    "model3.compile(optimizer=optimizer, loss='categorical_crossentropy', metrics=['accuracy'])\n",
    "model3.fit(x_train,trainY,          \n",
    "          validation_data=(x_test,testY),\n",
    "          epochs=30,\n",
    "          batch_size=200)\n",
    "SVG(model_to_dot(model3,show_shapes = True).create(prog='dot', format='svg'))"
   ]
  },
  {
   "cell_type": "code",
   "execution_count": null,
   "metadata": {},
   "outputs": [],
   "source": []
  },
  {
   "cell_type": "markdown",
   "metadata": {},
   "source": [
    "###### Same Model as above - Instead of accuracy at each epoch - Below code gives the consolidate accuracy (Notice: The model.evaluate line at the last is the only difference from previous code)"
   ]
  },
  {
   "cell_type": "code",
   "execution_count": 30,
   "metadata": {},
   "outputs": [],
   "source": [
    "def train_and_test_loop1(iterations, lr, Lambda, verb=True):\n",
    "    ## hyperparameters\n",
    "    iterations = iterations\n",
    "    learning_rate = lr\n",
    "    hidden_nodes = 256\n",
    "    output_nodes = 10\n",
    "\n",
    "    model = Sequential()\n",
    "    model.add(Dense(hidden_nodes, input_shape=(784,), activation='relu'))\n",
    "    model.add(Dense(hidden_nodes, activation='relu'))\n",
    "    model.add(Dense(output_nodes, activation='softmax', kernel_regularizer=regularizers.l2(Lambda)))\n",
    "    \n",
    "    sgd = optimizers.SGD(lr=learning_rate, decay=1e-6, momentum=0.9)\n",
    "    # Compile model\n",
    "    model.compile(loss='categorical_crossentropy', optimizer=sgd, metrics=['accuracy'])\n",
    "    \n",
    "    # Fit the model\n",
    "    model.fit(x_train,trainY, epochs=iterations, batch_size=1000, verbose= 1)\n",
    "    score = model.evaluate(x_train, trainY, verbose=0)\n",
    "    return score"
   ]
  },
  {
   "cell_type": "code",
   "execution_count": 31,
   "metadata": {},
   "outputs": [
    {
     "name": "stdout",
     "output_type": "stream",
     "text": [
      "Epoch 1/1\n",
      "60000/60000 [==============================] - 2s 32us/step - loss: 2.4130 - acc: 0.1161\n"
     ]
    },
    {
     "data": {
      "text/plain": [
       "[2.403026812362671, 0.1198]"
      ]
     },
     "execution_count": 31,
     "metadata": {},
     "output_type": "execute_result"
    }
   ],
   "source": [
    "lr = 0.00001\n",
    "Lambda = 0\n",
    "train_and_test_loop1(1, lr, Lambda)"
   ]
  },
  {
   "cell_type": "code",
   "execution_count": null,
   "metadata": {},
   "outputs": [],
   "source": []
  },
  {
   "cell_type": "code",
   "execution_count": null,
   "metadata": {},
   "outputs": [],
   "source": []
  },
  {
   "cell_type": "code",
   "execution_count": null,
   "metadata": {},
   "outputs": [],
   "source": []
  },
  {
   "cell_type": "code",
   "execution_count": null,
   "metadata": {},
   "outputs": [],
   "source": []
  },
  {
   "cell_type": "markdown",
   "metadata": {
    "colab_type": "text",
    "id": "C18AoS7eJjwU"
   },
   "source": [
    "### Build a model \n",
    "\n",
    "** with 2 Conv layers having `32 3*3 filters` in both convolutions with `relu activations` and `flatten` before passing the feature map into 2 fully connected layers (or Dense Layers) having 128 and 10 neurons with `relu` and `softmax` activations respectively. Now, using `categorical_crossentropy` loss with `adam` optimizer train the model with early stopping `patience=5` and no.of `epochs=10`. **"
   ]
  },
  {
   "cell_type": "code",
   "execution_count": null,
   "metadata": {},
   "outputs": [],
   "source": []
  },
  {
   "cell_type": "code",
   "execution_count": 0,
   "metadata": {
    "colab": {},
    "colab_type": "code",
    "id": "DORCLgSwJjwV"
   },
   "outputs": [],
   "source": []
  },
  {
   "cell_type": "markdown",
   "metadata": {
    "colab_type": "text",
    "id": "ju69vKdIJjwX"
   },
   "source": [
    "### Now, to the above model add `max` pooling layer of `filter size 2x2` and `dropout` layer with `p=0.25` after the 2 conv layers and run the model"
   ]
  },
  {
   "cell_type": "code",
   "execution_count": 0,
   "metadata": {
    "colab": {},
    "colab_type": "code",
    "id": "L2hAP94vJjwY"
   },
   "outputs": [],
   "source": []
  },
  {
   "cell_type": "markdown",
   "metadata": {
    "colab_type": "text",
    "id": "lGTA3bfEJjwa"
   },
   "source": [
    "### Now, to the above model, lets add Data Augmentation "
   ]
  },
  {
   "cell_type": "markdown",
   "metadata": {
    "colab_type": "text",
    "id": "F6gX8n5SJjwb"
   },
   "source": [
    "### Import the ImageDataGenrator from keras and fit the training images"
   ]
  },
  {
   "cell_type": "code",
   "execution_count": 0,
   "metadata": {
    "colab": {},
    "colab_type": "code",
    "id": "Cbz4uHBuJjwc"
   },
   "outputs": [],
   "source": []
  },
  {
   "cell_type": "markdown",
   "metadata": {
    "colab_type": "text",
    "id": "pl-8dOo7Jjwf"
   },
   "source": [
    "#### Showing 5 versions of the first image in training dataset using image datagenerator.flow()"
   ]
  },
  {
   "cell_type": "code",
   "execution_count": 0,
   "metadata": {
    "colab": {},
    "colab_type": "code",
    "id": "DpI1_McYJjwg",
    "outputId": "6722631e-c925-448c-c780-93a3100249bc",
    "scrolled": true
   },
   "outputs": [
    {
     "data": {
      "image/png": "[encoded data removed]",
      "text/plain": [
       "<matplotlib.figure.Figure at 0x7f5491602650>"
      ]
     },
     "metadata": {
      "tags": []
     },
     "output_type": "display_data"
    }
   ],
   "source": [
    "from matplotlib import pyplot as plt\n",
    "gen = datagen.flow(x_train[0:1], batch_size=1)\n",
    "for i in range(1, 6):\n",
    "    plt.subplot(1,5,i)\n",
    "    plt.axis(\"off\")\n",
    "    plt.imshow(gen.next().squeeze(), cmap='gray')\n",
    "    plt.plot()\n",
    "plt.show()"
   ]
  },
  {
   "cell_type": "markdown",
   "metadata": {
    "colab_type": "text",
    "id": "dmPl5yE8Jjwm"
   },
   "source": [
    "### Run the above model using fit_generator()"
   ]
  },
  {
   "cell_type": "code",
   "execution_count": 0,
   "metadata": {
    "colab": {},
    "colab_type": "code",
    "id": "44ZnDdJYJjwn"
   },
   "outputs": [],
   "source": []
  },
  {
   "cell_type": "markdown",
   "metadata": {
    "colab_type": "text",
    "id": "MwQQW5iOJjwq"
   },
   "source": [
    "###  Report the final train and validation accuracy"
   ]
  },
  {
   "cell_type": "code",
   "execution_count": 0,
   "metadata": {
    "colab": {},
    "colab_type": "code",
    "id": "c1SrtBEPJjwq"
   },
   "outputs": [],
   "source": []
  },
  {
   "cell_type": "code",
   "execution_count": 0,
   "metadata": {
    "colab": {},
    "colab_type": "code",
    "id": "ZBwVWNQC2qZD"
   },
   "outputs": [],
   "source": []
  },
  {
   "cell_type": "markdown",
   "metadata": {
    "colab_type": "text",
    "id": "8KXqmUDW2rM1"
   },
   "source": [
    "## **DATA AUGMENTATION ON CIFAR10 DATASET**"
   ]
  },
  {
   "cell_type": "markdown",
   "metadata": {
    "colab_type": "text",
    "id": "8mja6OgQ3L18"
   },
   "source": [
    "One of the best ways to improve the performance of a Deep Learning model is to add more data to the training set. Aside from gathering more instances from the wild that are representative of the distinction task, we want to develop a set of methods that enhance the data we already have. There are many ways to augment existing datasets and produce more robust models. In the image domain, these are done to utilize the full power of the convolutional neural network, which is able to capture translational invariance. This translational invariance is what makes image recognition such a difficult task in the first place. You want the dataset to be representative of the many different positions, angles, lightings, and miscellaneous distortions that are of interest to the vision task."
   ]
  },
  {
   "cell_type": "markdown",
   "metadata": {
    "colab_type": "text",
    "id": "6HzVTPUM3WZJ"
   },
   "source": [
    "### **Import neessary libraries for data augmentation**"
   ]
  },
  {
   "cell_type": "code",
   "execution_count": 0,
   "metadata": {
    "colab": {},
    "colab_type": "code",
    "id": "PPM558TX4KMb"
   },
   "outputs": [],
   "source": []
  },
  {
   "cell_type": "markdown",
   "metadata": {
    "colab_type": "text",
    "id": "W6hicLwP4SqY"
   },
   "source": [
    "### **Load CIFAR10 dataset**"
   ]
  },
  {
   "cell_type": "code",
   "execution_count": 0,
   "metadata": {
    "colab": {},
    "colab_type": "code",
    "id": "NQ1WzrXd4WNk"
   },
   "outputs": [],
   "source": []
  },
  {
   "cell_type": "code",
   "execution_count": 0,
   "metadata": {
    "colab": {},
    "colab_type": "code",
    "id": "R9Pht1ggHuiT"
   },
   "outputs": [],
   "source": []
  },
  {
   "cell_type": "code",
   "execution_count": 0,
   "metadata": {
    "colab": {},
    "colab_type": "code",
    "id": "3n28ccU6Hp6s"
   },
   "outputs": [],
   "source": []
  },
  {
   "cell_type": "markdown",
   "metadata": {
    "colab_type": "text",
    "id": "JN3vYYhK4W0u"
   },
   "source": [
    "### **Create a data_gen funtion to genererator with image rotation,shifting image horizontally and vertically with random flip horizontally.**"
   ]
  },
  {
   "cell_type": "code",
   "execution_count": 0,
   "metadata": {
    "colab": {},
    "colab_type": "code",
    "id": "JJbekTKi4cmM"
   },
   "outputs": [],
   "source": []
  },
  {
   "cell_type": "markdown",
   "metadata": {
    "colab_type": "text",
    "id": "e-SLtUhC4dK2"
   },
   "source": [
    "### **Prepare/fit the generator.**"
   ]
  },
  {
   "cell_type": "code",
   "execution_count": 0,
   "metadata": {
    "colab": {},
    "colab_type": "code",
    "id": "CSw8Bv2_4hb0"
   },
   "outputs": [],
   "source": []
  },
  {
   "cell_type": "markdown",
   "metadata": {
    "colab_type": "text",
    "id": "gYyF-P8O4jQ8"
   },
   "source": [
    "### **Generate 5 images for 1 of the image of CIFAR10 train dataset.**"
   ]
  },
  {
   "cell_type": "code",
   "execution_count": 0,
   "metadata": {
    "colab": {},
    "colab_type": "code",
    "id": "mXug4z234mwQ"
   },
   "outputs": [],
   "source": []
  }
 ],
 "metadata": {
  "accelerator": "GPU",
  "colab": {
   "collapsed_sections": [],
   "name": "R7_InternalLab_Questions.ipynb",
   "provenance": [],
   "version": "0.3.2"
  },
  "kernelspec": {
   "display_name": "Python 3",
   "language": "python",
   "name": "python3"
  },
  "language_info": {
   "codemirror_mode": {
    "name": "ipython",
    "version": 3
   },
   "file_extension": ".py",
   "mimetype": "text/x-python",
   "name": "python",
   "nbconvert_exporter": "python",
   "pygments_lexer": "ipython3",
   "version": "3.6.4"
  }
 },
 "nbformat": 4,
 "nbformat_minor": 1
}
