{
 "cells": [
  {
   "cell_type": "markdown",
   "metadata": {},
   "source": [
    "### This file was run on google colab"
   ]
  },
  {
   "cell_type": "code",
   "execution_count": 0,
   "metadata": {
    "colab": {},
    "colab_type": "code",
    "id": "b22oCtnRY0yv"
   },
   "outputs": [],
   "source": [
    "import h5py\n",
    "import numpy as np"
   ]
  },
  {
   "cell_type": "code",
   "execution_count": 0,
   "metadata": {
    "colab": {},
    "colab_type": "code",
    "id": "p3dKngRLNTWc"
   },
   "outputs": [],
   "source": [
    "import tensorflow as tf"
   ]
  },
  {
   "cell_type": "code",
   "execution_count": 0,
   "metadata": {
    "colab": {
     "base_uri": "https://localhost:8080/",
     "height": 34
    },
    "colab_type": "code",
    "id": "cjwM4MrENW0l",
    "outputId": "8aa77321-137c-4a9d-e525-cf782b499f7c"
   },
   "outputs": [
    {
     "data": {
      "text/plain": [
       "''"
      ]
     },
     "execution_count": 3,
     "metadata": {
      "tags": []
     },
     "output_type": "execute_result"
    }
   ],
   "source": [
    "tf.test.gpu_device_name()"
   ]
  },
  {
   "cell_type": "code",
   "execution_count": 0,
   "metadata": {
    "colab": {
     "base_uri": "https://localhost:8080/",
     "height": 34
    },
    "colab_type": "code",
    "id": "RmWTeHIINx8d",
    "outputId": "74c4679a-3e03-4a67-9c0b-6db242c9db1a"
   },
   "outputs": [
    {
     "name": "stderr",
     "output_type": "stream",
     "text": [
      "Using TensorFlow backend.\n"
     ]
    }
   ],
   "source": [
    "from keras.utils import np_utils\n",
    "from keras.utils import to_categorical\n",
    "from keras.models import Sequential\n",
    "from keras.layers import Dense\n",
    "from keras.callbacks import EarlyStopping\n",
    "from sklearn.model_selection import GridSearchCV\n",
    "from sklearn.metrics import accuracy_score\n",
    "from sklearn.metrics import make_scorer\n",
    "from keras.wrappers.scikit_learn import KerasClassifier"
   ]
  },
  {
   "cell_type": "code",
   "execution_count": 0,
   "metadata": {
    "colab": {},
    "colab_type": "code",
    "id": "BFUpRvrKOgiE"
   },
   "outputs": [],
   "source": [
    "import pandas as pd\n",
    "import matplotlib.pyplot as plt\n",
    "import seaborn as sns\n",
    "from scipy.io import loadmat\n",
    "from skimage import color\n",
    "from skimage import io\n",
    "from sklearn.model_selection import train_test_split"
   ]
  },
  {
   "cell_type": "code",
   "execution_count": 0,
   "metadata": {
    "colab": {},
    "colab_type": "code",
    "id": "HqCWSu7yO3NE"
   },
   "outputs": [],
   "source": [
    "import keras\n",
    "from keras.layers import Dense, Activation, Dropout, Flatten, Reshape,BatchNormalization"
   ]
  },
  {
   "cell_type": "code",
   "execution_count": 0,
   "metadata": {
    "colab": {},
    "colab_type": "code",
    "id": "0z_G5L__BFL7"
   },
   "outputs": [],
   "source": [
    "\n",
    "from sklearn.neighbors import KNeighborsClassifier\n",
    "from sklearn.metrics import confusion_matrix\n",
    "from sklearn.metrics import classification_report"
   ]
  },
  {
   "cell_type": "code",
   "execution_count": 0,
   "metadata": {
    "colab": {},
    "colab_type": "code",
    "id": "zMzWS8ZQZHQS"
   },
   "outputs": [],
   "source": [
    "f = h5py.File('SVHN_single_grey1.h5', 'r')"
   ]
  },
  {
   "cell_type": "code",
   "execution_count": 0,
   "metadata": {
    "colab": {
     "base_uri": "https://localhost:8080/",
     "height": 34
    },
    "colab_type": "code",
    "id": "9tcszolHZQSt",
    "outputId": "bc8ea01a-8396-4c7d-b3f0-0a96e3d8c979"
   },
   "outputs": [
    {
     "data": {
      "text/plain": [
       "['X_test', 'X_train', 'X_val', 'y_test', 'y_train', 'y_val']"
      ]
     },
     "execution_count": 9,
     "metadata": {
      "tags": []
     },
     "output_type": "execute_result"
    }
   ],
   "source": [
    "list(f.keys())\n"
   ]
  },
  {
   "cell_type": "code",
   "execution_count": 0,
   "metadata": {
    "colab": {},
    "colab_type": "code",
    "id": "Y50jX1cjHji6"
   },
   "outputs": [],
   "source": [
    "#h5 dataset to numpy array\n",
    "X_test = f['X_test'][:]\n",
    "X_train = f['X_train'][:]\n",
    "X_val = f['X_val'][:]\n",
    "y_test = f['y_test'][:]\n",
    "y_train = f['y_train'][:]\n",
    "y_val = f['y_val'][:]\n"
   ]
  },
  {
   "cell_type": "code",
   "execution_count": 0,
   "metadata": {
    "colab": {
     "base_uri": "https://localhost:8080/",
     "height": 119
    },
    "colab_type": "code",
    "id": "cP2BM62Batj5",
    "outputId": "45908acf-dbcb-4b6c-e82b-ec0dadeaeb4b"
   },
   "outputs": [
    {
     "name": "stdout",
     "output_type": "stream",
     "text": [
      "X_test shape.. (18000, 32, 32)\n",
      "X_train shape.. (42000, 32, 32)\n",
      "X_val shape.. (60000, 32, 32)\n",
      "y_test shape.. (18000,)\n",
      "y_train shape.. (42000,)\n",
      "y_val shape.. (60000,)\n"
     ]
    }
   ],
   "source": [
    "print(\"X_test shape..\",X_test.shape)\n",
    "print(\"X_train shape..\",X_train.shape)\n",
    "print(\"X_val shape..\",X_val.shape)\n",
    "print(\"y_test shape..\",y_test.shape)\n",
    "print(\"y_train shape..\",y_train.shape)\n",
    "print(\"y_val shape..\",y_val.shape)"
   ]
  },
  {
   "cell_type": "code",
   "execution_count": 0,
   "metadata": {
    "colab": {},
    "colab_type": "code",
    "id": "vBfH2MtpMzbi"
   },
   "outputs": [],
   "source": [
    "#numpy to 3D matrix\n",
    "x_train2 = X_train.reshape(X_train.shape[0], 32, 32, 1).astype('float32')\n",
    "x_test2 = X_test.reshape(X_test.shape[0], 32, 32, 1).astype('float32')\n",
    "x_val2 = X_val.reshape(X_val.shape[0], 32, 32, 1).astype('float32')\n",
    "y_train2 = y_train.reshape(y_train.shape[0], 1).astype('float32')\n",
    "y_test2 = y_test.reshape(y_test.shape[0],1).astype('float32')\n",
    "y_val2 = y_val.reshape(y_val.shape[0],1).astype('float32')"
   ]
  },
  {
   "cell_type": "code",
   "execution_count": 0,
   "metadata": {
    "colab": {
     "base_uri": "https://localhost:8080/",
     "height": 119
    },
    "colab_type": "code",
    "id": "jxlphN6LNkaV",
    "outputId": "b91b0e50-2d53-43cf-94d2-88465c86edd2"
   },
   "outputs": [
    {
     "name": "stdout",
     "output_type": "stream",
     "text": [
      "X_test shape.. (18000, 32, 32, 1)\n",
      "X_train shape.. (42000, 32, 32, 1)\n",
      "X_val shape.. (60000, 32, 32, 1)\n",
      "y_test shape.. (18000, 1)\n",
      "y_train shape.. (42000, 1)\n",
      "y_val shape.. (60000, 1)\n"
     ]
    }
   ],
   "source": [
    "print(\"X_test shape..\",x_test2.shape)\n",
    "print(\"X_train shape..\",x_train2.shape)\n",
    "print(\"X_val shape..\",x_val2.shape)\n",
    "print(\"y_test shape..\",y_test2.shape)\n",
    "print(\"y_train shape..\",y_train2.shape)\n",
    "print(\"y_val shape..\",y_val2.shape)"
   ]
  },
  {
   "cell_type": "code",
   "execution_count": 0,
   "metadata": {
    "colab": {},
    "colab_type": "code",
    "id": "kPv_O8P-NszC"
   },
   "outputs": [],
   "source": [
    "#converting y to categorical\n",
    "y_train2 = np_utils.to_categorical(y_train, 10)\n",
    "y_test2 = np_utils.to_categorical(y_test, 10)"
   ]
  },
  {
   "cell_type": "code",
   "execution_count": 0,
   "metadata": {
    "colab": {},
    "colab_type": "code",
    "id": "cP6ONr6VN4i8"
   },
   "outputs": [],
   "source": [
    "# normalizing the X\n",
    "x_train3 = X_train/255\n",
    "x_test3 = X_test/255"
   ]
  },
  {
   "cell_type": "code",
   "execution_count": 0,
   "metadata": {
    "colab": {
     "base_uri": "https://localhost:8080/",
     "height": 51
    },
    "colab_type": "code",
    "id": "kFxQeIM6Pxpd",
    "outputId": "e4f6089f-dc8c-41a3-fa08-9bc509092dcd"
   },
   "outputs": [
    {
     "name": "stdout",
     "output_type": "stream",
     "text": [
      "(42000, 32, 32)\n",
      "(42000, 10)\n"
     ]
    }
   ],
   "source": [
    "print(x_train3.shape)\n",
    "print(y_train2.shape)"
   ]
  },
  {
   "cell_type": "code",
   "execution_count": 0,
   "metadata": {
    "colab": {},
    "colab_type": "code",
    "id": "tE3_qwr_8pMv"
   },
   "outputs": [],
   "source": [
    "#plot the images\n",
    "def plot_images(img, labels, nrows, ncols):\n",
    "    \"\"\" Plot nrows x ncols images\n",
    "    \"\"\"\n",
    "    fig, axes = plt.subplots(nrows, ncols)\n",
    "    for i, ax in enumerate(axes.flat): \n",
    "        if img[i].shape == (32, 32, 3):\n",
    "            ax.imshow(img[i])\n",
    "        else:\n",
    "            ax.imshow(img[i,:,:,0])\n",
    "        ax.set_xticks([]); ax.set_yticks([])\n",
    "        ax.set_title(labels[i])"
   ]
  },
  {
   "cell_type": "code",
   "execution_count": 0,
   "metadata": {
    "colab": {
     "base_uri": "https://localhost:8080/",
     "height": 310
    },
    "colab_type": "code",
    "id": "jwrYj2oA8saK",
    "outputId": "69cf89cd-44e4-49a1-d9bc-e593dabb8c57"
   },
   "outputs": [
    {
     "name": "stderr",
     "output_type": "stream",
     "text": [
      "/usr/local/lib/python3.6/dist-packages/matplotlib/text.py:1191: FutureWarning: elementwise comparison failed; returning scalar instead, but in the future will perform elementwise comparison\n",
      "  if s != self._text:\n"
     ]
    },
    {
     "data": {
      "image/png": "[encoded data removed]",
      "text/plain": [
       "<Figure size 576x396 with 16 Axes>"
      ]
     },
     "metadata": {
      "tags": []
     },
     "output_type": "display_data"
    }
   ],
   "source": [
    "# Plot some training set images\n",
    "plot_images(x_train2, y_train2, 2, 8)"
   ]
  },
  {
   "cell_type": "code",
   "execution_count": 0,
   "metadata": {
    "colab": {
     "base_uri": "https://localhost:8080/",
     "height": 310
    },
    "colab_type": "code",
    "id": "cmINROAG8uvX",
    "outputId": "3117fdee-9d20-4730-b971-1741bb165067"
   },
   "outputs": [
    {
     "name": "stderr",
     "output_type": "stream",
     "text": [
      "/usr/local/lib/python3.6/dist-packages/matplotlib/text.py:1191: FutureWarning: elementwise comparison failed; returning scalar instead, but in the future will perform elementwise comparison\n",
      "  if s != self._text:\n"
     ]
    },
    {
     "data": {
      "image/png": "[encoded data removed]",
      "text/plain": [
       "<Figure size 576x396 with 16 Axes>"
      ]
     },
     "metadata": {
      "tags": []
     },
     "output_type": "display_data"
    }
   ],
   "source": [
    "# Plot some test set images\n",
    "plot_images(x_test2, y_test2, 2, 8)"
   ]
  },
  {
   "cell_type": "code",
   "execution_count": 0,
   "metadata": {
    "colab": {
     "base_uri": "https://localhost:8080/",
     "height": 434
    },
    "colab_type": "code",
    "id": "jj544M-99Kcm",
    "outputId": "627330d0-6ac7-436a-9270-f9ab183b05fd"
   },
   "outputs": [
    {
     "data": {
      "image/png": "[encoded data removed]",
      "text/plain": [
       "<Figure size 576x396 with 2 Axes>"
      ]
     },
     "metadata": {
      "tags": []
     },
     "output_type": "display_data"
    }
   ],
   "source": [
    "#lets check the class distribution\n",
    "fig, (ax1, ax2) = plt.subplots(1, 2, sharex=True)\n",
    "\n",
    "fig.suptitle('Class Distribution', fontsize=14, fontweight='bold', y=1.05)\n",
    "\n",
    "ax1.hist(y_train, bins=10)\n",
    "ax1.set_title(\"Training set\")\n",
    "ax1.set_xlim(1, 10)\n",
    "\n",
    "ax2.hist(y_test, color='g', bins=10)\n",
    "ax2.set_title(\"Test set\")\n",
    "\n",
    "fig.tight_layout()"
   ]
  },
  {
   "cell_type": "code",
   "execution_count": 0,
   "metadata": {
    "colab": {},
    "colab_type": "code",
    "id": "5inMeDHCAjVz"
   },
   "outputs": [],
   "source": [
    "#KNN initialization parameters\n",
    "\n",
    "kVals = range(1, 20, 2)\n",
    "accuracies = []"
   ]
  },
  {
   "cell_type": "code",
   "execution_count": 0,
   "metadata": {
    "colab": {},
    "colab_type": "code",
    "id": "2zegHorzAwPY"
   },
   "outputs": [],
   "source": [
    "X_train_reshaped = np.reshape(X_train,(42000,1024))\n",
    "X_test_reshaped = np.reshape(X_test,(18000,1024))"
   ]
  },
  {
   "cell_type": "code",
   "execution_count": 0,
   "metadata": {
    "colab": {
     "base_uri": "https://localhost:8080/",
     "height": 187
    },
    "colab_type": "code",
    "id": "J_Tu2OVVA9Kt",
    "outputId": "c86d0035-59d2-4766-fd4e-b0e669a91757"
   },
   "outputs": [
    {
     "name": "stdout",
     "output_type": "stream",
     "text": [
      "k=1, accuracy=45.92%\n",
      "k=3, accuracy=46.18%\n",
      "k=5, accuracy=49.02%\n",
      "k=7, accuracy=50.71%\n",
      "k=9, accuracy=51.24%\n",
      "k=11, accuracy=51.80%\n",
      "k=13, accuracy=52.11%\n",
      "k=15, accuracy=52.36%\n",
      "k=17, accuracy=52.87%\n",
      "k=19, accuracy=52.72%\n"
     ]
    }
   ],
   "source": [
    "for k in range(1, 20, 2):\n",
    "    model = KNeighborsClassifier(n_neighbors=k)\n",
    "    model.fit(X_train_reshaped, y_train)\n",
    "    score = model.score(X_test_reshaped, y_test)\n",
    "    print(\"k=%d, accuracy=%.2f%%\" % (k, score * 100))\n",
    "    accuracies.append(score)"
   ]
  },
  {
   "cell_type": "code",
   "execution_count": 0,
   "metadata": {
    "colab": {
     "base_uri": "https://localhost:8080/",
     "height": 204
    },
    "colab_type": "code",
    "id": "2qsKlYFBBjMQ",
    "outputId": "60105f27-2d5d-479e-a0c2-a6effc130405"
   },
   "outputs": [
    {
     "data": {
      "text/html": [
       "<div>\n",
       "<style scoped>\n",
       "    .dataframe tbody tr th:only-of-type {\n",
       "        vertical-align: middle;\n",
       "    }\n",
       "\n",
       "    .dataframe tbody tr th {\n",
       "        vertical-align: top;\n",
       "    }\n",
       "\n",
       "    .dataframe thead th {\n",
       "        text-align: right;\n",
       "    }\n",
       "</style>\n",
       "<table border=\"1\" class=\"dataframe\">\n",
       "  <thead>\n",
       "    <tr style=\"text-align: right;\">\n",
       "      <th></th>\n",
       "      <th>KNN-Accuracy</th>\n",
       "      <th>k</th>\n",
       "    </tr>\n",
       "  </thead>\n",
       "  <tbody>\n",
       "    <tr>\n",
       "      <th>0</th>\n",
       "      <td>0.459167</td>\n",
       "      <td>1</td>\n",
       "    </tr>\n",
       "    <tr>\n",
       "      <th>1</th>\n",
       "      <td>0.461778</td>\n",
       "      <td>3</td>\n",
       "    </tr>\n",
       "    <tr>\n",
       "      <th>2</th>\n",
       "      <td>0.490167</td>\n",
       "      <td>5</td>\n",
       "    </tr>\n",
       "    <tr>\n",
       "      <th>3</th>\n",
       "      <td>0.507056</td>\n",
       "      <td>7</td>\n",
       "    </tr>\n",
       "    <tr>\n",
       "      <th>4</th>\n",
       "      <td>0.512444</td>\n",
       "      <td>9</td>\n",
       "    </tr>\n",
       "  </tbody>\n",
       "</table>\n",
       "</div>"
      ],
      "text/plain": [
       "   KNN-Accuracy  k\n",
       "0      0.459167  1\n",
       "1      0.461778  3\n",
       "2      0.490167  5\n",
       "3      0.507056  7\n",
       "4      0.512444  9"
      ]
     },
     "execution_count": 25,
     "metadata": {
      "tags": []
     },
     "output_type": "execute_result"
    }
   ],
   "source": [
    "k_data = [1,3,5,7,9,11,13,15,17,19]\n",
    "df = pd.DataFrame(accuracies)\n",
    "df.rename(columns={0 : 'KNN-Accuracy'}, inplace=True)\n",
    "df[\"k\"] = k_data\n",
    "df.head()"
   ]
  },
  {
   "cell_type": "code",
   "execution_count": 0,
   "metadata": {
    "colab": {
     "base_uri": "https://localhost:8080/",
     "height": 294
    },
    "colab_type": "code",
    "id": "y4qyMEXTBkNw",
    "outputId": "afda0092-1c28-4941-8714-e2a5e6ec4027"
   },
   "outputs": [
    {
     "data": {
      "image/png": "[encoded data removed]",
      "text/plain": [
       "<Figure size 576x288 with 1 Axes>"
      ]
     },
     "metadata": {
      "tags": []
     },
     "output_type": "display_data"
    }
   ],
   "source": [
    "# Elbow graph\n",
    "plt.figure(figsize = (8,4))\n",
    "plt.style.use('seaborn-whitegrid')\n",
    "ax = plt.axes()\n",
    "ax.plot(df[\"k\"],df[\"KNN-Accuracy\"])\n",
    "ax.set(xlim=(0,30),ylim=(0.45,0.55),xlabel = \"K-Nearest Neigbors\",ylabel=\"Accuracy Scores\",title=\"KNN Simulation\")\n",
    "plt.xticks(range(0,30,1))\n",
    "plt.legend()\n",
    "plt.show()"
   ]
  },
  {
   "cell_type": "code",
   "execution_count": 0,
   "metadata": {
    "colab": {
     "base_uri": "https://localhost:8080/",
     "height": 34
    },
    "colab_type": "code",
    "id": "rpCNah4kBo2N",
    "outputId": "88eef994-26e1-40ce-b29e-58a48dc02e4c"
   },
   "outputs": [
    {
     "name": "stdout",
     "output_type": "stream",
     "text": [
      "k=17 achieved highest accuracy of 52.87% on validation data\n"
     ]
    }
   ],
   "source": [
    "i = np.argmax(accuracies)\n",
    "print(\"k=%d achieved highest accuracy of %.2f%% on validation data\" % (kVals[i],accuracies[i] * 100))"
   ]
  },
  {
   "cell_type": "code",
   "execution_count": 0,
   "metadata": {
    "colab": {},
    "colab_type": "code",
    "id": "t4rqAARHBsay"
   },
   "outputs": [],
   "source": [
    "# re-train our classifier using the best k value and predict the labels of the\n",
    "# test data\n",
    "\n",
    "model = KNeighborsClassifier(n_neighbors=kVals[i])\n",
    "model.fit(X_train_reshaped, y_train)\n",
    "predictions = model.predict(X_test_reshaped)"
   ]
  },
  {
   "cell_type": "code",
   "execution_count": 0,
   "metadata": {
    "colab": {
     "base_uri": "https://localhost:8080/",
     "height": 510
    },
    "colab_type": "code",
    "id": "50478-4MBv22",
    "outputId": "7858f570-9601-4e49-d255-cbc81228cee3"
   },
   "outputs": [
    {
     "name": "stdout",
     "output_type": "stream",
     "text": [
      "Confusion matrix\n",
      "[[1274   66   34   35   46   45   98   39   78   99]\n",
      " [  99 1335   55   95   69   36   31   46   26   36]\n",
      " [  94  226 1000   95   44   37   35  141   52   79]\n",
      " [ 129  260  135  736   47  160   36   57   94   65]\n",
      " [ 105  249   41   60 1177   16   54   19   43   48]\n",
      " [ 165  172   47  269   58  693  137   31  119   77]\n",
      " [ 319  128   40   67  135  116  744   21  202   60]\n",
      " [ 100  209  110   88   27   37   37 1128   24   48]\n",
      " [ 247  119   68  114   94  115  265   25  654  111]\n",
      " [ 323  142   71   89   71   93   55   73  111  776]]\n",
      "EVALUATION ON TESTING DATA\n",
      "              precision    recall  f1-score   support\n",
      "\n",
      "           0       0.45      0.70      0.55      1814\n",
      "           1       0.46      0.73      0.56      1828\n",
      "           2       0.62      0.55      0.59      1803\n",
      "           3       0.45      0.43      0.44      1719\n",
      "           4       0.67      0.65      0.66      1812\n",
      "           5       0.51      0.39      0.44      1768\n",
      "           6       0.50      0.41      0.45      1832\n",
      "           7       0.71      0.62      0.67      1808\n",
      "           8       0.47      0.36      0.41      1812\n",
      "           9       0.55      0.43      0.48      1804\n",
      "\n",
      "   micro avg       0.53      0.53      0.53     18000\n",
      "   macro avg       0.54      0.53      0.52     18000\n",
      "weighted avg       0.54      0.53      0.52     18000\n",
      "\n"
     ]
    }
   ],
   "source": [
    "#final classification matrix\n",
    "\n",
    "print (\"Confusion matrix\")\n",
    "print(confusion_matrix(y_test,predictions))\n",
    "\n",
    "print(\"test data evaluation\")\n",
    "print(classification_report(y_test, predictions))"
   ]
  },
  {
   "cell_type": "code",
   "execution_count": 0,
   "metadata": {
    "colab": {},
    "colab_type": "code",
    "id": "ygEHa0fWODn1"
   },
   "outputs": [],
   "source": [
    "import matplotlib.pyplot as plt"
   ]
  },
  {
   "cell_type": "code",
   "execution_count": 0,
   "metadata": {
    "colab": {},
    "colab_type": "code",
    "id": "tMVGkqq1T1Eq"
   },
   "outputs": [],
   "source": []
  },
  {
   "cell_type": "code",
   "execution_count": 0,
   "metadata": {
    "colab": {
     "base_uri": "https://localhost:8080/",
     "height": 1176
    },
    "colab_type": "code",
    "id": "b3baAnHKOQKe",
    "outputId": "e387b40f-9ae9-4427-dfa8-0238e2354317"
   },
   "outputs": [
    {
     "name": "stdout",
     "output_type": "stream",
     "text": [
      "WARNING:tensorflow:From /usr/local/lib/python3.6/dist-packages/tensorflow/python/framework/op_def_library.py:263: colocate_with (from tensorflow.python.framework.ops) is deprecated and will be removed in a future version.\n",
      "Instructions for updating:\n",
      "Colocations handled automatically by placer.\n",
      "WARNING:tensorflow:From /usr/local/lib/python3.6/dist-packages/tensorflow/python/ops/math_ops.py:3066: to_int32 (from tensorflow.python.ops.math_ops) is deprecated and will be removed in a future version.\n",
      "Instructions for updating:\n",
      "Use tf.cast instead.\n",
      "Train on 42000 samples, validate on 18000 samples\n",
      "Epoch 1/30\n",
      "42000/42000 [==============================] - 3s 68us/step - loss: 2.2446 - acc: 0.1627 - val_loss: 2.0179 - val_acc: 0.2960\n",
      "Epoch 2/30\n",
      "42000/42000 [==============================] - 2s 51us/step - loss: 1.7012 - acc: 0.4340 - val_loss: 1.4729 - val_acc: 0.5308\n",
      "Epoch 3/30\n",
      "42000/42000 [==============================] - 2s 51us/step - loss: 1.3650 - acc: 0.5694 - val_loss: 1.2574 - val_acc: 0.6142\n",
      "Epoch 4/30\n",
      "42000/42000 [==============================] - 2s 51us/step - loss: 1.2055 - acc: 0.6282 - val_loss: 1.1229 - val_acc: 0.6604\n",
      "Epoch 5/30\n",
      "42000/42000 [==============================] - 2s 52us/step - loss: 1.1138 - acc: 0.6606 - val_loss: 1.0599 - val_acc: 0.6758\n",
      "Epoch 6/30\n",
      "42000/42000 [==============================] - 2s 53us/step - loss: 1.0567 - acc: 0.6754 - val_loss: 1.0289 - val_acc: 0.6864\n",
      "Epoch 7/30\n",
      "42000/42000 [==============================] - 2s 54us/step - loss: 1.0031 - acc: 0.6927 - val_loss: 0.9821 - val_acc: 0.7022\n",
      "Epoch 8/30\n",
      "42000/42000 [==============================] - 2s 57us/step - loss: 0.9632 - acc: 0.7073 - val_loss: 0.9712 - val_acc: 0.7048\n",
      "Epoch 9/30\n",
      "42000/42000 [==============================] - 2s 55us/step - loss: 0.9276 - acc: 0.7173 - val_loss: 0.9171 - val_acc: 0.7224\n",
      "Epoch 10/30\n",
      "42000/42000 [==============================] - 2s 57us/step - loss: 0.8932 - acc: 0.7299 - val_loss: 0.9220 - val_acc: 0.7192\n",
      "Epoch 11/30\n",
      "42000/42000 [==============================] - 2s 57us/step - loss: 0.8815 - acc: 0.7309 - val_loss: 0.8956 - val_acc: 0.7286\n",
      "Epoch 12/30\n",
      "42000/42000 [==============================] - 2s 53us/step - loss: 0.8487 - acc: 0.7419 - val_loss: 0.8676 - val_acc: 0.7386\n",
      "Epoch 13/30\n",
      "42000/42000 [==============================] - 2s 52us/step - loss: 0.8413 - acc: 0.7441 - val_loss: 0.8569 - val_acc: 0.7409\n",
      "Epoch 14/30\n",
      "42000/42000 [==============================] - 2s 52us/step - loss: 0.8118 - acc: 0.7540 - val_loss: 0.8551 - val_acc: 0.7436\n",
      "Epoch 15/30\n",
      "42000/42000 [==============================] - 2s 54us/step - loss: 0.8035 - acc: 0.7566 - val_loss: 0.8795 - val_acc: 0.7307\n",
      "Epoch 16/30\n",
      "42000/42000 [==============================] - 2s 54us/step - loss: 0.7926 - acc: 0.7590 - val_loss: 0.8281 - val_acc: 0.7479\n",
      "Epoch 17/30\n",
      "42000/42000 [==============================] - 2s 54us/step - loss: 0.7744 - acc: 0.7657 - val_loss: 0.8297 - val_acc: 0.7515\n",
      "Epoch 18/30\n",
      "42000/42000 [==============================] - 2s 53us/step - loss: 0.7592 - acc: 0.7704 - val_loss: 0.8244 - val_acc: 0.7510\n",
      "Epoch 19/30\n",
      "42000/42000 [==============================] - 2s 53us/step - loss: 0.7501 - acc: 0.7723 - val_loss: 0.8310 - val_acc: 0.7528\n",
      "Epoch 20/30\n",
      "42000/42000 [==============================] - 2s 53us/step - loss: 0.7341 - acc: 0.7784 - val_loss: 0.8109 - val_acc: 0.7631\n",
      "Epoch 21/30\n",
      "42000/42000 [==============================] - 2s 52us/step - loss: 0.7267 - acc: 0.7785 - val_loss: 0.7908 - val_acc: 0.7626\n",
      "Epoch 22/30\n",
      "42000/42000 [==============================] - 2s 53us/step - loss: 0.7151 - acc: 0.7839 - val_loss: 0.7676 - val_acc: 0.7746\n",
      "Epoch 23/30\n",
      "42000/42000 [==============================] - 2s 52us/step - loss: 0.7080 - acc: 0.7848 - val_loss: 0.7517 - val_acc: 0.7766\n",
      "Epoch 24/30\n",
      "42000/42000 [==============================] - 2s 52us/step - loss: 0.7020 - acc: 0.7892 - val_loss: 0.7498 - val_acc: 0.7784\n",
      "Epoch 25/30\n",
      "42000/42000 [==============================] - 2s 53us/step - loss: 0.6804 - acc: 0.7961 - val_loss: 0.7769 - val_acc: 0.7668\n",
      "Epoch 26/30\n",
      "42000/42000 [==============================] - 2s 51us/step - loss: 0.6758 - acc: 0.7958 - val_loss: 0.7305 - val_acc: 0.7871\n",
      "Epoch 27/30\n",
      "42000/42000 [==============================] - 2s 51us/step - loss: 0.6693 - acc: 0.7990 - val_loss: 0.7475 - val_acc: 0.7779\n",
      "Epoch 28/30\n",
      "42000/42000 [==============================] - 2s 52us/step - loss: 0.6589 - acc: 0.8018 - val_loss: 0.7593 - val_acc: 0.7752\n",
      "Epoch 29/30\n",
      "42000/42000 [==============================] - 2s 54us/step - loss: 0.6529 - acc: 0.8038 - val_loss: 0.7403 - val_acc: 0.7842\n",
      "Epoch 30/30\n",
      "42000/42000 [==============================] - 2s 55us/step - loss: 0.6446 - acc: 0.8057 - val_loss: 0.7242 - val_acc: 0.7902\n"
     ]
    }
   ],
   "source": [
    "#basic NN model\n",
    "model =Sequential ()\n",
    "model.add(Reshape((1024,),input_shape=(32,32,)))\n",
    "model.add(Dense(200, activation='relu'))\n",
    "model.add(Dense(100, activation='relu'))\n",
    "#model.add(Dropout(0.25))\n",
    "model.add(Dense(10, activation='softmax'))\n",
    "\n",
    "model.compile(loss='categorical_crossentropy', optimizer='adam', metrics=['accuracy'])\n",
    "history = model.fit(x_train3,y_train2,validation_data=(x_test3,y_test2),epochs=30,batch_size = 200)"
   ]
  },
  {
   "cell_type": "code",
   "execution_count": 0,
   "metadata": {
    "colab": {
     "base_uri": "https://localhost:8080/",
     "height": 735
    },
    "colab_type": "code",
    "id": "2pS4fvMqNWn7",
    "outputId": "8fda1c28-e63a-4876-9480-75a9c976c16e"
   },
   "outputs": [
    {
     "data": {
      "image/png": "[encoded data removed]",
      "text/plain": [
       "<Figure size 576x396 with 1 Axes>"
      ]
     },
     "metadata": {
      "tags": []
     },
     "output_type": "display_data"
    },
    {
     "data": {
      "image/png": "[encoded data removed]",
      "text/plain": [
       "<Figure size 576x396 with 1 Axes>"
      ]
     },
     "metadata": {
      "tags": []
     },
     "output_type": "display_data"
    }
   ],
   "source": [
    "plt.plot(history.history['acc'])\n",
    "plt.plot(history.history['val_acc'])\n",
    "plt.title('model accuracy')\n",
    "plt.ylabel('accuracy')\n",
    "plt.xlabel('epoch')\n",
    "plt.legend(['train', 'test'], loc='upper left')\n",
    "plt.show()\n",
    "# summarize history for loss\n",
    "plt.plot(history.history['loss'])\n",
    "plt.plot(history.history['val_loss'])\n",
    "plt.title('model loss')\n",
    "plt.ylabel('loss')\n",
    "plt.xlabel('epoch')\n",
    "plt.legend(['train', 'test'], loc='upper left')\n",
    "plt.show()"
   ]
  },
  {
   "cell_type": "code",
   "execution_count": 0,
   "metadata": {
    "colab": {
     "base_uri": "https://localhost:8080/",
     "height": 51
    },
    "colab_type": "code",
    "id": "g7vnCpRk-C3a",
    "outputId": "3212c95d-d179-4259-b3cd-2d1fc49448d9"
   },
   "outputs": [
    {
     "name": "stdout",
     "output_type": "stream",
     "text": [
      "18000/18000 [==============================] - 1s 41us/step\n",
      "Accuracy:  79.01666666666667\n"
     ]
    }
   ],
   "source": [
    "accuracy = model.evaluate(x=x_test3,y=y_test2)\n",
    "print(\"Accuracy: \", accuracy[1]*100)"
   ]
  },
  {
   "cell_type": "code",
   "execution_count": 0,
   "metadata": {
    "colab": {},
    "colab_type": "code",
    "id": "HGJKiOfSK-FA"
   },
   "outputs": [],
   "source": [
    "from keras import losses"
   ]
  },
  {
   "cell_type": "code",
   "execution_count": 0,
   "metadata": {
    "colab": {},
    "colab_type": "code",
    "id": "WQNAuq3mFxBI"
   },
   "outputs": [],
   "source": [
    "df = []"
   ]
  },
  {
   "cell_type": "code",
   "execution_count": 0,
   "metadata": {
    "colab": {},
    "colab_type": "code",
    "id": "7v7QGX3uJJNj"
   },
   "outputs": [],
   "source": []
  },
  {
   "cell_type": "markdown",
   "metadata": {
    "colab": {},
    "colab_type": "code",
    "id": "XJTg3Tvh9JQK"
   },
   "source": [
    "### various loss functions in keras for classification includes 1.Categorical cross entropy 2.sparse categorical crossentropy 3.binary crossentropy 4.kullback_leibler_divergence 5.poisson"
   ]
  },
  {
   "cell_type": "markdown",
   "metadata": {
    "colab": {},
    "colab_type": "code",
    "id": "BJH9-p3T_TFq"
   },
   "source": [
    "### grid search gives memory error hence simulating manually each and every optimizers with various loss functions\n"
   ]
  },
  {
   "cell_type": "markdown",
   "metadata": {
    "colab": {},
    "colab_type": "code",
    "id": "8vDyLO-pFLIo"
   },
   "source": [
    "### simulation follows like this\n",
    "####  1.Optimizer is choosen like SGD, Adam and RMS prop\n",
    "#### 2. for each optimizer run the basic model\n",
    "#### 3. Add batch normalization layer\n",
    "####   4. Add drop out layer along with batch normalization\n",
    "#### repeat the above steps with diffrent loss functions like categorical cross entropy and KL divergence\n",
    "#### add all the accuracy, loss of training and testing in a dataframe and choose the best model.\n"
   ]
  },
  {
   "cell_type": "markdown",
   "metadata": {
    "colab": {},
    "colab_type": "code",
    "id": "IgB4ika2Tt4p"
   },
   "source": [
    "### 1.SGD optimizer \n",
    "#### with loss functions as a. categorical cross entropy b. KL-divergence\n",
    "#### with and without batch normalization\n",
    "#### with and without drop out layer."
   ]
  },
  {
   "cell_type": "code",
   "execution_count": 0,
   "metadata": {
    "colab": {},
    "colab_type": "code",
    "id": "25c5idE8_5Nj"
   },
   "outputs": [],
   "source": [
    "#without drop-out and without batch normalization with 2 types of losses.\n",
    "def create_model(loss_type,optimizer='SGD'): \n",
    "  model =Sequential ()\n",
    "  model.add(Reshape((1024,),input_shape=(32,32,)))\n",
    "  model.add(Dense(300, activation='relu'))\n",
    "  model.add(Dense(200, activation='relu'))\n",
    "  model.add(Dense(200, activation='relu'))\n",
    "  model.add(Dense(250, activation='relu'))\n",
    "  #model.add(Dropout(0.5))\n",
    "  model.add(Dense(10, activation='softmax'))\n",
    "  model.compile(loss=loss_type, optimizer=optimizer, metrics=['accuracy'])\n",
    "  return model"
   ]
  },
  {
   "cell_type": "code",
   "execution_count": 0,
   "metadata": {
    "colab": {
     "base_uri": "https://localhost:8080/",
     "height": 1074
    },
    "colab_type": "code",
    "id": "kCQnGouw_5a0",
    "outputId": "59b7e45a-a63d-449f-e40e-000a1e853bdd"
   },
   "outputs": [
    {
     "name": "stdout",
     "output_type": "stream",
     "text": [
      "Train on 42000 samples, validate on 18000 samples\n",
      "Epoch 1/30\n",
      "42000/42000 [==============================] - 4s 92us/step - loss: 2.2991 - acc: 0.1268 - val_loss: 2.2930 - val_acc: 0.1428\n",
      "Epoch 2/30\n",
      "42000/42000 [==============================] - 4s 90us/step - loss: 2.2890 - acc: 0.1694 - val_loss: 2.2840 - val_acc: 0.1871\n",
      "Epoch 3/30\n",
      "42000/42000 [==============================] - 4s 90us/step - loss: 2.2790 - acc: 0.2073 - val_loss: 2.2725 - val_acc: 0.2386\n",
      "Epoch 4/30\n",
      "42000/42000 [==============================] - 4s 89us/step - loss: 2.2658 - acc: 0.2415 - val_loss: 2.2571 - val_acc: 0.2589\n",
      "Epoch 5/30\n",
      "42000/42000 [==============================] - 4s 91us/step - loss: 2.2473 - acc: 0.2761 - val_loss: 2.2333 - val_acc: 0.2931\n",
      "Epoch 6/30\n",
      "42000/42000 [==============================] - 4s 91us/step - loss: 2.2179 - acc: 0.3053 - val_loss: 2.1962 - val_acc: 0.2994\n",
      "Epoch 7/30\n",
      "42000/42000 [==============================] - 4s 91us/step - loss: 2.1707 - acc: 0.3265 - val_loss: 2.1359 - val_acc: 0.3388\n",
      "Epoch 8/30\n",
      "42000/42000 [==============================] - 4s 91us/step - loss: 2.0971 - acc: 0.3519 - val_loss: 2.0462 - val_acc: 0.3666\n",
      "Epoch 9/30\n",
      "42000/42000 [==============================] - 4s 91us/step - loss: 1.9940 - acc: 0.3822 - val_loss: 1.9297 - val_acc: 0.4057\n",
      "Epoch 10/30\n",
      "42000/42000 [==============================] - 4s 91us/step - loss: 1.8793 - acc: 0.4135 - val_loss: 1.7984 - val_acc: 0.4453\n",
      "Epoch 11/30\n",
      "42000/42000 [==============================] - 4s 89us/step - loss: 1.7739 - acc: 0.4350 - val_loss: 1.7140 - val_acc: 0.4622\n",
      "Epoch 12/30\n",
      "42000/42000 [==============================] - 4s 88us/step - loss: 1.6887 - acc: 0.4548 - val_loss: 1.5990 - val_acc: 0.5084\n",
      "Epoch 13/30\n",
      "42000/42000 [==============================] - 4s 88us/step - loss: 1.6041 - acc: 0.4874 - val_loss: 1.6332 - val_acc: 0.4536\n",
      "Epoch 14/30\n",
      "42000/42000 [==============================] - 4s 89us/step - loss: 1.5304 - acc: 0.5121 - val_loss: 1.4525 - val_acc: 0.5473\n",
      "Epoch 15/30\n",
      "42000/42000 [==============================] - 4s 89us/step - loss: 1.4700 - acc: 0.5328 - val_loss: 1.4120 - val_acc: 0.5549\n",
      "Epoch 16/30\n",
      "42000/42000 [==============================] - 4s 90us/step - loss: 1.4019 - acc: 0.5590 - val_loss: 1.4646 - val_acc: 0.5092\n",
      "Epoch 17/30\n",
      "42000/42000 [==============================] - 4s 90us/step - loss: 1.3564 - acc: 0.5710 - val_loss: 1.2826 - val_acc: 0.6055\n",
      "Epoch 18/30\n",
      "42000/42000 [==============================] - 4s 90us/step - loss: 1.3015 - acc: 0.5874 - val_loss: 1.2797 - val_acc: 0.5916\n",
      "Epoch 19/30\n",
      "42000/42000 [==============================] - 4s 90us/step - loss: 1.2620 - acc: 0.6019 - val_loss: 1.2274 - val_acc: 0.6086\n",
      "Epoch 20/30\n",
      "42000/42000 [==============================] - 4s 89us/step - loss: 1.2327 - acc: 0.6105 - val_loss: 1.1999 - val_acc: 0.6283\n",
      "Epoch 21/30\n",
      "42000/42000 [==============================] - 4s 90us/step - loss: 1.2067 - acc: 0.6206 - val_loss: 1.1648 - val_acc: 0.6415\n",
      "Epoch 22/30\n",
      "42000/42000 [==============================] - 4s 90us/step - loss: 1.1712 - acc: 0.6339 - val_loss: 1.1797 - val_acc: 0.6262\n",
      "Epoch 23/30\n",
      "42000/42000 [==============================] - 4s 89us/step - loss: 1.1528 - acc: 0.6401 - val_loss: 1.1585 - val_acc: 0.6381\n",
      "Epoch 24/30\n",
      "42000/42000 [==============================] - 4s 89us/step - loss: 1.1289 - acc: 0.6468 - val_loss: 1.0931 - val_acc: 0.6680\n",
      "Epoch 25/30\n",
      "42000/42000 [==============================] - 4s 90us/step - loss: 1.1102 - acc: 0.6537 - val_loss: 1.1159 - val_acc: 0.6519\n",
      "Epoch 26/30\n",
      "42000/42000 [==============================] - 4s 89us/step - loss: 1.0817 - acc: 0.6639 - val_loss: 1.0509 - val_acc: 0.6849\n",
      "Epoch 27/30\n",
      "42000/42000 [==============================] - 4s 89us/step - loss: 1.0640 - acc: 0.6691 - val_loss: 1.0687 - val_acc: 0.6742\n",
      "Epoch 28/30\n",
      "42000/42000 [==============================] - 4s 89us/step - loss: 1.0399 - acc: 0.6792 - val_loss: 1.0344 - val_acc: 0.6846\n",
      "Epoch 29/30\n",
      "42000/42000 [==============================] - 4s 89us/step - loss: 1.0261 - acc: 0.6825 - val_loss: 1.0303 - val_acc: 0.6845\n",
      "Epoch 30/30\n",
      "42000/42000 [==============================] - 4s 89us/step - loss: 1.0106 - acc: 0.6871 - val_loss: 0.9989 - val_acc: 0.6931\n"
     ]
    }
   ],
   "source": [
    "#categorical crossentropy without batch normalization\n",
    "model1 =create_model('categorical_crossentropy')\n",
    "model1_result = model1.fit(x_train3,y_train2,validation_data=(x_test3,y_test2),epochs=30,batch_size = 200)"
   ]
  },
  {
   "cell_type": "code",
   "execution_count": 0,
   "metadata": {
    "colab": {
     "base_uri": "https://localhost:8080/",
     "height": 1074
    },
    "colab_type": "code",
    "id": "HKouehefEhP3",
    "outputId": "0f5fd234-4ed6-4854-c474-0e1f805d9b4f"
   },
   "outputs": [
    {
     "name": "stdout",
     "output_type": "stream",
     "text": [
      "Train on 42000 samples, validate on 18000 samples\n",
      "Epoch 1/30\n",
      "42000/42000 [==============================] - 4s 102us/step - loss: 2.2987 - acc: 0.1245 - val_loss: 2.2913 - val_acc: 0.1225\n",
      "Epoch 2/30\n",
      "42000/42000 [==============================] - 4s 92us/step - loss: 2.2856 - acc: 0.1612 - val_loss: 2.2791 - val_acc: 0.1827\n",
      "Epoch 3/30\n",
      "42000/42000 [==============================] - 4s 89us/step - loss: 2.2729 - acc: 0.1913 - val_loss: 2.2639 - val_acc: 0.2209\n",
      "Epoch 4/30\n",
      "42000/42000 [==============================] - 4s 90us/step - loss: 2.2560 - acc: 0.2284 - val_loss: 2.2429 - val_acc: 0.2603\n",
      "Epoch 5/30\n",
      "42000/42000 [==============================] - 4s 88us/step - loss: 2.2297 - acc: 0.2720 - val_loss: 2.2089 - val_acc: 0.3097\n",
      "Epoch 6/30\n",
      "42000/42000 [==============================] - 4s 88us/step - loss: 2.1878 - acc: 0.3148 - val_loss: 2.1566 - val_acc: 0.3229\n",
      "Epoch 7/30\n",
      "42000/42000 [==============================] - 4s 93us/step - loss: 2.1207 - acc: 0.3482 - val_loss: 2.0714 - val_acc: 0.3604\n",
      "Epoch 8/30\n",
      "42000/42000 [==============================] - 4s 90us/step - loss: 2.0190 - acc: 0.3758 - val_loss: 1.9507 - val_acc: 0.3957\n",
      "Epoch 9/30\n",
      "42000/42000 [==============================] - 4s 88us/step - loss: 1.8923 - acc: 0.4045 - val_loss: 1.8399 - val_acc: 0.3889\n",
      "Epoch 10/30\n",
      "42000/42000 [==============================] - 4s 86us/step - loss: 1.7755 - acc: 0.4246 - val_loss: 1.7264 - val_acc: 0.4542\n",
      "Epoch 11/30\n",
      "42000/42000 [==============================] - 4s 85us/step - loss: 1.6805 - acc: 0.4551 - val_loss: 1.6106 - val_acc: 0.4894\n",
      "Epoch 12/30\n",
      "42000/42000 [==============================] - 4s 86us/step - loss: 1.6039 - acc: 0.4844 - val_loss: 1.5464 - val_acc: 0.4987\n",
      "Epoch 13/30\n",
      "42000/42000 [==============================] - 4s 88us/step - loss: 1.5333 - acc: 0.5112 - val_loss: 1.4311 - val_acc: 0.5584\n",
      "Epoch 14/30\n",
      "42000/42000 [==============================] - 4s 88us/step - loss: 1.4601 - acc: 0.5345 - val_loss: 1.4830 - val_acc: 0.5092\n",
      "Epoch 15/30\n",
      "42000/42000 [==============================] - 4s 90us/step - loss: 1.4119 - acc: 0.5499 - val_loss: 1.3967 - val_acc: 0.5531\n",
      "Epoch 16/30\n",
      "42000/42000 [==============================] - 4s 90us/step - loss: 1.3544 - acc: 0.5714 - val_loss: 1.3017 - val_acc: 0.6007\n",
      "Epoch 17/30\n",
      "42000/42000 [==============================] - 4s 88us/step - loss: 1.3157 - acc: 0.5846 - val_loss: 1.2944 - val_acc: 0.5899\n",
      "Epoch 18/30\n",
      "42000/42000 [==============================] - 4s 87us/step - loss: 1.2785 - acc: 0.5993 - val_loss: 1.2714 - val_acc: 0.5963\n",
      "Epoch 19/30\n",
      "42000/42000 [==============================] - 4s 89us/step - loss: 1.2357 - acc: 0.6149 - val_loss: 1.2027 - val_acc: 0.6274\n",
      "Epoch 20/30\n",
      "42000/42000 [==============================] - 4s 88us/step - loss: 1.2054 - acc: 0.6231 - val_loss: 1.1673 - val_acc: 0.6416\n",
      "Epoch 21/30\n",
      "42000/42000 [==============================] - 4s 89us/step - loss: 1.1737 - acc: 0.6352 - val_loss: 1.1874 - val_acc: 0.6291\n",
      "Epoch 22/30\n",
      "42000/42000 [==============================] - 4s 90us/step - loss: 1.1411 - acc: 0.6486 - val_loss: 1.1604 - val_acc: 0.6335\n",
      "Epoch 23/30\n",
      "42000/42000 [==============================] - 4s 89us/step - loss: 1.1227 - acc: 0.6515 - val_loss: 1.1636 - val_acc: 0.6341\n",
      "Epoch 24/30\n",
      "42000/42000 [==============================] - 4s 90us/step - loss: 1.0952 - acc: 0.6621 - val_loss: 1.1153 - val_acc: 0.6546\n",
      "Epoch 25/30\n",
      "42000/42000 [==============================] - 4s 89us/step - loss: 1.0689 - acc: 0.6718 - val_loss: 1.0367 - val_acc: 0.6862\n",
      "Epoch 26/30\n",
      "42000/42000 [==============================] - 4s 90us/step - loss: 1.0477 - acc: 0.6792 - val_loss: 1.0739 - val_acc: 0.6666\n",
      "Epoch 27/30\n",
      "42000/42000 [==============================] - 4s 90us/step - loss: 1.0273 - acc: 0.6845 - val_loss: 1.0296 - val_acc: 0.6849\n",
      "Epoch 28/30\n",
      "42000/42000 [==============================] - 4s 91us/step - loss: 1.0073 - acc: 0.6908 - val_loss: 0.9836 - val_acc: 0.7011\n",
      "Epoch 29/30\n",
      "42000/42000 [==============================] - 4s 89us/step - loss: 0.9868 - acc: 0.6996 - val_loss: 0.9941 - val_acc: 0.6958\n",
      "Epoch 30/30\n",
      "42000/42000 [==============================] - 4s 90us/step - loss: 0.9728 - acc: 0.7022 - val_loss: 0.9657 - val_acc: 0.7078\n"
     ]
    }
   ],
   "source": [
    "#KL divergence without batch normalization\n",
    "model2 =create_model(losses.kullback_leibler_divergence)\n",
    "model2_result = model2.fit(x_train3,y_train2,validation_data=(x_test3,y_test2),epochs=30,batch_size = 200)"
   ]
  },
  {
   "cell_type": "code",
   "execution_count": 0,
   "metadata": {
    "colab": {},
    "colab_type": "code",
    "id": "Zfi1jGBIDUDB"
   },
   "outputs": [],
   "source": [
    "#SGD with batch normalization\n",
    "def create_model_withBN(loss_type,optimizer='SGD'): \n",
    "  model =Sequential ()\n",
    "  model.add(Reshape((1024,),input_shape=(32,32,)))\n",
    "  model.add(BatchNormalization())\n",
    "  model.add(Dense(300, activation='relu'))\n",
    "  model.add(Dense(200, activation='relu'))\n",
    "  model.add(Dense(200, activation='relu'))\n",
    "  model.add(Dense(250, activation='relu'))\n",
    "  #model.add(Dropout(0.5))\n",
    "  model.add(Dense(10, activation='softmax'))\n",
    "  model.compile(loss=loss_type, optimizer=optimizer, metrics=['accuracy'])\n",
    "  return model"
   ]
  },
  {
   "cell_type": "code",
   "execution_count": 0,
   "metadata": {
    "colab": {
     "base_uri": "https://localhost:8080/",
     "height": 1074
    },
    "colab_type": "code",
    "id": "gYQj2HV2G1jO",
    "outputId": "2c59cab9-1dc2-4fa2-c185-3e67dd24ad20"
   },
   "outputs": [
    {
     "name": "stdout",
     "output_type": "stream",
     "text": [
      "Train on 42000 samples, validate on 18000 samples\n",
      "Epoch 1/30\n",
      "42000/42000 [==============================] - 6s 137us/step - loss: 2.2779 - acc: 0.1549 - val_loss: 2.2208 - val_acc: 0.2212\n",
      "Epoch 2/30\n",
      "42000/42000 [==============================] - 5s 122us/step - loss: 2.1351 - acc: 0.2872 - val_loss: 2.0172 - val_acc: 0.3496\n",
      "Epoch 3/30\n",
      "42000/42000 [==============================] - 5s 123us/step - loss: 1.8610 - acc: 0.4039 - val_loss: 1.6899 - val_acc: 0.4679\n",
      "Epoch 4/30\n",
      "42000/42000 [==============================] - 5s 122us/step - loss: 1.5481 - acc: 0.5175 - val_loss: 1.4149 - val_acc: 0.5669\n",
      "Epoch 5/30\n",
      "42000/42000 [==============================] - 5s 123us/step - loss: 1.3210 - acc: 0.5965 - val_loss: 1.2288 - val_acc: 0.6306\n",
      "Epoch 6/30\n",
      "42000/42000 [==============================] - 5s 125us/step - loss: 1.1667 - acc: 0.6458 - val_loss: 1.1140 - val_acc: 0.6647\n",
      "Epoch 7/30\n",
      "42000/42000 [==============================] - 5s 123us/step - loss: 1.0580 - acc: 0.6812 - val_loss: 1.0190 - val_acc: 0.6982\n",
      "Epoch 8/30\n",
      "42000/42000 [==============================] - 5s 123us/step - loss: 0.9755 - acc: 0.7038 - val_loss: 0.9654 - val_acc: 0.7101\n",
      "Epoch 9/30\n",
      "42000/42000 [==============================] - 5s 124us/step - loss: 0.9129 - acc: 0.7223 - val_loss: 0.9165 - val_acc: 0.7229\n",
      "Epoch 10/30\n",
      "42000/42000 [==============================] - 5s 124us/step - loss: 0.8618 - acc: 0.7394 - val_loss: 0.8896 - val_acc: 0.7347\n",
      "Epoch 11/30\n",
      "42000/42000 [==============================] - 5s 123us/step - loss: 0.8141 - acc: 0.7540 - val_loss: 0.8595 - val_acc: 0.7423\n",
      "Epoch 12/30\n",
      "42000/42000 [==============================] - 5s 123us/step - loss: 0.7793 - acc: 0.7647 - val_loss: 0.8153 - val_acc: 0.7573\n",
      "Epoch 13/30\n",
      "42000/42000 [==============================] - 5s 123us/step - loss: 0.7484 - acc: 0.7736 - val_loss: 0.7980 - val_acc: 0.7615\n",
      "Epoch 14/30\n",
      "42000/42000 [==============================] - 5s 123us/step - loss: 0.7148 - acc: 0.7841 - val_loss: 0.7888 - val_acc: 0.7636\n",
      "Epoch 15/30\n",
      "42000/42000 [==============================] - 5s 123us/step - loss: 0.6933 - acc: 0.7900 - val_loss: 0.8980 - val_acc: 0.7293\n",
      "Epoch 16/30\n",
      "42000/42000 [==============================] - 5s 123us/step - loss: 0.6718 - acc: 0.7952 - val_loss: 0.7424 - val_acc: 0.7826\n",
      "Epoch 17/30\n",
      "42000/42000 [==============================] - 5s 125us/step - loss: 0.6435 - acc: 0.8029 - val_loss: 0.7324 - val_acc: 0.7857\n",
      "Epoch 18/30\n",
      "42000/42000 [==============================] - 5s 122us/step - loss: 0.6281 - acc: 0.8086 - val_loss: 0.7199 - val_acc: 0.7884\n",
      "Epoch 19/30\n",
      "42000/42000 [==============================] - 5s 124us/step - loss: 0.6073 - acc: 0.8136 - val_loss: 0.6982 - val_acc: 0.7961\n",
      "Epoch 20/30\n",
      "42000/42000 [==============================] - 5s 123us/step - loss: 0.5872 - acc: 0.8200 - val_loss: 0.6858 - val_acc: 0.8016\n",
      "Epoch 21/30\n",
      "42000/42000 [==============================] - 5s 124us/step - loss: 0.5724 - acc: 0.8244 - val_loss: 0.6892 - val_acc: 0.8002\n",
      "Epoch 22/30\n",
      "42000/42000 [==============================] - 5s 124us/step - loss: 0.5636 - acc: 0.8280 - val_loss: 0.6693 - val_acc: 0.8066\n",
      "Epoch 23/30\n",
      "42000/42000 [==============================] - 5s 123us/step - loss: 0.5459 - acc: 0.8322 - val_loss: 0.6688 - val_acc: 0.8060\n",
      "Epoch 24/30\n",
      "42000/42000 [==============================] - 5s 122us/step - loss: 0.5322 - acc: 0.8367 - val_loss: 0.6574 - val_acc: 0.8106\n",
      "Epoch 25/30\n",
      "42000/42000 [==============================] - 5s 122us/step - loss: 0.5173 - acc: 0.8408 - val_loss: 0.6550 - val_acc: 0.8121\n",
      "Epoch 26/30\n",
      "42000/42000 [==============================] - 5s 123us/step - loss: 0.5068 - acc: 0.8443 - val_loss: 0.6538 - val_acc: 0.8142\n",
      "Epoch 27/30\n",
      "42000/42000 [==============================] - 5s 121us/step - loss: 0.4943 - acc: 0.8475 - val_loss: 0.6834 - val_acc: 0.8050\n",
      "Epoch 28/30\n",
      "42000/42000 [==============================] - 5s 121us/step - loss: 0.4876 - acc: 0.8513 - val_loss: 0.6636 - val_acc: 0.8082\n",
      "Epoch 29/30\n",
      "42000/42000 [==============================] - 5s 120us/step - loss: 0.4782 - acc: 0.8547 - val_loss: 0.6220 - val_acc: 0.8231\n",
      "Epoch 30/30\n",
      "42000/42000 [==============================] - 5s 120us/step - loss: 0.4659 - acc: 0.8586 - val_loss: 0.6440 - val_acc: 0.8172\n"
     ]
    }
   ],
   "source": [
    "#categorical crossentropy  batch normalization\n",
    "model3 =create_model_withBN('categorical_crossentropy')\n",
    "model3_result = model3.fit(x_train3,y_train2,validation_data=(x_test3,y_test2),epochs=30,batch_size = 200)"
   ]
  },
  {
   "cell_type": "code",
   "execution_count": 0,
   "metadata": {
    "colab": {
     "base_uri": "https://localhost:8080/",
     "height": 1074
    },
    "colab_type": "code",
    "id": "9lWCmQjRG1uy",
    "outputId": "1426aebe-48c7-4111-e738-1566925adb79"
   },
   "outputs": [
    {
     "name": "stdout",
     "output_type": "stream",
     "text": [
      "Train on 42000 samples, validate on 18000 samples\n",
      "Epoch 1/30\n",
      "42000/42000 [==============================] - 6s 135us/step - loss: 2.2621 - acc: 0.1665 - val_loss: 2.1943 - val_acc: 0.2393\n",
      "Epoch 2/30\n",
      "42000/42000 [==============================] - 5s 118us/step - loss: 2.0984 - acc: 0.3043 - val_loss: 1.9677 - val_acc: 0.3781\n",
      "Epoch 3/30\n",
      "42000/42000 [==============================] - 5s 119us/step - loss: 1.8036 - acc: 0.4337 - val_loss: 1.6227 - val_acc: 0.5066\n",
      "Epoch 4/30\n",
      "42000/42000 [==============================] - 5s 120us/step - loss: 1.4983 - acc: 0.5394 - val_loss: 1.3618 - val_acc: 0.5858\n",
      "Epoch 5/30\n",
      "42000/42000 [==============================] - 5s 121us/step - loss: 1.2944 - acc: 0.6061 - val_loss: 1.2198 - val_acc: 0.6242\n",
      "Epoch 6/30\n",
      "42000/42000 [==============================] - 5s 120us/step - loss: 1.1586 - acc: 0.6489 - val_loss: 1.1020 - val_acc: 0.6656\n",
      "Epoch 7/30\n",
      "42000/42000 [==============================] - 5s 120us/step - loss: 1.0611 - acc: 0.6797 - val_loss: 1.0180 - val_acc: 0.6963\n",
      "Epoch 8/30\n",
      "42000/42000 [==============================] - 5s 122us/step - loss: 0.9857 - acc: 0.7013 - val_loss: 0.9583 - val_acc: 0.7135\n",
      "Epoch 9/30\n",
      "42000/42000 [==============================] - 5s 121us/step - loss: 0.9235 - acc: 0.7209 - val_loss: 0.9054 - val_acc: 0.7308\n",
      "Epoch 10/30\n",
      "42000/42000 [==============================] - 5s 122us/step - loss: 0.8674 - acc: 0.7381 - val_loss: 0.8845 - val_acc: 0.7378\n",
      "Epoch 11/30\n",
      "42000/42000 [==============================] - 5s 120us/step - loss: 0.8204 - acc: 0.7505 - val_loss: 0.8338 - val_acc: 0.7539\n",
      "Epoch 12/30\n",
      "42000/42000 [==============================] - 5s 121us/step - loss: 0.7850 - acc: 0.7631 - val_loss: 0.8161 - val_acc: 0.7594\n",
      "Epoch 13/30\n",
      "42000/42000 [==============================] - 5s 121us/step - loss: 0.7514 - acc: 0.7729 - val_loss: 0.7841 - val_acc: 0.7703\n",
      "Epoch 14/30\n",
      "42000/42000 [==============================] - 5s 121us/step - loss: 0.7174 - acc: 0.7833 - val_loss: 0.7686 - val_acc: 0.7737\n",
      "Epoch 15/30\n",
      "42000/42000 [==============================] - 5s 121us/step - loss: 0.6933 - acc: 0.7911 - val_loss: 0.7529 - val_acc: 0.7789\n",
      "Epoch 16/30\n",
      "42000/42000 [==============================] - 5s 119us/step - loss: 0.6708 - acc: 0.7964 - val_loss: 0.7408 - val_acc: 0.7821\n",
      "Epoch 17/30\n",
      "42000/42000 [==============================] - 5s 118us/step - loss: 0.6484 - acc: 0.8028 - val_loss: 0.7220 - val_acc: 0.7889\n",
      "Epoch 18/30\n",
      "42000/42000 [==============================] - 5s 120us/step - loss: 0.6259 - acc: 0.8103 - val_loss: 0.7123 - val_acc: 0.7926\n",
      "Epoch 19/30\n",
      "42000/42000 [==============================] - 5s 120us/step - loss: 0.6087 - acc: 0.8157 - val_loss: 0.6920 - val_acc: 0.7994\n",
      "Epoch 20/30\n",
      "42000/42000 [==============================] - 5s 123us/step - loss: 0.5902 - acc: 0.8215 - val_loss: 0.6821 - val_acc: 0.8033\n",
      "Epoch 21/30\n",
      "42000/42000 [==============================] - 5s 123us/step - loss: 0.5786 - acc: 0.8256 - val_loss: 0.6748 - val_acc: 0.8053\n",
      "Epoch 22/30\n",
      "42000/42000 [==============================] - 5s 130us/step - loss: 0.5565 - acc: 0.8314 - val_loss: 0.6705 - val_acc: 0.8081\n",
      "Epoch 23/30\n",
      "42000/42000 [==============================] - 5s 129us/step - loss: 0.5487 - acc: 0.8317 - val_loss: 0.6521 - val_acc: 0.8121\n",
      "Epoch 24/30\n",
      "42000/42000 [==============================] - 5s 120us/step - loss: 0.5277 - acc: 0.8392 - val_loss: 0.7144 - val_acc: 0.7894\n",
      "Epoch 25/30\n",
      "42000/42000 [==============================] - 5s 128us/step - loss: 0.5247 - acc: 0.8399 - val_loss: 0.6554 - val_acc: 0.8131\n",
      "Epoch 26/30\n",
      "42000/42000 [==============================] - 5s 120us/step - loss: 0.5024 - acc: 0.8467 - val_loss: 0.6627 - val_acc: 0.8085\n",
      "Epoch 27/30\n",
      "42000/42000 [==============================] - 5s 120us/step - loss: 0.4886 - acc: 0.8515 - val_loss: 0.6435 - val_acc: 0.8149\n",
      "Epoch 28/30\n",
      "42000/42000 [==============================] - 5s 122us/step - loss: 0.4826 - acc: 0.8515 - val_loss: 0.6359 - val_acc: 0.8206\n",
      "Epoch 29/30\n",
      "42000/42000 [==============================] - 5s 121us/step - loss: 0.4716 - acc: 0.8558 - val_loss: 0.6267 - val_acc: 0.8227\n",
      "Epoch 30/30\n",
      "42000/42000 [==============================] - 5s 120us/step - loss: 0.4626 - acc: 0.8575 - val_loss: 0.6489 - val_acc: 0.8131\n"
     ]
    }
   ],
   "source": [
    "#KL-divergence with batch normalization\n",
    "model4 =create_model_withBN(losses.kullback_leibler_divergence)\n",
    "model4_result = model4.fit(x_train3,y_train2,validation_data=(x_test3,y_test2),epochs=30,batch_size = 200)"
   ]
  },
  {
   "cell_type": "code",
   "execution_count": 0,
   "metadata": {
    "colab": {},
    "colab_type": "code",
    "id": "uEkiV69xHy9T"
   },
   "outputs": [],
   "source": [
    "#with dropout and with batchnormalization\n",
    "def create_model_withdropout(loss_type,optimizer='SGD'): \n",
    "  model =Sequential ()\n",
    "  model.add(Reshape((1024,),input_shape=(32,32,)))\n",
    "  model.add(BatchNormalization())\n",
    "  model.add(Dense(300, activation='relu'))\n",
    "  model.add(Dense(200, activation='relu'))\n",
    "  model.add(Dense(200, activation='relu'))\n",
    "  model.add(Dense(250, activation='relu'))\n",
    "  model.add(Dropout(0.5))\n",
    "  model.add(Dense(10, activation='softmax'))\n",
    "  model.compile(loss=loss_type, optimizer=optimizer, metrics=['accuracy'])\n",
    "  return model"
   ]
  },
  {
   "cell_type": "code",
   "execution_count": 0,
   "metadata": {
    "colab": {
     "base_uri": "https://localhost:8080/",
     "height": 1125
    },
    "colab_type": "code",
    "id": "I48_mfxoH0QV",
    "outputId": "01477138-e6b9-42ff-d6dd-2f4ab28a40d3"
   },
   "outputs": [
    {
     "name": "stdout",
     "output_type": "stream",
     "text": [
      "WARNING:tensorflow:From /usr/local/lib/python3.6/dist-packages/keras/backend/tensorflow_backend.py:3445: calling dropout (from tensorflow.python.ops.nn_ops) with keep_prob is deprecated and will be removed in a future version.\n",
      "Instructions for updating:\n",
      "Please use `rate` instead of `keep_prob`. Rate should be set to `rate = 1 - keep_prob`.\n",
      "Train on 42000 samples, validate on 18000 samples\n",
      "Epoch 1/30\n",
      "42000/42000 [==============================] - 6s 146us/step - loss: 2.3030 - acc: 0.1325 - val_loss: 2.2285 - val_acc: 0.2319\n",
      "Epoch 2/30\n",
      "42000/42000 [==============================] - 5s 124us/step - loss: 2.1942 - acc: 0.2105 - val_loss: 2.0908 - val_acc: 0.3331\n",
      "Epoch 3/30\n",
      "42000/42000 [==============================] - 5s 123us/step - loss: 2.0222 - acc: 0.2981 - val_loss: 1.8448 - val_acc: 0.4390\n",
      "Epoch 4/30\n",
      "42000/42000 [==============================] - 5s 124us/step - loss: 1.7775 - acc: 0.3978 - val_loss: 1.5646 - val_acc: 0.5310\n",
      "Epoch 5/30\n",
      "42000/42000 [==============================] - 5s 122us/step - loss: 1.5454 - acc: 0.4857 - val_loss: 1.3499 - val_acc: 0.5879\n",
      "Epoch 6/30\n",
      "42000/42000 [==============================] - 5s 130us/step - loss: 1.3776 - acc: 0.5465 - val_loss: 1.2050 - val_acc: 0.6381\n",
      "Epoch 7/30\n",
      "42000/42000 [==============================] - 6s 132us/step - loss: 1.2520 - acc: 0.5970 - val_loss: 1.1045 - val_acc: 0.6676\n",
      "Epoch 8/30\n",
      "42000/42000 [==============================] - 5s 129us/step - loss: 1.1535 - acc: 0.6366 - val_loss: 1.0225 - val_acc: 0.6925\n",
      "Epoch 9/30\n",
      "42000/42000 [==============================] - 5s 122us/step - loss: 1.0720 - acc: 0.6626 - val_loss: 0.9640 - val_acc: 0.7103\n",
      "Epoch 10/30\n",
      "42000/42000 [==============================] - 5s 121us/step - loss: 1.0124 - acc: 0.6864 - val_loss: 0.9298 - val_acc: 0.7185\n",
      "Epoch 11/30\n",
      "42000/42000 [==============================] - 5s 121us/step - loss: 0.9528 - acc: 0.7070 - val_loss: 0.8814 - val_acc: 0.7331\n",
      "Epoch 12/30\n",
      "42000/42000 [==============================] - 5s 123us/step - loss: 0.9083 - acc: 0.7190 - val_loss: 0.8440 - val_acc: 0.7460\n",
      "Epoch 13/30\n",
      "42000/42000 [==============================] - 5s 122us/step - loss: 0.8657 - acc: 0.7331 - val_loss: 0.8168 - val_acc: 0.7562\n",
      "Epoch 14/30\n",
      "42000/42000 [==============================] - 5s 124us/step - loss: 0.8294 - acc: 0.7454 - val_loss: 0.7905 - val_acc: 0.7631\n",
      "Epoch 15/30\n",
      "42000/42000 [==============================] - 5s 122us/step - loss: 0.7981 - acc: 0.7562 - val_loss: 0.7892 - val_acc: 0.7611\n",
      "Epoch 16/30\n",
      "42000/42000 [==============================] - 5s 122us/step - loss: 0.7696 - acc: 0.7651 - val_loss: 0.7451 - val_acc: 0.7773\n",
      "Epoch 17/30\n",
      "42000/42000 [==============================] - 5s 123us/step - loss: 0.7449 - acc: 0.7723 - val_loss: 0.7462 - val_acc: 0.7742\n",
      "Epoch 18/30\n",
      "42000/42000 [==============================] - 5s 124us/step - loss: 0.7235 - acc: 0.7786 - val_loss: 0.7151 - val_acc: 0.7870\n",
      "Epoch 19/30\n",
      "42000/42000 [==============================] - 5s 124us/step - loss: 0.6995 - acc: 0.7861 - val_loss: 0.7069 - val_acc: 0.7897\n",
      "Epoch 20/30\n",
      "42000/42000 [==============================] - 5s 123us/step - loss: 0.6788 - acc: 0.7927 - val_loss: 0.6869 - val_acc: 0.7969\n",
      "Epoch 21/30\n",
      "42000/42000 [==============================] - 5s 123us/step - loss: 0.6653 - acc: 0.7962 - val_loss: 0.6735 - val_acc: 0.8014\n",
      "Epoch 22/30\n",
      "42000/42000 [==============================] - 5s 124us/step - loss: 0.6440 - acc: 0.8035 - val_loss: 0.6754 - val_acc: 0.7984\n",
      "Epoch 23/30\n",
      "42000/42000 [==============================] - 5s 125us/step - loss: 0.6300 - acc: 0.8082 - val_loss: 0.6901 - val_acc: 0.7929\n",
      "Epoch 24/30\n",
      "42000/42000 [==============================] - 5s 123us/step - loss: 0.6109 - acc: 0.8144 - val_loss: 0.6535 - val_acc: 0.8045\n",
      "Epoch 25/30\n",
      "42000/42000 [==============================] - 5s 122us/step - loss: 0.6030 - acc: 0.8176 - val_loss: 0.7188 - val_acc: 0.7805\n",
      "Epoch 26/30\n",
      "42000/42000 [==============================] - 5s 122us/step - loss: 0.5857 - acc: 0.8199 - val_loss: 0.6357 - val_acc: 0.8121\n",
      "Epoch 27/30\n",
      "42000/42000 [==============================] - 5s 124us/step - loss: 0.5745 - acc: 0.8263 - val_loss: 0.6902 - val_acc: 0.7933\n",
      "Epoch 28/30\n",
      "42000/42000 [==============================] - 5s 122us/step - loss: 0.5660 - acc: 0.8268 - val_loss: 0.6509 - val_acc: 0.8090\n",
      "Epoch 29/30\n",
      "42000/42000 [==============================] - 5s 123us/step - loss: 0.5492 - acc: 0.8330 - val_loss: 0.6827 - val_acc: 0.7997\n",
      "Epoch 30/30\n",
      "42000/42000 [==============================] - 5s 123us/step - loss: 0.5399 - acc: 0.8367 - val_loss: 0.6148 - val_acc: 0.8207\n"
     ]
    }
   ],
   "source": [
    "#categorical crossentropy  batch normalization and drop out\n",
    "model5 =create_model_withdropout('categorical_crossentropy')\n",
    "model5_result = model5.fit(x_train3,y_train2,validation_data=(x_test3,y_test2),epochs=30,batch_size = 200)"
   ]
  },
  {
   "cell_type": "code",
   "execution_count": 0,
   "metadata": {
    "colab": {
     "base_uri": "https://localhost:8080/",
     "height": 1074
    },
    "colab_type": "code",
    "id": "MUALY4WoH8Bz",
    "outputId": "c8e1630d-8118-49b1-a797-5ccc467352b1"
   },
   "outputs": [
    {
     "name": "stdout",
     "output_type": "stream",
     "text": [
      "Train on 42000 samples, validate on 18000 samples\n",
      "Epoch 1/30\n",
      "42000/42000 [==============================] - 9s 207us/step - loss: 1.5192 - acc: 0.4805 - val_loss: 0.9880 - val_acc: 0.6879\n",
      "Epoch 2/30\n",
      "42000/42000 [==============================] - 6s 140us/step - loss: 0.9392 - acc: 0.7070 - val_loss: 0.8200 - val_acc: 0.7489\n",
      "Epoch 3/30\n",
      "42000/42000 [==============================] - 6s 141us/step - loss: 0.7889 - acc: 0.7576 - val_loss: 0.7377 - val_acc: 0.7742\n",
      "Epoch 4/30\n",
      "42000/42000 [==============================] - 6s 142us/step - loss: 0.6933 - acc: 0.7847 - val_loss: 0.6957 - val_acc: 0.7857\n",
      "Epoch 5/30\n",
      "42000/42000 [==============================] - 6s 144us/step - loss: 0.6317 - acc: 0.8058 - val_loss: 0.6616 - val_acc: 0.8006\n",
      "Epoch 6/30\n",
      "42000/42000 [==============================] - 6s 145us/step - loss: 0.5842 - acc: 0.8180 - val_loss: 0.6746 - val_acc: 0.7947\n",
      "Epoch 7/30\n",
      "42000/42000 [==============================] - 6s 144us/step - loss: 0.5379 - acc: 0.8328 - val_loss: 0.6579 - val_acc: 0.8051\n",
      "Epoch 8/30\n",
      "42000/42000 [==============================] - 6s 144us/step - loss: 0.5132 - acc: 0.8395 - val_loss: 0.6092 - val_acc: 0.8216\n",
      "Epoch 9/30\n",
      "42000/42000 [==============================] - 6s 144us/step - loss: 0.4895 - acc: 0.8477 - val_loss: 0.6010 - val_acc: 0.8259\n",
      "Epoch 10/30\n",
      "42000/42000 [==============================] - 6s 142us/step - loss: 0.4530 - acc: 0.8575 - val_loss: 0.6016 - val_acc: 0.8234\n",
      "Epoch 11/30\n",
      "42000/42000 [==============================] - 6s 145us/step - loss: 0.4408 - acc: 0.8611 - val_loss: 0.5699 - val_acc: 0.8358\n",
      "Epoch 12/30\n",
      "42000/42000 [==============================] - 6s 145us/step - loss: 0.4158 - acc: 0.8703 - val_loss: 0.5777 - val_acc: 0.8422\n",
      "Epoch 13/30\n",
      "42000/42000 [==============================] - 6s 144us/step - loss: 0.3993 - acc: 0.8749 - val_loss: 0.5741 - val_acc: 0.8382\n",
      "Epoch 14/30\n",
      "42000/42000 [==============================] - 6s 144us/step - loss: 0.3776 - acc: 0.8799 - val_loss: 0.6009 - val_acc: 0.8352\n",
      "Epoch 15/30\n",
      "42000/42000 [==============================] - 6s 145us/step - loss: 0.3708 - acc: 0.8821 - val_loss: 0.5783 - val_acc: 0.8451\n",
      "Epoch 16/30\n",
      "42000/42000 [==============================] - 6s 143us/step - loss: 0.3535 - acc: 0.8874 - val_loss: 0.6017 - val_acc: 0.8382\n",
      "Epoch 17/30\n",
      "42000/42000 [==============================] - 6s 144us/step - loss: 0.3279 - acc: 0.8962 - val_loss: 0.6112 - val_acc: 0.8385\n",
      "Epoch 18/30\n",
      "42000/42000 [==============================] - 6s 143us/step - loss: 0.3232 - acc: 0.8976 - val_loss: 0.6079 - val_acc: 0.8384\n",
      "Epoch 19/30\n",
      "42000/42000 [==============================] - 6s 140us/step - loss: 0.3021 - acc: 0.9022 - val_loss: 0.5877 - val_acc: 0.8538\n",
      "Epoch 20/30\n",
      "42000/42000 [==============================] - 6s 144us/step - loss: 0.2962 - acc: 0.9040 - val_loss: 0.6213 - val_acc: 0.8399\n",
      "Epoch 21/30\n",
      "42000/42000 [==============================] - 6s 149us/step - loss: 0.2919 - acc: 0.9057 - val_loss: 0.6000 - val_acc: 0.8468\n",
      "Epoch 22/30\n",
      "42000/42000 [==============================] - 6s 143us/step - loss: 0.2825 - acc: 0.9103 - val_loss: 0.6101 - val_acc: 0.8507\n",
      "Epoch 23/30\n",
      "42000/42000 [==============================] - 6s 141us/step - loss: 0.2657 - acc: 0.9149 - val_loss: 0.6326 - val_acc: 0.8457\n",
      "Epoch 24/30\n",
      "42000/42000 [==============================] - 6s 143us/step - loss: 0.2614 - acc: 0.9157 - val_loss: 0.6182 - val_acc: 0.8479\n",
      "Epoch 25/30\n",
      "42000/42000 [==============================] - 6s 143us/step - loss: 0.2570 - acc: 0.9185 - val_loss: 0.6333 - val_acc: 0.8449\n",
      "Epoch 26/30\n",
      "42000/42000 [==============================] - 6s 146us/step - loss: 0.2483 - acc: 0.9218 - val_loss: 0.6479 - val_acc: 0.8471\n",
      "Epoch 27/30\n",
      "42000/42000 [==============================] - 6s 146us/step - loss: 0.2255 - acc: 0.9278 - val_loss: 0.6749 - val_acc: 0.8443\n",
      "Epoch 28/30\n",
      "42000/42000 [==============================] - 6s 141us/step - loss: 0.2303 - acc: 0.9282 - val_loss: 0.6494 - val_acc: 0.8522\n",
      "Epoch 29/30\n",
      "42000/42000 [==============================] - 6s 142us/step - loss: 0.2266 - acc: 0.9269 - val_loss: 0.6667 - val_acc: 0.8478\n",
      "Epoch 30/30\n",
      "42000/42000 [==============================] - 6s 142us/step - loss: 0.2261 - acc: 0.9285 - val_loss: 0.6750 - val_acc: 0.8410\n"
     ]
    }
   ],
   "source": [
    "#KL-divergence with batch normalization and drop out\n",
    "model6 =create_model_withdropout(losses.kullback_leibler_divergence)\n",
    "model6_result = model6.fit(x_train3,y_train2,validation_data=(x_test3,y_test2),epochs=30,batch_size = 200)"
   ]
  },
  {
   "cell_type": "code",
   "execution_count": 0,
   "metadata": {
    "colab": {},
    "colab_type": "code",
    "id": "LQkTW_rWLlcV"
   },
   "outputs": [],
   "source": [
    "columns =['optimizer','loss function','batch_normalization','drop_out layer','training accuracy','testing accuracy','training error','testing error']"
   ]
  },
  {
   "cell_type": "code",
   "execution_count": 0,
   "metadata": {
    "colab": {},
    "colab_type": "code",
    "id": "zLV5ck2WOJjb"
   },
   "outputs": [],
   "source": [
    "rows_list=[]"
   ]
  },
  {
   "cell_type": "code",
   "execution_count": 0,
   "metadata": {
    "colab": {},
    "colab_type": "code",
    "id": "7qjEfRMCJAAa"
   },
   "outputs": [],
   "source": [
    "rows_list.append(['sgd','cross_entropy','No','No',model1_result.history['acc'][29],model1_result.history['val_acc'][29],model1_result.history['loss'][29],model1_result.history['val_loss'][29]])"
   ]
  },
  {
   "cell_type": "code",
   "execution_count": 0,
   "metadata": {
    "colab": {},
    "colab_type": "code",
    "id": "Kygtnc2XQNJG"
   },
   "outputs": [],
   "source": [
    "rows_list.append(['sgd','Kl-divergence','No','No',model2_result.history['acc'][29],model2_result.history['val_acc'][29],model2_result.history['loss'][29],model2_result.history['val_loss'][29]])\n",
    "rows_list.append(['sgd','cross_entropy','Yes','No',model3_result.history['acc'][29],model3_result.history['val_acc'][29],model3_result.history['loss'][29],model3_result.history['val_loss'][29]])\n",
    "rows_list.append(['sgd','Kl-divergence','YEs','No',model4_result.history['acc'][29],model4_result.history['val_acc'][29],model4_result.history['loss'][29],model4_result.history['val_loss'][29]])\n",
    "rows_list.append(['sgd','cross_entropy','No','Yes',model5_result.history['acc'][29],model5_result.history['val_acc'][29],model5_result.history['loss'][29],model5_result.history['val_loss'][29]])\n",
    "rows_list.append(['sgd','Kl-divergence','No','Yes',model6_result.history['acc'][29],model6_result.history['val_acc'][29],model6_result.history['loss'][29],model6_result.history['val_loss'][29]])"
   ]
  },
  {
   "cell_type": "code",
   "execution_count": 0,
   "metadata": {
    "colab": {},
    "colab_type": "code",
    "id": "EN94QNxcPbpF"
   },
   "outputs": [],
   "source": [
    "sgd_history = pd.DataFrame(rows_list,columns = columns)"
   ]
  },
  {
   "cell_type": "code",
   "execution_count": 0,
   "metadata": {
    "colab": {
     "base_uri": "https://localhost:8080/",
     "height": 272
    },
    "colab_type": "code",
    "id": "1wbL_cPwQ8wz",
    "outputId": "318ee92c-6767-42ef-cc24-fca5895c945b"
   },
   "outputs": [
    {
     "data": {
      "text/html": [
       "<div>\n",
       "<style scoped>\n",
       "    .dataframe tbody tr th:only-of-type {\n",
       "        vertical-align: middle;\n",
       "    }\n",
       "\n",
       "    .dataframe tbody tr th {\n",
       "        vertical-align: top;\n",
       "    }\n",
       "\n",
       "    .dataframe thead th {\n",
       "        text-align: right;\n",
       "    }\n",
       "</style>\n",
       "<table border=\"1\" class=\"dataframe\">\n",
       "  <thead>\n",
       "    <tr style=\"text-align: right;\">\n",
       "      <th></th>\n",
       "      <th>optimizer</th>\n",
       "      <th>loss function</th>\n",
       "      <th>batch_normalization</th>\n",
       "      <th>drop_out layer</th>\n",
       "      <th>training accuracy</th>\n",
       "      <th>testing accuracy</th>\n",
       "      <th>training error</th>\n",
       "      <th>testing error</th>\n",
       "    </tr>\n",
       "  </thead>\n",
       "  <tbody>\n",
       "    <tr>\n",
       "      <th>0</th>\n",
       "      <td>sgd</td>\n",
       "      <td>cross_entropy</td>\n",
       "      <td>No</td>\n",
       "      <td>No</td>\n",
       "      <td>0.687119</td>\n",
       "      <td>0.693056</td>\n",
       "      <td>1.010566</td>\n",
       "      <td>0.998912</td>\n",
       "    </tr>\n",
       "    <tr>\n",
       "      <th>1</th>\n",
       "      <td>sgd</td>\n",
       "      <td>Kl-divergence</td>\n",
       "      <td>No</td>\n",
       "      <td>No</td>\n",
       "      <td>0.702190</td>\n",
       "      <td>0.707833</td>\n",
       "      <td>0.972805</td>\n",
       "      <td>0.965735</td>\n",
       "    </tr>\n",
       "    <tr>\n",
       "      <th>2</th>\n",
       "      <td>sgd</td>\n",
       "      <td>cross_entropy</td>\n",
       "      <td>Yes</td>\n",
       "      <td>No</td>\n",
       "      <td>0.858595</td>\n",
       "      <td>0.817167</td>\n",
       "      <td>0.465926</td>\n",
       "      <td>0.644047</td>\n",
       "    </tr>\n",
       "    <tr>\n",
       "      <th>3</th>\n",
       "      <td>sgd</td>\n",
       "      <td>Kl-divergence</td>\n",
       "      <td>YEs</td>\n",
       "      <td>No</td>\n",
       "      <td>0.857524</td>\n",
       "      <td>0.813111</td>\n",
       "      <td>0.462631</td>\n",
       "      <td>0.648903</td>\n",
       "    </tr>\n",
       "    <tr>\n",
       "      <th>4</th>\n",
       "      <td>sgd</td>\n",
       "      <td>cross_entropy</td>\n",
       "      <td>No</td>\n",
       "      <td>Yes</td>\n",
       "      <td>0.836738</td>\n",
       "      <td>0.820722</td>\n",
       "      <td>0.539858</td>\n",
       "      <td>0.614783</td>\n",
       "    </tr>\n",
       "    <tr>\n",
       "      <th>5</th>\n",
       "      <td>sgd</td>\n",
       "      <td>Kl-divergence</td>\n",
       "      <td>No</td>\n",
       "      <td>Yes</td>\n",
       "      <td>0.916500</td>\n",
       "      <td>0.839611</td>\n",
       "      <td>0.276361</td>\n",
       "      <td>0.620672</td>\n",
       "    </tr>\n",
       "  </tbody>\n",
       "</table>\n",
       "</div>"
      ],
      "text/plain": [
       "  optimizer  loss function batch_normalization drop_out layer  \\\n",
       "0       sgd  cross_entropy                  No             No   \n",
       "1       sgd  Kl-divergence                  No             No   \n",
       "2       sgd  cross_entropy                 Yes             No   \n",
       "3       sgd  Kl-divergence                 YEs             No   \n",
       "4       sgd  cross_entropy                  No            Yes   \n",
       "5       sgd  Kl-divergence                  No            Yes   \n",
       "\n",
       "   training accuracy  testing accuracy  training error  testing error  \n",
       "0           0.687119          0.693056        1.010566       0.998912  \n",
       "1           0.702190          0.707833        0.972805       0.965735  \n",
       "2           0.858595          0.817167        0.465926       0.644047  \n",
       "3           0.857524          0.813111        0.462631       0.648903  \n",
       "4           0.836738          0.820722        0.539858       0.614783  \n",
       "5           0.916500          0.839611        0.276361       0.620672  "
      ]
     },
     "execution_count": 82,
     "metadata": {
      "tags": []
     },
     "output_type": "execute_result"
    }
   ],
   "source": [
    "sgd_history"
   ]
  },
  {
   "cell_type": "code",
   "execution_count": 0,
   "metadata": {
    "colab": {},
    "colab_type": "code",
    "id": "kyb7hxb8REtA"
   },
   "outputs": [],
   "source": [
    "#best method is SGD with kl-divergence with batch normalization and with drop out layer"
   ]
  },
  {
   "cell_type": "code",
   "execution_count": 0,
   "metadata": {
    "colab": {
     "base_uri": "https://localhost:8080/",
     "height": 735
    },
    "colab_type": "code",
    "id": "3iBPoTvV_5p6",
    "outputId": "593c8dae-08e7-479c-c3ed-fd0d2da12d36"
   },
   "outputs": [
    {
     "data": {
      "image/png": "[encoded data removed]",
      "text/plain": [
       "<Figure size 576x396 with 1 Axes>"
      ]
     },
     "metadata": {
      "tags": []
     },
     "output_type": "display_data"
    },
    {
     "data": {
      "image/png": "[encoded data removed]",
      "text/plain": [
       "<Figure size 576x396 with 1 Axes>"
      ]
     },
     "metadata": {
      "tags": []
     },
     "output_type": "display_data"
    }
   ],
   "source": [
    "plt.plot(model6_result.history['acc'])\n",
    "plt.plot(model6_result.history['val_acc'])\n",
    "plt.title('model accuracy')\n",
    "plt.ylabel('accuracy')\n",
    "plt.xlabel('epoch')\n",
    "plt.legend(['train', 'test'], loc='upper left')\n",
    "plt.show()\n",
    "# summarize history for loss\n",
    "plt.plot(model6_result.history['loss'])\n",
    "plt.plot(model6_result.history['val_loss'])\n",
    "plt.title('model loss')\n",
    "plt.ylabel('loss')\n",
    "plt.xlabel('epoch')\n",
    "plt.legend(['train', 'test'], loc='upper left')\n",
    "plt.show()"
   ]
  },
  {
   "cell_type": "markdown",
   "metadata": {
    "colab": {},
    "colab_type": "code",
    "id": "lnX3MGrT_54n"
   },
   "source": [
    "### 2.Adam optimizer"
   ]
  },
  {
   "cell_type": "markdown",
   "metadata": {
    "colab": {},
    "colab_type": "code",
    "id": "U5VkoLCsRcx_"
   },
   "source": [
    "### with loss functions as a. categorical cross entropy b. KL-divergence\n",
    "#### with and without batch normalization\n",
    "#### with and without drop out layer."
   ]
  },
  {
   "cell_type": "code",
   "execution_count": 0,
   "metadata": {
    "colab": {},
    "colab_type": "code",
    "id": "qt9CsAMaUBm0"
   },
   "outputs": [],
   "source": [
    "def create_model(loss_type,optimizer='adam'): \n",
    "  model =Sequential ()\n",
    "  model.add(Reshape((1024,),input_shape=(32,32,)))\n",
    "  model.add(Dense(300, activation='relu'))\n",
    "  model.add(Dense(200, activation='relu'))\n",
    "  model.add(Dense(200, activation='relu'))\n",
    "  model.add(Dense(250, activation='relu'))\n",
    "  #model.add(Dropout(0.5))\n",
    "  model.add(Dense(10, activation='softmax'))\n",
    "  model.compile(loss=loss_type, optimizer=optimizer, metrics=['accuracy'])\n",
    "  return model"
   ]
  },
  {
   "cell_type": "code",
   "execution_count": 0,
   "metadata": {
    "colab": {
     "base_uri": "https://localhost:8080/",
     "height": 1074
    },
    "colab_type": "code",
    "id": "giDcgLxWRqMj",
    "outputId": "2a7db5ae-b3ae-446b-b776-55a2cdd53cd1"
   },
   "outputs": [
    {
     "name": "stdout",
     "output_type": "stream",
     "text": [
      "Train on 42000 samples, validate on 18000 samples\n",
      "Epoch 1/30\n",
      "42000/42000 [==============================] - 6s 141us/step - loss: 2.0559 - acc: 0.2399 - val_loss: 1.4546 - val_acc: 0.5034\n",
      "Epoch 2/30\n",
      "42000/42000 [==============================] - 5s 109us/step - loss: 1.3499 - acc: 0.5470 - val_loss: 1.2772 - val_acc: 0.5853\n",
      "Epoch 3/30\n",
      "42000/42000 [==============================] - 5s 109us/step - loss: 1.1543 - acc: 0.6294 - val_loss: 1.0452 - val_acc: 0.6729\n",
      "Epoch 4/30\n",
      "42000/42000 [==============================] - 5s 114us/step - loss: 1.0476 - acc: 0.6680 - val_loss: 1.0109 - val_acc: 0.6805\n",
      "Epoch 5/30\n",
      "42000/42000 [==============================] - 5s 116us/step - loss: 0.9638 - acc: 0.6961 - val_loss: 1.0074 - val_acc: 0.6829\n",
      "Epoch 6/30\n",
      "42000/42000 [==============================] - 5s 108us/step - loss: 0.9006 - acc: 0.7153 - val_loss: 0.8705 - val_acc: 0.7274\n",
      "Epoch 7/30\n",
      "42000/42000 [==============================] - 5s 109us/step - loss: 0.8561 - acc: 0.7291 - val_loss: 0.8804 - val_acc: 0.7238\n",
      "Epoch 8/30\n",
      "42000/42000 [==============================] - 5s 108us/step - loss: 0.8132 - acc: 0.7436 - val_loss: 0.8662 - val_acc: 0.7285\n",
      "Epoch 9/30\n",
      "42000/42000 [==============================] - 5s 108us/step - loss: 0.7662 - acc: 0.7582 - val_loss: 0.8346 - val_acc: 0.7411\n",
      "Epoch 10/30\n",
      "42000/42000 [==============================] - 5s 109us/step - loss: 0.7515 - acc: 0.7631 - val_loss: 0.8444 - val_acc: 0.7370\n",
      "Epoch 11/30\n",
      "42000/42000 [==============================] - 5s 108us/step - loss: 0.7077 - acc: 0.7759 - val_loss: 0.8697 - val_acc: 0.7276\n",
      "Epoch 12/30\n",
      "42000/42000 [==============================] - 5s 108us/step - loss: 0.7040 - acc: 0.7765 - val_loss: 0.7326 - val_acc: 0.7759\n",
      "Epoch 13/30\n",
      "42000/42000 [==============================] - 5s 109us/step - loss: 0.6691 - acc: 0.7887 - val_loss: 0.7184 - val_acc: 0.7793\n",
      "Epoch 14/30\n",
      "42000/42000 [==============================] - 5s 110us/step - loss: 0.6406 - acc: 0.7969 - val_loss: 0.7423 - val_acc: 0.7741\n",
      "Epoch 15/30\n",
      "42000/42000 [==============================] - 5s 111us/step - loss: 0.6139 - acc: 0.8042 - val_loss: 0.7188 - val_acc: 0.7795\n",
      "Epoch 16/30\n",
      "42000/42000 [==============================] - 5s 111us/step - loss: 0.5945 - acc: 0.8103 - val_loss: 0.7525 - val_acc: 0.7702\n",
      "Epoch 17/30\n",
      "42000/42000 [==============================] - 5s 108us/step - loss: 0.5728 - acc: 0.8162 - val_loss: 0.6748 - val_acc: 0.7957\n",
      "Epoch 18/30\n",
      "42000/42000 [==============================] - 4s 107us/step - loss: 0.5638 - acc: 0.8194 - val_loss: 0.7137 - val_acc: 0.7828\n",
      "Epoch 19/30\n",
      "42000/42000 [==============================] - 5s 108us/step - loss: 0.5531 - acc: 0.8242 - val_loss: 0.6448 - val_acc: 0.8012\n",
      "Epoch 20/30\n",
      "42000/42000 [==============================] - 5s 107us/step - loss: 0.5449 - acc: 0.8262 - val_loss: 0.6924 - val_acc: 0.7913\n",
      "Epoch 21/30\n",
      "42000/42000 [==============================] - 4s 107us/step - loss: 0.5293 - acc: 0.8292 - val_loss: 0.6676 - val_acc: 0.7952\n",
      "Epoch 22/30\n",
      "42000/42000 [==============================] - 4s 107us/step - loss: 0.5002 - acc: 0.8388 - val_loss: 0.6355 - val_acc: 0.8083\n",
      "Epoch 23/30\n",
      "42000/42000 [==============================] - 5s 109us/step - loss: 0.4851 - acc: 0.8442 - val_loss: 0.6245 - val_acc: 0.8120\n",
      "Epoch 24/30\n",
      "42000/42000 [==============================] - 5s 109us/step - loss: 0.4719 - acc: 0.8482 - val_loss: 0.6225 - val_acc: 0.8169\n",
      "Epoch 25/30\n",
      "42000/42000 [==============================] - 5s 109us/step - loss: 0.4556 - acc: 0.8530 - val_loss: 0.6189 - val_acc: 0.8158\n",
      "Epoch 26/30\n",
      "42000/42000 [==============================] - 5s 108us/step - loss: 0.4549 - acc: 0.8537 - val_loss: 0.6454 - val_acc: 0.8067\n",
      "Epoch 27/30\n",
      "42000/42000 [==============================] - 5s 109us/step - loss: 0.4228 - acc: 0.8645 - val_loss: 0.6573 - val_acc: 0.8024\n",
      "Epoch 28/30\n",
      "42000/42000 [==============================] - 5s 108us/step - loss: 0.4254 - acc: 0.8617 - val_loss: 0.6343 - val_acc: 0.8148\n",
      "Epoch 29/30\n",
      "42000/42000 [==============================] - 5s 108us/step - loss: 0.4209 - acc: 0.8631 - val_loss: 0.6466 - val_acc: 0.8148\n",
      "Epoch 30/30\n",
      "42000/42000 [==============================] - 5s 109us/step - loss: 0.4029 - acc: 0.8699 - val_loss: 0.6164 - val_acc: 0.8215\n"
     ]
    }
   ],
   "source": [
    "#categorical crossentropy without batch normalization\n",
    "adam1 =create_model('categorical_crossentropy')\n",
    "adam1_result = adam1.fit(x_train3,y_train2,validation_data=(x_test3,y_test2),epochs=30,batch_size = 200)"
   ]
  },
  {
   "cell_type": "code",
   "execution_count": 0,
   "metadata": {
    "colab": {
     "base_uri": "https://localhost:8080/",
     "height": 1074
    },
    "colab_type": "code",
    "id": "MQwr5Y-PRqHZ",
    "outputId": "b028b4fa-f6d5-4d4e-890e-0d7be7f14fdb"
   },
   "outputs": [
    {
     "name": "stdout",
     "output_type": "stream",
     "text": [
      "Train on 42000 samples, validate on 18000 samples\n",
      "Epoch 1/30\n",
      "42000/42000 [==============================] - 6s 135us/step - loss: 2.1133 - acc: 0.2003 - val_loss: 1.6944 - val_acc: 0.3885\n",
      "Epoch 2/30\n",
      "42000/42000 [==============================] - 5s 108us/step - loss: 1.4140 - acc: 0.5190 - val_loss: 1.2329 - val_acc: 0.5952\n",
      "Epoch 3/30\n",
      "42000/42000 [==============================] - 5s 108us/step - loss: 1.1872 - acc: 0.6157 - val_loss: 1.1050 - val_acc: 0.6391\n",
      "Epoch 4/30\n",
      "42000/42000 [==============================] - 5s 108us/step - loss: 1.0402 - acc: 0.6699 - val_loss: 1.0301 - val_acc: 0.6716\n",
      "Epoch 5/30\n",
      "42000/42000 [==============================] - 4s 107us/step - loss: 0.9708 - acc: 0.6909 - val_loss: 0.9888 - val_acc: 0.6884\n",
      "Epoch 6/30\n",
      "42000/42000 [==============================] - 5s 109us/step - loss: 0.9020 - acc: 0.7133 - val_loss: 0.8802 - val_acc: 0.7252\n",
      "Epoch 7/30\n",
      "42000/42000 [==============================] - 5s 110us/step - loss: 0.8319 - acc: 0.7383 - val_loss: 0.9064 - val_acc: 0.7149\n",
      "Epoch 8/30\n",
      "42000/42000 [==============================] - 5s 109us/step - loss: 0.8156 - acc: 0.7416 - val_loss: 0.7970 - val_acc: 0.7539\n",
      "Epoch 9/30\n",
      "42000/42000 [==============================] - 5s 108us/step - loss: 0.7678 - acc: 0.7550 - val_loss: 0.7627 - val_acc: 0.7653\n",
      "Epoch 10/30\n",
      "42000/42000 [==============================] - 5s 108us/step - loss: 0.7291 - acc: 0.7702 - val_loss: 0.7483 - val_acc: 0.7695\n",
      "Epoch 11/30\n",
      "42000/42000 [==============================] - 5s 108us/step - loss: 0.7136 - acc: 0.7745 - val_loss: 0.7811 - val_acc: 0.7590\n",
      "Epoch 12/30\n",
      "42000/42000 [==============================] - 5s 110us/step - loss: 0.6844 - acc: 0.7841 - val_loss: 0.7104 - val_acc: 0.7823\n",
      "Epoch 13/30\n",
      "42000/42000 [==============================] - 5s 109us/step - loss: 0.6609 - acc: 0.7908 - val_loss: 0.7507 - val_acc: 0.7682\n",
      "Epoch 14/30\n",
      "42000/42000 [==============================] - 5s 108us/step - loss: 0.6433 - acc: 0.7949 - val_loss: 0.7268 - val_acc: 0.7750\n",
      "Epoch 15/30\n",
      "42000/42000 [==============================] - 5s 109us/step - loss: 0.6367 - acc: 0.7991 - val_loss: 0.6840 - val_acc: 0.7903\n",
      "Epoch 16/30\n",
      "42000/42000 [==============================] - 5s 110us/step - loss: 0.5924 - acc: 0.8129 - val_loss: 0.6802 - val_acc: 0.7898\n",
      "Epoch 17/30\n",
      "42000/42000 [==============================] - 5s 110us/step - loss: 0.5841 - acc: 0.8127 - val_loss: 0.6482 - val_acc: 0.8028\n",
      "Epoch 18/30\n",
      "42000/42000 [==============================] - 5s 109us/step - loss: 0.5583 - acc: 0.8217 - val_loss: 0.7154 - val_acc: 0.7798\n",
      "Epoch 19/30\n",
      "42000/42000 [==============================] - 5s 109us/step - loss: 0.5536 - acc: 0.8223 - val_loss: 0.6607 - val_acc: 0.8000\n",
      "Epoch 20/30\n",
      "42000/42000 [==============================] - 5s 110us/step - loss: 0.5398 - acc: 0.8271 - val_loss: 0.7067 - val_acc: 0.7789\n",
      "Epoch 21/30\n",
      "42000/42000 [==============================] - 5s 114us/step - loss: 0.5312 - acc: 0.8286 - val_loss: 0.6847 - val_acc: 0.7900\n",
      "Epoch 22/30\n",
      "42000/42000 [==============================] - 5s 110us/step - loss: 0.5046 - acc: 0.8391 - val_loss: 0.7262 - val_acc: 0.7819\n",
      "Epoch 23/30\n",
      "42000/42000 [==============================] - 5s 109us/step - loss: 0.4797 - acc: 0.8465 - val_loss: 0.6296 - val_acc: 0.8134\n",
      "Epoch 24/30\n",
      "42000/42000 [==============================] - 5s 108us/step - loss: 0.4827 - acc: 0.8436 - val_loss: 0.6280 - val_acc: 0.8153\n",
      "Epoch 25/30\n",
      "42000/42000 [==============================] - 5s 109us/step - loss: 0.4673 - acc: 0.8493 - val_loss: 0.6154 - val_acc: 0.8169\n",
      "Epoch 26/30\n",
      "42000/42000 [==============================] - 5s 108us/step - loss: 0.4481 - acc: 0.8553 - val_loss: 0.6706 - val_acc: 0.8002\n",
      "Epoch 27/30\n",
      "42000/42000 [==============================] - 5s 109us/step - loss: 0.4616 - acc: 0.8498 - val_loss: 0.6532 - val_acc: 0.8057\n",
      "Epoch 28/30\n",
      "42000/42000 [==============================] - 5s 109us/step - loss: 0.4347 - acc: 0.8589 - val_loss: 0.6850 - val_acc: 0.7947\n",
      "Epoch 29/30\n",
      "42000/42000 [==============================] - 5s 108us/step - loss: 0.4199 - acc: 0.8635 - val_loss: 0.6911 - val_acc: 0.7991\n",
      "Epoch 30/30\n",
      "42000/42000 [==============================] - 5s 110us/step - loss: 0.4024 - acc: 0.8695 - val_loss: 0.6273 - val_acc: 0.8164\n"
     ]
    }
   ],
   "source": [
    "#KL-divergence without batch normalization\n",
    "adam2 =create_model(losses.kullback_leibler_divergence)\n",
    "adam2_result = adam2.fit(x_train3,y_train2,validation_data=(x_test3,y_test2),epochs=30,batch_size = 200)"
   ]
  },
  {
   "cell_type": "code",
   "execution_count": 0,
   "metadata": {
    "colab": {},
    "colab_type": "code",
    "id": "240KfIx7RqD7"
   },
   "outputs": [],
   "source": [
    "def create_model_withBatchNorm(loss_type,optimizer='adam'): \n",
    "  model =Sequential ()\n",
    "  model.add(Reshape((1024,),input_shape=(32,32,)))\n",
    "  model.add(BatchNormalization())\n",
    "  model.add(Dense(300, activation='relu'))\n",
    "  model.add(Dense(200, activation='relu'))\n",
    "  model.add(Dense(200, activation='relu'))\n",
    "  model.add(Dense(250, activation='relu'))\n",
    "  #model.add(Dropout(0.5))\n",
    "  model.add(Dense(10, activation='softmax'))\n",
    "  model.compile(loss=loss_type, optimizer=optimizer, metrics=['accuracy'])\n",
    "  return model"
   ]
  },
  {
   "cell_type": "code",
   "execution_count": 0,
   "metadata": {
    "colab": {
     "base_uri": "https://localhost:8080/",
     "height": 1074
    },
    "colab_type": "code",
    "id": "Jj6NL70dRqAF",
    "outputId": "0d0b536e-6668-4a5a-c1b8-4338f5a78208"
   },
   "outputs": [
    {
     "name": "stdout",
     "output_type": "stream",
     "text": [
      "Train on 42000 samples, validate on 18000 samples\n",
      "Epoch 1/30\n",
      "42000/42000 [==============================] - 7s 177us/step - loss: 1.3172 - acc: 0.5639 - val_loss: 0.9210 - val_acc: 0.7108\n",
      "Epoch 2/30\n",
      "42000/42000 [==============================] - 6s 141us/step - loss: 0.8373 - acc: 0.7377 - val_loss: 0.7847 - val_acc: 0.7614\n",
      "Epoch 3/30\n",
      "42000/42000 [==============================] - 6s 141us/step - loss: 0.7003 - acc: 0.7822 - val_loss: 0.6916 - val_acc: 0.7907\n",
      "Epoch 4/30\n",
      "42000/42000 [==============================] - 6s 139us/step - loss: 0.6141 - acc: 0.8085 - val_loss: 0.6805 - val_acc: 0.7941\n",
      "Epoch 5/30\n",
      "42000/42000 [==============================] - 6s 139us/step - loss: 0.5567 - acc: 0.8251 - val_loss: 0.6634 - val_acc: 0.8012\n",
      "Epoch 6/30\n",
      "42000/42000 [==============================] - 6s 140us/step - loss: 0.5161 - acc: 0.8369 - val_loss: 0.6245 - val_acc: 0.8155\n",
      "Epoch 7/30\n",
      "42000/42000 [==============================] - 6s 141us/step - loss: 0.4672 - acc: 0.8515 - val_loss: 0.6241 - val_acc: 0.8173\n",
      "Epoch 8/30\n",
      "42000/42000 [==============================] - 6s 142us/step - loss: 0.4395 - acc: 0.8593 - val_loss: 0.6409 - val_acc: 0.8192\n",
      "Epoch 9/30\n",
      "42000/42000 [==============================] - 6s 152us/step - loss: 0.4125 - acc: 0.8674 - val_loss: 0.6139 - val_acc: 0.8275\n",
      "Epoch 10/30\n",
      "42000/42000 [==============================] - 6s 145us/step - loss: 0.3849 - acc: 0.8749 - val_loss: 0.6055 - val_acc: 0.8311\n",
      "Epoch 11/30\n",
      "42000/42000 [==============================] - 6s 140us/step - loss: 0.3614 - acc: 0.8839 - val_loss: 0.6115 - val_acc: 0.8279\n",
      "Epoch 12/30\n",
      "42000/42000 [==============================] - 6s 143us/step - loss: 0.3435 - acc: 0.8892 - val_loss: 0.6165 - val_acc: 0.8257\n",
      "Epoch 13/30\n",
      "42000/42000 [==============================] - 6s 141us/step - loss: 0.3199 - acc: 0.8972 - val_loss: 0.6231 - val_acc: 0.8338\n",
      "Epoch 14/30\n",
      "42000/42000 [==============================] - 6s 141us/step - loss: 0.3115 - acc: 0.9002 - val_loss: 0.6255 - val_acc: 0.8361\n",
      "Epoch 15/30\n",
      "42000/42000 [==============================] - 6s 140us/step - loss: 0.2956 - acc: 0.9034 - val_loss: 0.6491 - val_acc: 0.8341\n",
      "Epoch 16/30\n",
      "42000/42000 [==============================] - 6s 141us/step - loss: 0.2808 - acc: 0.9083 - val_loss: 0.6379 - val_acc: 0.8413\n",
      "Epoch 17/30\n",
      "42000/42000 [==============================] - 6s 140us/step - loss: 0.2614 - acc: 0.9155 - val_loss: 0.6383 - val_acc: 0.8432\n",
      "Epoch 18/30\n",
      "42000/42000 [==============================] - 6s 138us/step - loss: 0.2481 - acc: 0.9190 - val_loss: 0.6569 - val_acc: 0.8408\n",
      "Epoch 19/30\n",
      "42000/42000 [==============================] - 6s 137us/step - loss: 0.2362 - acc: 0.9237 - val_loss: 0.6864 - val_acc: 0.8403\n",
      "Epoch 20/30\n",
      "42000/42000 [==============================] - 6s 138us/step - loss: 0.2178 - acc: 0.9294 - val_loss: 0.6845 - val_acc: 0.8407\n",
      "Epoch 21/30\n",
      "42000/42000 [==============================] - 6s 138us/step - loss: 0.2225 - acc: 0.9278 - val_loss: 0.6861 - val_acc: 0.8426\n",
      "Epoch 22/30\n",
      "42000/42000 [==============================] - 6s 139us/step - loss: 0.2160 - acc: 0.9298 - val_loss: 0.6992 - val_acc: 0.8439\n",
      "Epoch 23/30\n",
      "42000/42000 [==============================] - 6s 140us/step - loss: 0.2073 - acc: 0.9324 - val_loss: 0.7031 - val_acc: 0.8396\n",
      "Epoch 24/30\n",
      "42000/42000 [==============================] - 6s 140us/step - loss: 0.1936 - acc: 0.9366 - val_loss: 0.7428 - val_acc: 0.8363\n",
      "Epoch 25/30\n",
      "42000/42000 [==============================] - 6s 139us/step - loss: 0.1903 - acc: 0.9371 - val_loss: 0.7131 - val_acc: 0.8414\n",
      "Epoch 26/30\n",
      "42000/42000 [==============================] - 6s 139us/step - loss: 0.1722 - acc: 0.9439 - val_loss: 0.7537 - val_acc: 0.8394\n",
      "Epoch 27/30\n",
      "42000/42000 [==============================] - 6s 140us/step - loss: 0.1762 - acc: 0.9420 - val_loss: 0.7406 - val_acc: 0.8397\n",
      "Epoch 28/30\n",
      "42000/42000 [==============================] - 6s 137us/step - loss: 0.1650 - acc: 0.9459 - val_loss: 0.7801 - val_acc: 0.8393\n",
      "Epoch 29/30\n",
      "42000/42000 [==============================] - 6s 138us/step - loss: 0.1808 - acc: 0.9420 - val_loss: 0.7425 - val_acc: 0.8469\n",
      "Epoch 30/30\n",
      "42000/42000 [==============================] - 6s 137us/step - loss: 0.1654 - acc: 0.9459 - val_loss: 0.7502 - val_acc: 0.8441\n"
     ]
    }
   ],
   "source": [
    "adam3 =create_model_withBatchNorm('categorical_crossentropy')\n",
    "adam3_result = adam3.fit(x_train3,y_train2,validation_data=(x_test3,y_test2),epochs=30,batch_size = 200)"
   ]
  },
  {
   "cell_type": "code",
   "execution_count": 0,
   "metadata": {
    "colab": {
     "base_uri": "https://localhost:8080/",
     "height": 1074
    },
    "colab_type": "code",
    "id": "UusKnZnWRp2h",
    "outputId": "ac593a3f-a271-456c-cfca-cbf30ed52684"
   },
   "outputs": [
    {
     "name": "stdout",
     "output_type": "stream",
     "text": [
      "Train on 42000 samples, validate on 18000 samples\n",
      "Epoch 1/30\n",
      "42000/42000 [==============================] - 7s 174us/step - loss: 1.3294 - acc: 0.5570 - val_loss: 0.9355 - val_acc: 0.7089\n",
      "Epoch 2/30\n",
      "42000/42000 [==============================] - 6s 137us/step - loss: 0.8375 - acc: 0.7371 - val_loss: 0.7784 - val_acc: 0.7623\n",
      "Epoch 3/30\n",
      "42000/42000 [==============================] - 6s 137us/step - loss: 0.7016 - acc: 0.7820 - val_loss: 0.7075 - val_acc: 0.7866\n",
      "Epoch 4/30\n",
      "42000/42000 [==============================] - 6s 136us/step - loss: 0.6167 - acc: 0.8079 - val_loss: 0.6726 - val_acc: 0.7966\n",
      "Epoch 5/30\n",
      "42000/42000 [==============================] - 6s 137us/step - loss: 0.5584 - acc: 0.8252 - val_loss: 0.6284 - val_acc: 0.8156\n",
      "Epoch 6/30\n",
      "42000/42000 [==============================] - 6s 135us/step - loss: 0.5097 - acc: 0.8396 - val_loss: 0.6053 - val_acc: 0.8196\n",
      "Epoch 7/30\n",
      "42000/42000 [==============================] - 6s 136us/step - loss: 0.4782 - acc: 0.8473 - val_loss: 0.6373 - val_acc: 0.8167\n",
      "Epoch 8/30\n",
      "42000/42000 [==============================] - 6s 135us/step - loss: 0.4420 - acc: 0.8597 - val_loss: 0.6087 - val_acc: 0.8267\n",
      "Epoch 9/30\n",
      "42000/42000 [==============================] - 6s 137us/step - loss: 0.4083 - acc: 0.8695 - val_loss: 0.6572 - val_acc: 0.8149\n",
      "Epoch 10/30\n",
      "42000/42000 [==============================] - 6s 136us/step - loss: 0.3961 - acc: 0.8745 - val_loss: 0.6208 - val_acc: 0.8206\n",
      "Epoch 11/30\n",
      "42000/42000 [==============================] - 6s 137us/step - loss: 0.3595 - acc: 0.8848 - val_loss: 0.5985 - val_acc: 0.8355\n",
      "Epoch 12/30\n",
      "42000/42000 [==============================] - 6s 139us/step - loss: 0.3434 - acc: 0.8886 - val_loss: 0.6159 - val_acc: 0.8334\n",
      "Epoch 13/30\n",
      "42000/42000 [==============================] - 6s 139us/step - loss: 0.3158 - acc: 0.9002 - val_loss: 0.6059 - val_acc: 0.8382\n",
      "Epoch 14/30\n",
      "42000/42000 [==============================] - 6s 139us/step - loss: 0.3086 - acc: 0.8994 - val_loss: 0.6406 - val_acc: 0.8310\n",
      "Epoch 15/30\n",
      "42000/42000 [==============================] - 6s 148us/step - loss: 0.2835 - acc: 0.9081 - val_loss: 0.6349 - val_acc: 0.8355\n",
      "Epoch 16/30\n",
      "42000/42000 [==============================] - 6s 140us/step - loss: 0.2696 - acc: 0.9131 - val_loss: 0.6543 - val_acc: 0.8332\n",
      "Epoch 17/30\n",
      "42000/42000 [==============================] - 6s 139us/step - loss: 0.2616 - acc: 0.9141 - val_loss: 0.6502 - val_acc: 0.8383\n",
      "Epoch 18/30\n",
      "42000/42000 [==============================] - 6s 137us/step - loss: 0.2505 - acc: 0.9165 - val_loss: 0.6821 - val_acc: 0.8337\n",
      "Epoch 19/30\n",
      "42000/42000 [==============================] - 6s 137us/step - loss: 0.2428 - acc: 0.9200 - val_loss: 0.6486 - val_acc: 0.8425\n",
      "Epoch 20/30\n",
      "42000/42000 [==============================] - 6s 135us/step - loss: 0.2150 - acc: 0.9299 - val_loss: 0.6981 - val_acc: 0.8384\n",
      "Epoch 21/30\n",
      "42000/42000 [==============================] - 6s 135us/step - loss: 0.2135 - acc: 0.9302 - val_loss: 0.7228 - val_acc: 0.8380\n",
      "Epoch 22/30\n",
      "42000/42000 [==============================] - 6s 137us/step - loss: 0.2075 - acc: 0.9312 - val_loss: 0.7175 - val_acc: 0.8412\n",
      "Epoch 23/30\n",
      "42000/42000 [==============================] - 6s 137us/step - loss: 0.1961 - acc: 0.9352 - val_loss: 0.7256 - val_acc: 0.8403\n",
      "Epoch 24/30\n",
      "42000/42000 [==============================] - 6s 137us/step - loss: 0.1907 - acc: 0.9370 - val_loss: 0.7468 - val_acc: 0.8323\n",
      "Epoch 25/30\n",
      "42000/42000 [==============================] - 6s 138us/step - loss: 0.1975 - acc: 0.9353 - val_loss: 0.7097 - val_acc: 0.8438\n",
      "Epoch 26/30\n",
      "42000/42000 [==============================] - 6s 137us/step - loss: 0.1778 - acc: 0.9408 - val_loss: 0.7405 - val_acc: 0.8374\n",
      "Epoch 27/30\n",
      "42000/42000 [==============================] - 6s 139us/step - loss: 0.1720 - acc: 0.9451 - val_loss: 0.7256 - val_acc: 0.8437\n",
      "Epoch 28/30\n",
      "42000/42000 [==============================] - 6s 137us/step - loss: 0.1633 - acc: 0.9466 - val_loss: 0.7741 - val_acc: 0.8450\n",
      "Epoch 29/30\n",
      "42000/42000 [==============================] - 6s 140us/step - loss: 0.1610 - acc: 0.9466 - val_loss: 0.7633 - val_acc: 0.8447\n",
      "Epoch 30/30\n",
      "42000/42000 [==============================] - 6s 135us/step - loss: 0.1554 - acc: 0.9491 - val_loss: 0.7659 - val_acc: 0.8447\n"
     ]
    }
   ],
   "source": [
    "adam4 =create_model_withBatchNorm(losses.kullback_leibler_divergence)\n",
    "adam4_result = adam4.fit(x_train3,y_train2,validation_data=(x_test3,y_test2),epochs=30,batch_size = 200)"
   ]
  },
  {
   "cell_type": "code",
   "execution_count": 0,
   "metadata": {
    "colab": {},
    "colab_type": "code",
    "id": "dpJ9UIJkTHtx"
   },
   "outputs": [],
   "source": [
    "def create_model_withdropout(loss_type,optimizer='adam'): \n",
    "  model =Sequential ()\n",
    "  model.add(Reshape((1024,),input_shape=(32,32,)))\n",
    "  model.add(BatchNormalization())\n",
    "  model.add(Dense(300, activation='relu'))\n",
    "  model.add(Dense(200, activation='relu'))\n",
    "  model.add(Dense(200, activation='relu'))\n",
    "  model.add(Dense(250, activation='relu'))\n",
    "  model.add(Dropout(0.5))\n",
    "  model.add(Dense(10, activation='softmax'))\n",
    "  model.compile(loss=loss_type, optimizer=optimizer, metrics=['accuracy'])\n",
    "  return model"
   ]
  },
  {
   "cell_type": "code",
   "execution_count": 0,
   "metadata": {
    "colab": {
     "base_uri": "https://localhost:8080/",
     "height": 1074
    },
    "colab_type": "code",
    "id": "IMhHAbOzTIae",
    "outputId": "54dded0e-5e18-4ce0-9b4e-e22206af3c15"
   },
   "outputs": [
    {
     "name": "stdout",
     "output_type": "stream",
     "text": [
      "Train on 42000 samples, validate on 18000 samples\n",
      "Epoch 1/30\n",
      "42000/42000 [==============================] - 8s 189us/step - loss: 1.5374 - acc: 0.4729 - val_loss: 0.9937 - val_acc: 0.6871\n",
      "Epoch 2/30\n",
      "42000/42000 [==============================] - 6s 152us/step - loss: 0.9507 - acc: 0.7031 - val_loss: 0.8253 - val_acc: 0.7478\n",
      "Epoch 3/30\n",
      "42000/42000 [==============================] - 6s 144us/step - loss: 0.7920 - acc: 0.7530 - val_loss: 0.7448 - val_acc: 0.7737\n",
      "Epoch 4/30\n",
      "42000/42000 [==============================] - 6s 142us/step - loss: 0.7082 - acc: 0.7807 - val_loss: 0.6912 - val_acc: 0.7896\n",
      "Epoch 5/30\n",
      "42000/42000 [==============================] - 6s 143us/step - loss: 0.6400 - acc: 0.8009 - val_loss: 0.6472 - val_acc: 0.8072\n",
      "Epoch 6/30\n",
      "42000/42000 [==============================] - 6s 145us/step - loss: 0.5911 - acc: 0.8160 - val_loss: 0.6334 - val_acc: 0.8129\n",
      "Epoch 7/30\n",
      "42000/42000 [==============================] - 6s 147us/step - loss: 0.5498 - acc: 0.8287 - val_loss: 0.6273 - val_acc: 0.8157\n",
      "Epoch 8/30\n",
      "42000/42000 [==============================] - 6s 143us/step - loss: 0.5133 - acc: 0.8411 - val_loss: 0.5968 - val_acc: 0.8268\n",
      "Epoch 9/30\n",
      "42000/42000 [==============================] - 6s 142us/step - loss: 0.4893 - acc: 0.8463 - val_loss: 0.6394 - val_acc: 0.8144\n",
      "Epoch 10/30\n",
      "42000/42000 [==============================] - 6s 144us/step - loss: 0.4549 - acc: 0.8583 - val_loss: 0.5961 - val_acc: 0.8302\n",
      "Epoch 11/30\n",
      "42000/42000 [==============================] - 6s 145us/step - loss: 0.4344 - acc: 0.8624 - val_loss: 0.5979 - val_acc: 0.8293\n",
      "Epoch 12/30\n",
      "42000/42000 [==============================] - 6s 146us/step - loss: 0.4224 - acc: 0.8677 - val_loss: 0.5940 - val_acc: 0.8347\n",
      "Epoch 13/30\n",
      "42000/42000 [==============================] - 6s 145us/step - loss: 0.3961 - acc: 0.8768 - val_loss: 0.6007 - val_acc: 0.8309\n",
      "Epoch 14/30\n",
      "42000/42000 [==============================] - 6s 144us/step - loss: 0.3743 - acc: 0.8824 - val_loss: 0.6029 - val_acc: 0.8333\n",
      "Epoch 15/30\n",
      "42000/42000 [==============================] - 6s 143us/step - loss: 0.3640 - acc: 0.8859 - val_loss: 0.6032 - val_acc: 0.8323\n",
      "Epoch 16/30\n",
      "42000/42000 [==============================] - 6s 144us/step - loss: 0.3558 - acc: 0.8886 - val_loss: 0.5918 - val_acc: 0.8424\n",
      "Epoch 17/30\n",
      "42000/42000 [==============================] - 6s 145us/step - loss: 0.3344 - acc: 0.8958 - val_loss: 0.6033 - val_acc: 0.8431\n",
      "Epoch 18/30\n",
      "42000/42000 [==============================] - 6s 144us/step - loss: 0.3161 - acc: 0.8998 - val_loss: 0.5889 - val_acc: 0.8450\n",
      "Epoch 19/30\n",
      "42000/42000 [==============================] - 6s 145us/step - loss: 0.3130 - acc: 0.9002 - val_loss: 0.6062 - val_acc: 0.8467\n",
      "Epoch 20/30\n",
      "42000/42000 [==============================] - 6s 147us/step - loss: 0.2946 - acc: 0.9065 - val_loss: 0.5977 - val_acc: 0.8479\n",
      "Epoch 21/30\n",
      "42000/42000 [==============================] - 6s 146us/step - loss: 0.2950 - acc: 0.9060 - val_loss: 0.6220 - val_acc: 0.8431\n",
      "Epoch 22/30\n",
      "42000/42000 [==============================] - 6s 147us/step - loss: 0.2772 - acc: 0.9115 - val_loss: 0.6152 - val_acc: 0.8497\n",
      "Epoch 23/30\n",
      "42000/42000 [==============================] - 6s 146us/step - loss: 0.2734 - acc: 0.9125 - val_loss: 0.6187 - val_acc: 0.8497\n",
      "Epoch 24/30\n",
      "42000/42000 [==============================] - 6s 144us/step - loss: 0.2465 - acc: 0.9210 - val_loss: 0.6253 - val_acc: 0.8507\n",
      "Epoch 25/30\n",
      "42000/42000 [==============================] - 6s 145us/step - loss: 0.2556 - acc: 0.9183 - val_loss: 0.6537 - val_acc: 0.8450\n",
      "Epoch 26/30\n",
      "42000/42000 [==============================] - 6s 146us/step - loss: 0.2522 - acc: 0.9198 - val_loss: 0.6390 - val_acc: 0.8523\n",
      "Epoch 27/30\n",
      "42000/42000 [==============================] - 6s 145us/step - loss: 0.2316 - acc: 0.9256 - val_loss: 0.6548 - val_acc: 0.8505\n",
      "Epoch 28/30\n",
      "42000/42000 [==============================] - 6s 144us/step - loss: 0.2345 - acc: 0.9251 - val_loss: 0.6530 - val_acc: 0.8494\n",
      "Epoch 29/30\n",
      "42000/42000 [==============================] - 6s 145us/step - loss: 0.2205 - acc: 0.9293 - val_loss: 0.6742 - val_acc: 0.8466\n",
      "Epoch 30/30\n",
      "42000/42000 [==============================] - 6s 144us/step - loss: 0.2201 - acc: 0.9291 - val_loss: 0.6803 - val_acc: 0.8507\n"
     ]
    }
   ],
   "source": [
    "adam5 =create_model_withdropout('categorical_crossentropy')\n",
    "adam5_result = adam5.fit(x_train3,y_train2,validation_data=(x_test3,y_test2),epochs=30,batch_size = 200)"
   ]
  },
  {
   "cell_type": "code",
   "execution_count": 0,
   "metadata": {
    "colab": {
     "base_uri": "https://localhost:8080/",
     "height": 1074
    },
    "colab_type": "code",
    "id": "fZQFhSEzTIU-",
    "outputId": "ecefc4b0-a568-49ae-eced-91412bff030d"
   },
   "outputs": [
    {
     "name": "stdout",
     "output_type": "stream",
     "text": [
      "Train on 42000 samples, validate on 18000 samples\n",
      "Epoch 1/30\n",
      "42000/42000 [==============================] - 8s 189us/step - loss: 1.5350 - acc: 0.4730 - val_loss: 0.9878 - val_acc: 0.6873\n",
      "Epoch 2/30\n",
      "42000/42000 [==============================] - 6s 147us/step - loss: 0.9665 - acc: 0.6972 - val_loss: 0.8267 - val_acc: 0.7466\n",
      "Epoch 3/30\n",
      "42000/42000 [==============================] - 6s 149us/step - loss: 0.8021 - acc: 0.7526 - val_loss: 0.7555 - val_acc: 0.7666\n",
      "Epoch 4/30\n",
      "42000/42000 [==============================] - 6s 148us/step - loss: 0.7163 - acc: 0.7765 - val_loss: 0.7050 - val_acc: 0.7863\n",
      "Epoch 5/30\n",
      "42000/42000 [==============================] - 6s 153us/step - loss: 0.6451 - acc: 0.8003 - val_loss: 0.6845 - val_acc: 0.7944\n",
      "Epoch 6/30\n",
      "42000/42000 [==============================] - 6s 145us/step - loss: 0.5982 - acc: 0.8138 - val_loss: 0.6639 - val_acc: 0.7997\n",
      "Epoch 7/30\n",
      "42000/42000 [==============================] - 6s 147us/step - loss: 0.5618 - acc: 0.8274 - val_loss: 0.6002 - val_acc: 0.8219\n",
      "Epoch 8/30\n",
      "42000/42000 [==============================] - 6s 146us/step - loss: 0.5217 - acc: 0.8372 - val_loss: 0.6129 - val_acc: 0.8191\n",
      "Epoch 9/30\n",
      "42000/42000 [==============================] - 6s 144us/step - loss: 0.4931 - acc: 0.8442 - val_loss: 0.5907 - val_acc: 0.8298\n",
      "Epoch 10/30\n",
      "42000/42000 [==============================] - 6s 144us/step - loss: 0.4666 - acc: 0.8543 - val_loss: 0.6248 - val_acc: 0.8203\n",
      "Epoch 11/30\n",
      "42000/42000 [==============================] - 6s 147us/step - loss: 0.4549 - acc: 0.8565 - val_loss: 0.6363 - val_acc: 0.8173\n",
      "Epoch 12/30\n",
      "42000/42000 [==============================] - 6s 147us/step - loss: 0.4285 - acc: 0.8657 - val_loss: 0.6028 - val_acc: 0.8322\n",
      "Epoch 13/30\n",
      "42000/42000 [==============================] - 6s 148us/step - loss: 0.4073 - acc: 0.8720 - val_loss: 0.5836 - val_acc: 0.8332\n",
      "Epoch 14/30\n",
      "42000/42000 [==============================] - 6s 146us/step - loss: 0.3841 - acc: 0.8777 - val_loss: 0.5778 - val_acc: 0.8376\n",
      "Epoch 15/30\n",
      "42000/42000 [==============================] - 6s 146us/step - loss: 0.3727 - acc: 0.8812 - val_loss: 0.6064 - val_acc: 0.8382\n",
      "Epoch 16/30\n",
      "42000/42000 [==============================] - 6s 145us/step - loss: 0.3543 - acc: 0.8863 - val_loss: 0.5830 - val_acc: 0.8407\n",
      "Epoch 17/30\n",
      "42000/42000 [==============================] - 6s 141us/step - loss: 0.3316 - acc: 0.8925 - val_loss: 0.6066 - val_acc: 0.8412\n",
      "Epoch 18/30\n",
      "42000/42000 [==============================] - 6s 141us/step - loss: 0.3240 - acc: 0.8963 - val_loss: 0.6005 - val_acc: 0.8395\n",
      "Epoch 19/30\n",
      "42000/42000 [==============================] - 6s 143us/step - loss: 0.3107 - acc: 0.9004 - val_loss: 0.6233 - val_acc: 0.8405\n",
      "Epoch 20/30\n",
      "42000/42000 [==============================] - 6s 141us/step - loss: 0.3019 - acc: 0.9038 - val_loss: 0.6396 - val_acc: 0.8402\n",
      "Epoch 21/30\n",
      "42000/42000 [==============================] - 6s 144us/step - loss: 0.2918 - acc: 0.9063 - val_loss: 0.6070 - val_acc: 0.8497\n",
      "Epoch 22/30\n",
      "42000/42000 [==============================] - 6s 153us/step - loss: 0.2846 - acc: 0.9095 - val_loss: 0.6090 - val_acc: 0.8461\n",
      "Epoch 23/30\n",
      "42000/42000 [==============================] - 6s 148us/step - loss: 0.2791 - acc: 0.9106 - val_loss: 0.6332 - val_acc: 0.8474\n",
      "Epoch 24/30\n",
      "42000/42000 [==============================] - 6s 144us/step - loss: 0.2714 - acc: 0.9136 - val_loss: 0.6202 - val_acc: 0.8436\n",
      "Epoch 25/30\n",
      "42000/42000 [==============================] - 6s 146us/step - loss: 0.2552 - acc: 0.9188 - val_loss: 0.6539 - val_acc: 0.8487\n",
      "Epoch 26/30\n",
      "42000/42000 [==============================] - 6s 146us/step - loss: 0.2468 - acc: 0.9188 - val_loss: 0.6572 - val_acc: 0.8511\n",
      "Epoch 27/30\n",
      "42000/42000 [==============================] - 6s 145us/step - loss: 0.2352 - acc: 0.9234 - val_loss: 0.6531 - val_acc: 0.8444\n",
      "Epoch 28/30\n",
      "42000/42000 [==============================] - 6s 143us/step - loss: 0.2344 - acc: 0.9243 - val_loss: 0.6771 - val_acc: 0.8482\n",
      "Epoch 29/30\n",
      "42000/42000 [==============================] - 6s 142us/step - loss: 0.2287 - acc: 0.9256 - val_loss: 0.6600 - val_acc: 0.8504\n",
      "Epoch 30/30\n",
      "42000/42000 [==============================] - 6s 143us/step - loss: 0.2158 - acc: 0.9298 - val_loss: 0.6758 - val_acc: 0.8512\n"
     ]
    }
   ],
   "source": [
    "adam6 =create_model_withdropout(losses.kullback_leibler_divergence)\n",
    "adam6_result = adam6.fit(x_train3,y_train2,validation_data=(x_test3,y_test2),epochs=30,batch_size = 200)"
   ]
  },
  {
   "cell_type": "code",
   "execution_count": 0,
   "metadata": {
    "colab": {},
    "colab_type": "code",
    "id": "iq00XIdnTHjV"
   },
   "outputs": [],
   "source": [
    "columns =['optimizer','loss function','batch_normalization','drop_out layer','training accuracy','testing accuracy','training error','testing error']"
   ]
  },
  {
   "cell_type": "code",
   "execution_count": 0,
   "metadata": {
    "colab": {},
    "colab_type": "code",
    "id": "4SnEsF4Rhvxg"
   },
   "outputs": [],
   "source": [
    "row_list = []"
   ]
  },
  {
   "cell_type": "code",
   "execution_count": 0,
   "metadata": {
    "colab": {},
    "colab_type": "code",
    "id": "rwRLEe-xiGAS"
   },
   "outputs": [],
   "source": [
    "row_list.append(['adam','cross_entropy','No','No',adam1_result.history['acc'][29],adam1_result.history['val_acc'][29],adam1_result.history['loss'][29],adam1_result.history['val_loss'][29]])\n",
    "row_list.append(['adam','Kl-divergence','No','No',adam2_result.history['acc'][29],adam2_result.history['val_acc'][29],adam2_result.history['loss'][29],adam2_result.history['val_loss'][29]])\n",
    "row_list.append(['adam','cross_entropy','Yes','No',adam3_result.history['acc'][29],adam3_result.history['val_acc'][29],adam3_result.history['loss'][29],adam3_result.history['val_loss'][29]])\n",
    "row_list.append(['adam','Kl-divergence','Yes','No',adam4_result.history['acc'][29],adam4_result.history['val_acc'][29],adam4_result.history['loss'][29],adam4_result.history['val_loss'][29]])\n",
    "row_list.append(['adam','cross_entropy','Yes','Yes',adam5_result.history['acc'][29],adam5_result.history['val_acc'][29],adam5_result.history['loss'][29],adam5_result.history['val_loss'][29]])\n",
    "row_list.append(['adam','Kl-divergence','Yes','Yes',adam6_result.history['acc'][29],adam6_result.history['val_acc'][29],adam6_result.history['loss'][29],adam6_result.history['val_loss'][29]])"
   ]
  },
  {
   "cell_type": "code",
   "execution_count": 0,
   "metadata": {
    "colab": {},
    "colab_type": "code",
    "id": "wOTu1UOClPtV"
   },
   "outputs": [],
   "source": [
    "adam_history = pd.DataFrame(row_list,columns = columns)"
   ]
  },
  {
   "cell_type": "code",
   "execution_count": 0,
   "metadata": {
    "colab": {
     "base_uri": "https://localhost:8080/",
     "height": 272
    },
    "colab_type": "code",
    "id": "6II0PlibnL0_",
    "outputId": "41416733-922a-4647-b5bd-bfa767df1dfe"
   },
   "outputs": [
    {
     "data": {
      "text/html": [
       "<div>\n",
       "<style scoped>\n",
       "    .dataframe tbody tr th:only-of-type {\n",
       "        vertical-align: middle;\n",
       "    }\n",
       "\n",
       "    .dataframe tbody tr th {\n",
       "        vertical-align: top;\n",
       "    }\n",
       "\n",
       "    .dataframe thead th {\n",
       "        text-align: right;\n",
       "    }\n",
       "</style>\n",
       "<table border=\"1\" class=\"dataframe\">\n",
       "  <thead>\n",
       "    <tr style=\"text-align: right;\">\n",
       "      <th></th>\n",
       "      <th>optimizer</th>\n",
       "      <th>loss function</th>\n",
       "      <th>batch_normalization</th>\n",
       "      <th>drop_out layer</th>\n",
       "      <th>training accuracy</th>\n",
       "      <th>testing accuracy</th>\n",
       "      <th>training error</th>\n",
       "      <th>testing error</th>\n",
       "    </tr>\n",
       "  </thead>\n",
       "  <tbody>\n",
       "    <tr>\n",
       "      <th>0</th>\n",
       "      <td>adam</td>\n",
       "      <td>cross_entropy</td>\n",
       "      <td>No</td>\n",
       "      <td>No</td>\n",
       "      <td>0.869905</td>\n",
       "      <td>0.821500</td>\n",
       "      <td>0.402863</td>\n",
       "      <td>0.616417</td>\n",
       "    </tr>\n",
       "    <tr>\n",
       "      <th>1</th>\n",
       "      <td>adam</td>\n",
       "      <td>Kl-divergence</td>\n",
       "      <td>No</td>\n",
       "      <td>No</td>\n",
       "      <td>0.869524</td>\n",
       "      <td>0.816444</td>\n",
       "      <td>0.402446</td>\n",
       "      <td>0.627287</td>\n",
       "    </tr>\n",
       "    <tr>\n",
       "      <th>2</th>\n",
       "      <td>adam</td>\n",
       "      <td>cross_entropy</td>\n",
       "      <td>Yes</td>\n",
       "      <td>No</td>\n",
       "      <td>0.945905</td>\n",
       "      <td>0.844111</td>\n",
       "      <td>0.165351</td>\n",
       "      <td>0.750154</td>\n",
       "    </tr>\n",
       "    <tr>\n",
       "      <th>3</th>\n",
       "      <td>adam</td>\n",
       "      <td>Kl-divergence</td>\n",
       "      <td>Yes</td>\n",
       "      <td>No</td>\n",
       "      <td>0.949119</td>\n",
       "      <td>0.844667</td>\n",
       "      <td>0.155374</td>\n",
       "      <td>0.765934</td>\n",
       "    </tr>\n",
       "    <tr>\n",
       "      <th>4</th>\n",
       "      <td>adam</td>\n",
       "      <td>cross_entropy</td>\n",
       "      <td>Yes</td>\n",
       "      <td>Yes</td>\n",
       "      <td>0.929119</td>\n",
       "      <td>0.850667</td>\n",
       "      <td>0.220101</td>\n",
       "      <td>0.680251</td>\n",
       "    </tr>\n",
       "    <tr>\n",
       "      <th>5</th>\n",
       "      <td>adam</td>\n",
       "      <td>Kl-divergence</td>\n",
       "      <td>Yes</td>\n",
       "      <td>Yes</td>\n",
       "      <td>0.929810</td>\n",
       "      <td>0.851167</td>\n",
       "      <td>0.215815</td>\n",
       "      <td>0.675823</td>\n",
       "    </tr>\n",
       "  </tbody>\n",
       "</table>\n",
       "</div>"
      ],
      "text/plain": [
       "  optimizer  loss function batch_normalization drop_out layer  \\\n",
       "0      adam  cross_entropy                  No             No   \n",
       "1      adam  Kl-divergence                  No             No   \n",
       "2      adam  cross_entropy                 Yes             No   \n",
       "3      adam  Kl-divergence                 Yes             No   \n",
       "4      adam  cross_entropy                 Yes            Yes   \n",
       "5      adam  Kl-divergence                 Yes            Yes   \n",
       "\n",
       "   training accuracy  testing accuracy  training error  testing error  \n",
       "0           0.869905          0.821500        0.402863       0.616417  \n",
       "1           0.869524          0.816444        0.402446       0.627287  \n",
       "2           0.945905          0.844111        0.165351       0.750154  \n",
       "3           0.949119          0.844667        0.155374       0.765934  \n",
       "4           0.929119          0.850667        0.220101       0.680251  \n",
       "5           0.929810          0.851167        0.215815       0.675823  "
      ]
     },
     "execution_count": 97,
     "metadata": {
      "tags": []
     },
     "output_type": "execute_result"
    }
   ],
   "source": [
    "adam_history"
   ]
  },
  {
   "cell_type": "code",
   "execution_count": 0,
   "metadata": {
    "colab": {},
    "colab_type": "code",
    "id": "JLf6mYrKiF4j"
   },
   "outputs": [],
   "source": [
    "#best model in adam optimizer is model 3 with KL-divergence and batch normalization without drop layer"
   ]
  },
  {
   "cell_type": "code",
   "execution_count": 0,
   "metadata": {
    "colab": {
     "base_uri": "https://localhost:8080/",
     "height": 735
    },
    "colab_type": "code",
    "id": "_j7c-qxvhvmb",
    "outputId": "5ace971e-6c61-474a-c5b6-8ea22050786c"
   },
   "outputs": [
    {
     "data": {
      "image/png": "[encoded data removed]",
      "text/plain": [
       "<Figure size 576x396 with 1 Axes>"
      ]
     },
     "metadata": {
      "tags": []
     },
     "output_type": "display_data"
    },
    {
     "data": {
      "image/png": "[encoded data removed]",
      "text/plain": [
       "<Figure size 576x396 with 1 Axes>"
      ]
     },
     "metadata": {
      "tags": []
     },
     "output_type": "display_data"
    }
   ],
   "source": [
    "plt.plot(adam3_result.history['acc'])\n",
    "plt.plot(adam3_result.history['val_acc'])\n",
    "plt.title('model accuracy')\n",
    "plt.ylabel('accuracy')\n",
    "plt.xlabel('epoch')\n",
    "plt.legend(['train', 'test'], loc='upper left')\n",
    "plt.show()\n",
    "# summarize history for loss\n",
    "plt.plot(adam3_result.history['loss'])\n",
    "plt.plot(adam3_result.history['val_loss'])\n",
    "plt.title('model loss')\n",
    "plt.ylabel('loss')\n",
    "plt.xlabel('epoch')\n",
    "plt.legend(['train', 'test'], loc='upper left')\n",
    "plt.show()"
   ]
  },
  {
   "cell_type": "markdown",
   "metadata": {
    "colab": {},
    "colab_type": "code",
    "id": "fI3H-ffziEWa"
   },
   "source": [
    "### 3. RMSprop optimizer"
   ]
  },
  {
   "cell_type": "markdown",
   "metadata": {
    "colab": {},
    "colab_type": "code",
    "id": "Wa3UStEwoDz8"
   },
   "source": [
    "### with loss functions as a. categorical cross entropy b. KL-divergence\n",
    "### with and without batch normalization\n",
    "### with and without drop out layer."
   ]
  },
  {
   "cell_type": "code",
   "execution_count": 0,
   "metadata": {
    "colab": {},
    "colab_type": "code",
    "id": "c-Xru9V_oEli"
   },
   "outputs": [],
   "source": [
    "def create_model_rms(loss_type,optimizer='RMSprop'): \n",
    "  model =Sequential ()\n",
    "  model.add(Reshape((1024,),input_shape=(32,32,)))\n",
    "  model.add(Dense(300, activation='relu'))\n",
    "  model.add(Dense(200, activation='relu'))\n",
    "  model.add(Dense(200, activation='relu'))\n",
    "  model.add(Dense(250, activation='relu'))\n",
    "  #model.add(Dropout(0.5))\n",
    "  model.add(Dense(10, activation='softmax'))\n",
    "  model.compile(loss=loss_type, optimizer=optimizer, metrics=['accuracy'])\n",
    "  return model"
   ]
  },
  {
   "cell_type": "code",
   "execution_count": 0,
   "metadata": {
    "colab": {
     "base_uri": "https://localhost:8080/",
     "height": 1074
    },
    "colab_type": "code",
    "id": "o1Ss7OpHoEeZ",
    "outputId": "838192c8-d7e0-46e5-afff-58fb337db750"
   },
   "outputs": [
    {
     "name": "stdout",
     "output_type": "stream",
     "text": [
      "Train on 42000 samples, validate on 18000 samples\n",
      "Epoch 1/30\n",
      "42000/42000 [==============================] - 7s 165us/step - loss: 2.3103 - acc: 0.1132 - val_loss: 2.2523 - val_acc: 0.1309\n",
      "Epoch 2/30\n",
      "42000/42000 [==============================] - 4s 105us/step - loss: 2.0083 - acc: 0.2745 - val_loss: 1.8147 - val_acc: 0.3352\n",
      "Epoch 3/30\n",
      "42000/42000 [==============================] - 4s 105us/step - loss: 1.7540 - acc: 0.3803 - val_loss: 1.6732 - val_acc: 0.4046\n",
      "Epoch 4/30\n",
      "42000/42000 [==============================] - 4s 104us/step - loss: 1.5894 - acc: 0.4574 - val_loss: 1.4767 - val_acc: 0.4786\n",
      "Epoch 5/30\n",
      "42000/42000 [==============================] - 4s 103us/step - loss: 1.4514 - acc: 0.5125 - val_loss: 1.3501 - val_acc: 0.5451\n",
      "Epoch 6/30\n",
      "42000/42000 [==============================] - 4s 105us/step - loss: 1.3603 - acc: 0.5460 - val_loss: 1.2501 - val_acc: 0.5681\n",
      "Epoch 7/30\n",
      "42000/42000 [==============================] - 4s 105us/step - loss: 1.2679 - acc: 0.5829 - val_loss: 1.2161 - val_acc: 0.5952\n",
      "Epoch 8/30\n",
      "42000/42000 [==============================] - 4s 105us/step - loss: 1.2233 - acc: 0.5951 - val_loss: 1.0905 - val_acc: 0.6472\n",
      "Epoch 9/30\n",
      "42000/42000 [==============================] - 4s 106us/step - loss: 1.1651 - acc: 0.6180 - val_loss: 1.2841 - val_acc: 0.5814\n",
      "Epoch 10/30\n",
      "42000/42000 [==============================] - 4s 105us/step - loss: 1.1187 - acc: 0.6317 - val_loss: 1.2026 - val_acc: 0.5956\n",
      "Epoch 11/30\n",
      "42000/42000 [==============================] - 4s 107us/step - loss: 1.0843 - acc: 0.6485 - val_loss: 0.9977 - val_acc: 0.6763\n",
      "Epoch 12/30\n",
      "42000/42000 [==============================] - 4s 106us/step - loss: 1.0408 - acc: 0.6607 - val_loss: 0.9543 - val_acc: 0.6956\n",
      "Epoch 13/30\n",
      "42000/42000 [==============================] - 4s 106us/step - loss: 1.0083 - acc: 0.6713 - val_loss: 1.0243 - val_acc: 0.6754\n",
      "Epoch 14/30\n",
      "42000/42000 [==============================] - 4s 104us/step - loss: 0.9816 - acc: 0.6810 - val_loss: 0.8840 - val_acc: 0.7288\n",
      "Epoch 15/30\n",
      "42000/42000 [==============================] - 4s 104us/step - loss: 0.9438 - acc: 0.6947 - val_loss: 0.9417 - val_acc: 0.6958\n",
      "Epoch 16/30\n",
      "42000/42000 [==============================] - 4s 104us/step - loss: 0.9222 - acc: 0.7006 - val_loss: 0.8505 - val_acc: 0.7368\n",
      "Epoch 17/30\n",
      "42000/42000 [==============================] - 4s 107us/step - loss: 0.9035 - acc: 0.7086 - val_loss: 0.9408 - val_acc: 0.6989\n",
      "Epoch 18/30\n",
      "42000/42000 [==============================] - 4s 105us/step - loss: 0.8724 - acc: 0.7167 - val_loss: 0.9138 - val_acc: 0.7103\n",
      "Epoch 19/30\n",
      "42000/42000 [==============================] - 4s 102us/step - loss: 0.8579 - acc: 0.7211 - val_loss: 0.8430 - val_acc: 0.7381\n",
      "Epoch 20/30\n",
      "42000/42000 [==============================] - 4s 102us/step - loss: 0.8381 - acc: 0.7289 - val_loss: 0.9582 - val_acc: 0.6974\n",
      "Epoch 21/30\n",
      "42000/42000 [==============================] - 4s 102us/step - loss: 0.8166 - acc: 0.7354 - val_loss: 0.8537 - val_acc: 0.7308\n",
      "Epoch 22/30\n",
      "42000/42000 [==============================] - 4s 103us/step - loss: 0.7996 - acc: 0.7417 - val_loss: 0.8603 - val_acc: 0.7309\n",
      "Epoch 23/30\n",
      "42000/42000 [==============================] - 4s 102us/step - loss: 0.7890 - acc: 0.7456 - val_loss: 0.8463 - val_acc: 0.7386\n",
      "Epoch 24/30\n",
      "42000/42000 [==============================] - 4s 104us/step - loss: 0.7728 - acc: 0.7520 - val_loss: 0.9418 - val_acc: 0.6991\n",
      "Epoch 25/30\n",
      "42000/42000 [==============================] - 4s 102us/step - loss: 0.7574 - acc: 0.7555 - val_loss: 0.9306 - val_acc: 0.7054\n",
      "Epoch 26/30\n",
      "42000/42000 [==============================] - 4s 103us/step - loss: 0.7446 - acc: 0.7597 - val_loss: 0.7830 - val_acc: 0.7582\n",
      "Epoch 27/30\n",
      "42000/42000 [==============================] - 4s 103us/step - loss: 0.7307 - acc: 0.7634 - val_loss: 0.7638 - val_acc: 0.7644\n",
      "Epoch 28/30\n",
      "42000/42000 [==============================] - 4s 104us/step - loss: 0.7129 - acc: 0.7700 - val_loss: 0.7794 - val_acc: 0.7582\n",
      "Epoch 29/30\n",
      "42000/42000 [==============================] - 4s 103us/step - loss: 0.7059 - acc: 0.7712 - val_loss: 0.8425 - val_acc: 0.7418\n",
      "Epoch 30/30\n",
      "42000/42000 [==============================] - 4s 103us/step - loss: 0.6950 - acc: 0.7770 - val_loss: 0.9769 - val_acc: 0.7012\n"
     ]
    }
   ],
   "source": [
    "#cross entropy without batch normalization and drop out\n",
    "rms1 =create_model_rms('categorical_crossentropy')\n",
    "rms1_result = rms1.fit(x_train3,y_train2,validation_data=(x_test3,y_test2),epochs=30,batch_size = 200)\n"
   ]
  },
  {
   "cell_type": "code",
   "execution_count": 0,
   "metadata": {
    "colab": {
     "base_uri": "https://localhost:8080/",
     "height": 1074
    },
    "colab_type": "code",
    "id": "T-bdF0lFoEZp",
    "outputId": "468eb127-9e0b-44ed-aed2-4df634da0642"
   },
   "outputs": [
    {
     "name": "stdout",
     "output_type": "stream",
     "text": [
      "Train on 42000 samples, validate on 18000 samples\n",
      "Epoch 1/30\n",
      "42000/42000 [==============================] - 6s 152us/step - loss: 2.2830 - acc: 0.1249 - val_loss: 2.1434 - val_acc: 0.1898\n",
      "Epoch 2/30\n",
      "42000/42000 [==============================] - 5s 109us/step - loss: 1.9554 - acc: 0.2947 - val_loss: 1.8332 - val_acc: 0.3598\n",
      "Epoch 3/30\n",
      "42000/42000 [==============================] - 5s 108us/step - loss: 1.7235 - acc: 0.3914 - val_loss: 1.5210 - val_acc: 0.4857\n",
      "Epoch 4/30\n",
      "42000/42000 [==============================] - 4s 105us/step - loss: 1.5734 - acc: 0.4600 - val_loss: 1.6838 - val_acc: 0.4324\n",
      "Epoch 5/30\n",
      "42000/42000 [==============================] - 4s 105us/step - loss: 1.4617 - acc: 0.5091 - val_loss: 1.3423 - val_acc: 0.5374\n",
      "Epoch 6/30\n",
      "42000/42000 [==============================] - 4s 104us/step - loss: 1.3549 - acc: 0.5490 - val_loss: 1.4107 - val_acc: 0.5412\n",
      "Epoch 7/30\n",
      "42000/42000 [==============================] - 4s 104us/step - loss: 1.2828 - acc: 0.5738 - val_loss: 1.3174 - val_acc: 0.5464\n",
      "Epoch 8/30\n",
      "42000/42000 [==============================] - 4s 104us/step - loss: 1.2132 - acc: 0.6017 - val_loss: 1.0785 - val_acc: 0.6508\n",
      "Epoch 9/30\n",
      "42000/42000 [==============================] - 4s 104us/step - loss: 1.1731 - acc: 0.6180 - val_loss: 1.1692 - val_acc: 0.6104\n",
      "Epoch 10/30\n",
      "42000/42000 [==============================] - 4s 103us/step - loss: 1.1247 - acc: 0.6355 - val_loss: 1.0735 - val_acc: 0.6539\n",
      "Epoch 11/30\n",
      "42000/42000 [==============================] - 4s 104us/step - loss: 1.0803 - acc: 0.6512 - val_loss: 1.0922 - val_acc: 0.6434\n",
      "Epoch 12/30\n",
      "42000/42000 [==============================] - 4s 104us/step - loss: 1.0395 - acc: 0.6637 - val_loss: 0.9311 - val_acc: 0.7049\n",
      "Epoch 13/30\n",
      "42000/42000 [==============================] - 4s 104us/step - loss: 1.0104 - acc: 0.6745 - val_loss: 0.9829 - val_acc: 0.6746\n",
      "Epoch 14/30\n",
      "42000/42000 [==============================] - 4s 104us/step - loss: 0.9711 - acc: 0.6831 - val_loss: 0.9278 - val_acc: 0.7067\n",
      "Epoch 15/30\n",
      "42000/42000 [==============================] - 4s 105us/step - loss: 0.9421 - acc: 0.6935 - val_loss: 0.8849 - val_acc: 0.7169\n",
      "Epoch 16/30\n",
      "42000/42000 [==============================] - 4s 105us/step - loss: 0.9167 - acc: 0.7033 - val_loss: 0.9469 - val_acc: 0.6941\n",
      "Epoch 17/30\n",
      "42000/42000 [==============================] - 4s 104us/step - loss: 0.9044 - acc: 0.7063 - val_loss: 1.3790 - val_acc: 0.5669\n",
      "Epoch 18/30\n",
      "42000/42000 [==============================] - 4s 102us/step - loss: 0.8771 - acc: 0.7155 - val_loss: 0.8562 - val_acc: 0.7252\n",
      "Epoch 19/30\n",
      "42000/42000 [==============================] - 4s 104us/step - loss: 0.8574 - acc: 0.7232 - val_loss: 0.9570 - val_acc: 0.6878\n",
      "Epoch 20/30\n",
      "42000/42000 [==============================] - 4s 104us/step - loss: 0.8329 - acc: 0.7301 - val_loss: 0.8203 - val_acc: 0.7420\n",
      "Epoch 21/30\n",
      "42000/42000 [==============================] - 4s 103us/step - loss: 0.8253 - acc: 0.7333 - val_loss: 0.8820 - val_acc: 0.7265\n",
      "Epoch 22/30\n",
      "42000/42000 [==============================] - 4s 103us/step - loss: 0.8000 - acc: 0.7392 - val_loss: 0.7971 - val_acc: 0.7487\n",
      "Epoch 23/30\n",
      "42000/42000 [==============================] - 4s 103us/step - loss: 0.7826 - acc: 0.7457 - val_loss: 0.8314 - val_acc: 0.7419\n",
      "Epoch 24/30\n",
      "42000/42000 [==============================] - 4s 104us/step - loss: 0.7631 - acc: 0.7515 - val_loss: 0.8533 - val_acc: 0.7394\n",
      "Epoch 25/30\n",
      "42000/42000 [==============================] - 4s 105us/step - loss: 0.7607 - acc: 0.7551 - val_loss: 0.8664 - val_acc: 0.7313\n",
      "Epoch 26/30\n",
      "42000/42000 [==============================] - 4s 105us/step - loss: 0.7384 - acc: 0.7613 - val_loss: 0.7282 - val_acc: 0.7753\n",
      "Epoch 27/30\n",
      "42000/42000 [==============================] - 4s 103us/step - loss: 0.7219 - acc: 0.7660 - val_loss: 0.7445 - val_acc: 0.7753\n",
      "Epoch 28/30\n",
      "42000/42000 [==============================] - 4s 105us/step - loss: 0.7111 - acc: 0.7700 - val_loss: 0.8122 - val_acc: 0.7571\n",
      "Epoch 29/30\n",
      "42000/42000 [==============================] - 4s 106us/step - loss: 0.6983 - acc: 0.7731 - val_loss: 0.8050 - val_acc: 0.7499\n",
      "Epoch 30/30\n",
      "42000/42000 [==============================] - 4s 104us/step - loss: 0.6903 - acc: 0.7763 - val_loss: 0.7251 - val_acc: 0.7856\n"
     ]
    }
   ],
   "source": [
    "#KL-divergence without batch normalization and drop out\n",
    "rms2 =create_model_rms(losses.kullback_leibler_divergence)\n",
    "rms2_result = rms2.fit(x_train3,y_train2,validation_data=(x_test3,y_test2),epochs=30,batch_size = 200)"
   ]
  },
  {
   "cell_type": "code",
   "execution_count": 0,
   "metadata": {
    "colab": {},
    "colab_type": "code",
    "id": "Wxd9gY6xoETa"
   },
   "outputs": [],
   "source": [
    "#with batch normalization"
   ]
  },
  {
   "cell_type": "code",
   "execution_count": 0,
   "metadata": {
    "colab": {},
    "colab_type": "code",
    "id": "fE6ykMGZoDus"
   },
   "outputs": [],
   "source": [
    "#with drop out and batch normalization\n",
    "def create_model_withBatchNormRms(loss_type,optimizer='adam'): \n",
    "  model =Sequential ()\n",
    "  model.add(Reshape((1024,),input_shape=(32,32,)))\n",
    "  model.add(BatchNormalization())\n",
    "  model.add(Dense(300, activation='relu'))\n",
    "  model.add(Dense(200, activation='relu'))\n",
    "  model.add(Dense(200, activation='relu'))\n",
    "  model.add(Dense(250, activation='relu'))\n",
    "  model.add(Dropout(0.5))\n",
    "  model.add(Dense(10, activation='softmax'))\n",
    "  model.compile(loss=loss_type, optimizer=optimizer, metrics=['accuracy'])\n",
    "  return model"
   ]
  },
  {
   "cell_type": "code",
   "execution_count": 0,
   "metadata": {
    "colab": {
     "base_uri": "https://localhost:8080/",
     "height": 1074
    },
    "colab_type": "code",
    "id": "CvIFqu21oDpL",
    "outputId": "c3d15a09-b00b-40d1-cca4-2d5bddcf9d05"
   },
   "outputs": [
    {
     "name": "stdout",
     "output_type": "stream",
     "text": [
      "Train on 42000 samples, validate on 18000 samples\n",
      "Epoch 1/30\n",
      "42000/42000 [==============================] - 8s 196us/step - loss: 1.5597 - acc: 0.4581 - val_loss: 0.9436 - val_acc: 0.7094\n",
      "Epoch 2/30\n",
      "42000/42000 [==============================] - 6s 144us/step - loss: 0.9384 - acc: 0.7070 - val_loss: 0.7964 - val_acc: 0.7551\n",
      "Epoch 3/30\n",
      "42000/42000 [==============================] - 6s 143us/step - loss: 0.7912 - acc: 0.7538 - val_loss: 0.7192 - val_acc: 0.7805\n",
      "Epoch 4/30\n",
      "42000/42000 [==============================] - 6s 141us/step - loss: 0.7062 - acc: 0.7820 - val_loss: 0.6887 - val_acc: 0.7904\n",
      "Epoch 5/30\n",
      "42000/42000 [==============================] - 6s 144us/step - loss: 0.6430 - acc: 0.8016 - val_loss: 0.6443 - val_acc: 0.8032\n",
      "Epoch 6/30\n",
      "42000/42000 [==============================] - 6s 147us/step - loss: 0.5854 - acc: 0.8181 - val_loss: 0.6176 - val_acc: 0.8137\n",
      "Epoch 7/30\n",
      "42000/42000 [==============================] - 6s 151us/step - loss: 0.5508 - acc: 0.8289 - val_loss: 0.6417 - val_acc: 0.8072\n",
      "Epoch 8/30\n",
      "42000/42000 [==============================] - 6s 145us/step - loss: 0.5263 - acc: 0.8359 - val_loss: 0.5845 - val_acc: 0.8268\n",
      "Epoch 9/30\n",
      "42000/42000 [==============================] - 6s 145us/step - loss: 0.4857 - acc: 0.8485 - val_loss: 0.5865 - val_acc: 0.8298\n",
      "Epoch 10/30\n",
      "42000/42000 [==============================] - 6s 144us/step - loss: 0.4693 - acc: 0.8536 - val_loss: 0.5950 - val_acc: 0.8229\n",
      "Epoch 11/30\n",
      "42000/42000 [==============================] - 6s 142us/step - loss: 0.4380 - acc: 0.8617 - val_loss: 0.5923 - val_acc: 0.8287\n",
      "Epoch 12/30\n",
      "42000/42000 [==============================] - 6s 143us/step - loss: 0.4208 - acc: 0.8671 - val_loss: 0.6036 - val_acc: 0.8311\n",
      "Epoch 13/30\n",
      "42000/42000 [==============================] - 6s 143us/step - loss: 0.3940 - acc: 0.8749 - val_loss: 0.5739 - val_acc: 0.8383\n",
      "Epoch 14/30\n",
      "42000/42000 [==============================] - 6s 142us/step - loss: 0.3800 - acc: 0.8800 - val_loss: 0.5792 - val_acc: 0.8389\n",
      "Epoch 15/30\n",
      "42000/42000 [==============================] - 6s 144us/step - loss: 0.3665 - acc: 0.8831 - val_loss: 0.5863 - val_acc: 0.8361\n",
      "Epoch 16/30\n",
      "42000/42000 [==============================] - 6s 143us/step - loss: 0.3475 - acc: 0.8900 - val_loss: 0.5932 - val_acc: 0.8398\n",
      "Epoch 17/30\n",
      "42000/42000 [==============================] - 6s 145us/step - loss: 0.3437 - acc: 0.8891 - val_loss: 0.6229 - val_acc: 0.8298\n",
      "Epoch 18/30\n",
      "42000/42000 [==============================] - 6s 146us/step - loss: 0.3295 - acc: 0.8959 - val_loss: 0.5974 - val_acc: 0.8474\n",
      "Epoch 19/30\n",
      "42000/42000 [==============================] - 6s 145us/step - loss: 0.3059 - acc: 0.9040 - val_loss: 0.6356 - val_acc: 0.8357\n",
      "Epoch 20/30\n",
      "42000/42000 [==============================] - 6s 144us/step - loss: 0.3073 - acc: 0.9028 - val_loss: 0.6109 - val_acc: 0.8438\n",
      "Epoch 21/30\n",
      "42000/42000 [==============================] - 6s 144us/step - loss: 0.2804 - acc: 0.9105 - val_loss: 0.6111 - val_acc: 0.8453\n",
      "Epoch 22/30\n",
      "42000/42000 [==============================] - 6s 144us/step - loss: 0.2838 - acc: 0.9094 - val_loss: 0.6032 - val_acc: 0.8486\n",
      "Epoch 23/30\n",
      "42000/42000 [==============================] - 6s 144us/step - loss: 0.2722 - acc: 0.9128 - val_loss: 0.6424 - val_acc: 0.8428\n",
      "Epoch 24/30\n",
      "42000/42000 [==============================] - 6s 143us/step - loss: 0.2598 - acc: 0.9160 - val_loss: 0.6176 - val_acc: 0.8498\n",
      "Epoch 25/30\n",
      "42000/42000 [==============================] - 6s 142us/step - loss: 0.2583 - acc: 0.9174 - val_loss: 0.6297 - val_acc: 0.8504\n",
      "Epoch 26/30\n",
      "42000/42000 [==============================] - 6s 142us/step - loss: 0.2355 - acc: 0.9237 - val_loss: 0.6729 - val_acc: 0.8471\n",
      "Epoch 27/30\n",
      "42000/42000 [==============================] - 6s 146us/step - loss: 0.2436 - acc: 0.9213 - val_loss: 0.6478 - val_acc: 0.8504\n",
      "Epoch 28/30\n",
      "42000/42000 [==============================] - 6s 144us/step - loss: 0.2336 - acc: 0.9252 - val_loss: 0.6566 - val_acc: 0.8491\n",
      "Epoch 29/30\n",
      "42000/42000 [==============================] - 6s 145us/step - loss: 0.2303 - acc: 0.9261 - val_loss: 0.6375 - val_acc: 0.8479\n",
      "Epoch 30/30\n",
      "42000/42000 [==============================] - 6s 151us/step - loss: 0.2220 - acc: 0.9288 - val_loss: 0.6461 - val_acc: 0.8472\n"
     ]
    }
   ],
   "source": [
    "#cross entropy with batch normalization and without drop layer \n",
    "rms3 =create_model_withBatchNormRms('categorical_crossentropy')\n",
    "rms3_result = rms3.fit(x_train3,y_train2,validation_data=(x_test3,y_test2),epochs=30,batch_size = 200)\n"
   ]
  },
  {
   "cell_type": "code",
   "execution_count": 0,
   "metadata": {
    "colab": {
     "base_uri": "https://localhost:8080/",
     "height": 1074
    },
    "colab_type": "code",
    "id": "1SlOC-RNoDi3",
    "outputId": "b8727ce6-e913-4d81-a7ce-f4be679b58e6"
   },
   "outputs": [
    {
     "name": "stdout",
     "output_type": "stream",
     "text": [
      "Train on 42000 samples, validate on 18000 samples\n",
      "Epoch 1/30\n",
      "42000/42000 [==============================] - 9s 207us/step - loss: 1.5151 - acc: 0.4844 - val_loss: 1.0051 - val_acc: 0.6821\n",
      "Epoch 2/30\n",
      "42000/42000 [==============================] - 6s 142us/step - loss: 0.9400 - acc: 0.7059 - val_loss: 0.8309 - val_acc: 0.7416\n",
      "Epoch 3/30\n",
      "42000/42000 [==============================] - 6s 143us/step - loss: 0.7975 - acc: 0.7519 - val_loss: 0.7695 - val_acc: 0.7661\n",
      "Epoch 4/30\n",
      "42000/42000 [==============================] - 6s 146us/step - loss: 0.7130 - acc: 0.7794 - val_loss: 0.6942 - val_acc: 0.7884\n",
      "Epoch 5/30\n",
      "42000/42000 [==============================] - 6s 145us/step - loss: 0.6473 - acc: 0.8004 - val_loss: 0.6833 - val_acc: 0.7948\n",
      "Epoch 6/30\n",
      "42000/42000 [==============================] - 6s 144us/step - loss: 0.5974 - acc: 0.8144 - val_loss: 0.6203 - val_acc: 0.8145\n",
      "Epoch 7/30\n",
      "42000/42000 [==============================] - 6s 147us/step - loss: 0.5545 - acc: 0.8273 - val_loss: 0.6118 - val_acc: 0.8184\n",
      "Epoch 8/30\n",
      "42000/42000 [==============================] - 6s 147us/step - loss: 0.5161 - acc: 0.8403 - val_loss: 0.5887 - val_acc: 0.8263\n",
      "Epoch 9/30\n",
      "42000/42000 [==============================] - 6s 149us/step - loss: 0.4886 - acc: 0.8461 - val_loss: 0.6332 - val_acc: 0.8173\n",
      "Epoch 10/30\n",
      "42000/42000 [==============================] - 6s 147us/step - loss: 0.4579 - acc: 0.8557 - val_loss: 0.6016 - val_acc: 0.8277\n",
      "Epoch 11/30\n",
      "42000/42000 [==============================] - 6s 147us/step - loss: 0.4352 - acc: 0.8623 - val_loss: 0.6413 - val_acc: 0.8129\n",
      "Epoch 12/30\n",
      "42000/42000 [==============================] - 6s 147us/step - loss: 0.4158 - acc: 0.8689 - val_loss: 0.6008 - val_acc: 0.8291\n",
      "Epoch 13/30\n",
      "42000/42000 [==============================] - 6s 146us/step - loss: 0.4018 - acc: 0.8730 - val_loss: 0.5769 - val_acc: 0.8379\n",
      "Epoch 14/30\n",
      "42000/42000 [==============================] - 6s 146us/step - loss: 0.3727 - acc: 0.8822 - val_loss: 0.6161 - val_acc: 0.8317\n",
      "Epoch 15/30\n",
      "42000/42000 [==============================] - 6s 144us/step - loss: 0.3663 - acc: 0.8828 - val_loss: 0.5961 - val_acc: 0.8414\n",
      "Epoch 16/30\n",
      "42000/42000 [==============================] - 6s 145us/step - loss: 0.3496 - acc: 0.8882 - val_loss: 0.6028 - val_acc: 0.8414\n",
      "Epoch 17/30\n",
      "42000/42000 [==============================] - 6s 147us/step - loss: 0.3386 - acc: 0.8926 - val_loss: 0.5986 - val_acc: 0.8406\n",
      "Epoch 18/30\n",
      "42000/42000 [==============================] - 6s 148us/step - loss: 0.3271 - acc: 0.8966 - val_loss: 0.6020 - val_acc: 0.8399\n",
      "Epoch 19/30\n",
      "42000/42000 [==============================] - 6s 146us/step - loss: 0.3126 - acc: 0.9022 - val_loss: 0.5975 - val_acc: 0.8427\n",
      "Epoch 20/30\n",
      "42000/42000 [==============================] - 6s 146us/step - loss: 0.3132 - acc: 0.9000 - val_loss: 0.6192 - val_acc: 0.8397\n",
      "Epoch 21/30\n",
      "42000/42000 [==============================] - 6s 146us/step - loss: 0.2930 - acc: 0.9062 - val_loss: 0.6050 - val_acc: 0.8479\n",
      "Epoch 22/30\n",
      "42000/42000 [==============================] - 6s 146us/step - loss: 0.2830 - acc: 0.9096 - val_loss: 0.6223 - val_acc: 0.8493\n",
      "Epoch 23/30\n",
      "42000/42000 [==============================] - 6s 144us/step - loss: 0.2692 - acc: 0.9141 - val_loss: 0.6432 - val_acc: 0.8418\n",
      "Epoch 24/30\n",
      "42000/42000 [==============================] - 6s 146us/step - loss: 0.2591 - acc: 0.9164 - val_loss: 0.6545 - val_acc: 0.8387\n",
      "Epoch 25/30\n",
      "42000/42000 [==============================] - 6s 147us/step - loss: 0.2626 - acc: 0.9158 - val_loss: 0.6610 - val_acc: 0.8473\n",
      "Epoch 26/30\n",
      "42000/42000 [==============================] - 6s 147us/step - loss: 0.2504 - acc: 0.9216 - val_loss: 0.6511 - val_acc: 0.8472\n",
      "Epoch 27/30\n",
      "42000/42000 [==============================] - 6s 151us/step - loss: 0.2433 - acc: 0.9206 - val_loss: 0.6794 - val_acc: 0.8441\n",
      "Epoch 28/30\n",
      "42000/42000 [==============================] - 6s 148us/step - loss: 0.2270 - acc: 0.9288 - val_loss: 0.6376 - val_acc: 0.8526\n",
      "Epoch 29/30\n",
      "42000/42000 [==============================] - 6s 147us/step - loss: 0.2291 - acc: 0.9259 - val_loss: 0.6804 - val_acc: 0.8453\n",
      "Epoch 30/30\n",
      "42000/42000 [==============================] - 6s 147us/step - loss: 0.2209 - acc: 0.9293 - val_loss: 0.6677 - val_acc: 0.8506\n"
     ]
    }
   ],
   "source": [
    "#KL-divergence with batch normalization and without drop out\n",
    "rms4 =create_model_withBatchNormRms(losses.kullback_leibler_divergence)\n",
    "rms4_result = rms4.fit(x_train3,y_train2,validation_data=(x_test3,y_test2),epochs=30,batch_size = 200)"
   ]
  },
  {
   "cell_type": "code",
   "execution_count": 0,
   "metadata": {
    "colab": {},
    "colab_type": "code",
    "id": "QB9K5-T_oDY0"
   },
   "outputs": [],
   "source": [
    "#with drop out and batch normalization\n",
    "def create_model_withRMSdropout(loss_type,optimizer='adam'): \n",
    "  model =Sequential ()\n",
    "  model.add(Reshape((1024,),input_shape=(32,32,)))\n",
    "  model.add(BatchNormalization())\n",
    "  model.add(Dense(300, activation='relu'))\n",
    "  model.add(Dense(200, activation='relu'))\n",
    "  model.add(Dense(200, activation='relu'))\n",
    "  model.add(Dense(250, activation='relu'))\n",
    "  model.add(Dropout(0.5))\n",
    "  model.add(Dense(10, activation='softmax'))\n",
    "  model.compile(loss=loss_type, optimizer=optimizer, metrics=['accuracy'])\n",
    "  return model"
   ]
  },
  {
   "cell_type": "code",
   "execution_count": 0,
   "metadata": {
    "colab": {
     "base_uri": "https://localhost:8080/",
     "height": 1074
    },
    "colab_type": "code",
    "id": "sQsv2W3ziEO3",
    "outputId": "ec7d45fb-49c6-4ad0-cbd4-64a7153c6cd9"
   },
   "outputs": [
    {
     "name": "stdout",
     "output_type": "stream",
     "text": [
      "Train on 42000 samples, validate on 18000 samples\n",
      "Epoch 1/30\n",
      "42000/42000 [==============================] - 9s 211us/step - loss: 1.5526 - acc: 0.4665 - val_loss: 1.0265 - val_acc: 0.6729\n",
      "Epoch 2/30\n",
      "42000/42000 [==============================] - 6s 145us/step - loss: 0.9507 - acc: 0.7051 - val_loss: 0.8337 - val_acc: 0.7449\n",
      "Epoch 3/30\n",
      "42000/42000 [==============================] - 6s 148us/step - loss: 0.7942 - acc: 0.7562 - val_loss: 0.7255 - val_acc: 0.7783\n",
      "Epoch 4/30\n",
      "42000/42000 [==============================] - 6s 147us/step - loss: 0.6919 - acc: 0.7865 - val_loss: 0.6848 - val_acc: 0.7914\n",
      "Epoch 5/30\n",
      "42000/42000 [==============================] - 6s 148us/step - loss: 0.6264 - acc: 0.8075 - val_loss: 0.6654 - val_acc: 0.7985\n",
      "Epoch 6/30\n",
      "42000/42000 [==============================] - 6s 147us/step - loss: 0.5911 - acc: 0.8172 - val_loss: 0.6560 - val_acc: 0.8034\n",
      "Epoch 7/30\n",
      "42000/42000 [==============================] - 6s 145us/step - loss: 0.5450 - acc: 0.8310 - val_loss: 0.5949 - val_acc: 0.8263\n",
      "Epoch 8/30\n",
      "42000/42000 [==============================] - 6s 147us/step - loss: 0.5065 - acc: 0.8422 - val_loss: 0.5999 - val_acc: 0.8262\n",
      "Epoch 9/30\n",
      "42000/42000 [==============================] - 6s 147us/step - loss: 0.4845 - acc: 0.8480 - val_loss: 0.5893 - val_acc: 0.8293\n",
      "Epoch 10/30\n",
      "42000/42000 [==============================] - 6s 145us/step - loss: 0.4524 - acc: 0.8578 - val_loss: 0.5769 - val_acc: 0.8343\n",
      "Epoch 11/30\n",
      "42000/42000 [==============================] - 6s 144us/step - loss: 0.4392 - acc: 0.8601 - val_loss: 0.5845 - val_acc: 0.8334\n",
      "Epoch 12/30\n",
      "42000/42000 [==============================] - 6s 143us/step - loss: 0.4138 - acc: 0.8694 - val_loss: 0.5716 - val_acc: 0.8412\n",
      "Epoch 13/30\n",
      "42000/42000 [==============================] - 6s 145us/step - loss: 0.3803 - acc: 0.8788 - val_loss: 0.6187 - val_acc: 0.8313\n",
      "Epoch 14/30\n",
      "42000/42000 [==============================] - 6s 146us/step - loss: 0.3751 - acc: 0.8820 - val_loss: 0.5767 - val_acc: 0.8387\n",
      "Epoch 15/30\n",
      "42000/42000 [==============================] - 6s 144us/step - loss: 0.3611 - acc: 0.8854 - val_loss: 0.5841 - val_acc: 0.8424\n",
      "Epoch 16/30\n",
      "42000/42000 [==============================] - 6s 146us/step - loss: 0.3413 - acc: 0.8916 - val_loss: 0.6008 - val_acc: 0.8389\n",
      "Epoch 17/30\n",
      "42000/42000 [==============================] - 6s 147us/step - loss: 0.3375 - acc: 0.8924 - val_loss: 0.6186 - val_acc: 0.8358\n",
      "Epoch 18/30\n",
      "42000/42000 [==============================] - 6s 144us/step - loss: 0.3173 - acc: 0.8995 - val_loss: 0.5942 - val_acc: 0.8438\n",
      "Epoch 19/30\n",
      "42000/42000 [==============================] - 6s 145us/step - loss: 0.3130 - acc: 0.9008 - val_loss: 0.5706 - val_acc: 0.8509\n",
      "Epoch 20/30\n",
      "42000/42000 [==============================] - 6s 153us/step - loss: 0.2952 - acc: 0.9054 - val_loss: 0.5829 - val_acc: 0.8501\n",
      "Epoch 21/30\n",
      "42000/42000 [==============================] - 6s 149us/step - loss: 0.2888 - acc: 0.9088 - val_loss: 0.6232 - val_acc: 0.8438\n",
      "Epoch 22/30\n",
      "42000/42000 [==============================] - 6s 144us/step - loss: 0.2754 - acc: 0.9128 - val_loss: 0.6445 - val_acc: 0.8423\n",
      "Epoch 23/30\n",
      "42000/42000 [==============================] - 6s 144us/step - loss: 0.2702 - acc: 0.9148 - val_loss: 0.6099 - val_acc: 0.8502\n",
      "Epoch 24/30\n",
      "42000/42000 [==============================] - 6s 145us/step - loss: 0.2565 - acc: 0.9195 - val_loss: 0.6218 - val_acc: 0.8511\n",
      "Epoch 25/30\n",
      "42000/42000 [==============================] - 6s 146us/step - loss: 0.2365 - acc: 0.9223 - val_loss: 0.6326 - val_acc: 0.8496\n",
      "Epoch 26/30\n",
      "42000/42000 [==============================] - 6s 147us/step - loss: 0.2387 - acc: 0.9237 - val_loss: 0.6481 - val_acc: 0.8508\n",
      "Epoch 27/30\n",
      "42000/42000 [==============================] - 6s 148us/step - loss: 0.2385 - acc: 0.9235 - val_loss: 0.6546 - val_acc: 0.8465\n",
      "Epoch 28/30\n",
      "42000/42000 [==============================] - 6s 146us/step - loss: 0.2317 - acc: 0.9251 - val_loss: 0.6678 - val_acc: 0.8496\n",
      "Epoch 29/30\n",
      "42000/42000 [==============================] - 6s 146us/step - loss: 0.2233 - acc: 0.9286 - val_loss: 0.6671 - val_acc: 0.8469\n",
      "Epoch 30/30\n",
      "42000/42000 [==============================] - 6s 144us/step - loss: 0.2146 - acc: 0.9300 - val_loss: 0.6517 - val_acc: 0.8523\n"
     ]
    }
   ],
   "source": [
    "#with batch normalization and with drop layer\n",
    "rms5 =create_model_withRMSdropout('categorical_crossentropy')\n",
    "rms5_result = rms5.fit(x_train3,y_train2,validation_data=(x_test3,y_test2),epochs=30,batch_size = 200)\n"
   ]
  },
  {
   "cell_type": "code",
   "execution_count": 0,
   "metadata": {
    "colab": {
     "base_uri": "https://localhost:8080/",
     "height": 1074
    },
    "colab_type": "code",
    "id": "3vhUy-oLqlDH",
    "outputId": "4df743da-408c-434f-bb6e-fcf30e159240"
   },
   "outputs": [
    {
     "name": "stdout",
     "output_type": "stream",
     "text": [
      "Train on 42000 samples, validate on 18000 samples\n",
      "Epoch 1/30\n",
      "42000/42000 [==============================] - 9s 211us/step - loss: 1.5396 - acc: 0.4711 - val_loss: 1.0067 - val_acc: 0.6849\n",
      "Epoch 2/30\n",
      "42000/42000 [==============================] - 6s 144us/step - loss: 0.9450 - acc: 0.7062 - val_loss: 0.8169 - val_acc: 0.7448\n",
      "Epoch 3/30\n",
      "42000/42000 [==============================] - 6s 145us/step - loss: 0.7912 - acc: 0.7563 - val_loss: 0.7744 - val_acc: 0.7642\n",
      "Epoch 4/30\n",
      "42000/42000 [==============================] - 6s 142us/step - loss: 0.7078 - acc: 0.7786 - val_loss: 0.6870 - val_acc: 0.7943\n",
      "Epoch 5/30\n",
      "42000/42000 [==============================] - 6s 151us/step - loss: 0.6352 - acc: 0.8021 - val_loss: 0.6449 - val_acc: 0.8058\n",
      "Epoch 6/30\n",
      "42000/42000 [==============================] - 6s 144us/step - loss: 0.5893 - acc: 0.8141 - val_loss: 0.6360 - val_acc: 0.8104\n",
      "Epoch 7/30\n",
      "42000/42000 [==============================] - 6s 144us/step - loss: 0.5520 - acc: 0.8300 - val_loss: 0.6240 - val_acc: 0.8163\n",
      "Epoch 8/30\n",
      "42000/42000 [==============================] - 6s 144us/step - loss: 0.5113 - acc: 0.8404 - val_loss: 0.6149 - val_acc: 0.8222\n",
      "Epoch 9/30\n",
      "42000/42000 [==============================] - 6s 143us/step - loss: 0.4871 - acc: 0.8480 - val_loss: 0.6080 - val_acc: 0.8251\n",
      "Epoch 10/30\n",
      "42000/42000 [==============================] - 6s 144us/step - loss: 0.4638 - acc: 0.8542 - val_loss: 0.5930 - val_acc: 0.8276\n",
      "Epoch 11/30\n",
      "42000/42000 [==============================] - 6s 146us/step - loss: 0.4437 - acc: 0.8607 - val_loss: 0.5825 - val_acc: 0.8338\n",
      "Epoch 12/30\n",
      "42000/42000 [==============================] - 6s 147us/step - loss: 0.4160 - acc: 0.8679 - val_loss: 0.6043 - val_acc: 0.8301\n",
      "Epoch 13/30\n",
      "42000/42000 [==============================] - 6s 146us/step - loss: 0.4089 - acc: 0.8710 - val_loss: 0.5806 - val_acc: 0.8374\n",
      "Epoch 14/30\n",
      "42000/42000 [==============================] - 6s 148us/step - loss: 0.3779 - acc: 0.8817 - val_loss: 0.5733 - val_acc: 0.8412\n",
      "Epoch 15/30\n",
      "42000/42000 [==============================] - 6s 148us/step - loss: 0.3685 - acc: 0.8827 - val_loss: 0.5879 - val_acc: 0.8416\n",
      "Epoch 16/30\n",
      "42000/42000 [==============================] - 6s 147us/step - loss: 0.3468 - acc: 0.8896 - val_loss: 0.6055 - val_acc: 0.8297\n",
      "Epoch 17/30\n",
      "42000/42000 [==============================] - 6s 146us/step - loss: 0.3441 - acc: 0.8884 - val_loss: 0.5780 - val_acc: 0.8486\n",
      "Epoch 18/30\n",
      "42000/42000 [==============================] - 6s 146us/step - loss: 0.3166 - acc: 0.8989 - val_loss: 0.5825 - val_acc: 0.8435\n",
      "Epoch 19/30\n",
      "42000/42000 [==============================] - 6s 143us/step - loss: 0.3137 - acc: 0.8999 - val_loss: 0.5901 - val_acc: 0.8399\n",
      "Epoch 20/30\n",
      "42000/42000 [==============================] - 6s 142us/step - loss: 0.3046 - acc: 0.9039 - val_loss: 0.5724 - val_acc: 0.8509\n",
      "Epoch 21/30\n",
      "42000/42000 [==============================] - 6s 145us/step - loss: 0.2978 - acc: 0.9049 - val_loss: 0.5888 - val_acc: 0.8481\n",
      "Epoch 22/30\n",
      "42000/42000 [==============================] - 6s 146us/step - loss: 0.2783 - acc: 0.9125 - val_loss: 0.6166 - val_acc: 0.8431\n",
      "Epoch 23/30\n",
      "42000/42000 [==============================] - 6s 145us/step - loss: 0.2685 - acc: 0.9142 - val_loss: 0.6338 - val_acc: 0.8411\n",
      "Epoch 24/30\n",
      "42000/42000 [==============================] - 6s 146us/step - loss: 0.2630 - acc: 0.9161 - val_loss: 0.6219 - val_acc: 0.8469\n",
      "Epoch 25/30\n",
      "42000/42000 [==============================] - 6s 148us/step - loss: 0.2524 - acc: 0.9175 - val_loss: 0.6237 - val_acc: 0.8503\n",
      "Epoch 26/30\n",
      "42000/42000 [==============================] - 6s 146us/step - loss: 0.2459 - acc: 0.9211 - val_loss: 0.6333 - val_acc: 0.8481\n",
      "Epoch 27/30\n",
      "42000/42000 [==============================] - 6s 145us/step - loss: 0.2418 - acc: 0.9225 - val_loss: 0.6726 - val_acc: 0.8488\n",
      "Epoch 28/30\n",
      "42000/42000 [==============================] - 6s 146us/step - loss: 0.2364 - acc: 0.9229 - val_loss: 0.6505 - val_acc: 0.8478\n",
      "Epoch 29/30\n",
      "42000/42000 [==============================] - 6s 147us/step - loss: 0.2240 - acc: 0.9282 - val_loss: 0.6579 - val_acc: 0.8523\n",
      "Epoch 30/30\n",
      "42000/42000 [==============================] - 6s 153us/step - loss: 0.2225 - acc: 0.9286 - val_loss: 0.6593 - val_acc: 0.8509\n"
     ]
    }
   ],
   "source": [
    "#KL-divergence with batch normalization and with drop out\n",
    "rms6 =create_model_withBatchNormRms(losses.kullback_leibler_divergence)\n",
    "rms6_result = rms6.fit(x_train3,y_train2,validation_data=(x_test3,y_test2),epochs=30,batch_size = 200)"
   ]
  },
  {
   "cell_type": "code",
   "execution_count": 0,
   "metadata": {
    "colab": {},
    "colab_type": "code",
    "id": "pnhipNglqk95"
   },
   "outputs": [],
   "source": [
    "columns =['optimizer','loss function','batch_normalization','drop_out layer','training accuracy','testing accuracy','training error','testing error']"
   ]
  },
  {
   "cell_type": "code",
   "execution_count": 0,
   "metadata": {
    "colab": {},
    "colab_type": "code",
    "id": "752GMnR5qk2L"
   },
   "outputs": [],
   "source": [
    "rowss_list = []"
   ]
  },
  {
   "cell_type": "code",
   "execution_count": 0,
   "metadata": {
    "colab": {},
    "colab_type": "code",
    "id": "zEijrxYsqkv8"
   },
   "outputs": [],
   "source": [
    "rowss_list.append(['RMSprop','cross_entropy','No','No',rms1_result.history['acc'][29],rms1_result.history['val_acc'][29],rms1_result.history['loss'][29],rms1_result.history['val_loss'][29]])\n",
    "rowss_list.append(['RMSprop','Kl-divergence','No','No',rms2_result.history['acc'][29],rms2_result.history['val_acc'][29],rms2_result.history['loss'][29],rms2_result.history['val_loss'][29]])\n",
    "rowss_list.append(['RMSprop','cross_entropy','Yes','No',rms3_result.history['acc'][29],rms3_result.history['val_acc'][29],rms3_result.history['loss'][29],rms3_result.history['val_loss'][29]])\n",
    "rowss_list.append(['RMSprop','Kl-divergence','Yes','No',rms4_result.history['acc'][29],rms4_result.history['val_acc'][29],rms4_result.history['loss'][29],rms4_result.history['val_loss'][29]])\n",
    "rowss_list.append(['RMSprop','cross_entropy','Yes','Yes',rms5_result.history['acc'][29],rms5_result.history['val_acc'][29],rms5_result.history['loss'][29],rms5_result.history['val_loss'][29]])\n",
    "rowss_list.append(['RMSprop','Kl-divergence','Yes','Yes',rms6_result.history['acc'][29],rms6_result.history['val_acc'][29],rms6_result.history['loss'][29],rms6_result.history['val_loss'][29]])"
   ]
  },
  {
   "cell_type": "code",
   "execution_count": 0,
   "metadata": {
    "colab": {},
    "colab_type": "code",
    "id": "01DV3XdLqkkO"
   },
   "outputs": [],
   "source": [
    "rms_history = pd.DataFrame(rowss_list,columns = columns)"
   ]
  },
  {
   "cell_type": "code",
   "execution_count": 0,
   "metadata": {
    "colab": {
     "base_uri": "https://localhost:8080/",
     "height": 272
    },
    "colab_type": "code",
    "id": "7w-bxKe1sk7E",
    "outputId": "eaebf1fb-0a39-498b-cb73-1a02023f5462"
   },
   "outputs": [
    {
     "data": {
      "text/html": [
       "<div>\n",
       "<style scoped>\n",
       "    .dataframe tbody tr th:only-of-type {\n",
       "        vertical-align: middle;\n",
       "    }\n",
       "\n",
       "    .dataframe tbody tr th {\n",
       "        vertical-align: top;\n",
       "    }\n",
       "\n",
       "    .dataframe thead th {\n",
       "        text-align: right;\n",
       "    }\n",
       "</style>\n",
       "<table border=\"1\" class=\"dataframe\">\n",
       "  <thead>\n",
       "    <tr style=\"text-align: right;\">\n",
       "      <th></th>\n",
       "      <th>optimizer</th>\n",
       "      <th>loss function</th>\n",
       "      <th>batch_normalization</th>\n",
       "      <th>drop_out layer</th>\n",
       "      <th>training accuracy</th>\n",
       "      <th>testing accuracy</th>\n",
       "      <th>training error</th>\n",
       "      <th>testing error</th>\n",
       "    </tr>\n",
       "  </thead>\n",
       "  <tbody>\n",
       "    <tr>\n",
       "      <th>0</th>\n",
       "      <td>RMSprop</td>\n",
       "      <td>cross_entropy</td>\n",
       "      <td>No</td>\n",
       "      <td>No</td>\n",
       "      <td>0.777000</td>\n",
       "      <td>0.701222</td>\n",
       "      <td>0.695011</td>\n",
       "      <td>0.976900</td>\n",
       "    </tr>\n",
       "    <tr>\n",
       "      <th>1</th>\n",
       "      <td>RMSprop</td>\n",
       "      <td>Kl-divergence</td>\n",
       "      <td>No</td>\n",
       "      <td>No</td>\n",
       "      <td>0.776310</td>\n",
       "      <td>0.785611</td>\n",
       "      <td>0.690291</td>\n",
       "      <td>0.725127</td>\n",
       "    </tr>\n",
       "    <tr>\n",
       "      <th>2</th>\n",
       "      <td>RMSprop</td>\n",
       "      <td>cross_entropy</td>\n",
       "      <td>Yes</td>\n",
       "      <td>No</td>\n",
       "      <td>0.928762</td>\n",
       "      <td>0.847167</td>\n",
       "      <td>0.221969</td>\n",
       "      <td>0.646125</td>\n",
       "    </tr>\n",
       "    <tr>\n",
       "      <th>3</th>\n",
       "      <td>RMSprop</td>\n",
       "      <td>Kl-divergence</td>\n",
       "      <td>Yes</td>\n",
       "      <td>No</td>\n",
       "      <td>0.929333</td>\n",
       "      <td>0.850611</td>\n",
       "      <td>0.220870</td>\n",
       "      <td>0.667685</td>\n",
       "    </tr>\n",
       "    <tr>\n",
       "      <th>4</th>\n",
       "      <td>RMSprop</td>\n",
       "      <td>cross_entropy</td>\n",
       "      <td>Yes</td>\n",
       "      <td>Yes</td>\n",
       "      <td>0.930024</td>\n",
       "      <td>0.852278</td>\n",
       "      <td>0.214590</td>\n",
       "      <td>0.651703</td>\n",
       "    </tr>\n",
       "    <tr>\n",
       "      <th>5</th>\n",
       "      <td>RMSprop</td>\n",
       "      <td>Kl-divergence</td>\n",
       "      <td>Yes</td>\n",
       "      <td>Yes</td>\n",
       "      <td>0.928619</td>\n",
       "      <td>0.850889</td>\n",
       "      <td>0.222508</td>\n",
       "      <td>0.659345</td>\n",
       "    </tr>\n",
       "  </tbody>\n",
       "</table>\n",
       "</div>"
      ],
      "text/plain": [
       "  optimizer  loss function batch_normalization drop_out layer  \\\n",
       "0   RMSprop  cross_entropy                  No             No   \n",
       "1   RMSprop  Kl-divergence                  No             No   \n",
       "2   RMSprop  cross_entropy                 Yes             No   \n",
       "3   RMSprop  Kl-divergence                 Yes             No   \n",
       "4   RMSprop  cross_entropy                 Yes            Yes   \n",
       "5   RMSprop  Kl-divergence                 Yes            Yes   \n",
       "\n",
       "   training accuracy  testing accuracy  training error  testing error  \n",
       "0           0.777000          0.701222        0.695011       0.976900  \n",
       "1           0.776310          0.785611        0.690291       0.725127  \n",
       "2           0.928762          0.847167        0.221969       0.646125  \n",
       "3           0.929333          0.850611        0.220870       0.667685  \n",
       "4           0.930024          0.852278        0.214590       0.651703  \n",
       "5           0.928619          0.850889        0.222508       0.659345  "
      ]
     },
     "execution_count": 113,
     "metadata": {
      "tags": []
     },
     "output_type": "execute_result"
    }
   ],
   "source": [
    "rms_history"
   ]
  },
  {
   "cell_type": "code",
   "execution_count": 0,
   "metadata": {
    "colab": {},
    "colab_type": "code",
    "id": "RWavTaqWsnFh"
   },
   "outputs": [],
   "source": [
    "#best model in RMS prop is model 5 with cross_ entropy and with batch normalization and drop out layer"
   ]
  },
  {
   "cell_type": "code",
   "execution_count": 0,
   "metadata": {
    "colab": {
     "base_uri": "https://localhost:8080/",
     "height": 735
    },
    "colab_type": "code",
    "id": "Qcp4KHIPsnyK",
    "outputId": "80253563-125d-441b-c530-17975e5fe20f"
   },
   "outputs": [
    {
     "data": {
      "image/png": "[encoded data removed]",
      "text/plain": [
       "<Figure size 576x396 with 1 Axes>"
      ]
     },
     "metadata": {
      "tags": []
     },
     "output_type": "display_data"
    },
    {
     "data": {
      "image/png": "[encoded data removed]",
      "text/plain": [
       "<Figure size 576x396 with 1 Axes>"
      ]
     },
     "metadata": {
      "tags": []
     },
     "output_type": "display_data"
    }
   ],
   "source": [
    "plt.plot(rms5_result.history['acc'])\n",
    "plt.plot(rms5_result.history['val_acc'])\n",
    "plt.title('model accuracy')\n",
    "plt.ylabel('accuracy')\n",
    "plt.xlabel('epoch')\n",
    "plt.legend(['train', 'test'], loc='upper left')\n",
    "plt.show()\n",
    "# summarize history for loss\n",
    "plt.plot(rms5_result.history['loss'])\n",
    "plt.plot(rms5_result.history['val_loss'])\n",
    "plt.title('model loss')\n",
    "plt.ylabel('loss')\n",
    "plt.xlabel('epoch')\n",
    "plt.legend(['train', 'test'], loc='upper left')\n",
    "plt.show()"
   ]
  },
  {
   "cell_type": "code",
   "execution_count": 0,
   "metadata": {
    "colab": {},
    "colab_type": "code",
    "id": "LgUKoEjJs7H9"
   },
   "outputs": [],
   "source": [
    "#combine all the model's accuracy in one dataframe and get the best model"
   ]
  },
  {
   "cell_type": "code",
   "execution_count": 0,
   "metadata": {
    "colab": {},
    "colab_type": "code",
    "id": "hW__grSI1GwC"
   },
   "outputs": [],
   "source": [
    "frames=[rms_history,adam_history,sgd_history]\n",
    "df = pd.concat(frames)"
   ]
  },
  {
   "cell_type": "code",
   "execution_count": 0,
   "metadata": {
    "colab": {
     "base_uri": "https://localhost:8080/",
     "height": 644
    },
    "colab_type": "code",
    "id": "LBuz3Qa11GmO",
    "outputId": "7c3ed61a-6231-4517-eba1-46eba53bc823"
   },
   "outputs": [
    {
     "data": {
      "text/html": [
       "<div>\n",
       "<style scoped>\n",
       "    .dataframe tbody tr th:only-of-type {\n",
       "        vertical-align: middle;\n",
       "    }\n",
       "\n",
       "    .dataframe tbody tr th {\n",
       "        vertical-align: top;\n",
       "    }\n",
       "\n",
       "    .dataframe thead th {\n",
       "        text-align: right;\n",
       "    }\n",
       "</style>\n",
       "<table border=\"1\" class=\"dataframe\">\n",
       "  <thead>\n",
       "    <tr style=\"text-align: right;\">\n",
       "      <th></th>\n",
       "      <th>optimizer</th>\n",
       "      <th>loss function</th>\n",
       "      <th>batch_normalization</th>\n",
       "      <th>drop_out layer</th>\n",
       "      <th>training accuracy</th>\n",
       "      <th>testing accuracy</th>\n",
       "      <th>training error</th>\n",
       "      <th>testing error</th>\n",
       "    </tr>\n",
       "  </thead>\n",
       "  <tbody>\n",
       "    <tr>\n",
       "      <th>0</th>\n",
       "      <td>RMSprop</td>\n",
       "      <td>cross_entropy</td>\n",
       "      <td>No</td>\n",
       "      <td>No</td>\n",
       "      <td>0.777000</td>\n",
       "      <td>0.701222</td>\n",
       "      <td>0.695011</td>\n",
       "      <td>0.976900</td>\n",
       "    </tr>\n",
       "    <tr>\n",
       "      <th>1</th>\n",
       "      <td>RMSprop</td>\n",
       "      <td>Kl-divergence</td>\n",
       "      <td>No</td>\n",
       "      <td>No</td>\n",
       "      <td>0.776310</td>\n",
       "      <td>0.785611</td>\n",
       "      <td>0.690291</td>\n",
       "      <td>0.725127</td>\n",
       "    </tr>\n",
       "    <tr>\n",
       "      <th>2</th>\n",
       "      <td>RMSprop</td>\n",
       "      <td>cross_entropy</td>\n",
       "      <td>Yes</td>\n",
       "      <td>No</td>\n",
       "      <td>0.928762</td>\n",
       "      <td>0.847167</td>\n",
       "      <td>0.221969</td>\n",
       "      <td>0.646125</td>\n",
       "    </tr>\n",
       "    <tr>\n",
       "      <th>3</th>\n",
       "      <td>RMSprop</td>\n",
       "      <td>Kl-divergence</td>\n",
       "      <td>Yes</td>\n",
       "      <td>No</td>\n",
       "      <td>0.929333</td>\n",
       "      <td>0.850611</td>\n",
       "      <td>0.220870</td>\n",
       "      <td>0.667685</td>\n",
       "    </tr>\n",
       "    <tr>\n",
       "      <th>4</th>\n",
       "      <td>RMSprop</td>\n",
       "      <td>cross_entropy</td>\n",
       "      <td>Yes</td>\n",
       "      <td>Yes</td>\n",
       "      <td>0.930024</td>\n",
       "      <td>0.852278</td>\n",
       "      <td>0.214590</td>\n",
       "      <td>0.651703</td>\n",
       "    </tr>\n",
       "    <tr>\n",
       "      <th>5</th>\n",
       "      <td>RMSprop</td>\n",
       "      <td>Kl-divergence</td>\n",
       "      <td>Yes</td>\n",
       "      <td>Yes</td>\n",
       "      <td>0.928619</td>\n",
       "      <td>0.850889</td>\n",
       "      <td>0.222508</td>\n",
       "      <td>0.659345</td>\n",
       "    </tr>\n",
       "    <tr>\n",
       "      <th>0</th>\n",
       "      <td>adam</td>\n",
       "      <td>cross_entropy</td>\n",
       "      <td>No</td>\n",
       "      <td>No</td>\n",
       "      <td>0.869905</td>\n",
       "      <td>0.821500</td>\n",
       "      <td>0.402863</td>\n",
       "      <td>0.616417</td>\n",
       "    </tr>\n",
       "    <tr>\n",
       "      <th>1</th>\n",
       "      <td>adam</td>\n",
       "      <td>Kl-divergence</td>\n",
       "      <td>No</td>\n",
       "      <td>No</td>\n",
       "      <td>0.869524</td>\n",
       "      <td>0.816444</td>\n",
       "      <td>0.402446</td>\n",
       "      <td>0.627287</td>\n",
       "    </tr>\n",
       "    <tr>\n",
       "      <th>2</th>\n",
       "      <td>adam</td>\n",
       "      <td>cross_entropy</td>\n",
       "      <td>Yes</td>\n",
       "      <td>No</td>\n",
       "      <td>0.945905</td>\n",
       "      <td>0.844111</td>\n",
       "      <td>0.165351</td>\n",
       "      <td>0.750154</td>\n",
       "    </tr>\n",
       "    <tr>\n",
       "      <th>3</th>\n",
       "      <td>adam</td>\n",
       "      <td>Kl-divergence</td>\n",
       "      <td>Yes</td>\n",
       "      <td>No</td>\n",
       "      <td>0.949119</td>\n",
       "      <td>0.844667</td>\n",
       "      <td>0.155374</td>\n",
       "      <td>0.765934</td>\n",
       "    </tr>\n",
       "    <tr>\n",
       "      <th>4</th>\n",
       "      <td>adam</td>\n",
       "      <td>cross_entropy</td>\n",
       "      <td>Yes</td>\n",
       "      <td>Yes</td>\n",
       "      <td>0.929119</td>\n",
       "      <td>0.850667</td>\n",
       "      <td>0.220101</td>\n",
       "      <td>0.680251</td>\n",
       "    </tr>\n",
       "    <tr>\n",
       "      <th>5</th>\n",
       "      <td>adam</td>\n",
       "      <td>Kl-divergence</td>\n",
       "      <td>Yes</td>\n",
       "      <td>Yes</td>\n",
       "      <td>0.929810</td>\n",
       "      <td>0.851167</td>\n",
       "      <td>0.215815</td>\n",
       "      <td>0.675823</td>\n",
       "    </tr>\n",
       "    <tr>\n",
       "      <th>0</th>\n",
       "      <td>sgd</td>\n",
       "      <td>cross_entropy</td>\n",
       "      <td>No</td>\n",
       "      <td>No</td>\n",
       "      <td>0.687119</td>\n",
       "      <td>0.693056</td>\n",
       "      <td>1.010566</td>\n",
       "      <td>0.998912</td>\n",
       "    </tr>\n",
       "    <tr>\n",
       "      <th>1</th>\n",
       "      <td>sgd</td>\n",
       "      <td>Kl-divergence</td>\n",
       "      <td>No</td>\n",
       "      <td>No</td>\n",
       "      <td>0.702190</td>\n",
       "      <td>0.707833</td>\n",
       "      <td>0.972805</td>\n",
       "      <td>0.965735</td>\n",
       "    </tr>\n",
       "    <tr>\n",
       "      <th>2</th>\n",
       "      <td>sgd</td>\n",
       "      <td>cross_entropy</td>\n",
       "      <td>Yes</td>\n",
       "      <td>No</td>\n",
       "      <td>0.858595</td>\n",
       "      <td>0.817167</td>\n",
       "      <td>0.465926</td>\n",
       "      <td>0.644047</td>\n",
       "    </tr>\n",
       "    <tr>\n",
       "      <th>3</th>\n",
       "      <td>sgd</td>\n",
       "      <td>Kl-divergence</td>\n",
       "      <td>YEs</td>\n",
       "      <td>No</td>\n",
       "      <td>0.857524</td>\n",
       "      <td>0.813111</td>\n",
       "      <td>0.462631</td>\n",
       "      <td>0.648903</td>\n",
       "    </tr>\n",
       "    <tr>\n",
       "      <th>4</th>\n",
       "      <td>sgd</td>\n",
       "      <td>cross_entropy</td>\n",
       "      <td>No</td>\n",
       "      <td>Yes</td>\n",
       "      <td>0.836738</td>\n",
       "      <td>0.820722</td>\n",
       "      <td>0.539858</td>\n",
       "      <td>0.614783</td>\n",
       "    </tr>\n",
       "    <tr>\n",
       "      <th>5</th>\n",
       "      <td>sgd</td>\n",
       "      <td>Kl-divergence</td>\n",
       "      <td>No</td>\n",
       "      <td>Yes</td>\n",
       "      <td>0.916500</td>\n",
       "      <td>0.839611</td>\n",
       "      <td>0.276361</td>\n",
       "      <td>0.620672</td>\n",
       "    </tr>\n",
       "  </tbody>\n",
       "</table>\n",
       "</div>"
      ],
      "text/plain": [
       "  optimizer  loss function batch_normalization drop_out layer  \\\n",
       "0   RMSprop  cross_entropy                  No             No   \n",
       "1   RMSprop  Kl-divergence                  No             No   \n",
       "2   RMSprop  cross_entropy                 Yes             No   \n",
       "3   RMSprop  Kl-divergence                 Yes             No   \n",
       "4   RMSprop  cross_entropy                 Yes            Yes   \n",
       "5   RMSprop  Kl-divergence                 Yes            Yes   \n",
       "0      adam  cross_entropy                  No             No   \n",
       "1      adam  Kl-divergence                  No             No   \n",
       "2      adam  cross_entropy                 Yes             No   \n",
       "3      adam  Kl-divergence                 Yes             No   \n",
       "4      adam  cross_entropy                 Yes            Yes   \n",
       "5      adam  Kl-divergence                 Yes            Yes   \n",
       "0       sgd  cross_entropy                  No             No   \n",
       "1       sgd  Kl-divergence                  No             No   \n",
       "2       sgd  cross_entropy                 Yes             No   \n",
       "3       sgd  Kl-divergence                 YEs             No   \n",
       "4       sgd  cross_entropy                  No            Yes   \n",
       "5       sgd  Kl-divergence                  No            Yes   \n",
       "\n",
       "   training accuracy  testing accuracy  training error  testing error  \n",
       "0           0.777000          0.701222        0.695011       0.976900  \n",
       "1           0.776310          0.785611        0.690291       0.725127  \n",
       "2           0.928762          0.847167        0.221969       0.646125  \n",
       "3           0.929333          0.850611        0.220870       0.667685  \n",
       "4           0.930024          0.852278        0.214590       0.651703  \n",
       "5           0.928619          0.850889        0.222508       0.659345  \n",
       "0           0.869905          0.821500        0.402863       0.616417  \n",
       "1           0.869524          0.816444        0.402446       0.627287  \n",
       "2           0.945905          0.844111        0.165351       0.750154  \n",
       "3           0.949119          0.844667        0.155374       0.765934  \n",
       "4           0.929119          0.850667        0.220101       0.680251  \n",
       "5           0.929810          0.851167        0.215815       0.675823  \n",
       "0           0.687119          0.693056        1.010566       0.998912  \n",
       "1           0.702190          0.707833        0.972805       0.965735  \n",
       "2           0.858595          0.817167        0.465926       0.644047  \n",
       "3           0.857524          0.813111        0.462631       0.648903  \n",
       "4           0.836738          0.820722        0.539858       0.614783  \n",
       "5           0.916500          0.839611        0.276361       0.620672  "
      ]
     },
     "execution_count": 120,
     "metadata": {
      "tags": []
     },
     "output_type": "execute_result"
    }
   ],
   "source": [
    "df"
   ]
  },
  {
   "cell_type": "code",
   "execution_count": 0,
   "metadata": {
    "colab": {
     "base_uri": "https://localhost:8080/",
     "height": 230
    },
    "colab_type": "code",
    "id": "W0p7CNE-1GaJ",
    "outputId": "6063c2d4-806f-4d06-a837-e8a8bfb54f73"
   },
   "outputs": [
    {
     "data": {
      "text/html": [
       "<div>\n",
       "<style scoped>\n",
       "    .dataframe tbody tr th:only-of-type {\n",
       "        vertical-align: middle;\n",
       "    }\n",
       "\n",
       "    .dataframe tbody tr th {\n",
       "        vertical-align: top;\n",
       "    }\n",
       "\n",
       "    .dataframe thead th {\n",
       "        text-align: right;\n",
       "    }\n",
       "</style>\n",
       "<table border=\"1\" class=\"dataframe\">\n",
       "  <thead>\n",
       "    <tr style=\"text-align: right;\">\n",
       "      <th></th>\n",
       "      <th>optimizer</th>\n",
       "      <th>loss function</th>\n",
       "      <th>batch_normalization</th>\n",
       "      <th>drop_out layer</th>\n",
       "      <th>training accuracy</th>\n",
       "      <th>testing accuracy</th>\n",
       "      <th>training error</th>\n",
       "      <th>testing error</th>\n",
       "    </tr>\n",
       "  </thead>\n",
       "  <tbody>\n",
       "    <tr>\n",
       "      <th>3</th>\n",
       "      <td>RMSprop</td>\n",
       "      <td>Kl-divergence</td>\n",
       "      <td>Yes</td>\n",
       "      <td>No</td>\n",
       "      <td>0.929333</td>\n",
       "      <td>0.850611</td>\n",
       "      <td>0.220870</td>\n",
       "      <td>0.667685</td>\n",
       "    </tr>\n",
       "    <tr>\n",
       "      <th>3</th>\n",
       "      <td>adam</td>\n",
       "      <td>Kl-divergence</td>\n",
       "      <td>Yes</td>\n",
       "      <td>No</td>\n",
       "      <td>0.949119</td>\n",
       "      <td>0.844667</td>\n",
       "      <td>0.155374</td>\n",
       "      <td>0.765934</td>\n",
       "    </tr>\n",
       "    <tr>\n",
       "      <th>3</th>\n",
       "      <td>sgd</td>\n",
       "      <td>Kl-divergence</td>\n",
       "      <td>YEs</td>\n",
       "      <td>No</td>\n",
       "      <td>0.857524</td>\n",
       "      <td>0.813111</td>\n",
       "      <td>0.462631</td>\n",
       "      <td>0.648903</td>\n",
       "    </tr>\n",
       "  </tbody>\n",
       "</table>\n",
       "</div>"
      ],
      "text/plain": [
       "  optimizer  loss function batch_normalization drop_out layer  \\\n",
       "3   RMSprop  Kl-divergence                 Yes             No   \n",
       "3      adam  Kl-divergence                 Yes             No   \n",
       "3       sgd  Kl-divergence                 YEs             No   \n",
       "\n",
       "   training accuracy  testing accuracy  training error  testing error  \n",
       "3           0.929333          0.850611        0.220870       0.667685  \n",
       "3           0.949119          0.844667        0.155374       0.765934  \n",
       "3           0.857524          0.813111        0.462631       0.648903  "
      ]
     },
     "execution_count": 124,
     "metadata": {
      "tags": []
     },
     "output_type": "execute_result"
    }
   ],
   "source": [
    "#training accuracy highest score\n",
    "df.loc[df['training accuracy'].idxmax()]"
   ]
  },
  {
   "cell_type": "code",
   "execution_count": 0,
   "metadata": {
    "colab": {
     "base_uri": "https://localhost:8080/",
     "height": 179
    },
    "colab_type": "code",
    "id": "afYOqaHx1GRL",
    "outputId": "f594fbe8-584b-4813-a8ac-eebc8ffcb71f"
   },
   "outputs": [
    {
     "data": {
      "text/html": [
       "<div>\n",
       "<style scoped>\n",
       "    .dataframe tbody tr th:only-of-type {\n",
       "        vertical-align: middle;\n",
       "    }\n",
       "\n",
       "    .dataframe tbody tr th {\n",
       "        vertical-align: top;\n",
       "    }\n",
       "\n",
       "    .dataframe thead th {\n",
       "        text-align: right;\n",
       "    }\n",
       "</style>\n",
       "<table border=\"1\" class=\"dataframe\">\n",
       "  <thead>\n",
       "    <tr style=\"text-align: right;\">\n",
       "      <th></th>\n",
       "      <th>optimizer</th>\n",
       "      <th>loss function</th>\n",
       "      <th>batch_normalization</th>\n",
       "      <th>drop_out layer</th>\n",
       "      <th>training accuracy</th>\n",
       "      <th>testing accuracy</th>\n",
       "      <th>training error</th>\n",
       "      <th>testing error</th>\n",
       "    </tr>\n",
       "  </thead>\n",
       "  <tbody>\n",
       "    <tr>\n",
       "      <th>4</th>\n",
       "      <td>RMSprop</td>\n",
       "      <td>cross_entropy</td>\n",
       "      <td>Yes</td>\n",
       "      <td>Yes</td>\n",
       "      <td>0.930024</td>\n",
       "      <td>0.852278</td>\n",
       "      <td>0.214590</td>\n",
       "      <td>0.651703</td>\n",
       "    </tr>\n",
       "    <tr>\n",
       "      <th>4</th>\n",
       "      <td>adam</td>\n",
       "      <td>cross_entropy</td>\n",
       "      <td>Yes</td>\n",
       "      <td>Yes</td>\n",
       "      <td>0.929119</td>\n",
       "      <td>0.850667</td>\n",
       "      <td>0.220101</td>\n",
       "      <td>0.680251</td>\n",
       "    </tr>\n",
       "    <tr>\n",
       "      <th>4</th>\n",
       "      <td>sgd</td>\n",
       "      <td>cross_entropy</td>\n",
       "      <td>No</td>\n",
       "      <td>Yes</td>\n",
       "      <td>0.836738</td>\n",
       "      <td>0.820722</td>\n",
       "      <td>0.539858</td>\n",
       "      <td>0.614783</td>\n",
       "    </tr>\n",
       "  </tbody>\n",
       "</table>\n",
       "</div>"
      ],
      "text/plain": [
       "  optimizer  loss function batch_normalization drop_out layer  \\\n",
       "4   RMSprop  cross_entropy                 Yes            Yes   \n",
       "4      adam  cross_entropy                 Yes            Yes   \n",
       "4       sgd  cross_entropy                  No            Yes   \n",
       "\n",
       "   training accuracy  testing accuracy  training error  testing error  \n",
       "4           0.930024          0.852278        0.214590       0.651703  \n",
       "4           0.929119          0.850667        0.220101       0.680251  \n",
       "4           0.836738          0.820722        0.539858       0.614783  "
      ]
     },
     "execution_count": 125,
     "metadata": {
      "tags": []
     },
     "output_type": "execute_result"
    }
   ],
   "source": [
    "#testing accuracy highest score\n",
    "df.loc[df['testing accuracy'].idxmax()]"
   ]
  },
  {
   "cell_type": "code",
   "execution_count": 0,
   "metadata": {
    "colab": {
     "base_uri": "https://localhost:8080/",
     "height": 179
    },
    "colab_type": "code",
    "id": "RdrtalJk1GDa",
    "outputId": "96100647-cab8-4abf-d695-0986066ed5ca"
   },
   "outputs": [
    {
     "data": {
      "text/html": [
       "<div>\n",
       "<style scoped>\n",
       "    .dataframe tbody tr th:only-of-type {\n",
       "        vertical-align: middle;\n",
       "    }\n",
       "\n",
       "    .dataframe tbody tr th {\n",
       "        vertical-align: top;\n",
       "    }\n",
       "\n",
       "    .dataframe thead th {\n",
       "        text-align: right;\n",
       "    }\n",
       "</style>\n",
       "<table border=\"1\" class=\"dataframe\">\n",
       "  <thead>\n",
       "    <tr style=\"text-align: right;\">\n",
       "      <th></th>\n",
       "      <th>optimizer</th>\n",
       "      <th>loss function</th>\n",
       "      <th>batch_normalization</th>\n",
       "      <th>drop_out layer</th>\n",
       "      <th>training accuracy</th>\n",
       "      <th>testing accuracy</th>\n",
       "      <th>training error</th>\n",
       "      <th>testing error</th>\n",
       "    </tr>\n",
       "  </thead>\n",
       "  <tbody>\n",
       "    <tr>\n",
       "      <th>0</th>\n",
       "      <td>RMSprop</td>\n",
       "      <td>cross_entropy</td>\n",
       "      <td>No</td>\n",
       "      <td>No</td>\n",
       "      <td>0.777000</td>\n",
       "      <td>0.701222</td>\n",
       "      <td>0.695011</td>\n",
       "      <td>0.976900</td>\n",
       "    </tr>\n",
       "    <tr>\n",
       "      <th>0</th>\n",
       "      <td>adam</td>\n",
       "      <td>cross_entropy</td>\n",
       "      <td>No</td>\n",
       "      <td>No</td>\n",
       "      <td>0.869905</td>\n",
       "      <td>0.821500</td>\n",
       "      <td>0.402863</td>\n",
       "      <td>0.616417</td>\n",
       "    </tr>\n",
       "    <tr>\n",
       "      <th>0</th>\n",
       "      <td>sgd</td>\n",
       "      <td>cross_entropy</td>\n",
       "      <td>No</td>\n",
       "      <td>No</td>\n",
       "      <td>0.687119</td>\n",
       "      <td>0.693056</td>\n",
       "      <td>1.010566</td>\n",
       "      <td>0.998912</td>\n",
       "    </tr>\n",
       "  </tbody>\n",
       "</table>\n",
       "</div>"
      ],
      "text/plain": [
       "  optimizer  loss function batch_normalization drop_out layer  \\\n",
       "0   RMSprop  cross_entropy                  No             No   \n",
       "0      adam  cross_entropy                  No             No   \n",
       "0       sgd  cross_entropy                  No             No   \n",
       "\n",
       "   training accuracy  testing accuracy  training error  testing error  \n",
       "0           0.777000          0.701222        0.695011       0.976900  \n",
       "0           0.869905          0.821500        0.402863       0.616417  \n",
       "0           0.687119          0.693056        1.010566       0.998912  "
      ]
     },
     "execution_count": 126,
     "metadata": {
      "tags": []
     },
     "output_type": "execute_result"
    }
   ],
   "source": [
    "#training error lowest score\n",
    "df.loc[df['training error'].idxmax()]"
   ]
  },
  {
   "cell_type": "code",
   "execution_count": 0,
   "metadata": {
    "colab": {
     "base_uri": "https://localhost:8080/",
     "height": 179
    },
    "colab_type": "code",
    "id": "Kif-pyen1F26",
    "outputId": "1efd3839-36a1-4ca2-c4f2-e931e58fb3c4"
   },
   "outputs": [
    {
     "data": {
      "text/html": [
       "<div>\n",
       "<style scoped>\n",
       "    .dataframe tbody tr th:only-of-type {\n",
       "        vertical-align: middle;\n",
       "    }\n",
       "\n",
       "    .dataframe tbody tr th {\n",
       "        vertical-align: top;\n",
       "    }\n",
       "\n",
       "    .dataframe thead th {\n",
       "        text-align: right;\n",
       "    }\n",
       "</style>\n",
       "<table border=\"1\" class=\"dataframe\">\n",
       "  <thead>\n",
       "    <tr style=\"text-align: right;\">\n",
       "      <th></th>\n",
       "      <th>optimizer</th>\n",
       "      <th>loss function</th>\n",
       "      <th>batch_normalization</th>\n",
       "      <th>drop_out layer</th>\n",
       "      <th>training accuracy</th>\n",
       "      <th>testing accuracy</th>\n",
       "      <th>training error</th>\n",
       "      <th>testing error</th>\n",
       "    </tr>\n",
       "  </thead>\n",
       "  <tbody>\n",
       "    <tr>\n",
       "      <th>0</th>\n",
       "      <td>RMSprop</td>\n",
       "      <td>cross_entropy</td>\n",
       "      <td>No</td>\n",
       "      <td>No</td>\n",
       "      <td>0.777000</td>\n",
       "      <td>0.701222</td>\n",
       "      <td>0.695011</td>\n",
       "      <td>0.976900</td>\n",
       "    </tr>\n",
       "    <tr>\n",
       "      <th>0</th>\n",
       "      <td>adam</td>\n",
       "      <td>cross_entropy</td>\n",
       "      <td>No</td>\n",
       "      <td>No</td>\n",
       "      <td>0.869905</td>\n",
       "      <td>0.821500</td>\n",
       "      <td>0.402863</td>\n",
       "      <td>0.616417</td>\n",
       "    </tr>\n",
       "    <tr>\n",
       "      <th>0</th>\n",
       "      <td>sgd</td>\n",
       "      <td>cross_entropy</td>\n",
       "      <td>No</td>\n",
       "      <td>No</td>\n",
       "      <td>0.687119</td>\n",
       "      <td>0.693056</td>\n",
       "      <td>1.010566</td>\n",
       "      <td>0.998912</td>\n",
       "    </tr>\n",
       "  </tbody>\n",
       "</table>\n",
       "</div>"
      ],
      "text/plain": [
       "  optimizer  loss function batch_normalization drop_out layer  \\\n",
       "0   RMSprop  cross_entropy                  No             No   \n",
       "0      adam  cross_entropy                  No             No   \n",
       "0       sgd  cross_entropy                  No             No   \n",
       "\n",
       "   training accuracy  testing accuracy  training error  testing error  \n",
       "0           0.777000          0.701222        0.695011       0.976900  \n",
       "0           0.869905          0.821500        0.402863       0.616417  \n",
       "0           0.687119          0.693056        1.010566       0.998912  "
      ]
     },
     "execution_count": 127,
     "metadata": {
      "tags": []
     },
     "output_type": "execute_result"
    }
   ],
   "source": [
    "#testing error lowest score\n",
    "df.loc[df['training error'].idxmax()]"
   ]
  },
  {
   "cell_type": "markdown",
   "metadata": {
    "colab": {},
    "colab_type": "code",
    "id": "RWHuJ5Fc3pxl"
   },
   "source": [
    "### testing accuracy is high in adam optimizer with categorical cross entropy \n",
    "### training error is less in adam optimizer with categorical cross entropy \n",
    "### testing error is also less in adam optimizer eith categorical cross entropy "
   ]
  },
  {
   "cell_type": "code",
   "execution_count": 0,
   "metadata": {
    "colab": {
     "base_uri": "https://localhost:8080/",
     "height": 1074
    },
    "colab_type": "code",
    "id": "59vP1tVg4EW3",
    "outputId": "4dd4c0c9-e0dd-4296-d858-a7ed3fc6d2f6"
   },
   "outputs": [
    {
     "name": "stdout",
     "output_type": "stream",
     "text": [
      "Train on 42000 samples, validate on 18000 samples\n",
      "Epoch 1/30\n",
      "42000/42000 [==============================] - 9s 226us/step - loss: 1.5402 - acc: 0.4748 - val_loss: 0.9754 - val_acc: 0.6960\n",
      "Epoch 2/30\n",
      "42000/42000 [==============================] - 6s 146us/step - loss: 0.9574 - acc: 0.7016 - val_loss: 0.8502 - val_acc: 0.7406\n",
      "Epoch 3/30\n",
      "42000/42000 [==============================] - 6s 146us/step - loss: 0.8009 - acc: 0.7531 - val_loss: 0.7374 - val_acc: 0.7744\n",
      "Epoch 4/30\n",
      "42000/42000 [==============================] - 6s 146us/step - loss: 0.7025 - acc: 0.7818 - val_loss: 0.6974 - val_acc: 0.7862\n",
      "Epoch 5/30\n",
      "42000/42000 [==============================] - 6s 144us/step - loss: 0.6356 - acc: 0.8026 - val_loss: 0.6506 - val_acc: 0.8061\n",
      "Epoch 6/30\n",
      "42000/42000 [==============================] - 6s 143us/step - loss: 0.5859 - acc: 0.8156 - val_loss: 0.6343 - val_acc: 0.8101\n",
      "Epoch 7/30\n",
      "42000/42000 [==============================] - 6s 145us/step - loss: 0.5572 - acc: 0.8267 - val_loss: 0.6010 - val_acc: 0.8234\n",
      "Epoch 8/30\n",
      "42000/42000 [==============================] - 6s 147us/step - loss: 0.5205 - acc: 0.8388 - val_loss: 0.6254 - val_acc: 0.8155\n",
      "Epoch 9/30\n",
      "42000/42000 [==============================] - 6s 147us/step - loss: 0.4855 - acc: 0.8485 - val_loss: 0.6104 - val_acc: 0.8188\n",
      "Epoch 10/30\n",
      "42000/42000 [==============================] - 6s 146us/step - loss: 0.4596 - acc: 0.8559 - val_loss: 0.5904 - val_acc: 0.8293\n",
      "Epoch 11/30\n",
      "42000/42000 [==============================] - 6s 147us/step - loss: 0.4428 - acc: 0.8588 - val_loss: 0.5909 - val_acc: 0.8299\n",
      "Epoch 12/30\n",
      "42000/42000 [==============================] - 6s 148us/step - loss: 0.4150 - acc: 0.8686 - val_loss: 0.6056 - val_acc: 0.8291\n",
      "Epoch 13/30\n",
      "42000/42000 [==============================] - 6s 146us/step - loss: 0.3992 - acc: 0.8747 - val_loss: 0.5905 - val_acc: 0.8369\n",
      "Epoch 14/30\n",
      "42000/42000 [==============================] - 6s 143us/step - loss: 0.3848 - acc: 0.8781 - val_loss: 0.5850 - val_acc: 0.8363\n",
      "Epoch 15/30\n",
      "42000/42000 [==============================] - 6s 149us/step - loss: 0.3688 - acc: 0.8835 - val_loss: 0.5901 - val_acc: 0.8427\n",
      "Epoch 16/30\n",
      "42000/42000 [==============================] - 6s 149us/step - loss: 0.3445 - acc: 0.8907 - val_loss: 0.6014 - val_acc: 0.8403\n",
      "Epoch 17/30\n",
      "42000/42000 [==============================] - 6s 147us/step - loss: 0.3393 - acc: 0.8916 - val_loss: 0.6332 - val_acc: 0.8321\n",
      "Epoch 18/30\n",
      "42000/42000 [==============================] - 6s 147us/step - loss: 0.3264 - acc: 0.8953 - val_loss: 0.6142 - val_acc: 0.8394\n",
      "Epoch 19/30\n",
      "42000/42000 [==============================] - 6s 145us/step - loss: 0.3106 - acc: 0.8991 - val_loss: 0.5995 - val_acc: 0.8413\n",
      "Epoch 20/30\n",
      "42000/42000 [==============================] - 6s 145us/step - loss: 0.2898 - acc: 0.9077 - val_loss: 0.6111 - val_acc: 0.8474\n",
      "Epoch 21/30\n",
      "42000/42000 [==============================] - 6s 147us/step - loss: 0.2812 - acc: 0.9089 - val_loss: 0.6094 - val_acc: 0.8493\n",
      "Epoch 22/30\n",
      "42000/42000 [==============================] - 6s 148us/step - loss: 0.2799 - acc: 0.9094 - val_loss: 0.6245 - val_acc: 0.8446\n",
      "Epoch 23/30\n",
      "42000/42000 [==============================] - 6s 147us/step - loss: 0.2738 - acc: 0.9121 - val_loss: 0.6441 - val_acc: 0.8443\n",
      "Epoch 24/30\n",
      "42000/42000 [==============================] - 6s 146us/step - loss: 0.2704 - acc: 0.9118 - val_loss: 0.6528 - val_acc: 0.8457\n",
      "Epoch 25/30\n",
      "42000/42000 [==============================] - 6s 148us/step - loss: 0.2593 - acc: 0.9156 - val_loss: 0.6379 - val_acc: 0.8477\n",
      "Epoch 26/30\n",
      "42000/42000 [==============================] - 6s 151us/step - loss: 0.2435 - acc: 0.9216 - val_loss: 0.6811 - val_acc: 0.8444\n",
      "Epoch 27/30\n",
      "42000/42000 [==============================] - 6s 150us/step - loss: 0.2402 - acc: 0.9214 - val_loss: 0.6847 - val_acc: 0.8388\n",
      "Epoch 28/30\n",
      "42000/42000 [==============================] - 6s 150us/step - loss: 0.2350 - acc: 0.9237 - val_loss: 0.6623 - val_acc: 0.8491\n",
      "Epoch 29/30\n",
      "42000/42000 [==============================] - 6s 149us/step - loss: 0.2231 - acc: 0.9283 - val_loss: 0.6809 - val_acc: 0.8476\n",
      "Epoch 30/30\n",
      "42000/42000 [==============================] - 6s 148us/step - loss: 0.2134 - acc: 0.9322 - val_loss: 0.7007 - val_acc: 0.8468\n"
     ]
    }
   ],
   "source": [
    "#best model(adam optimizer with categorical cross entropy)\n",
    "best_model =Sequential ()\n",
    "best_model.add(Reshape((1024,),input_shape=(32,32,)))\n",
    "best_model.add(BatchNormalization())\n",
    "best_model.add(Dense(300, activation='relu'))\n",
    "best_model.add(Dense(200, activation='relu'))\n",
    "best_model.add(Dense(200, activation='relu'))\n",
    "best_model.add(Dense(250, activation='relu'))\n",
    "best_model.add(Dropout(0.5))\n",
    "best_model.add(Dense(10, activation='softmax'))\n",
    "best_model.compile(loss='categorical_crossentropy', optimizer='adam', metrics=['accuracy'])\n",
    "history = best_model.fit(x_train3,y_train2,validation_data=(x_test3,y_test2),epochs=30,batch_size = 200)"
   ]
  },
  {
   "cell_type": "code",
   "execution_count": 0,
   "metadata": {
    "colab": {
     "base_uri": "https://localhost:8080/",
     "height": 51
    },
    "colab_type": "code",
    "id": "J105Ybs94Fa4",
    "outputId": "ec73a10f-e85d-4c9b-b839-c818c623e2a2"
   },
   "outputs": [
    {
     "name": "stdout",
     "output_type": "stream",
     "text": [
      "18000/18000 [==============================] - 2s 106us/step\n",
      "Accuracy:  84.67777777777778\n"
     ]
    }
   ],
   "source": [
    "accuracy = best_model.evaluate(x=x_test3,y=y_test2)\n",
    "print(\"Accuracy: \", accuracy[1]*100)"
   ]
  },
  {
   "cell_type": "code",
   "execution_count": 0,
   "metadata": {
    "colab": {
     "base_uri": "https://localhost:8080/",
     "height": 735
    },
    "colab_type": "code",
    "id": "Zxbs3ZU14QQB",
    "outputId": "200f9d44-ca27-4955-ced9-be063d5bfdd3"
   },
   "outputs": [
    {
     "data": {
      "image/png": "[encoded data removed]",
      "text/plain": [
       "<Figure size 576x396 with 1 Axes>"
      ]
     },
     "metadata": {
      "tags": []
     },
     "output_type": "display_data"
    },
    {
     "data": {
      "image/png": "[encoded data removed]",
      "text/plain": [
       "<Figure size 576x396 with 1 Axes>"
      ]
     },
     "metadata": {
      "tags": []
     },
     "output_type": "display_data"
    }
   ],
   "source": [
    "plt.plot(history.history['acc'])\n",
    "plt.plot(history.history['val_acc'])\n",
    "plt.title('model accuracy')\n",
    "plt.ylabel('accuracy')\n",
    "plt.xlabel('epoch')\n",
    "plt.legend(['train', 'test'], loc='upper left')\n",
    "plt.show()\n",
    "# summarize history for loss\n",
    "plt.plot(history.history['loss'])\n",
    "plt.plot(history.history['val_loss'])\n",
    "plt.title('model loss')\n",
    "plt.ylabel('loss')\n",
    "plt.xlabel('epoch')\n",
    "plt.legend(['train', 'test'], loc='upper left')\n",
    "plt.show()"
   ]
  },
  {
   "cell_type": "code",
   "execution_count": 0,
   "metadata": {
    "colab": {},
    "colab_type": "code",
    "id": "zBeiysYQ4QCD"
   },
   "outputs": [],
   "source": [
    "from sklearn.metrics import confusion_matrix\n",
    "from sklearn.metrics import classification_report"
   ]
  },
  {
   "cell_type": "code",
   "execution_count": 0,
   "metadata": {
    "colab": {},
    "colab_type": "code",
    "id": "CbxVGYQn4FUG"
   },
   "outputs": [],
   "source": [
    "y_pred=model.predict(x_test3)"
   ]
  },
  {
   "cell_type": "code",
   "execution_count": 0,
   "metadata": {
    "colab": {
     "base_uri": "https://localhost:8080/",
     "height": 272
    },
    "colab_type": "code",
    "id": "p-bT1VPDBpy3",
    "outputId": "9df9e190-b996-4dfe-f453-bb81a1616675"
   },
   "outputs": [
    {
     "data": {
      "text/plain": [
       "array([[4.3145615e-01, 3.2689024e-02, 1.1899723e-01, 1.8163582e-02,\n",
       "        3.8996976e-02, 2.5002321e-02, 7.2685473e-02, 2.6946986e-02,\n",
       "        9.1808453e-02, 1.4325374e-01],\n",
       "       [1.0526397e-05, 3.4574934e-04, 6.3356447e-01, 4.9037710e-03,\n",
       "        3.1317368e-06, 3.4350069e-04, 6.3813687e-04, 3.5936499e-01,\n",
       "        5.9940497e-04, 2.2627802e-04],\n",
       "       [9.8963083e-06, 1.8777898e-04, 9.9852198e-01, 2.2228135e-04,\n",
       "        1.6334666e-04, 5.3643289e-06, 1.9800707e-05, 3.5244777e-04,\n",
       "        3.4836965e-04, 1.6879626e-04],\n",
       "       [6.6873595e-06, 4.0189488e-07, 1.0879387e-06, 3.4806453e-07,\n",
       "        1.9636945e-08, 1.9299280e-07, 7.0161796e-09, 1.3289980e-09,\n",
       "        2.1578764e-05, 9.9996972e-01],\n",
       "       [9.1274810e-01, 2.4450617e-06, 2.4106396e-06, 4.2595221e-07,\n",
       "        2.5368961e-06, 7.2338535e-06, 1.4412369e-03, 1.2285705e-06,\n",
       "        1.2704778e-02, 7.3089622e-02]], dtype=float32)"
      ]
     },
     "execution_count": 134,
     "metadata": {
      "tags": []
     },
     "output_type": "execute_result"
    }
   ],
   "source": [
    "#few predicted values\n",
    "y_pred[0:5]"
   ]
  },
  {
   "cell_type": "code",
   "execution_count": 0,
   "metadata": {
    "colab": {
     "base_uri": "https://localhost:8080/",
     "height": 493
    },
    "colab_type": "code",
    "id": "XjuYl4J1BqWT",
    "outputId": "3bc29dad-fc80-4337-dd76-15c3ba80eed3"
   },
   "outputs": [
    {
     "name": "stdout",
     "output_type": "stream",
     "text": [
      "Confusion Matrix\n",
      "[[1480   28   13   40   29   11   37   20   46  110]\n",
      " [  35 1441   25   89   55   19   23   50   45   46]\n",
      " [  19   26 1428   89   25   19   10   72   38   77]\n",
      " [  22   31   39 1321   11  142   18   28   53   54]\n",
      " [  26   34   23   44 1484   30   64   11   34   62]\n",
      " [  24   16   12  102   11 1412   60    6   48   77]\n",
      " [  65   26   13   28   47   73 1449    7   84   40]\n",
      " [  28   61   89   69   12   19   16 1440   18   56]\n",
      " [  43   41   26   62   17   63  108   10 1319  123]\n",
      " [  63   27   16   59   27   64   11   26   62 1449]]\n",
      "              precision    recall  f1-score   support\n",
      "\n",
      "           0       0.82      0.82      0.82      1814\n",
      "           1       0.83      0.79      0.81      1828\n",
      "           2       0.85      0.79      0.82      1803\n",
      "           3       0.69      0.77      0.73      1719\n",
      "           4       0.86      0.82      0.84      1812\n",
      "           5       0.76      0.80      0.78      1768\n",
      "           6       0.81      0.79      0.80      1832\n",
      "           7       0.86      0.80      0.83      1808\n",
      "           8       0.76      0.73      0.74      1812\n",
      "           9       0.69      0.80      0.74      1804\n",
      "\n",
      "   micro avg       0.79      0.79      0.79     18000\n",
      "   macro avg       0.79      0.79      0.79     18000\n",
      "weighted avg       0.79      0.79      0.79     18000\n",
      "\n"
     ]
    }
   ],
   "source": [
    "matrix = confusion_matrix(y_test2.argmax(axis=1), y_pred.argmax(axis=1))\n",
    "print(\"Confusion Matrix\")\n",
    "print(matrix)\n",
    "\n",
    "# Get Classification Report\n",
    "report = classification_report(np.argmax(y_test2, axis=1), np.argmax(y_pred, axis=1))\n",
    "print(report)"
   ]
  },
  {
   "cell_type": "markdown",
   "metadata": {
    "colab": {},
    "colab_type": "code",
    "id": "XgG2N0ddCRtF"
   },
   "source": [
    "### conclusion\n",
    "### Presion and recall wise NN classfiers classified it better\n",
    "### traditional ML algorithms are time consuming than NN\n",
    "### Accuracy of KNN is 53% where as in NN it reached till 93%.\n",
    "### in everyway NN classifiers are better than "
   ]
  },
  {
   "cell_type": "code",
   "execution_count": 0,
   "metadata": {
    "colab": {},
    "colab_type": "code",
    "id": "-Ce0i9eR4FIT"
   },
   "outputs": [],
   "source": [
    "#grid search CV\n",
    "  batch_size = [200]\n",
    "epochs = [25]\n",
    "optimizer = ['SGD', 'RMSprop', 'Adam']\n",
    "params = dict(epochs = epochs,batch_size=batch_size,optimizer=optimizer)\n",
    "seed = 7\n",
    "np.random.seed(seed)"
   ]
  },
  {
   "cell_type": "code",
   "execution_count": 0,
   "metadata": {
    "colab": {},
    "colab_type": "code",
    "id": "keFw_d7oSwP3"
   },
   "outputs": [],
   "source": [
    "def create_model(optimizer='SGD'): \n",
    "   model =Sequential ()\n",
    "   model.add(Reshape((1024,),input_shape=(32,32,)))\n",
    "   model.add(Dense(200, activation='relu'))\n",
    "   model.add(Dense(100, activation='relu'))\n",
    "   model.add(Dropout(0.25))\n",
    "   model.add(Dense(10, activation='softmax'))\n",
    "   model.compile(loss='categorical_crossentropy', optimizer=optimizer, metrics=['accuracy'])\n",
    "   return model"
   ]
  },
  {
   "cell_type": "code",
   "execution_count": 0,
   "metadata": {
    "colab": {},
    "colab_type": "code",
    "id": "qg4IBUHJS88w"
   },
   "outputs": [],
   "source": [
    "model1 = KerasClassifier(build_fn=create_model,verbose=0)\n",
    "grid = GridSearchCV(estimator=model1, param_grid=params, n_jobs=-1)"
   ]
  },
  {
   "cell_type": "code",
   "execution_count": 0,
   "metadata": {
    "colab": {
     "base_uri": "https://localhost:8080/",
     "height": 1222
    },
    "colab_type": "code",
    "id": "CEPH5yS8TAce",
    "outputId": "e5f97841-d116-4969-e83d-cd7401f882bd"
   },
   "outputs": [
    {
     "name": "stderr",
     "output_type": "stream",
     "text": [
      "/usr/local/lib/python3.6/dist-packages/sklearn/model_selection/_split.py:2053: FutureWarning: You should specify a value for 'cv' instead of relying on the default value. The default value will change from 3 to 5 in version 0.22.\n",
      "  warnings.warn(CV_WARNING, FutureWarning)\n",
      "/usr/local/lib/python3.6/dist-packages/sklearn/externals/joblib/externals/loky/process_executor.py:706: UserWarning: A worker stopped while some jobs were given to the executor. This can be caused by a too short worker timeout or by a memory leak.\n",
      "  \"timeout or by a memory leak.\", UserWarning\n"
     ]
    },
    {
     "ename": "KeyboardInterrupt",
     "evalue": "ignored",
     "output_type": "error",
     "traceback": [
      "\u001b[0;31m---------------------------------------------------------------------------\u001b[0m",
      "\u001b[0;31mKeyboardInterrupt\u001b[0m                         Traceback (most recent call last)",
      "\u001b[0;32m<ipython-input-36-f049962ee385>\u001b[0m in \u001b[0;36m<module>\u001b[0;34m()\u001b[0m\n\u001b[1;32m      1\u001b[0m grid_result = grid.fit(x_train3, y_train2,\n\u001b[0;32m----> 2\u001b[0;31m                       validation_data=(x_test3, y_test2))\n\u001b[0m",
      "\u001b[0;32m/usr/local/lib/python3.6/dist-packages/sklearn/model_selection/_search.py\u001b[0m in \u001b[0;36mfit\u001b[0;34m(self, X, y, groups, **fit_params)\u001b[0m\n\u001b[1;32m    720\u001b[0m                 \u001b[0;32mreturn\u001b[0m \u001b[0mresults_container\u001b[0m\u001b[0;34m[\u001b[0m\u001b[0;36m0\u001b[0m\u001b[0;34m]\u001b[0m\u001b[0;34m\u001b[0m\u001b[0;34m\u001b[0m\u001b[0m\n\u001b[1;32m    721\u001b[0m \u001b[0;34m\u001b[0m\u001b[0m\n\u001b[0;32m--> 722\u001b[0;31m             \u001b[0mself\u001b[0m\u001b[0;34m.\u001b[0m\u001b[0m_run_search\u001b[0m\u001b[0;34m(\u001b[0m\u001b[0mevaluate_candidates\u001b[0m\u001b[0;34m)\u001b[0m\u001b[0;34m\u001b[0m\u001b[0;34m\u001b[0m\u001b[0m\n\u001b[0m\u001b[1;32m    723\u001b[0m \u001b[0;34m\u001b[0m\u001b[0m\n\u001b[1;32m    724\u001b[0m         \u001b[0mresults\u001b[0m \u001b[0;34m=\u001b[0m \u001b[0mresults_container\u001b[0m\u001b[0;34m[\u001b[0m\u001b[0;36m0\u001b[0m\u001b[0;34m]\u001b[0m\u001b[0;34m\u001b[0m\u001b[0;34m\u001b[0m\u001b[0m\n",
      "\u001b[0;32m/usr/local/lib/python3.6/dist-packages/sklearn/model_selection/_search.py\u001b[0m in \u001b[0;36m_run_search\u001b[0;34m(self, evaluate_candidates)\u001b[0m\n\u001b[1;32m   1189\u001b[0m     \u001b[0;32mdef\u001b[0m \u001b[0m_run_search\u001b[0m\u001b[0;34m(\u001b[0m\u001b[0mself\u001b[0m\u001b[0;34m,\u001b[0m \u001b[0mevaluate_candidates\u001b[0m\u001b[0;34m)\u001b[0m\u001b[0;34m:\u001b[0m\u001b[0;34m\u001b[0m\u001b[0;34m\u001b[0m\u001b[0m\n\u001b[1;32m   1190\u001b[0m         \u001b[0;34m\"\"\"Search all candidates in param_grid\"\"\"\u001b[0m\u001b[0;34m\u001b[0m\u001b[0;34m\u001b[0m\u001b[0m\n\u001b[0;32m-> 1191\u001b[0;31m         \u001b[0mevaluate_candidates\u001b[0m\u001b[0;34m(\u001b[0m\u001b[0mParameterGrid\u001b[0m\u001b[0;34m(\u001b[0m\u001b[0mself\u001b[0m\u001b[0;34m.\u001b[0m\u001b[0mparam_grid\u001b[0m\u001b[0;34m)\u001b[0m\u001b[0;34m)\u001b[0m\u001b[0;34m\u001b[0m\u001b[0;34m\u001b[0m\u001b[0m\n\u001b[0m\u001b[1;32m   1192\u001b[0m \u001b[0;34m\u001b[0m\u001b[0m\n\u001b[1;32m   1193\u001b[0m \u001b[0;34m\u001b[0m\u001b[0m\n",
      "\u001b[0;32m/usr/local/lib/python3.6/dist-packages/sklearn/model_selection/_search.py\u001b[0m in \u001b[0;36mevaluate_candidates\u001b[0;34m(candidate_params)\u001b[0m\n\u001b[1;32m    709\u001b[0m                                \u001b[0;32mfor\u001b[0m \u001b[0mparameters\u001b[0m\u001b[0;34m,\u001b[0m \u001b[0;34m(\u001b[0m\u001b[0mtrain\u001b[0m\u001b[0;34m,\u001b[0m \u001b[0mtest\u001b[0m\u001b[0;34m)\u001b[0m\u001b[0;34m\u001b[0m\u001b[0;34m\u001b[0m\u001b[0m\n\u001b[1;32m    710\u001b[0m                                in product(candidate_params,\n\u001b[0;32m--> 711\u001b[0;31m                                           cv.split(X, y, groups)))\n\u001b[0m\u001b[1;32m    712\u001b[0m \u001b[0;34m\u001b[0m\u001b[0m\n\u001b[1;32m    713\u001b[0m                 \u001b[0mall_candidate_params\u001b[0m\u001b[0;34m.\u001b[0m\u001b[0mextend\u001b[0m\u001b[0;34m(\u001b[0m\u001b[0mcandidate_params\u001b[0m\u001b[0;34m)\u001b[0m\u001b[0;34m\u001b[0m\u001b[0;34m\u001b[0m\u001b[0m\n",
      "\u001b[0;32m/usr/local/lib/python3.6/dist-packages/sklearn/externals/joblib/parallel.py\u001b[0m in \u001b[0;36m__call__\u001b[0;34m(self, iterable)\u001b[0m\n\u001b[1;32m    928\u001b[0m \u001b[0;34m\u001b[0m\u001b[0m\n\u001b[1;32m    929\u001b[0m             \u001b[0;32mwith\u001b[0m \u001b[0mself\u001b[0m\u001b[0;34m.\u001b[0m\u001b[0m_backend\u001b[0m\u001b[0;34m.\u001b[0m\u001b[0mretrieval_context\u001b[0m\u001b[0;34m(\u001b[0m\u001b[0;34m)\u001b[0m\u001b[0;34m:\u001b[0m\u001b[0;34m\u001b[0m\u001b[0;34m\u001b[0m\u001b[0m\n\u001b[0;32m--> 930\u001b[0;31m                 \u001b[0mself\u001b[0m\u001b[0;34m.\u001b[0m\u001b[0mretrieve\u001b[0m\u001b[0;34m(\u001b[0m\u001b[0;34m)\u001b[0m\u001b[0;34m\u001b[0m\u001b[0;34m\u001b[0m\u001b[0m\n\u001b[0m\u001b[1;32m    931\u001b[0m             \u001b[0;31m# Make sure that we get a last message telling us we are done\u001b[0m\u001b[0;34m\u001b[0m\u001b[0;34m\u001b[0m\u001b[0;34m\u001b[0m\u001b[0m\n\u001b[1;32m    932\u001b[0m             \u001b[0melapsed_time\u001b[0m \u001b[0;34m=\u001b[0m \u001b[0mtime\u001b[0m\u001b[0;34m.\u001b[0m\u001b[0mtime\u001b[0m\u001b[0;34m(\u001b[0m\u001b[0;34m)\u001b[0m \u001b[0;34m-\u001b[0m \u001b[0mself\u001b[0m\u001b[0;34m.\u001b[0m\u001b[0m_start_time\u001b[0m\u001b[0;34m\u001b[0m\u001b[0;34m\u001b[0m\u001b[0m\n",
      "\u001b[0;32m/usr/local/lib/python3.6/dist-packages/sklearn/externals/joblib/parallel.py\u001b[0m in \u001b[0;36mretrieve\u001b[0;34m(self)\u001b[0m\n\u001b[1;32m    831\u001b[0m             \u001b[0;32mtry\u001b[0m\u001b[0;34m:\u001b[0m\u001b[0;34m\u001b[0m\u001b[0;34m\u001b[0m\u001b[0m\n\u001b[1;32m    832\u001b[0m                 \u001b[0;32mif\u001b[0m \u001b[0mgetattr\u001b[0m\u001b[0;34m(\u001b[0m\u001b[0mself\u001b[0m\u001b[0;34m.\u001b[0m\u001b[0m_backend\u001b[0m\u001b[0;34m,\u001b[0m \u001b[0;34m'supports_timeout'\u001b[0m\u001b[0;34m,\u001b[0m \u001b[0;32mFalse\u001b[0m\u001b[0;34m)\u001b[0m\u001b[0;34m:\u001b[0m\u001b[0;34m\u001b[0m\u001b[0;34m\u001b[0m\u001b[0m\n\u001b[0;32m--> 833\u001b[0;31m                     \u001b[0mself\u001b[0m\u001b[0;34m.\u001b[0m\u001b[0m_output\u001b[0m\u001b[0;34m.\u001b[0m\u001b[0mextend\u001b[0m\u001b[0;34m(\u001b[0m\u001b[0mjob\u001b[0m\u001b[0;34m.\u001b[0m\u001b[0mget\u001b[0m\u001b[0;34m(\u001b[0m\u001b[0mtimeout\u001b[0m\u001b[0;34m=\u001b[0m\u001b[0mself\u001b[0m\u001b[0;34m.\u001b[0m\u001b[0mtimeout\u001b[0m\u001b[0;34m)\u001b[0m\u001b[0;34m)\u001b[0m\u001b[0;34m\u001b[0m\u001b[0;34m\u001b[0m\u001b[0m\n\u001b[0m\u001b[1;32m    834\u001b[0m                 \u001b[0;32melse\u001b[0m\u001b[0;34m:\u001b[0m\u001b[0;34m\u001b[0m\u001b[0;34m\u001b[0m\u001b[0m\n\u001b[1;32m    835\u001b[0m                     \u001b[0mself\u001b[0m\u001b[0;34m.\u001b[0m\u001b[0m_output\u001b[0m\u001b[0;34m.\u001b[0m\u001b[0mextend\u001b[0m\u001b[0;34m(\u001b[0m\u001b[0mjob\u001b[0m\u001b[0;34m.\u001b[0m\u001b[0mget\u001b[0m\u001b[0;34m(\u001b[0m\u001b[0;34m)\u001b[0m\u001b[0;34m)\u001b[0m\u001b[0;34m\u001b[0m\u001b[0;34m\u001b[0m\u001b[0m\n",
      "\u001b[0;32m/usr/local/lib/python3.6/dist-packages/sklearn/externals/joblib/_parallel_backends.py\u001b[0m in \u001b[0;36mwrap_future_result\u001b[0;34m(future, timeout)\u001b[0m\n\u001b[1;32m    519\u001b[0m         AsyncResults.get from multiprocessing.\"\"\"\n\u001b[1;32m    520\u001b[0m         \u001b[0;32mtry\u001b[0m\u001b[0;34m:\u001b[0m\u001b[0;34m\u001b[0m\u001b[0;34m\u001b[0m\u001b[0m\n\u001b[0;32m--> 521\u001b[0;31m             \u001b[0;32mreturn\u001b[0m \u001b[0mfuture\u001b[0m\u001b[0;34m.\u001b[0m\u001b[0mresult\u001b[0m\u001b[0;34m(\u001b[0m\u001b[0mtimeout\u001b[0m\u001b[0;34m=\u001b[0m\u001b[0mtimeout\u001b[0m\u001b[0;34m)\u001b[0m\u001b[0;34m\u001b[0m\u001b[0;34m\u001b[0m\u001b[0m\n\u001b[0m\u001b[1;32m    522\u001b[0m         \u001b[0;32mexcept\u001b[0m \u001b[0mLokyTimeoutError\u001b[0m\u001b[0;34m:\u001b[0m\u001b[0;34m\u001b[0m\u001b[0;34m\u001b[0m\u001b[0m\n\u001b[1;32m    523\u001b[0m             \u001b[0;32mraise\u001b[0m \u001b[0mTimeoutError\u001b[0m\u001b[0;34m(\u001b[0m\u001b[0;34m)\u001b[0m\u001b[0;34m\u001b[0m\u001b[0;34m\u001b[0m\u001b[0m\n",
      "\u001b[0;32m/usr/lib/python3.6/concurrent/futures/_base.py\u001b[0m in \u001b[0;36mresult\u001b[0;34m(self, timeout)\u001b[0m\n\u001b[1;32m    425\u001b[0m                 \u001b[0;32mreturn\u001b[0m \u001b[0mself\u001b[0m\u001b[0;34m.\u001b[0m\u001b[0m__get_result\u001b[0m\u001b[0;34m(\u001b[0m\u001b[0;34m)\u001b[0m\u001b[0;34m\u001b[0m\u001b[0;34m\u001b[0m\u001b[0m\n\u001b[1;32m    426\u001b[0m \u001b[0;34m\u001b[0m\u001b[0m\n\u001b[0;32m--> 427\u001b[0;31m             \u001b[0mself\u001b[0m\u001b[0;34m.\u001b[0m\u001b[0m_condition\u001b[0m\u001b[0;34m.\u001b[0m\u001b[0mwait\u001b[0m\u001b[0;34m(\u001b[0m\u001b[0mtimeout\u001b[0m\u001b[0;34m)\u001b[0m\u001b[0;34m\u001b[0m\u001b[0;34m\u001b[0m\u001b[0m\n\u001b[0m\u001b[1;32m    428\u001b[0m \u001b[0;34m\u001b[0m\u001b[0m\n\u001b[1;32m    429\u001b[0m             \u001b[0;32mif\u001b[0m \u001b[0mself\u001b[0m\u001b[0;34m.\u001b[0m\u001b[0m_state\u001b[0m \u001b[0;32min\u001b[0m \u001b[0;34m[\u001b[0m\u001b[0mCANCELLED\u001b[0m\u001b[0;34m,\u001b[0m \u001b[0mCANCELLED_AND_NOTIFIED\u001b[0m\u001b[0;34m]\u001b[0m\u001b[0;34m:\u001b[0m\u001b[0;34m\u001b[0m\u001b[0;34m\u001b[0m\u001b[0m\n",
      "\u001b[0;32m/usr/lib/python3.6/threading.py\u001b[0m in \u001b[0;36mwait\u001b[0;34m(self, timeout)\u001b[0m\n\u001b[1;32m    293\u001b[0m         \u001b[0;32mtry\u001b[0m\u001b[0;34m:\u001b[0m    \u001b[0;31m# restore state no matter what (e.g., KeyboardInterrupt)\u001b[0m\u001b[0;34m\u001b[0m\u001b[0;34m\u001b[0m\u001b[0m\n\u001b[1;32m    294\u001b[0m             \u001b[0;32mif\u001b[0m \u001b[0mtimeout\u001b[0m \u001b[0;32mis\u001b[0m \u001b[0;32mNone\u001b[0m\u001b[0;34m:\u001b[0m\u001b[0;34m\u001b[0m\u001b[0;34m\u001b[0m\u001b[0m\n\u001b[0;32m--> 295\u001b[0;31m                 \u001b[0mwaiter\u001b[0m\u001b[0;34m.\u001b[0m\u001b[0macquire\u001b[0m\u001b[0;34m(\u001b[0m\u001b[0;34m)\u001b[0m\u001b[0;34m\u001b[0m\u001b[0;34m\u001b[0m\u001b[0m\n\u001b[0m\u001b[1;32m    296\u001b[0m                 \u001b[0mgotit\u001b[0m \u001b[0;34m=\u001b[0m \u001b[0;32mTrue\u001b[0m\u001b[0;34m\u001b[0m\u001b[0;34m\u001b[0m\u001b[0m\n\u001b[1;32m    297\u001b[0m             \u001b[0;32melse\u001b[0m\u001b[0;34m:\u001b[0m\u001b[0;34m\u001b[0m\u001b[0;34m\u001b[0m\u001b[0m\n",
      "\u001b[0;31mKeyboardInterrupt\u001b[0m: "
     ]
    }
   ],
   "source": [
    "grid_result = grid.fit(x_train3, y_train2,\n",
    "                      validation_data=(x_test3, y_test2))"
   ]
  },
  {
   "cell_type": "code",
   "execution_count": 0,
   "metadata": {
    "colab": {},
    "colab_type": "code",
    "id": "-1xiv5DnUKPv"
   },
   "outputs": [],
   "source": [
    "print(\"Best: %f using %s\" % (grid_result.best_score_, grid_result.best_params_))\n",
    "means = grid_result.cv_results_['mean_test_score']\n",
    "params = grid_result.cv_results_['params']\n",
    "for mean, param in zip(means, params):\n",
    "    print(\"%f with: %r\" % (mean, param))"
   ]
  },
  {
   "cell_type": "code",
   "execution_count": 0,
   "metadata": {
    "colab": {},
    "colab_type": "code",
    "id": "tsZ5cLogTQN4"
   },
   "outputs": [],
   "source": [
    "\n"
   ]
  },
  {
   "cell_type": "code",
   "execution_count": 0,
   "metadata": {
    "colab": {},
    "colab_type": "code",
    "id": "0_pIdAdyKhcz"
   },
   "outputs": [],
   "source": []
  }
 ],
 "metadata": {
  "accelerator": "TPU",
  "colab": {
   "collapsed_sections": [],
   "name": "Ananya_Neural Networks and Deep Learning_R7_Project1.ipynb",
   "provenance": [],
   "version": "0.3.2"
  },
  "kernelspec": {
   "display_name": "Python 3",
   "language": "python",
   "name": "python3"
  },
  "language_info": {
   "codemirror_mode": {
    "name": "ipython",
    "version": 3
   },
   "file_extension": ".py",
   "mimetype": "text/x-python",
   "name": "python",
   "nbconvert_exporter": "python",
   "pygments_lexer": "ipython3",
   "version": "3.6.4"
  }
 },
 "nbformat": 4,
 "nbformat_minor": 1
}
